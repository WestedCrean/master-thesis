{
 "cells": [
  {
   "attachments": {},
   "cell_type": "markdown",
   "metadata": {},
   "source": [
    "# Dataset overview\n",
    "\n",
    "In this notebook we review class counts in train and validation splits"
   ]
  },
  {
   "cell_type": "code",
   "execution_count": 1,
   "metadata": {},
   "outputs": [
    {
     "ename": "ModuleNotFoundError",
     "evalue": "No module named 'tensorflow'",
     "output_type": "error",
     "traceback": [
      "\u001b[0;31m---------------------------------------------------------------------------\u001b[0m",
      "\u001b[0;31mModuleNotFoundError\u001b[0m                       Traceback (most recent call last)",
      "Cell \u001b[0;32mIn[1], line 4\u001b[0m\n\u001b[1;32m      2\u001b[0m \u001b[39mimport\u001b[39;00m \u001b[39mpathlib\u001b[39;00m\n\u001b[1;32m      3\u001b[0m \u001b[39mimport\u001b[39;00m \u001b[39mshutil\u001b[39;00m\n\u001b[0;32m----> 4\u001b[0m \u001b[39mimport\u001b[39;00m \u001b[39mtensorflow\u001b[39;00m \u001b[39mas\u001b[39;00m \u001b[39mtf\u001b[39;00m\n\u001b[1;32m      5\u001b[0m \u001b[39mimport\u001b[39;00m \u001b[39mnumpy\u001b[39;00m \u001b[39mas\u001b[39;00m \u001b[39mnp\u001b[39;00m\n\u001b[1;32m      6\u001b[0m \u001b[39mimport\u001b[39;00m \u001b[39mmatplotlib\u001b[39;00m\u001b[39m.\u001b[39;00m\u001b[39mpyplot\u001b[39;00m \u001b[39mas\u001b[39;00m \u001b[39mplt\u001b[39;00m\n",
      "\u001b[0;31mModuleNotFoundError\u001b[0m: No module named 'tensorflow'"
     ]
    }
   ],
   "source": [
    "import wandb\n",
    "import pathlib\n",
    "import shutil\n",
    "import tensorflow as tf\n",
    "import numpy as np\n",
    "import matplotlib.pyplot as plt\n",
    "\n",
    "\n",
    "def load_data(run: wandb.sdk.wandb_run.Run) -> pathlib.Path:\n",
    "    \"\"\"\n",
    "    Unpacks data from an artifact into a folder and returns the path to the folder.\n",
    "    \"\"\"\n",
    "\n",
    "    artifact_name = f\"letters_splits\"\n",
    "    artifact = run.use_artifact(f\"master-thesis/{artifact_name}:latest\")\n",
    "    artifact_dir = pathlib.Path(\n",
    "        f\"./artifacts/{artifact.name.replace(':', '-')}\"\n",
    "    ).resolve()\n",
    "    if not artifact_dir.exists():\n",
    "        artifact_dir = artifact.download()\n",
    "        artifact_dir = pathlib.Path(artifact_dir).resolve()\n",
    "        for split_file in artifact_dir.iterdir():\n",
    "            if split_file.name.endswith(\".tar.gz\"):\n",
    "                split = split_file.name.replace(\".tar.gz\", \"\")\n",
    "                shutil.unpack_archive(split_file, artifact_dir / split, format=\"gztar\")\n",
    "\n",
    "    return [artifact_dir / split for split in [\"train\", \"test\", \"val\"]]\n"
   ]
  },
  {
   "cell_type": "code",
   "execution_count": null,
   "metadata": {},
   "outputs": [],
   "source": [
    "run = wandb.init(project=\"master-thesis\", job_type=\"preprocessing\")\n",
    "split_paths = load_data(run=run)\n",
    "\n",
    "ds_train = tf.keras.utils.image_dataset_from_directory(\n",
    "        split_paths[0],\n",
    "        image_size=(32, 32),\n",
    "        color_mode=\"grayscale\",\n",
    "    )\n",
    "\n",
    "ds_test = tf.keras.utils.image_dataset_from_directory(\n",
    "        split_paths[1],\n",
    "        image_size=(32, 32),\n",
    "        color_mode=\"grayscale\",\n",
    "    )\n",
    "\n",
    "ds_val = tf.keras.utils.image_dataset_from_directory(\n",
    "        split_paths[2],\n",
    "        image_size=(32, 32),\n",
    "        color_mode=\"grayscale\",\n",
    "    )\n",
    "\n",
    "number_of_classes = len(ds_train.class_names)"
   ]
  },
  {
   "cell_type": "code",
   "execution_count": null,
   "metadata": {},
   "outputs": [],
   "source": [
    "# save datasets on disk then upload to wandb as artifacts\n",
    "\n",
    "output_dir = pathlib.Path(\"./datasets\").resolve()\n",
    "output_dir.mkdir(exist_ok=True)\n",
    "\n",
    "ds_train.save(output_dir / \"train\", compression=\"GZIP\")\n",
    "ds_val.save(output_dir / \"val\", compression=\"GZIP\")\n",
    "ds_test.save(output_dir / \"test\", compression=\"GZIP\")\n",
    "\n",
    "artifact = wandb.Artifact(\"letters_splits_tfds\", type=\"dataset\", description=\"Dataset splits in tf.data.Dataset format\")\n",
    "artifact.add_dir(output_dir)\n",
    "run.log_artifact(artifact)"
   ]
  },
  {
   "cell_type": "code",
   "execution_count": null,
   "metadata": {},
   "outputs": [],
   "source": [
    "# calculate class count for each split\n",
    "train_class_count = np.zeros(number_of_classes)\n",
    "for _, label in ds_train:\n",
    "    train_class_count += tf.math.bincount(label, minlength=number_of_classes)\n",
    "\n",
    "val_class_count = np.zeros(number_of_classes)\n",
    "for _, label in ds_val:\n",
    "    val_class_count += tf.math.bincount(label, minlength=number_of_classes)\n",
    "\n",
    "# plot class count for each split\n",
    "plt.bar(ds_train.class_names, train_class_count)\n",
    "plt.title(\"Train\")\n",
    "plt.show()\n",
    "\n",
    "plt.bar(ds_val.class_names, val_class_count)"
   ]
  },
  {
   "cell_type": "code",
   "execution_count": null,
   "metadata": {},
   "outputs": [],
   "source": [
    "# log class count for each split to wandb\n",
    "\n",
    "wandb.log({\"train_class_count\": wandb.Histogram(train_class_count)})\n",
    "wandb.log({\"val_class_count\": wandb.Histogram(val_class_count)})\n"
   ]
  }
 ],
 "metadata": {
  "kernelspec": {
   "display_name": "master-thesis",
   "language": "python",
   "name": "python3"
  },
  "language_info": {
   "codemirror_mode": {
    "name": "ipython",
    "version": 3
   },
   "file_extension": ".py",
   "mimetype": "text/x-python",
   "name": "python",
   "nbconvert_exporter": "python",
   "pygments_lexer": "ipython3",
   "version": "3.10.9 (main, Dec 31 2022, 09:54:50) [GCC 9.5.0]"
  },
  "orig_nbformat": 4,
  "vscode": {
   "interpreter": {
    "hash": "50e1e42dfe1d658956852bd8112c3a0f458e21bda0a35307ca1649a3ad9140a0"
   }
  }
 },
 "nbformat": 4,
 "nbformat_minor": 2
}
