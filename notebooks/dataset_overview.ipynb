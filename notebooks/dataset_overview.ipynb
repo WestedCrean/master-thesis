{
 "cells": [
  {
   "attachments": {},
   "cell_type": "markdown",
   "metadata": {},
   "source": [
    "# Dataset overview\n",
    "\n",
    "In this notebook we review class counts in train and validation splits"
   ]
  },
  {
   "cell_type": "code",
   "execution_count": null,
   "metadata": {},
   "outputs": [],
   "source": [
    "! pip install matplotlib wandb tensorflow"
   ]
  },
  {
   "cell_type": "code",
   "execution_count": null,
   "metadata": {},
   "outputs": [],
   "source": [
    "import wandb\n",
    "import pathlib\n",
    "import shutil\n",
    "import tensorflow as tf\n",
    "import numpy as np\n",
    "import matplotlib.pyplot as plt\n",
    "\n",
    "\n",
    "def load_data(run: wandb.sdk.wandb_run.Run) -> pathlib.Path:\n",
    "    \"\"\"\n",
    "    Unpacks data from an artifact into a folder and returns the path to the folder.\n",
    "    \"\"\"\n",
    "\n",
    "    artifact_name = f\"letters_splits\"\n",
    "    artifact = run.use_artifact(f\"master-thesis/{artifact_name}:latest\")\n",
    "    artifact_dir = pathlib.Path(\n",
    "        f\"./artifacts/{artifact.name.replace(':', '-')}\"\n",
    "    ).resolve()\n",
    "    if not artifact_dir.exists():\n",
    "        artifact_dir = artifact.download()\n",
    "        artifact_dir = pathlib.Path(artifact_dir).resolve()\n",
    "        for split_file in artifact_dir.iterdir():\n",
    "            if split_file.name.endswith(\".tar.gz\"):\n",
    "                split = split_file.name.replace(\".tar.gz\", \"\")\n",
    "                shutil.unpack_archive(split_file, artifact_dir / split, format=\"gztar\")\n",
    "\n",
    "    return [artifact_dir / split for split in [\"train\", \"test\", \"val\"]]\n"
   ]
  },
  {
   "cell_type": "code",
   "execution_count": null,
   "metadata": {},
   "outputs": [],
   "source": [
    "run = wandb.init(project=\"master-thesis\", job_type=\"preprocessing\")\n",
    "split_paths = load_data(run=run)\n",
    "\n",
    "ds_train = tf.keras.utils.image_dataset_from_directory(\n",
    "        split_paths[0],\n",
    "        image_size=(32, 32),\n",
    "        color_mode=\"grayscale\",\n",
    "    )\n",
    "\n",
    "ds_val = tf.keras.utils.image_dataset_from_directory(\n",
    "        split_paths[2],\n",
    "        image_size=(32, 32),\n",
    "        color_mode=\"grayscale\",\n",
    "    )\n",
    "\n",
    "number_of_classes = len(ds_train.class_names)"
   ]
  },
  {
   "cell_type": "code",
   "execution_count": null,
   "metadata": {},
   "outputs": [],
   "source": [
    "# calculate class count for each split\n",
    "train_class_count = np.zeros(number_of_classes)\n",
    "for _, label in ds_train:\n",
    "    train_class_count += tf.math.bincount(label, minlength=number_of_classes)\n",
    "\n",
    "val_class_count = np.zeros(number_of_classes)\n",
    "for _, label in ds_val:\n",
    "    val_class_count += tf.math.bincount(label, minlength=number_of_classes)\n",
    "\n",
    "# plot class count for each split\n",
    "plt.bar(ds_train.class_names, train_class_count)\n",
    "plt.title(\"Train\")\n",
    "plt.show()\n",
    "\n",
    "plt.bar(ds_val.class_names, val_class_count)"
   ]
  },
  {
   "cell_type": "code",
   "execution_count": null,
   "metadata": {},
   "outputs": [],
   "source": [
    "# log class count for each split to wandb\n",
    "\n",
    "wandb.log({\"train_class_count\": wandb.Histogram(train_class_count)})\n",
    "wandb.log({\"val_class_count\": wandb.Histogram(val_class_count)})\n"
   ]
  }
 ],
 "metadata": {
  "kernelspec": {
   "display_name": "Python 3",
   "language": "python",
   "name": "python3"
  },
  "language_info": {
   "codemirror_mode": {
    "name": "ipython",
    "version": 3
   },
   "file_extension": ".py",
   "mimetype": "text/x-python",
   "name": "python",
   "nbconvert_exporter": "python",
   "pygments_lexer": "ipython3",
   "version": "3.10.8"
  },
  "orig_nbformat": 4,
  "vscode": {
   "interpreter": {
    "hash": "a3cf6db26d87e92fac078aa6971b2d8666aac2a31f8d0d2caf1f374e90c80bd2"
   }
  }
 },
 "nbformat": 4,
 "nbformat_minor": 2
}
