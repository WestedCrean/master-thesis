{
 "cells": [
  {
   "cell_type": "code",
   "execution_count": null,
   "metadata": {},
   "outputs": [],
   "source": [
    "import os\n",
    "import sys\n",
    "from random import shuffle\n",
    "\n",
    "import pathlib\n",
    "import numpy as np\n",
    "from loguru import logger\n",
    "import wandb"
   ]
  },
  {
   "cell_type": "code",
   "execution_count": null,
   "metadata": {},
   "outputs": [],
   "source": [
    "\n",
    "def upload_raw_dataset():\n",
    "    \"\"\"\n",
    "    Uploads a dataset of handwritten latin letters with diacritics from the PHCD dataset to Weights & Biases.\n",
    "    Both lowercase and uppercase letters are included.\n",
    "    \"\"\"\n",
    "\n",
    "    project_path = pathlib.Path().resolve().parent\n",
    "    #labels = [str(i) for i in range(10, 80)]\n",
    "    labels = [str(i) for i in range(0, 9)]\n",
    "    \n",
    "    run = wandb.init(project=\"master_thesis\")\n",
    "    #data_at = wandb.Artifact(f\"latin_letters_with_diacritics\", type=f\"raw_data\")\n",
    "    data_at = wandb.Artifact(f\"numbers\", type=f\"raw_data\")\n",
    "\n",
    "    for l in labels:\n",
    "        source_path = pathlib.Path(\n",
    "            project_path / \"data/all_characters\" / l,\n",
    "        )\n",
    "        imgs = [i for i in source_path.iterdir()]\n",
    "        np.random.shuffle(imgs)\n",
    "        for img_path in imgs:\n",
    "            img_name = img_path.name\n",
    "            data_at.add_file(str(img_path), name=l + \"/\" + img_name)\n",
    "\n",
    "    run.log_artifact(data_at)\n",
    "    run.finish()\n",
    "    logger.info(\"Done\") \n",
    "\n",
    "#upload_raw_dataset()"
   ]
  },
  {
   "cell_type": "code",
   "execution_count": null,
   "metadata": {},
   "outputs": [],
   "source": [
    "base_dir = \"/home/wiktor/code/master-thesis\"\n",
    "\n",
    "SRC = f\"{base_dir}/data/all_characters\"\n",
    "labels = [str(i) for i in range(0, 9)]\n",
    "run = wandb.init(project=\"mastethesis\", job_type=\"upload\")\n",
    "\n",
    "data_at = wandb.Artifact(f\"numbers\", type=f\"raw_data\")\n",
    " \n",
    "for l in labels:\n",
    "  imgs_per_label = os.path.join(SRC, l)\n",
    "  print(imgs_per_label)\n",
    "  if os.path.isdir(imgs_per_label):\n",
    "    # filter out \"DS_Store\"\n",
    "    imgs = [i for i in os.listdir(imgs_per_label) if not i.startswith(\".DS\")]\n",
    "    # randomize the order\n",
    "    shuffle(imgs)\n",
    "    img_file_ids = imgs\n",
    "    for f in img_file_ids:\n",
    "      file_path = os.path.join(SRC, l, f)\n",
    "      # add file to artifact by full path\n",
    "      data_at.add_file(file_path, name=l + \"/\" + f)\n",
    "\n",
    "print(\"Adding artifact to run\")\n",
    "run.log_artifact(data_at)\n",
    "run.finish()"
   ]
  }
 ],
 "metadata": {
  "kernelspec": {
   "display_name": "master-thesis",
   "language": "python",
   "name": "python3"
  },
  "language_info": {
   "codemirror_mode": {
    "name": "ipython",
    "version": 3
   },
   "file_extension": ".py",
   "mimetype": "text/x-python",
   "name": "python",
   "nbconvert_exporter": "python",
   "pygments_lexer": "ipython3",
   "version": "3.10.9"
  },
  "orig_nbformat": 4,
  "vscode": {
   "interpreter": {
    "hash": "50e1e42dfe1d658956852bd8112c3a0f458e21bda0a35307ca1649a3ad9140a0"
   }
  }
 },
 "nbformat": 4,
 "nbformat_minor": 2
}
