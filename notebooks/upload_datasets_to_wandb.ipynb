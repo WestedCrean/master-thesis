{
 "cells": [
  {
   "cell_type": "code",
   "execution_count": 11,
   "metadata": {},
   "outputs": [
    {
     "data": {
      "text/html": [
       "Finishing last run (ID:3kfx5trv) before initializing another..."
      ],
      "text/plain": [
       "<IPython.core.display.HTML object>"
      ]
     },
     "metadata": {},
     "output_type": "display_data"
    },
    {
     "data": {
      "text/html": [
       "Waiting for W&B process to finish... <strong style=\"color:green\">(success).</strong>"
      ],
      "text/plain": [
       "<IPython.core.display.HTML object>"
      ]
     },
     "metadata": {},
     "output_type": "display_data"
    },
    {
     "data": {
      "text/html": [
       "Synced <strong style=\"color:#cdcd00\">fresh-brook-1</strong>: <a href=\"https://wandb.ai/gratkadlafana/master_thesis/runs/3kfx5trv\" target=\"_blank\">https://wandb.ai/gratkadlafana/master_thesis/runs/3kfx5trv</a><br/>Synced 5 W&B file(s), 0 media file(s), 0 artifact file(s) and 0 other file(s)"
      ],
      "text/plain": [
       "<IPython.core.display.HTML object>"
      ]
     },
     "metadata": {},
     "output_type": "display_data"
    },
    {
     "data": {
      "text/html": [
       "Find logs at: <code>./wandb/run-20221231_142139-3kfx5trv/logs</code>"
      ],
      "text/plain": [
       "<IPython.core.display.HTML object>"
      ]
     },
     "metadata": {},
     "output_type": "display_data"
    },
    {
     "data": {
      "text/html": [
       "Successfully finished last run (ID:3kfx5trv). Initializing new run:<br/>"
      ],
      "text/plain": [
       "<IPython.core.display.HTML object>"
      ]
     },
     "metadata": {},
     "output_type": "display_data"
    },
    {
     "data": {
      "text/html": [
       "Tracking run with wandb version 0.13.7"
      ],
      "text/plain": [
       "<IPython.core.display.HTML object>"
      ]
     },
     "metadata": {},
     "output_type": "display_data"
    },
    {
     "data": {
      "text/html": [
       "Run data is saved locally in <code>/home/wiktor/code/master-thesis/notebooks/wandb/run-20221231_144141-1n2ss841</code>"
      ],
      "text/plain": [
       "<IPython.core.display.HTML object>"
      ]
     },
     "metadata": {},
     "output_type": "display_data"
    },
    {
     "data": {
      "text/html": [
       "Syncing run <strong><a href=\"https://wandb.ai/gratkadlafana/master_thesis/runs/1n2ss841\" target=\"_blank\">serene-bush-2</a></strong> to <a href=\"https://wandb.ai/gratkadlafana/master_thesis\" target=\"_blank\">Weights & Biases</a> (<a href=\"https://wandb.me/run\" target=\"_blank\">docs</a>)<br/>"
      ],
      "text/plain": [
       "<IPython.core.display.HTML object>"
      ]
     },
     "metadata": {},
     "output_type": "display_data"
    }
   ],
   "source": [
    "import os\n",
    "import sys\n",
    "import warnings\n",
    "from pathlib import Path\n",
    "\n",
    "import numpy as np\n",
    "import matplotlib.pyplot as plt\n",
    "import tensorflow as tf\n",
    "import tensorflow_datasets as tfds\n",
    "from tensorflow import keras\n",
    "from tensorflow.keras import layers \n",
    "from tensorflow.keras.preprocessing import image_dataset_from_directory\n",
    "import wandb\n",
    "from wandb.keras import WandbCallback\n",
    "\n",
    "\n",
    "\n",
    "sys.path.append(str((Path.cwd().absolute() / \"../src\").resolve()))\n",
    "run = wandb.init(project=\"master_thesis\")\n",
    "\n",
    "# Set Matplotlib defaults\n",
    "plt.rc('figure', autolayout=True)\n",
    "#plt.rc('axes', labelweight='bold', labelsize='large', titlesize=18, titlepad=10)\n",
    "plt.rc('image', cmap='magma')\n",
    "warnings.filterwarnings(\"ignore\") # to clean up output cells\n"
   ]
  },
  {
   "cell_type": "code",
   "execution_count": 12,
   "metadata": {},
   "outputs": [],
   "source": [
    "from datasets import (\n",
    "    numbers,\n",
    "    lowercase_latin_letters,\n",
    "    lowercase_latin_letters_with_diacritics,\n",
    "    latin_letters,\n",
    "    latin_letters_with_diacritics,\n",
    "    get_class_name,\n",
    "    log_dataset_statistics,\n",
    ")"
   ]
  },
  {
   "cell_type": "code",
   "execution_count": 16,
   "metadata": {},
   "outputs": [
    {
     "name": "stderr",
     "output_type": "stream",
     "text": [
      "\u001b[34m\u001b[1mwandb\u001b[0m: Adding directory to artifact (/home/wiktor/code/master-thesis/data/latin_letters_with_diacritics/train/10)... "
     ]
    },
    {
     "name": "stdout",
     "output_type": "stream",
     "text": [
      "Uploading train set for class: 10\n"
     ]
    },
    {
     "name": "stderr",
     "output_type": "stream",
     "text": [
      "Done. 0.4s\n",
      "\u001b[34m\u001b[1mwandb\u001b[0m: Adding directory to artifact (/home/wiktor/code/master-thesis/data/latin_letters_with_diacritics/train/11)... "
     ]
    },
    {
     "name": "stdout",
     "output_type": "stream",
     "text": [
      "Uploading train set for class: 11\n"
     ]
    },
    {
     "name": "stderr",
     "output_type": "stream",
     "text": [
      "Done. 0.4s\n",
      "\u001b[34m\u001b[1mwandb\u001b[0m: Adding directory to artifact (/home/wiktor/code/master-thesis/data/latin_letters_with_diacritics/train/12)... "
     ]
    },
    {
     "name": "stdout",
     "output_type": "stream",
     "text": [
      "Uploading train set for class: 12\n"
     ]
    },
    {
     "name": "stderr",
     "output_type": "stream",
     "text": [
      "Done. 0.4s\n",
      "\u001b[34m\u001b[1mwandb\u001b[0m: Adding directory to artifact (/home/wiktor/code/master-thesis/data/latin_letters_with_diacritics/train/13)... "
     ]
    },
    {
     "name": "stdout",
     "output_type": "stream",
     "text": [
      "Uploading train set for class: 13\n"
     ]
    },
    {
     "name": "stderr",
     "output_type": "stream",
     "text": [
      "Done. 0.5s\n",
      "\u001b[34m\u001b[1mwandb\u001b[0m: Adding directory to artifact (/home/wiktor/code/master-thesis/data/latin_letters_with_diacritics/train/14)... "
     ]
    },
    {
     "name": "stdout",
     "output_type": "stream",
     "text": [
      "Uploading train set for class: 14\n"
     ]
    },
    {
     "name": "stderr",
     "output_type": "stream",
     "text": [
      "Done. 0.5s\n",
      "\u001b[34m\u001b[1mwandb\u001b[0m: Adding directory to artifact (/home/wiktor/code/master-thesis/data/latin_letters_with_diacritics/train/15)... "
     ]
    },
    {
     "name": "stdout",
     "output_type": "stream",
     "text": [
      "Uploading train set for class: 15\n"
     ]
    },
    {
     "name": "stderr",
     "output_type": "stream",
     "text": [
      "Done. 0.4s\n",
      "\u001b[34m\u001b[1mwandb\u001b[0m: Adding directory to artifact (/home/wiktor/code/master-thesis/data/latin_letters_with_diacritics/train/16)... "
     ]
    },
    {
     "name": "stdout",
     "output_type": "stream",
     "text": [
      "Uploading train set for class: 16\n"
     ]
    },
    {
     "name": "stderr",
     "output_type": "stream",
     "text": [
      "Done. 0.5s\n",
      "\u001b[34m\u001b[1mwandb\u001b[0m: Adding directory to artifact (/home/wiktor/code/master-thesis/data/latin_letters_with_diacritics/train/17)... "
     ]
    },
    {
     "name": "stdout",
     "output_type": "stream",
     "text": [
      "Uploading train set for class: 17\n"
     ]
    },
    {
     "name": "stderr",
     "output_type": "stream",
     "text": [
      "Done. 0.5s\n",
      "\u001b[34m\u001b[1mwandb\u001b[0m: Adding directory to artifact (/home/wiktor/code/master-thesis/data/latin_letters_with_diacritics/train/18)... "
     ]
    },
    {
     "name": "stdout",
     "output_type": "stream",
     "text": [
      "Uploading train set for class: 18\n"
     ]
    },
    {
     "name": "stderr",
     "output_type": "stream",
     "text": [
      "Done. 0.5s\n",
      "\u001b[34m\u001b[1mwandb\u001b[0m: Adding directory to artifact (/home/wiktor/code/master-thesis/data/latin_letters_with_diacritics/train/19)... "
     ]
    },
    {
     "name": "stdout",
     "output_type": "stream",
     "text": [
      "Uploading train set for class: 19\n"
     ]
    },
    {
     "name": "stderr",
     "output_type": "stream",
     "text": [
      "Done. 0.5s\n",
      "\u001b[34m\u001b[1mwandb\u001b[0m: Adding directory to artifact (/home/wiktor/code/master-thesis/data/latin_letters_with_diacritics/train/20)... "
     ]
    },
    {
     "name": "stdout",
     "output_type": "stream",
     "text": [
      "Uploading train set for class: 20\n"
     ]
    },
    {
     "name": "stderr",
     "output_type": "stream",
     "text": [
      "Done. 0.5s\n",
      "\u001b[34m\u001b[1mwandb\u001b[0m: Adding directory to artifact (/home/wiktor/code/master-thesis/data/latin_letters_with_diacritics/train/21)... "
     ]
    },
    {
     "name": "stdout",
     "output_type": "stream",
     "text": [
      "Uploading train set for class: 21\n"
     ]
    },
    {
     "name": "stderr",
     "output_type": "stream",
     "text": [
      "Done. 0.5s\n",
      "\u001b[34m\u001b[1mwandb\u001b[0m: Adding directory to artifact (/home/wiktor/code/master-thesis/data/latin_letters_with_diacritics/train/22)... "
     ]
    },
    {
     "name": "stdout",
     "output_type": "stream",
     "text": [
      "Uploading train set for class: 22\n"
     ]
    },
    {
     "name": "stderr",
     "output_type": "stream",
     "text": [
      "Done. 0.4s\n",
      "\u001b[34m\u001b[1mwandb\u001b[0m: Adding directory to artifact (/home/wiktor/code/master-thesis/data/latin_letters_with_diacritics/train/23)... "
     ]
    },
    {
     "name": "stdout",
     "output_type": "stream",
     "text": [
      "Uploading train set for class: 23\n"
     ]
    },
    {
     "name": "stderr",
     "output_type": "stream",
     "text": [
      "Done. 0.5s\n",
      "\u001b[34m\u001b[1mwandb\u001b[0m: Adding directory to artifact (/home/wiktor/code/master-thesis/data/latin_letters_with_diacritics/train/24)... "
     ]
    },
    {
     "name": "stdout",
     "output_type": "stream",
     "text": [
      "Uploading train set for class: 24\n"
     ]
    },
    {
     "name": "stderr",
     "output_type": "stream",
     "text": [
      "Done. 0.5s\n",
      "\u001b[34m\u001b[1mwandb\u001b[0m: Adding directory to artifact (/home/wiktor/code/master-thesis/data/latin_letters_with_diacritics/train/25)... "
     ]
    },
    {
     "name": "stdout",
     "output_type": "stream",
     "text": [
      "Uploading train set for class: 25\n"
     ]
    },
    {
     "name": "stderr",
     "output_type": "stream",
     "text": [
      "Done. 0.5s\n",
      "\u001b[34m\u001b[1mwandb\u001b[0m: Adding directory to artifact (/home/wiktor/code/master-thesis/data/latin_letters_with_diacritics/train/26)... "
     ]
    },
    {
     "name": "stdout",
     "output_type": "stream",
     "text": [
      "Uploading train set for class: 26\n"
     ]
    },
    {
     "name": "stderr",
     "output_type": "stream",
     "text": [
      "Done. 0.4s\n",
      "\u001b[34m\u001b[1mwandb\u001b[0m: Adding directory to artifact (/home/wiktor/code/master-thesis/data/latin_letters_with_diacritics/train/27)... "
     ]
    },
    {
     "name": "stdout",
     "output_type": "stream",
     "text": [
      "Uploading train set for class: 27\n"
     ]
    },
    {
     "name": "stderr",
     "output_type": "stream",
     "text": [
      "Done. 1.0s\n",
      "\u001b[34m\u001b[1mwandb\u001b[0m: Adding directory to artifact (/home/wiktor/code/master-thesis/data/latin_letters_with_diacritics/train/28)... "
     ]
    },
    {
     "name": "stdout",
     "output_type": "stream",
     "text": [
      "Uploading train set for class: 28\n"
     ]
    },
    {
     "name": "stderr",
     "output_type": "stream",
     "text": [
      "Done. 0.5s\n",
      "\u001b[34m\u001b[1mwandb\u001b[0m: Adding directory to artifact (/home/wiktor/code/master-thesis/data/latin_letters_with_diacritics/train/29)... "
     ]
    },
    {
     "name": "stdout",
     "output_type": "stream",
     "text": [
      "Uploading train set for class: 29\n"
     ]
    },
    {
     "name": "stderr",
     "output_type": "stream",
     "text": [
      "Done. 0.5s\n",
      "\u001b[34m\u001b[1mwandb\u001b[0m: Adding directory to artifact (/home/wiktor/code/master-thesis/data/latin_letters_with_diacritics/train/30)... "
     ]
    },
    {
     "name": "stdout",
     "output_type": "stream",
     "text": [
      "Uploading train set for class: 30\n"
     ]
    },
    {
     "name": "stderr",
     "output_type": "stream",
     "text": [
      "Done. 0.5s\n",
      "\u001b[34m\u001b[1mwandb\u001b[0m: Adding directory to artifact (/home/wiktor/code/master-thesis/data/latin_letters_with_diacritics/train/31)... "
     ]
    },
    {
     "name": "stdout",
     "output_type": "stream",
     "text": [
      "Uploading train set for class: 31\n"
     ]
    },
    {
     "name": "stderr",
     "output_type": "stream",
     "text": [
      "Done. 0.5s\n",
      "\u001b[34m\u001b[1mwandb\u001b[0m: Adding directory to artifact (/home/wiktor/code/master-thesis/data/latin_letters_with_diacritics/train/32)... "
     ]
    },
    {
     "name": "stdout",
     "output_type": "stream",
     "text": [
      "Uploading train set for class: 32\n"
     ]
    },
    {
     "name": "stderr",
     "output_type": "stream",
     "text": [
      "Done. 0.5s\n",
      "\u001b[34m\u001b[1mwandb\u001b[0m: Adding directory to artifact (/home/wiktor/code/master-thesis/data/latin_letters_with_diacritics/train/33)... "
     ]
    },
    {
     "name": "stdout",
     "output_type": "stream",
     "text": [
      "Uploading train set for class: 33\n"
     ]
    },
    {
     "name": "stderr",
     "output_type": "stream",
     "text": [
      "Done. 0.4s\n",
      "\u001b[34m\u001b[1mwandb\u001b[0m: Adding directory to artifact (/home/wiktor/code/master-thesis/data/latin_letters_with_diacritics/train/34)... "
     ]
    },
    {
     "name": "stdout",
     "output_type": "stream",
     "text": [
      "Uploading train set for class: 34\n"
     ]
    },
    {
     "name": "stderr",
     "output_type": "stream",
     "text": [
      "Done. 0.5s\n",
      "\u001b[34m\u001b[1mwandb\u001b[0m: Adding directory to artifact (/home/wiktor/code/master-thesis/data/latin_letters_with_diacritics/train/35)... "
     ]
    },
    {
     "name": "stdout",
     "output_type": "stream",
     "text": [
      "Uploading train set for class: 35\n"
     ]
    },
    {
     "name": "stderr",
     "output_type": "stream",
     "text": [
      "Done. 0.5s\n",
      "\u001b[34m\u001b[1mwandb\u001b[0m: Adding directory to artifact (/home/wiktor/code/master-thesis/data/latin_letters_with_diacritics/train/36)... "
     ]
    },
    {
     "name": "stdout",
     "output_type": "stream",
     "text": [
      "Uploading train set for class: 36\n"
     ]
    },
    {
     "name": "stderr",
     "output_type": "stream",
     "text": [
      "Done. 0.5s\n",
      "\u001b[34m\u001b[1mwandb\u001b[0m: Adding directory to artifact (/home/wiktor/code/master-thesis/data/latin_letters_with_diacritics/train/37)... "
     ]
    },
    {
     "name": "stdout",
     "output_type": "stream",
     "text": [
      "Uploading train set for class: 37\n"
     ]
    },
    {
     "name": "stderr",
     "output_type": "stream",
     "text": [
      "Done. 0.4s\n",
      "\u001b[34m\u001b[1mwandb\u001b[0m: Adding directory to artifact (/home/wiktor/code/master-thesis/data/latin_letters_with_diacritics/train/38)... "
     ]
    },
    {
     "name": "stdout",
     "output_type": "stream",
     "text": [
      "Uploading train set for class: 38\n"
     ]
    },
    {
     "name": "stderr",
     "output_type": "stream",
     "text": [
      "Done. 0.5s\n",
      "\u001b[34m\u001b[1mwandb\u001b[0m: Adding directory to artifact (/home/wiktor/code/master-thesis/data/latin_letters_with_diacritics/train/39)... "
     ]
    },
    {
     "name": "stdout",
     "output_type": "stream",
     "text": [
      "Uploading train set for class: 39\n"
     ]
    },
    {
     "name": "stderr",
     "output_type": "stream",
     "text": [
      "Done. 0.5s\n",
      "\u001b[34m\u001b[1mwandb\u001b[0m: Adding directory to artifact (/home/wiktor/code/master-thesis/data/latin_letters_with_diacritics/train/40)... "
     ]
    },
    {
     "name": "stdout",
     "output_type": "stream",
     "text": [
      "Uploading train set for class: 40\n"
     ]
    },
    {
     "name": "stderr",
     "output_type": "stream",
     "text": [
      "Done. 0.5s\n",
      "\u001b[34m\u001b[1mwandb\u001b[0m: Adding directory to artifact (/home/wiktor/code/master-thesis/data/latin_letters_with_diacritics/train/41)... "
     ]
    },
    {
     "name": "stdout",
     "output_type": "stream",
     "text": [
      "Uploading train set for class: 41\n"
     ]
    },
    {
     "name": "stderr",
     "output_type": "stream",
     "text": [
      "Done. 0.5s\n",
      "\u001b[34m\u001b[1mwandb\u001b[0m: Adding directory to artifact (/home/wiktor/code/master-thesis/data/latin_letters_with_diacritics/train/42)... "
     ]
    },
    {
     "name": "stdout",
     "output_type": "stream",
     "text": [
      "Uploading train set for class: 42\n"
     ]
    },
    {
     "name": "stderr",
     "output_type": "stream",
     "text": [
      "Done. 0.5s\n",
      "\u001b[34m\u001b[1mwandb\u001b[0m: Adding directory to artifact (/home/wiktor/code/master-thesis/data/latin_letters_with_diacritics/train/43)... "
     ]
    },
    {
     "name": "stdout",
     "output_type": "stream",
     "text": [
      "Uploading train set for class: 43\n"
     ]
    },
    {
     "name": "stderr",
     "output_type": "stream",
     "text": [
      "Done. 0.5s\n",
      "\u001b[34m\u001b[1mwandb\u001b[0m: Adding directory to artifact (/home/wiktor/code/master-thesis/data/latin_letters_with_diacritics/train/44)... "
     ]
    },
    {
     "name": "stdout",
     "output_type": "stream",
     "text": [
      "Uploading train set for class: 44\n"
     ]
    },
    {
     "name": "stderr",
     "output_type": "stream",
     "text": [
      "Done. 0.4s\n",
      "\u001b[34m\u001b[1mwandb\u001b[0m: Adding directory to artifact (/home/wiktor/code/master-thesis/data/latin_letters_with_diacritics/train/45)... "
     ]
    },
    {
     "name": "stdout",
     "output_type": "stream",
     "text": [
      "Uploading train set for class: 45\n"
     ]
    },
    {
     "name": "stderr",
     "output_type": "stream",
     "text": [
      "Done. 0.4s\n",
      "\u001b[34m\u001b[1mwandb\u001b[0m: Adding directory to artifact (/home/wiktor/code/master-thesis/data/latin_letters_with_diacritics/train/46)... "
     ]
    },
    {
     "name": "stdout",
     "output_type": "stream",
     "text": [
      "Uploading train set for class: 46\n"
     ]
    },
    {
     "name": "stderr",
     "output_type": "stream",
     "text": [
      "Done. 0.5s\n",
      "\u001b[34m\u001b[1mwandb\u001b[0m: Adding directory to artifact (/home/wiktor/code/master-thesis/data/latin_letters_with_diacritics/train/47)... "
     ]
    },
    {
     "name": "stdout",
     "output_type": "stream",
     "text": [
      "Uploading train set for class: 47\n"
     ]
    },
    {
     "name": "stderr",
     "output_type": "stream",
     "text": [
      "Done. 0.4s\n",
      "\u001b[34m\u001b[1mwandb\u001b[0m: Adding directory to artifact (/home/wiktor/code/master-thesis/data/latin_letters_with_diacritics/train/48)... "
     ]
    },
    {
     "name": "stdout",
     "output_type": "stream",
     "text": [
      "Uploading train set for class: 48\n"
     ]
    },
    {
     "name": "stderr",
     "output_type": "stream",
     "text": [
      "Done. 0.5s\n",
      "\u001b[34m\u001b[1mwandb\u001b[0m: Adding directory to artifact (/home/wiktor/code/master-thesis/data/latin_letters_with_diacritics/train/49)... "
     ]
    },
    {
     "name": "stdout",
     "output_type": "stream",
     "text": [
      "Uploading train set for class: 49\n"
     ]
    },
    {
     "name": "stderr",
     "output_type": "stream",
     "text": [
      "Done. 0.5s\n",
      "\u001b[34m\u001b[1mwandb\u001b[0m: Adding directory to artifact (/home/wiktor/code/master-thesis/data/latin_letters_with_diacritics/train/50)... "
     ]
    },
    {
     "name": "stdout",
     "output_type": "stream",
     "text": [
      "Uploading train set for class: 50\n"
     ]
    },
    {
     "name": "stderr",
     "output_type": "stream",
     "text": [
      "Done. 0.5s\n",
      "\u001b[34m\u001b[1mwandb\u001b[0m: Adding directory to artifact (/home/wiktor/code/master-thesis/data/latin_letters_with_diacritics/train/51)... "
     ]
    },
    {
     "name": "stdout",
     "output_type": "stream",
     "text": [
      "Uploading train set for class: 51\n"
     ]
    },
    {
     "name": "stderr",
     "output_type": "stream",
     "text": [
      "Done. 0.4s\n",
      "\u001b[34m\u001b[1mwandb\u001b[0m: Adding directory to artifact (/home/wiktor/code/master-thesis/data/latin_letters_with_diacritics/train/52)... "
     ]
    },
    {
     "name": "stdout",
     "output_type": "stream",
     "text": [
      "Uploading train set for class: 52\n"
     ]
    },
    {
     "name": "stderr",
     "output_type": "stream",
     "text": [
      "Done. 0.5s\n",
      "\u001b[34m\u001b[1mwandb\u001b[0m: Adding directory to artifact (/home/wiktor/code/master-thesis/data/latin_letters_with_diacritics/train/53)... "
     ]
    },
    {
     "name": "stdout",
     "output_type": "stream",
     "text": [
      "Uploading train set for class: 53\n"
     ]
    },
    {
     "name": "stderr",
     "output_type": "stream",
     "text": [
      "Done. 0.5s\n",
      "\u001b[34m\u001b[1mwandb\u001b[0m: Adding directory to artifact (/home/wiktor/code/master-thesis/data/latin_letters_with_diacritics/train/54)... "
     ]
    },
    {
     "name": "stdout",
     "output_type": "stream",
     "text": [
      "Uploading train set for class: 54\n"
     ]
    },
    {
     "name": "stderr",
     "output_type": "stream",
     "text": [
      "Done. 0.4s\n",
      "\u001b[34m\u001b[1mwandb\u001b[0m: Adding directory to artifact (/home/wiktor/code/master-thesis/data/latin_letters_with_diacritics/train/55)... "
     ]
    },
    {
     "name": "stdout",
     "output_type": "stream",
     "text": [
      "Uploading train set for class: 55\n"
     ]
    },
    {
     "name": "stderr",
     "output_type": "stream",
     "text": [
      "Done. 0.6s\n",
      "\u001b[34m\u001b[1mwandb\u001b[0m: Adding directory to artifact (/home/wiktor/code/master-thesis/data/latin_letters_with_diacritics/train/56)... "
     ]
    },
    {
     "name": "stdout",
     "output_type": "stream",
     "text": [
      "Uploading train set for class: 56\n"
     ]
    },
    {
     "name": "stderr",
     "output_type": "stream",
     "text": [
      "Done. 0.5s\n",
      "\u001b[34m\u001b[1mwandb\u001b[0m: Adding directory to artifact (/home/wiktor/code/master-thesis/data/latin_letters_with_diacritics/train/57)... "
     ]
    },
    {
     "name": "stdout",
     "output_type": "stream",
     "text": [
      "Uploading train set for class: 57\n"
     ]
    },
    {
     "name": "stderr",
     "output_type": "stream",
     "text": [
      "Done. 0.5s\n",
      "\u001b[34m\u001b[1mwandb\u001b[0m: Adding directory to artifact (/home/wiktor/code/master-thesis/data/latin_letters_with_diacritics/train/58)... "
     ]
    },
    {
     "name": "stdout",
     "output_type": "stream",
     "text": [
      "Uploading train set for class: 58\n"
     ]
    },
    {
     "name": "stderr",
     "output_type": "stream",
     "text": [
      "Done. 0.5s\n",
      "\u001b[34m\u001b[1mwandb\u001b[0m: Adding directory to artifact (/home/wiktor/code/master-thesis/data/latin_letters_with_diacritics/train/59)... "
     ]
    },
    {
     "name": "stdout",
     "output_type": "stream",
     "text": [
      "Uploading train set for class: 59\n"
     ]
    },
    {
     "name": "stderr",
     "output_type": "stream",
     "text": [
      "Done. 0.4s\n",
      "\u001b[34m\u001b[1mwandb\u001b[0m: Adding directory to artifact (/home/wiktor/code/master-thesis/data/latin_letters_with_diacritics/train/60)... "
     ]
    },
    {
     "name": "stdout",
     "output_type": "stream",
     "text": [
      "Uploading train set for class: 60\n"
     ]
    },
    {
     "name": "stderr",
     "output_type": "stream",
     "text": [
      "Done. 0.5s\n",
      "\u001b[34m\u001b[1mwandb\u001b[0m: Adding directory to artifact (/home/wiktor/code/master-thesis/data/latin_letters_with_diacritics/train/61)... "
     ]
    },
    {
     "name": "stdout",
     "output_type": "stream",
     "text": [
      "Uploading train set for class: 61\n"
     ]
    },
    {
     "name": "stderr",
     "output_type": "stream",
     "text": [
      "Done. 0.5s\n",
      "\u001b[34m\u001b[1mwandb\u001b[0m: Adding directory to artifact (/home/wiktor/code/master-thesis/data/latin_letters_with_diacritics/train/62)... "
     ]
    },
    {
     "name": "stdout",
     "output_type": "stream",
     "text": [
      "Uploading train set for class: 62\n"
     ]
    },
    {
     "name": "stderr",
     "output_type": "stream",
     "text": [
      "Done. 0.4s\n",
      "\u001b[34m\u001b[1mwandb\u001b[0m: Adding directory to artifact (/home/wiktor/code/master-thesis/data/latin_letters_with_diacritics/train/63)... "
     ]
    },
    {
     "name": "stdout",
     "output_type": "stream",
     "text": [
      "Uploading train set for class: 63\n"
     ]
    },
    {
     "name": "stderr",
     "output_type": "stream",
     "text": [
      "Done. 0.5s\n",
      "\u001b[34m\u001b[1mwandb\u001b[0m: Adding directory to artifact (/home/wiktor/code/master-thesis/data/latin_letters_with_diacritics/train/64)... "
     ]
    },
    {
     "name": "stdout",
     "output_type": "stream",
     "text": [
      "Uploading train set for class: 64\n"
     ]
    },
    {
     "name": "stderr",
     "output_type": "stream",
     "text": [
      "Done. 0.4s\n",
      "\u001b[34m\u001b[1mwandb\u001b[0m: Adding directory to artifact (/home/wiktor/code/master-thesis/data/latin_letters_with_diacritics/train/65)... "
     ]
    },
    {
     "name": "stdout",
     "output_type": "stream",
     "text": [
      "Uploading train set for class: 65\n"
     ]
    },
    {
     "name": "stderr",
     "output_type": "stream",
     "text": [
      "Done. 0.4s\n",
      "\u001b[34m\u001b[1mwandb\u001b[0m: Adding directory to artifact (/home/wiktor/code/master-thesis/data/latin_letters_with_diacritics/train/66)... "
     ]
    },
    {
     "name": "stdout",
     "output_type": "stream",
     "text": [
      "Uploading train set for class: 66\n"
     ]
    },
    {
     "name": "stderr",
     "output_type": "stream",
     "text": [
      "Done. 0.5s\n",
      "\u001b[34m\u001b[1mwandb\u001b[0m: Adding directory to artifact (/home/wiktor/code/master-thesis/data/latin_letters_with_diacritics/train/67)... "
     ]
    },
    {
     "name": "stdout",
     "output_type": "stream",
     "text": [
      "Uploading train set for class: 67\n"
     ]
    },
    {
     "name": "stderr",
     "output_type": "stream",
     "text": [
      "Done. 0.4s\n",
      "\u001b[34m\u001b[1mwandb\u001b[0m: Adding directory to artifact (/home/wiktor/code/master-thesis/data/latin_letters_with_diacritics/train/68)... "
     ]
    },
    {
     "name": "stdout",
     "output_type": "stream",
     "text": [
      "Uploading train set for class: 68\n"
     ]
    },
    {
     "name": "stderr",
     "output_type": "stream",
     "text": [
      "Done. 0.5s\n",
      "\u001b[34m\u001b[1mwandb\u001b[0m: Adding directory to artifact (/home/wiktor/code/master-thesis/data/latin_letters_with_diacritics/train/69)... "
     ]
    },
    {
     "name": "stdout",
     "output_type": "stream",
     "text": [
      "Uploading train set for class: 69\n"
     ]
    },
    {
     "name": "stderr",
     "output_type": "stream",
     "text": [
      "Done. 0.5s\n",
      "\u001b[34m\u001b[1mwandb\u001b[0m: Adding directory to artifact (/home/wiktor/code/master-thesis/data/latin_letters_with_diacritics/train/70)... "
     ]
    },
    {
     "name": "stdout",
     "output_type": "stream",
     "text": [
      "Uploading train set for class: 70\n"
     ]
    },
    {
     "name": "stderr",
     "output_type": "stream",
     "text": [
      "Done. 0.5s\n",
      "\u001b[34m\u001b[1mwandb\u001b[0m: Adding directory to artifact (/home/wiktor/code/master-thesis/data/latin_letters_with_diacritics/train/71)... "
     ]
    },
    {
     "name": "stdout",
     "output_type": "stream",
     "text": [
      "Uploading train set for class: 71\n"
     ]
    },
    {
     "name": "stderr",
     "output_type": "stream",
     "text": [
      "Done. 0.5s\n",
      "\u001b[34m\u001b[1mwandb\u001b[0m: Adding directory to artifact (/home/wiktor/code/master-thesis/data/latin_letters_with_diacritics/train/72)... "
     ]
    },
    {
     "name": "stdout",
     "output_type": "stream",
     "text": [
      "Uploading train set for class: 72\n"
     ]
    },
    {
     "name": "stderr",
     "output_type": "stream",
     "text": [
      "Done. 0.5s\n",
      "\u001b[34m\u001b[1mwandb\u001b[0m: Adding directory to artifact (/home/wiktor/code/master-thesis/data/latin_letters_with_diacritics/train/73)... "
     ]
    },
    {
     "name": "stdout",
     "output_type": "stream",
     "text": [
      "Uploading train set for class: 73\n"
     ]
    },
    {
     "name": "stderr",
     "output_type": "stream",
     "text": [
      "Done. 0.5s\n",
      "\u001b[34m\u001b[1mwandb\u001b[0m: Adding directory to artifact (/home/wiktor/code/master-thesis/data/latin_letters_with_diacritics/train/74)... "
     ]
    },
    {
     "name": "stdout",
     "output_type": "stream",
     "text": [
      "Uploading train set for class: 74\n"
     ]
    },
    {
     "name": "stderr",
     "output_type": "stream",
     "text": [
      "Done. 0.4s\n",
      "\u001b[34m\u001b[1mwandb\u001b[0m: Adding directory to artifact (/home/wiktor/code/master-thesis/data/latin_letters_with_diacritics/train/75)... "
     ]
    },
    {
     "name": "stdout",
     "output_type": "stream",
     "text": [
      "Uploading train set for class: 75\n"
     ]
    },
    {
     "name": "stderr",
     "output_type": "stream",
     "text": [
      "Done. 0.5s\n",
      "\u001b[34m\u001b[1mwandb\u001b[0m: Adding directory to artifact (/home/wiktor/code/master-thesis/data/latin_letters_with_diacritics/train/76)... "
     ]
    },
    {
     "name": "stdout",
     "output_type": "stream",
     "text": [
      "Uploading train set for class: 76\n"
     ]
    },
    {
     "name": "stderr",
     "output_type": "stream",
     "text": [
      "Done. 0.5s\n",
      "\u001b[34m\u001b[1mwandb\u001b[0m: Adding directory to artifact (/home/wiktor/code/master-thesis/data/latin_letters_with_diacritics/train/77)... "
     ]
    },
    {
     "name": "stdout",
     "output_type": "stream",
     "text": [
      "Uploading train set for class: 77\n"
     ]
    },
    {
     "name": "stderr",
     "output_type": "stream",
     "text": [
      "Done. 0.5s\n",
      "\u001b[34m\u001b[1mwandb\u001b[0m: Adding directory to artifact (/home/wiktor/code/master-thesis/data/latin_letters_with_diacritics/train/78)... "
     ]
    },
    {
     "name": "stdout",
     "output_type": "stream",
     "text": [
      "Uploading train set for class: 78\n"
     ]
    },
    {
     "name": "stderr",
     "output_type": "stream",
     "text": [
      "Done. 1.0s\n",
      "\u001b[34m\u001b[1mwandb\u001b[0m: Adding directory to artifact (/home/wiktor/code/master-thesis/data/latin_letters_with_diacritics/train/79)... "
     ]
    },
    {
     "name": "stdout",
     "output_type": "stream",
     "text": [
      "Uploading train set for class: 79\n"
     ]
    },
    {
     "name": "stderr",
     "output_type": "stream",
     "text": [
      "Done. 0.5s\n",
      "\u001b[34m\u001b[1mwandb\u001b[0m: Adding directory to artifact (/home/wiktor/code/master-thesis/data/latin_letters_with_diacritics/test/10)... Done. 0.1s\n",
      "\u001b[34m\u001b[1mwandb\u001b[0m: Adding directory to artifact (/home/wiktor/code/master-thesis/data/latin_letters_with_diacritics/test/11)... Done. 0.1s\n",
      "\u001b[34m\u001b[1mwandb\u001b[0m: Adding directory to artifact (/home/wiktor/code/master-thesis/data/latin_letters_with_diacritics/test/12)... Done. 0.1s\n",
      "\u001b[34m\u001b[1mwandb\u001b[0m: Adding directory to artifact (/home/wiktor/code/master-thesis/data/latin_letters_with_diacritics/test/13)... "
     ]
    },
    {
     "name": "stdout",
     "output_type": "stream",
     "text": [
      "Uploading test set for class: 10\n",
      "Uploading test set for class: 11\n",
      "Uploading test set for class: 12\n",
      "Uploading test set for class: 13\n"
     ]
    },
    {
     "name": "stderr",
     "output_type": "stream",
     "text": [
      "Done. 0.1s\n",
      "\u001b[34m\u001b[1mwandb\u001b[0m: Adding directory to artifact (/home/wiktor/code/master-thesis/data/latin_letters_with_diacritics/test/14)... Done. 0.1s\n",
      "\u001b[34m\u001b[1mwandb\u001b[0m: Adding directory to artifact (/home/wiktor/code/master-thesis/data/latin_letters_with_diacritics/test/15)... Done. 0.1s\n",
      "\u001b[34m\u001b[1mwandb\u001b[0m: Adding directory to artifact (/home/wiktor/code/master-thesis/data/latin_letters_with_diacritics/test/16)... Done. 0.1s\n",
      "\u001b[34m\u001b[1mwandb\u001b[0m: Adding directory to artifact (/home/wiktor/code/master-thesis/data/latin_letters_with_diacritics/test/17)... "
     ]
    },
    {
     "name": "stdout",
     "output_type": "stream",
     "text": [
      "Uploading test set for class: 14\n",
      "Uploading test set for class: 15\n",
      "Uploading test set for class: 16\n",
      "Uploading test set for class: 17\n"
     ]
    },
    {
     "name": "stderr",
     "output_type": "stream",
     "text": [
      "Done. 0.1s\n",
      "\u001b[34m\u001b[1mwandb\u001b[0m: Adding directory to artifact (/home/wiktor/code/master-thesis/data/latin_letters_with_diacritics/test/18)... Done. 0.1s\n",
      "\u001b[34m\u001b[1mwandb\u001b[0m: Adding directory to artifact (/home/wiktor/code/master-thesis/data/latin_letters_with_diacritics/test/19)... Done. 0.1s\n",
      "\u001b[34m\u001b[1mwandb\u001b[0m: Adding directory to artifact (/home/wiktor/code/master-thesis/data/latin_letters_with_diacritics/test/20)... Done. 0.1s\n",
      "\u001b[34m\u001b[1mwandb\u001b[0m: Adding directory to artifact (/home/wiktor/code/master-thesis/data/latin_letters_with_diacritics/test/21)... "
     ]
    },
    {
     "name": "stdout",
     "output_type": "stream",
     "text": [
      "Uploading test set for class: 18\n",
      "Uploading test set for class: 19\n",
      "Uploading test set for class: 20\n",
      "Uploading test set for class: 21\n"
     ]
    },
    {
     "name": "stderr",
     "output_type": "stream",
     "text": [
      "Done. 0.1s\n",
      "\u001b[34m\u001b[1mwandb\u001b[0m: Adding directory to artifact (/home/wiktor/code/master-thesis/data/latin_letters_with_diacritics/test/22)... Done. 0.1s\n",
      "\u001b[34m\u001b[1mwandb\u001b[0m: Adding directory to artifact (/home/wiktor/code/master-thesis/data/latin_letters_with_diacritics/test/23)... Done. 0.1s\n",
      "\u001b[34m\u001b[1mwandb\u001b[0m: Adding directory to artifact (/home/wiktor/code/master-thesis/data/latin_letters_with_diacritics/test/24)... Done. 0.1s\n",
      "\u001b[34m\u001b[1mwandb\u001b[0m: Adding directory to artifact (/home/wiktor/code/master-thesis/data/latin_letters_with_diacritics/test/25)... "
     ]
    },
    {
     "name": "stdout",
     "output_type": "stream",
     "text": [
      "Uploading test set for class: 22\n",
      "Uploading test set for class: 23\n",
      "Uploading test set for class: 24\n",
      "Uploading test set for class: 25\n"
     ]
    },
    {
     "name": "stderr",
     "output_type": "stream",
     "text": [
      "Done. 0.1s\n",
      "\u001b[34m\u001b[1mwandb\u001b[0m: Adding directory to artifact (/home/wiktor/code/master-thesis/data/latin_letters_with_diacritics/test/26)... Done. 0.1s\n",
      "\u001b[34m\u001b[1mwandb\u001b[0m: Adding directory to artifact (/home/wiktor/code/master-thesis/data/latin_letters_with_diacritics/test/27)... Done. 0.1s\n",
      "\u001b[34m\u001b[1mwandb\u001b[0m: Adding directory to artifact (/home/wiktor/code/master-thesis/data/latin_letters_with_diacritics/test/28)... Done. 0.1s\n",
      "\u001b[34m\u001b[1mwandb\u001b[0m: Adding directory to artifact (/home/wiktor/code/master-thesis/data/latin_letters_with_diacritics/test/29)... "
     ]
    },
    {
     "name": "stdout",
     "output_type": "stream",
     "text": [
      "Uploading test set for class: 26\n",
      "Uploading test set for class: 27\n",
      "Uploading test set for class: 28\n",
      "Uploading test set for class: 29\n"
     ]
    },
    {
     "name": "stderr",
     "output_type": "stream",
     "text": [
      "Done. 0.1s\n",
      "\u001b[34m\u001b[1mwandb\u001b[0m: Adding directory to artifact (/home/wiktor/code/master-thesis/data/latin_letters_with_diacritics/test/30)... Done. 0.1s\n",
      "\u001b[34m\u001b[1mwandb\u001b[0m: Adding directory to artifact (/home/wiktor/code/master-thesis/data/latin_letters_with_diacritics/test/31)... Done. 0.1s\n",
      "\u001b[34m\u001b[1mwandb\u001b[0m: Adding directory to artifact (/home/wiktor/code/master-thesis/data/latin_letters_with_diacritics/test/32)... Done. 0.1s\n",
      "\u001b[34m\u001b[1mwandb\u001b[0m: Adding directory to artifact (/home/wiktor/code/master-thesis/data/latin_letters_with_diacritics/test/33)... "
     ]
    },
    {
     "name": "stdout",
     "output_type": "stream",
     "text": [
      "Uploading test set for class: 30\n",
      "Uploading test set for class: 31\n",
      "Uploading test set for class: 32\n",
      "Uploading test set for class: 33\n"
     ]
    },
    {
     "name": "stderr",
     "output_type": "stream",
     "text": [
      "Done. 0.1s\n",
      "\u001b[34m\u001b[1mwandb\u001b[0m: Adding directory to artifact (/home/wiktor/code/master-thesis/data/latin_letters_with_diacritics/test/34)... Done. 0.1s\n",
      "\u001b[34m\u001b[1mwandb\u001b[0m: Adding directory to artifact (/home/wiktor/code/master-thesis/data/latin_letters_with_diacritics/test/35)... Done. 0.1s\n",
      "\u001b[34m\u001b[1mwandb\u001b[0m: Adding directory to artifact (/home/wiktor/code/master-thesis/data/latin_letters_with_diacritics/test/36)... Done. 0.1s\n",
      "\u001b[34m\u001b[1mwandb\u001b[0m: Adding directory to artifact (/home/wiktor/code/master-thesis/data/latin_letters_with_diacritics/test/37)... "
     ]
    },
    {
     "name": "stdout",
     "output_type": "stream",
     "text": [
      "Uploading test set for class: 34\n",
      "Uploading test set for class: 35\n",
      "Uploading test set for class: 36\n",
      "Uploading test set for class: 37\n"
     ]
    },
    {
     "name": "stderr",
     "output_type": "stream",
     "text": [
      "Done. 0.1s\n",
      "\u001b[34m\u001b[1mwandb\u001b[0m: Adding directory to artifact (/home/wiktor/code/master-thesis/data/latin_letters_with_diacritics/test/38)... Done. 0.1s\n",
      "\u001b[34m\u001b[1mwandb\u001b[0m: Adding directory to artifact (/home/wiktor/code/master-thesis/data/latin_letters_with_diacritics/test/39)... Done. 0.1s\n",
      "\u001b[34m\u001b[1mwandb\u001b[0m: Adding directory to artifact (/home/wiktor/code/master-thesis/data/latin_letters_with_diacritics/test/40)... Done. 0.1s\n",
      "\u001b[34m\u001b[1mwandb\u001b[0m: Adding directory to artifact (/home/wiktor/code/master-thesis/data/latin_letters_with_diacritics/test/41)... "
     ]
    },
    {
     "name": "stdout",
     "output_type": "stream",
     "text": [
      "Uploading test set for class: 38\n",
      "Uploading test set for class: 39\n",
      "Uploading test set for class: 40\n",
      "Uploading test set for class: 41\n"
     ]
    },
    {
     "name": "stderr",
     "output_type": "stream",
     "text": [
      "Done. 0.1s\n",
      "\u001b[34m\u001b[1mwandb\u001b[0m: Adding directory to artifact (/home/wiktor/code/master-thesis/data/latin_letters_with_diacritics/test/42)... Done. 0.1s\n",
      "\u001b[34m\u001b[1mwandb\u001b[0m: Adding directory to artifact (/home/wiktor/code/master-thesis/data/latin_letters_with_diacritics/test/43)... Done. 0.1s\n",
      "\u001b[34m\u001b[1mwandb\u001b[0m: Adding directory to artifact (/home/wiktor/code/master-thesis/data/latin_letters_with_diacritics/test/44)... Done. 0.1s\n",
      "\u001b[34m\u001b[1mwandb\u001b[0m: Adding directory to artifact (/home/wiktor/code/master-thesis/data/latin_letters_with_diacritics/test/45)... "
     ]
    },
    {
     "name": "stdout",
     "output_type": "stream",
     "text": [
      "Uploading test set for class: 42\n",
      "Uploading test set for class: 43\n",
      "Uploading test set for class: 44\n",
      "Uploading test set for class: 45\n"
     ]
    },
    {
     "name": "stderr",
     "output_type": "stream",
     "text": [
      "Done. 0.1s\n",
      "\u001b[34m\u001b[1mwandb\u001b[0m: Adding directory to artifact (/home/wiktor/code/master-thesis/data/latin_letters_with_diacritics/test/46)... Done. 0.1s\n",
      "\u001b[34m\u001b[1mwandb\u001b[0m: Adding directory to artifact (/home/wiktor/code/master-thesis/data/latin_letters_with_diacritics/test/47)... Done. 0.1s\n",
      "\u001b[34m\u001b[1mwandb\u001b[0m: Adding directory to artifact (/home/wiktor/code/master-thesis/data/latin_letters_with_diacritics/test/48)... Done. 0.1s\n",
      "\u001b[34m\u001b[1mwandb\u001b[0m: Adding directory to artifact (/home/wiktor/code/master-thesis/data/latin_letters_with_diacritics/test/49)... "
     ]
    },
    {
     "name": "stdout",
     "output_type": "stream",
     "text": [
      "Uploading test set for class: 46\n",
      "Uploading test set for class: 47\n",
      "Uploading test set for class: 48\n",
      "Uploading test set for class: 49\n"
     ]
    },
    {
     "name": "stderr",
     "output_type": "stream",
     "text": [
      "Done. 0.1s\n",
      "\u001b[34m\u001b[1mwandb\u001b[0m: Adding directory to artifact (/home/wiktor/code/master-thesis/data/latin_letters_with_diacritics/test/50)... Done. 0.1s\n",
      "\u001b[34m\u001b[1mwandb\u001b[0m: Adding directory to artifact (/home/wiktor/code/master-thesis/data/latin_letters_with_diacritics/test/51)... Done. 0.1s\n",
      "\u001b[34m\u001b[1mwandb\u001b[0m: Adding directory to artifact (/home/wiktor/code/master-thesis/data/latin_letters_with_diacritics/test/52)... Done. 0.1s\n",
      "\u001b[34m\u001b[1mwandb\u001b[0m: Adding directory to artifact (/home/wiktor/code/master-thesis/data/latin_letters_with_diacritics/test/53)... "
     ]
    },
    {
     "name": "stdout",
     "output_type": "stream",
     "text": [
      "Uploading test set for class: 50\n",
      "Uploading test set for class: 51\n",
      "Uploading test set for class: 52\n",
      "Uploading test set for class: 53\n"
     ]
    },
    {
     "name": "stderr",
     "output_type": "stream",
     "text": [
      "Done. 0.1s\n",
      "\u001b[34m\u001b[1mwandb\u001b[0m: Adding directory to artifact (/home/wiktor/code/master-thesis/data/latin_letters_with_diacritics/test/54)... Done. 0.1s\n",
      "\u001b[34m\u001b[1mwandb\u001b[0m: Adding directory to artifact (/home/wiktor/code/master-thesis/data/latin_letters_with_diacritics/test/55)... Done. 0.1s\n",
      "\u001b[34m\u001b[1mwandb\u001b[0m: Adding directory to artifact (/home/wiktor/code/master-thesis/data/latin_letters_with_diacritics/test/56)... Done. 0.1s\n",
      "\u001b[34m\u001b[1mwandb\u001b[0m: Adding directory to artifact (/home/wiktor/code/master-thesis/data/latin_letters_with_diacritics/test/57)... "
     ]
    },
    {
     "name": "stdout",
     "output_type": "stream",
     "text": [
      "Uploading test set for class: 54\n",
      "Uploading test set for class: 55\n",
      "Uploading test set for class: 56\n",
      "Uploading test set for class: 57\n"
     ]
    },
    {
     "name": "stderr",
     "output_type": "stream",
     "text": [
      "Done. 0.1s\n",
      "\u001b[34m\u001b[1mwandb\u001b[0m: Adding directory to artifact (/home/wiktor/code/master-thesis/data/latin_letters_with_diacritics/test/58)... Done. 0.1s\n",
      "\u001b[34m\u001b[1mwandb\u001b[0m: Adding directory to artifact (/home/wiktor/code/master-thesis/data/latin_letters_with_diacritics/test/59)... Done. 0.1s\n",
      "\u001b[34m\u001b[1mwandb\u001b[0m: Adding directory to artifact (/home/wiktor/code/master-thesis/data/latin_letters_with_diacritics/test/60)... Done. 0.1s\n",
      "\u001b[34m\u001b[1mwandb\u001b[0m: Adding directory to artifact (/home/wiktor/code/master-thesis/data/latin_letters_with_diacritics/test/61)... "
     ]
    },
    {
     "name": "stdout",
     "output_type": "stream",
     "text": [
      "Uploading test set for class: 58\n",
      "Uploading test set for class: 59\n",
      "Uploading test set for class: 60\n",
      "Uploading test set for class: 61\n"
     ]
    },
    {
     "name": "stderr",
     "output_type": "stream",
     "text": [
      "Done. 0.1s\n",
      "\u001b[34m\u001b[1mwandb\u001b[0m: Adding directory to artifact (/home/wiktor/code/master-thesis/data/latin_letters_with_diacritics/test/62)... Done. 0.1s\n",
      "\u001b[34m\u001b[1mwandb\u001b[0m: Adding directory to artifact (/home/wiktor/code/master-thesis/data/latin_letters_with_diacritics/test/63)... Done. 0.1s\n",
      "\u001b[34m\u001b[1mwandb\u001b[0m: Adding directory to artifact (/home/wiktor/code/master-thesis/data/latin_letters_with_diacritics/test/64)... Done. 0.1s\n",
      "\u001b[34m\u001b[1mwandb\u001b[0m: Adding directory to artifact (/home/wiktor/code/master-thesis/data/latin_letters_with_diacritics/test/65)... "
     ]
    },
    {
     "name": "stdout",
     "output_type": "stream",
     "text": [
      "Uploading test set for class: 62\n",
      "Uploading test set for class: 63\n",
      "Uploading test set for class: 64\n",
      "Uploading test set for class: 65\n"
     ]
    },
    {
     "name": "stderr",
     "output_type": "stream",
     "text": [
      "Done. 0.1s\n",
      "\u001b[34m\u001b[1mwandb\u001b[0m: Adding directory to artifact (/home/wiktor/code/master-thesis/data/latin_letters_with_diacritics/test/66)... Done. 0.1s\n",
      "\u001b[34m\u001b[1mwandb\u001b[0m: Adding directory to artifact (/home/wiktor/code/master-thesis/data/latin_letters_with_diacritics/test/67)... Done. 0.1s\n",
      "\u001b[34m\u001b[1mwandb\u001b[0m: Adding directory to artifact (/home/wiktor/code/master-thesis/data/latin_letters_with_diacritics/test/68)... Done. 0.1s\n",
      "\u001b[34m\u001b[1mwandb\u001b[0m: Adding directory to artifact (/home/wiktor/code/master-thesis/data/latin_letters_with_diacritics/test/69)... "
     ]
    },
    {
     "name": "stdout",
     "output_type": "stream",
     "text": [
      "Uploading test set for class: 66\n",
      "Uploading test set for class: 67\n",
      "Uploading test set for class: 68\n",
      "Uploading test set for class: 69\n"
     ]
    },
    {
     "name": "stderr",
     "output_type": "stream",
     "text": [
      "Done. 0.1s\n",
      "\u001b[34m\u001b[1mwandb\u001b[0m: Adding directory to artifact (/home/wiktor/code/master-thesis/data/latin_letters_with_diacritics/test/70)... Done. 0.1s\n",
      "\u001b[34m\u001b[1mwandb\u001b[0m: Adding directory to artifact (/home/wiktor/code/master-thesis/data/latin_letters_with_diacritics/test/71)... Done. 0.1s\n",
      "\u001b[34m\u001b[1mwandb\u001b[0m: Adding directory to artifact (/home/wiktor/code/master-thesis/data/latin_letters_with_diacritics/test/72)... Done. 0.1s\n",
      "\u001b[34m\u001b[1mwandb\u001b[0m: Adding directory to artifact (/home/wiktor/code/master-thesis/data/latin_letters_with_diacritics/test/73)... "
     ]
    },
    {
     "name": "stdout",
     "output_type": "stream",
     "text": [
      "Uploading test set for class: 70\n",
      "Uploading test set for class: 71\n",
      "Uploading test set for class: 72\n",
      "Uploading test set for class: 73\n"
     ]
    },
    {
     "name": "stderr",
     "output_type": "stream",
     "text": [
      "Done. 0.1s\n",
      "\u001b[34m\u001b[1mwandb\u001b[0m: Adding directory to artifact (/home/wiktor/code/master-thesis/data/latin_letters_with_diacritics/test/74)... Done. 0.1s\n",
      "\u001b[34m\u001b[1mwandb\u001b[0m: Adding directory to artifact (/home/wiktor/code/master-thesis/data/latin_letters_with_diacritics/test/75)... Done. 0.1s\n",
      "\u001b[34m\u001b[1mwandb\u001b[0m: Adding directory to artifact (/home/wiktor/code/master-thesis/data/latin_letters_with_diacritics/test/76)... Done. 0.1s\n",
      "\u001b[34m\u001b[1mwandb\u001b[0m: Adding directory to artifact (/home/wiktor/code/master-thesis/data/latin_letters_with_diacritics/test/77)... "
     ]
    },
    {
     "name": "stdout",
     "output_type": "stream",
     "text": [
      "Uploading test set for class: 74\n",
      "Uploading test set for class: 75\n",
      "Uploading test set for class: 76\n",
      "Uploading test set for class: 77\n"
     ]
    },
    {
     "name": "stderr",
     "output_type": "stream",
     "text": [
      "Done. 0.1s\n",
      "\u001b[34m\u001b[1mwandb\u001b[0m: Adding directory to artifact (/home/wiktor/code/master-thesis/data/latin_letters_with_diacritics/test/78)... Done. 0.0s\n",
      "\u001b[34m\u001b[1mwandb\u001b[0m: Adding directory to artifact (/home/wiktor/code/master-thesis/data/latin_letters_with_diacritics/test/79)... Done. 0.1s\n"
     ]
    },
    {
     "name": "stdout",
     "output_type": "stream",
     "text": [
      "Uploading test set for class: 78\n",
      "Uploading test set for class: 79\n"
     ]
    }
   ],
   "source": [
    "base_dir = \"/home/wiktor/code/master-thesis/\"\n",
    "classes_dir = [str(i) for i in range(10, 80)]\n",
    "\n",
    "for dir in [\"train\", \"test\"]:\n",
    "\tprint(f\"Uploading {dir} set\")\n",
    "\tdata = wandb.Artifact(f\"lowercase_letters_with_diacritics\", type=f\"{dir}_data\")\n",
    "\tfor i in classes_dir:\n",
    "\t\tdata.add_dir(f\"{base_dir}/data/latin_letters_with_diacritics/{dir}/{i}\")\n",
    "\trun.log_artifact(data)"
   ]
  },
  {
   "cell_type": "code",
   "execution_count": 14,
   "metadata": {},
   "outputs": [
    {
     "data": {
      "text/plain": [
       "<wandb.sdk.wandb_artifacts.Artifact at 0x7fa7d4186a70>"
      ]
     },
     "execution_count": 14,
     "metadata": {},
     "output_type": "execute_result"
    }
   ],
   "source": [
    "data"
   ]
  }
 ],
 "metadata": {
  "kernelspec": {
   "display_name": "master-thesis",
   "language": "python",
   "name": "python3"
  },
  "language_info": {
   "codemirror_mode": {
    "name": "ipython",
    "version": 3
   },
   "file_extension": ".py",
   "mimetype": "text/x-python",
   "name": "python",
   "nbconvert_exporter": "python",
   "pygments_lexer": "ipython3",
   "version": "3.10.9"
  },
  "orig_nbformat": 4,
  "vscode": {
   "interpreter": {
    "hash": "50e1e42dfe1d658956852bd8112c3a0f458e21bda0a35307ca1649a3ad9140a0"
   }
  }
 },
 "nbformat": 4,
 "nbformat_minor": 2
}
