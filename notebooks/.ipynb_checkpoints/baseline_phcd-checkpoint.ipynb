{
 "cells": [
  {
   "cell_type": "markdown",
   "metadata": {},
   "source": [
    "# Baseline network\n",
    "\n",
    "This notebook trains the baseline network with exact same architecture as the one in paper [Recognition of handwritten Latin characters with diacritics using CNN](https://journals.pan.pl/dlibra/publication/136210/edition/119099/content/bulletin-of-the-polish-academy-of-sciences-technical-sciences-recognition-of-handwritten-latin-characters-with-diacritics-using-cnn-lukasik-edyta-charytanowicz-malgorzata-milosz-marek-tokovarov-michail-kaczorowska-monika-czerwinski-dariusz-zientarski-tomasz-2021-69-no-1?language=en)\n",
    "\n",
    "Model architecture description:\n",
    "\n",
    "\"The architecture of the concrete CNN is shown in Fig. 2.\n",
    "The input is a 32x32 binarized matrix. The input is then prop-\n",
    "agated through 12 adaptable layers. First come two convolu-\n",
    "tional layers having 32 filters with the size of 3x3 and stride 1.\n",
    "Secondly, the output of the convolutional layer is fed to the\n",
    "ReLU function. The output is down-sampled using a max-pool-\n",
    "ing operation with a 2x2 stride. Next, the dropout technique is\n",
    "used with the coefficient 0.25. The four operations (two con-\n",
    "volutions, nonlinearity, max-pooling, and dropout) are repeated,\n",
    "using 64 filters for the convolutional layers. The output of the\n",
    "last layer is then flattened and fed through a fully connected\n",
    "layer with 256 neurons and ReLU nonlinearities, dropped out\n",
    "with the 0.25 coefficient, and a final output layer is fully con-\n",
    "nected with a Softmax activation function. The Adam optimizer\n",
    "and the cross-entropy loss function were used in the network. \n",
    "The output is a probability distribution over 89 classes.\"\n",
    "\n",
    "\n",
    "\n",
    "\n",
    "After training, model is serialized and uploaded to W&B project."
   ]
  },
  {
   "cell_type": "code",
   "execution_count": 10,
   "metadata": {},
   "outputs": [],
   "source": [
    "import wandb\n",
    "import tensorflow as tf\n",
    "import numpy as np\n",
    "import pathlib\n",
    "import shutil\n",
    "from typing import List\n",
    "\n",
    "def load_data(run, artifact_name = f\"phcd_paper_splits_tfds\") -> List[tf.data.Dataset]:\n",
    "    \"\"\"\n",
    "    Downloads datasets from a wandb artifact and loads them into a list of tf.data.Datasets.\n",
    "    \"\"\"\n",
    "\n",
    "    artifact = run.use_artifact(f\"master-thesis/{artifact_name}:latest\")\n",
    "    artifact_dir = pathlib.Path(\n",
    "        f\"./artifacts/{artifact.name.replace(':', '-')}\"\n",
    "    ).resolve()\n",
    "    if not artifact_dir.exists():\n",
    "        artifact_dir = artifact.download()\n",
    "        artifact_dir = pathlib.Path(artifact_dir).resolve()\n",
    "\n",
    "    # if tf.__version__ minor is less than 10, use\n",
    "    # tf.data.experimental.load instead of tf.data.Dataset.load\n",
    "\n",
    "    if int(tf.__version__.split(\".\")[1]) < 10:\n",
    "        load_function = tf.data.experimental.load\n",
    "    else:\n",
    "        load_function = tf.data.Dataset.load\n",
    "    \n",
    "    output_list = []\n",
    "    for split in [\"train\", \"test\", \"val\"]:\n",
    "        ds = load_function(str(artifact_dir / split), compression=\"GZIP\")\n",
    "        output_list.append(ds)\n",
    "    \n",
    "    return output_list\n",
    "\n",
    "def get_number_of_classes(ds: tf.data.Dataset) -> int:\n",
    "    \"\"\"\n",
    "    Returns the number of classes in a dataset.\n",
    "    \"\"\"\n",
    "    labels_iterator= ds.map(lambda x, y: y).as_numpy_iterator()\n",
    "    labels = np.concatenate(list(labels_iterator))\n",
    "    return len(np.unique(labels))\n",
    "\n",
    "def preprocess_dataset(ds: tf.data.Dataset, batch_size: int, cache: bool = True) -> tf.data.Dataset:\n",
    "    ds = ds.map(lambda x, y: (tf.cast(x, tf.float32) / 255.0, y))  # normalize\n",
    "    ds = ds.unbatch().batch(batch_size)\n",
    "    if cache:\n",
    "        ds = ds.cache().prefetch(buffer_size=tf.data.AUTOTUNE)\n",
    "    return ds\n",
    "\n",
    "def calculate_model_size_on_disk(path: str) -> int:\n",
    "    return pathlib.Path(path).stat().st_size    \n",
    "\n",
    "def calculate_model_num_parameters(model: tf.keras.Model) -> int:\n",
    "    return model.count_params()\n",
    "\n",
    "def calculate_model_flops(summary) -> float:\n",
    "    # from run.summary get GFLOPs or GFLOPS whichever is available\n",
    "    print(summary.keys())\n",
    "    if \"GFLOPs\" in summary.keys():\n",
    "        return summary.get(\"GFLOPs\")\n",
    "    elif \"GFLOPS\" in summary.keys():\n",
    "        return summary.get(\"GFLOPS\")"
   ]
  },
  {
   "cell_type": "code",
   "execution_count": 2,
   "metadata": {},
   "outputs": [],
   "source": [
    "defaults = dict(\n",
    "    batch_size=32*4,\n",
    "    epochs=100,    \n",
    "    optimizer=\"adam\"\n",
    ")"
   ]
  },
  {
   "cell_type": "code",
   "execution_count": 3,
   "metadata": {},
   "outputs": [
    {
     "name": "stderr",
     "output_type": "stream",
     "text": [
      "Failed to detect the name of this notebook, you can set it manually with the WANDB_NOTEBOOK_NAME environment variable to enable code saving.\n",
      "\u001b[34m\u001b[1mwandb\u001b[0m: Currently logged in as: \u001b[33mgratkadlafana\u001b[0m. Use \u001b[1m`wandb login --relogin`\u001b[0m to force relogin\n"
     ]
    },
    {
     "data": {
      "text/html": [
       "Tracking run with wandb version 0.13.9"
      ],
      "text/plain": [
       "<IPython.core.display.HTML object>"
      ]
     },
     "metadata": {},
     "output_type": "display_data"
    },
    {
     "data": {
      "text/html": [
       "Run data is saved locally in <code>/workspace/notebooks/wandb/run-20230123_162604-py3k4p1s</code>"
      ],
      "text/plain": [
       "<IPython.core.display.HTML object>"
      ]
     },
     "metadata": {},
     "output_type": "display_data"
    },
    {
     "data": {
      "text/html": [
       "Syncing run <strong><a href=\"https://wandb.ai/gratkadlafana/master-thesis/runs/py3k4p1s\" target=\"_blank\">baseline-phcd</a></strong> to <a href=\"https://wandb.ai/gratkadlafana/master-thesis\" target=\"_blank\">Weights & Biases</a> (<a href=\"https://wandb.me/run\" target=\"_blank\">docs</a>)<br/>"
      ],
      "text/plain": [
       "<IPython.core.display.HTML object>"
      ]
     },
     "metadata": {},
     "output_type": "display_data"
    },
    {
     "data": {
      "text/html": [
       " View project at <a href=\"https://wandb.ai/gratkadlafana/master-thesis\" target=\"_blank\">https://wandb.ai/gratkadlafana/master-thesis</a>"
      ],
      "text/plain": [
       "<IPython.core.display.HTML object>"
      ]
     },
     "metadata": {},
     "output_type": "display_data"
    },
    {
     "data": {
      "text/html": [
       " View run at <a href=\"https://wandb.ai/gratkadlafana/master-thesis/runs/py3k4p1s\" target=\"_blank\">https://wandb.ai/gratkadlafana/master-thesis/runs/py3k4p1s</a>"
      ],
      "text/plain": [
       "<IPython.core.display.HTML object>"
      ]
     },
     "metadata": {},
     "output_type": "display_data"
    }
   ],
   "source": [
    "MODEL_NAME = \"baseline-phcd\"\n",
    "run = wandb.init(project=\"master-thesis\", job_type=\"training\", name=MODEL_NAME, config=defaults,)\n",
    "\n",
    "# hyperparameters\n",
    "\n",
    "epochs = wandb.config.epochs\n",
    "bs = wandb.config.batch_size"
   ]
  },
  {
   "cell_type": "code",
   "execution_count": 4,
   "metadata": {},
   "outputs": [
    {
     "name": "stderr",
     "output_type": "stream",
     "text": [
      "\u001b[34m\u001b[1mwandb\u001b[0m: Downloading large artifact phcd_paper_splits_tfds:latest, 163.87MB. 27 files... \n",
      "\u001b[34m\u001b[1mwandb\u001b[0m:   27 of 27 files downloaded.  \n",
      "Done. 0:0:0.0\n",
      "2023-01-23 16:26:07.620692: I tensorflow/compiler/xla/stream_executor/cuda/cuda_gpu_executor.cc:967] could not open file to read NUMA node: /sys/bus/pci/devices/0000:26:00.0/numa_node\n",
      "Your kernel may have been built without NUMA support.\n"
     ]
    },
    {
     "name": "stdout",
     "output_type": "stream",
     "text": [
      "WARNING:tensorflow:From /usr/local/lib/python3.8/dist-packages/tensorflow/python/autograph/pyct/static_analysis/liveness.py:83: Analyzer.lamba_check (from tensorflow.python.autograph.pyct.static_analysis.liveness) is deprecated and will be removed after 2023-09-23.\n",
      "Instructions for updating:\n",
      "Lambda fuctions will be no more assumed to be used in the statement where they are used, or at least in the same block. https://github.com/tensorflow/tensorflow/issues/56089\n"
     ]
    },
    {
     "name": "stderr",
     "output_type": "stream",
     "text": [
      "2023-01-23 16:26:07.639282: I tensorflow/compiler/xla/stream_executor/cuda/cuda_gpu_executor.cc:967] could not open file to read NUMA node: /sys/bus/pci/devices/0000:26:00.0/numa_node\n",
      "Your kernel may have been built without NUMA support.\n",
      "2023-01-23 16:26:07.639492: I tensorflow/compiler/xla/stream_executor/cuda/cuda_gpu_executor.cc:967] could not open file to read NUMA node: /sys/bus/pci/devices/0000:26:00.0/numa_node\n",
      "Your kernel may have been built without NUMA support.\n",
      "2023-01-23 16:26:07.640853: I tensorflow/core/platform/cpu_feature_guard.cc:193] This TensorFlow binary is optimized with oneAPI Deep Neural Network Library (oneDNN) to use the following CPU instructions in performance-critical operations:  AVX2 FMA\n",
      "To enable them in other operations, rebuild TensorFlow with the appropriate compiler flags.\n",
      "2023-01-23 16:26:07.641590: I tensorflow/compiler/xla/stream_executor/cuda/cuda_gpu_executor.cc:967] could not open file to read NUMA node: /sys/bus/pci/devices/0000:26:00.0/numa_node\n",
      "Your kernel may have been built without NUMA support.\n",
      "2023-01-23 16:26:07.641860: I tensorflow/compiler/xla/stream_executor/cuda/cuda_gpu_executor.cc:967] could not open file to read NUMA node: /sys/bus/pci/devices/0000:26:00.0/numa_node\n",
      "Your kernel may have been built without NUMA support.\n",
      "2023-01-23 16:26:07.642267: I tensorflow/compiler/xla/stream_executor/cuda/cuda_gpu_executor.cc:967] could not open file to read NUMA node: /sys/bus/pci/devices/0000:26:00.0/numa_node\n",
      "Your kernel may have been built without NUMA support.\n",
      "2023-01-23 16:26:08.232933: I tensorflow/compiler/xla/stream_executor/cuda/cuda_gpu_executor.cc:967] could not open file to read NUMA node: /sys/bus/pci/devices/0000:26:00.0/numa_node\n",
      "Your kernel may have been built without NUMA support.\n",
      "2023-01-23 16:26:08.233164: I tensorflow/compiler/xla/stream_executor/cuda/cuda_gpu_executor.cc:967] could not open file to read NUMA node: /sys/bus/pci/devices/0000:26:00.0/numa_node\n",
      "Your kernel may have been built without NUMA support.\n",
      "2023-01-23 16:26:08.233176: I tensorflow/core/common_runtime/gpu/gpu_device.cc:1700] Could not identify NUMA node of platform GPU id 0, defaulting to 0.  Your kernel may not have been built with NUMA support.\n",
      "2023-01-23 16:26:08.233444: I tensorflow/compiler/xla/stream_executor/cuda/cuda_gpu_executor.cc:967] could not open file to read NUMA node: /sys/bus/pci/devices/0000:26:00.0/numa_node\n",
      "Your kernel may have been built without NUMA support.\n",
      "2023-01-23 16:26:08.233482: I tensorflow/core/common_runtime/gpu/gpu_device.cc:1613] Created device /job:localhost/replica:0/task:0/device:GPU:0 with 2075 MB memory:  -> device: 0, name: NVIDIA GeForce GTX 1650 SUPER, pci bus id: 0000:26:00.0, compute capability: 7.5\n"
     ]
    },
    {
     "name": "stdout",
     "output_type": "stream",
     "text": [
      "There are 89 classes\n",
      "Training set has 13953 batches\n",
      "Test set has 3488 batches\n",
      "Validation set has 1743 batches\n"
     ]
    }
   ],
   "source": [
    "ds_train, ds_test, ds_val = load_data(run)\n",
    "\n",
    "num_classes = get_number_of_classes(ds_val)\n",
    "\n",
    "print(f\"There are {num_classes} classes\")\n",
    "print(f\"Training set has {len(ds_train)} batches\")\n",
    "print(f\"Test set has {len(ds_test)} batches\")\n",
    "print(f\"Validation set has {len(ds_val)} batches\")"
   ]
  },
  {
   "cell_type": "code",
   "execution_count": 5,
   "metadata": {},
   "outputs": [
    {
     "name": "stdout",
     "output_type": "stream",
     "text": [
      "Num GPUs Available:  1\n",
      "Available devices:  [PhysicalDevice(name='/physical_device:CPU:0', device_type='CPU'), PhysicalDevice(name='/physical_device:GPU:0', device_type='GPU')]\n"
     ]
    }
   ],
   "source": [
    "print(\"Num GPUs Available: \", len(tf.config.experimental.list_physical_devices('GPU')))\n",
    "print(\"Available devices: \", tf.config.list_physical_devices())\n"
   ]
  },
  {
   "cell_type": "code",
   "execution_count": 6,
   "metadata": {},
   "outputs": [
    {
     "name": "stderr",
     "output_type": "stream",
     "text": [
      "Exception in thread SystemMonitor:\n",
      "Traceback (most recent call last):\n",
      "  File \"/usr/lib/python3.8/threading.py\", line 932, in _bootstrap_inner\n",
      "    self.run()\n",
      "  File \"/usr/lib/python3.8/threading.py\", line 870, in run\n",
      "    self._target(*self._args, **self._kwargs)\n",
      "  File \"/usr/local/lib/python3.8/dist-packages/wandb/sdk/internal/system/system_monitor.py\", line 118, in _start\n",
      "    asset.start()\n",
      "  File \"/usr/local/lib/python3.8/dist-packages/wandb/sdk/internal/system/assets/disk.py\", line 76, in start\n",
      "    self.metrics_monitor.start()\n",
      "  File \"/usr/local/lib/python3.8/dist-packages/wandb/sdk/internal/system/assets/interfaces.py\", line 168, in start\n",
      "    logger.info(f\"Started {self._process.name}\")\n",
      "AttributeError: 'NoneType' object has no attribute 'name'\n"
     ]
    },
    {
     "name": "stdout",
     "output_type": "stream",
     "text": [
      "WARNING:tensorflow:From /usr/local/lib/python3.8/dist-packages/tensorflow/python/ops/nn_ops.py:5250: tensor_shape_from_node_def_name (from tensorflow.python.framework.graph_util_impl) is deprecated and will be removed in a future version.\n",
      "Instructions for updating:\n",
      "This API was designed for TensorFlow v1. See https://www.tensorflow.org/guide/migrate for instructions on how to migrate your code to TensorFlow v2.\n",
      "Epoch 1/100\n"
     ]
    },
    {
     "name": "stderr",
     "output_type": "stream",
     "text": [
      "2023-01-23 16:26:09.038589: I tensorflow/compiler/xla/stream_executor/cuda/cuda_gpu_executor.cc:967] could not open file to read NUMA node: /sys/bus/pci/devices/0000:26:00.0/numa_node\n",
      "Your kernel may have been built without NUMA support.\n",
      "2023-01-23 16:26:09.038640: I tensorflow/core/grappler/devices.cc:66] Number of eligible GPUs (core count >= 8, compute capability >= 0.0): 1\n",
      "2023-01-23 16:26:09.038795: I tensorflow/core/grappler/clusters/single_machine.cc:358] Starting new session\n",
      "2023-01-23 16:26:09.039370: I tensorflow/compiler/xla/stream_executor/cuda/cuda_gpu_executor.cc:967] could not open file to read NUMA node: /sys/bus/pci/devices/0000:26:00.0/numa_node\n",
      "Your kernel may have been built without NUMA support.\n",
      "2023-01-23 16:26:09.039652: I tensorflow/compiler/xla/stream_executor/cuda/cuda_gpu_executor.cc:967] could not open file to read NUMA node: /sys/bus/pci/devices/0000:26:00.0/numa_node\n",
      "Your kernel may have been built without NUMA support.\n",
      "2023-01-23 16:26:09.039975: I tensorflow/compiler/xla/stream_executor/cuda/cuda_gpu_executor.cc:967] could not open file to read NUMA node: /sys/bus/pci/devices/0000:26:00.0/numa_node\n",
      "Your kernel may have been built without NUMA support.\n",
      "2023-01-23 16:26:09.040372: I tensorflow/compiler/xla/stream_executor/cuda/cuda_gpu_executor.cc:967] could not open file to read NUMA node: /sys/bus/pci/devices/0000:26:00.0/numa_node\n",
      "Your kernel may have been built without NUMA support.\n",
      "2023-01-23 16:26:09.040384: I tensorflow/core/common_runtime/gpu/gpu_device.cc:1700] Could not identify NUMA node of platform GPU id 0, defaulting to 0.  Your kernel may not have been built with NUMA support.\n",
      "2023-01-23 16:26:09.040600: I tensorflow/compiler/xla/stream_executor/cuda/cuda_gpu_executor.cc:967] could not open file to read NUMA node: /sys/bus/pci/devices/0000:26:00.0/numa_node\n",
      "Your kernel may have been built without NUMA support.\n",
      "2023-01-23 16:26:09.040621: I tensorflow/core/common_runtime/gpu/gpu_device.cc:1613] Created device /job:localhost/replica:0/task:0/device:GPU:0 with 2075 MB memory:  -> device: 0, name: NVIDIA GeForce GTX 1650 SUPER, pci bus id: 0000:26:00.0, compute capability: 7.5\n",
      "/usr/local/lib/python3.8/dist-packages/keras/backend.py:5585: UserWarning: \"`sparse_categorical_crossentropy` received `from_logits=True`, but the `output` argument was produced by a Softmax activation and thus does not represent logits. Was this intended?\n",
      "  output, from_logits = _get_logits(\n",
      "2023-01-23 16:26:09.887893: E tensorflow/core/grappler/optimizers/meta_optimizer.cc:954] layout failed: INVALID_ARGUMENT: Size of values 0 does not match size of permutation 4 @ fanin shape insequential/dropout/dropout/SelectV2-2-TransposeNHWCToNCHW-LayoutOptimizer\n",
      "2023-01-23 16:26:10.471284: I tensorflow/compiler/xla/stream_executor/cuda/cuda_dnn.cc:428] Loaded cuDNN version 8100\n",
      "2023-01-23 16:26:12.006443: I tensorflow/compiler/xla/service/service.cc:173] XLA service 0x7f6c5247e700 initialized for platform CUDA (this does not guarantee that XLA will be used). Devices:\n",
      "2023-01-23 16:26:12.006497: I tensorflow/compiler/xla/service/service.cc:181]   StreamExecutor device (0): NVIDIA GeForce GTX 1650 SUPER, Compute Capability 7.5\n",
      "2023-01-23 16:26:12.011346: I tensorflow/compiler/mlir/tensorflow/utils/dump_mlir_util.cc:268] disabling MLIR crash reproducer, set env var `MLIR_CRASH_REPRODUCER_DIRECTORY` to enable.\n",
      "2023-01-23 16:26:12.124193: I tensorflow/compiler/jit/xla_compilation_cache.cc:477] Compiled cluster using XLA!  This line is logged at most once for the lifetime of the process.\n"
     ]
    },
    {
     "name": "stdout",
     "output_type": "stream",
     "text": [
      "3489/3489 [==============================] - 62s 17ms/step - loss: 0.8983 - accuracy: 0.7099 - val_loss: 0.5231 - val_accuracy: 0.8059\n",
      "Epoch 2/100\n",
      "3489/3489 [==============================] - 55s 16ms/step - loss: 0.6014 - accuracy: 0.7841 - val_loss: 0.4786 - val_accuracy: 0.8184\n",
      "Epoch 3/100\n",
      "3489/3489 [==============================] - 55s 16ms/step - loss: 0.5565 - accuracy: 0.7966 - val_loss: 0.4553 - val_accuracy: 0.8269\n",
      "Epoch 4/100\n",
      "3489/3489 [==============================] - 55s 16ms/step - loss: 0.5331 - accuracy: 0.8037 - val_loss: 0.4377 - val_accuracy: 0.8318\n",
      "Epoch 5/100\n",
      "3489/3489 [==============================] - 56s 16ms/step - loss: 0.5182 - accuracy: 0.8077 - val_loss: 0.4312 - val_accuracy: 0.8322\n",
      "Epoch 6/100\n",
      "3489/3489 [==============================] - 55s 16ms/step - loss: 0.5071 - accuracy: 0.8103 - val_loss: 0.4174 - val_accuracy: 0.8369\n",
      "Epoch 7/100\n",
      "3489/3489 [==============================] - 55s 16ms/step - loss: 0.4973 - accuracy: 0.8128 - val_loss: 0.4134 - val_accuracy: 0.8385\n",
      "Epoch 8/100\n",
      "3489/3489 [==============================] - 55s 16ms/step - loss: 0.4910 - accuracy: 0.8150 - val_loss: 0.4076 - val_accuracy: 0.8404\n",
      "Epoch 9/100\n",
      "3489/3489 [==============================] - 55s 16ms/step - loss: 0.4844 - accuracy: 0.8171 - val_loss: 0.3953 - val_accuracy: 0.8448\n",
      "Epoch 10/100\n",
      "3489/3489 [==============================] - 55s 16ms/step - loss: 0.4798 - accuracy: 0.8188 - val_loss: 0.3926 - val_accuracy: 0.8440\n",
      "Epoch 11/100\n",
      "3489/3489 [==============================] - 55s 16ms/step - loss: 0.4746 - accuracy: 0.8200 - val_loss: 0.3850 - val_accuracy: 0.8465\n",
      "Epoch 12/100\n",
      "3489/3489 [==============================] - 55s 16ms/step - loss: 0.4728 - accuracy: 0.8209 - val_loss: 0.3857 - val_accuracy: 0.8451\n",
      "Epoch 13/100\n",
      "3489/3489 [==============================] - 55s 16ms/step - loss: 0.4676 - accuracy: 0.8224 - val_loss: 0.3817 - val_accuracy: 0.8479\n",
      "Epoch 14/100\n",
      "3489/3489 [==============================] - 55s 16ms/step - loss: 0.4637 - accuracy: 0.8228 - val_loss: 0.3773 - val_accuracy: 0.8484\n",
      "Epoch 15/100\n",
      "3489/3489 [==============================] - 55s 16ms/step - loss: 0.4623 - accuracy: 0.8239 - val_loss: 0.3749 - val_accuracy: 0.8497\n",
      "Epoch 16/100\n",
      "3489/3489 [==============================] - 55s 16ms/step - loss: 0.4580 - accuracy: 0.8247 - val_loss: 0.3727 - val_accuracy: 0.8509\n",
      "Epoch 17/100\n",
      "3489/3489 [==============================] - 55s 16ms/step - loss: 0.4565 - accuracy: 0.8246 - val_loss: 0.3701 - val_accuracy: 0.8517\n",
      "Epoch 18/100\n",
      "3489/3489 [==============================] - 54s 16ms/step - loss: 0.4530 - accuracy: 0.8259 - val_loss: 0.3659 - val_accuracy: 0.8533\n",
      "Epoch 19/100\n",
      "3489/3489 [==============================] - 55s 16ms/step - loss: 0.4511 - accuracy: 0.8263 - val_loss: 0.3622 - val_accuracy: 0.8545\n",
      "Epoch 20/100\n",
      "3489/3489 [==============================] - 54s 16ms/step - loss: 0.4502 - accuracy: 0.8268 - val_loss: 0.3620 - val_accuracy: 0.8547\n",
      "Epoch 21/100\n",
      "3489/3489 [==============================] - 54s 15ms/step - loss: 0.4488 - accuracy: 0.8276 - val_loss: 0.3622 - val_accuracy: 0.8543\n",
      "Epoch 22/100\n",
      "3489/3489 [==============================] - 54s 15ms/step - loss: 0.4474 - accuracy: 0.8277 - val_loss: 0.3572 - val_accuracy: 0.8555\n",
      "Epoch 23/100\n",
      "3489/3489 [==============================] - 54s 15ms/step - loss: 0.4457 - accuracy: 0.8283 - val_loss: 0.3572 - val_accuracy: 0.8543\n",
      "Epoch 24/100\n",
      "3489/3489 [==============================] - 54s 15ms/step - loss: 0.4427 - accuracy: 0.8291 - val_loss: 0.3511 - val_accuracy: 0.8582\n",
      "Epoch 25/100\n",
      "3489/3489 [==============================] - 54s 15ms/step - loss: 0.4433 - accuracy: 0.8285 - val_loss: 0.3542 - val_accuracy: 0.8565\n",
      "Epoch 26/100\n",
      "3489/3489 [==============================] - 54s 15ms/step - loss: 0.4414 - accuracy: 0.8292 - val_loss: 0.3531 - val_accuracy: 0.8563\n",
      "Epoch 27/100\n",
      "3489/3489 [==============================] - 54s 15ms/step - loss: 0.4408 - accuracy: 0.8294 - val_loss: 0.3467 - val_accuracy: 0.8590\n",
      "Epoch 28/100\n",
      "3489/3489 [==============================] - 54s 15ms/step - loss: 0.4379 - accuracy: 0.8306 - val_loss: 0.3486 - val_accuracy: 0.8581\n",
      "Epoch 29/100\n",
      "3489/3489 [==============================] - 54s 15ms/step - loss: 0.4384 - accuracy: 0.8302 - val_loss: 0.3490 - val_accuracy: 0.8579\n",
      "Epoch 30/100\n",
      "3489/3489 [==============================] - 54s 15ms/step - loss: 0.4379 - accuracy: 0.8298 - val_loss: 0.3425 - val_accuracy: 0.8609\n",
      "Epoch 31/100\n",
      "3489/3489 [==============================] - 54s 15ms/step - loss: 0.4368 - accuracy: 0.8307 - val_loss: 0.3442 - val_accuracy: 0.8597\n",
      "Epoch 32/100\n",
      "3489/3489 [==============================] - 54s 15ms/step - loss: 0.4375 - accuracy: 0.8300 - val_loss: 0.3430 - val_accuracy: 0.8595\n",
      "Epoch 33/100\n",
      "3489/3489 [==============================] - 54s 15ms/step - loss: 0.4342 - accuracy: 0.8307 - val_loss: 0.3466 - val_accuracy: 0.8590\n",
      "Epoch 34/100\n",
      "3489/3489 [==============================] - 54s 15ms/step - loss: 0.4334 - accuracy: 0.8318 - val_loss: 0.3393 - val_accuracy: 0.8612\n",
      "Epoch 35/100\n",
      "3489/3489 [==============================] - 54s 15ms/step - loss: 0.4346 - accuracy: 0.8312 - val_loss: 0.3428 - val_accuracy: 0.8610\n",
      "Epoch 36/100\n",
      "3489/3489 [==============================] - 54s 15ms/step - loss: 0.4328 - accuracy: 0.8314 - val_loss: 0.3361 - val_accuracy: 0.8630\n",
      "Epoch 37/100\n",
      "3489/3489 [==============================] - 54s 15ms/step - loss: 0.4330 - accuracy: 0.8318 - val_loss: 0.3364 - val_accuracy: 0.8626\n",
      "Epoch 38/100\n",
      "3489/3489 [==============================] - 54s 15ms/step - loss: 0.4318 - accuracy: 0.8318 - val_loss: 0.3407 - val_accuracy: 0.8626\n",
      "Epoch 39/100\n",
      "3489/3489 [==============================] - 54s 15ms/step - loss: 0.4302 - accuracy: 0.8323 - val_loss: 0.3360 - val_accuracy: 0.8647\n",
      "Epoch 40/100\n",
      "3489/3489 [==============================] - 54s 15ms/step - loss: 0.4303 - accuracy: 0.8327 - val_loss: 0.3379 - val_accuracy: 0.8632\n",
      "Epoch 41/100\n",
      "3489/3489 [==============================] - 54s 15ms/step - loss: 0.4296 - accuracy: 0.8324 - val_loss: 0.3351 - val_accuracy: 0.8625\n",
      "Epoch 42/100\n",
      "3489/3489 [==============================] - 54s 15ms/step - loss: 0.4306 - accuracy: 0.8324 - val_loss: 0.3334 - val_accuracy: 0.8630\n",
      "Epoch 43/100\n",
      "3489/3489 [==============================] - 54s 15ms/step - loss: 0.4290 - accuracy: 0.8328 - val_loss: 0.3354 - val_accuracy: 0.8629\n",
      "Epoch 44/100\n",
      "3489/3489 [==============================] - 54s 15ms/step - loss: 0.4290 - accuracy: 0.8324 - val_loss: 0.3337 - val_accuracy: 0.8633\n",
      "Epoch 45/100\n",
      "3489/3489 [==============================] - 54s 15ms/step - loss: 0.4283 - accuracy: 0.8328 - val_loss: 0.3292 - val_accuracy: 0.8641\n",
      "Epoch 46/100\n",
      "3489/3489 [==============================] - 54s 15ms/step - loss: 0.4288 - accuracy: 0.8327 - val_loss: 0.3374 - val_accuracy: 0.8613\n",
      "Epoch 47/100\n",
      "3489/3489 [==============================] - 54s 15ms/step - loss: 0.4281 - accuracy: 0.8324 - val_loss: 0.3360 - val_accuracy: 0.8617\n",
      "Epoch 48/100\n",
      "3489/3489 [==============================] - 54s 15ms/step - loss: 0.4273 - accuracy: 0.8328 - val_loss: 0.3312 - val_accuracy: 0.8644\n",
      "Epoch 49/100\n",
      "3489/3489 [==============================] - 54s 15ms/step - loss: 0.4273 - accuracy: 0.8327 - val_loss: 0.3323 - val_accuracy: 0.8663\n",
      "Epoch 50/100\n",
      "3489/3489 [==============================] - 54s 15ms/step - loss: 0.4272 - accuracy: 0.8332 - val_loss: 0.3288 - val_accuracy: 0.8654\n",
      "Epoch 51/100\n",
      "3489/3489 [==============================] - 54s 15ms/step - loss: 0.4258 - accuracy: 0.8337 - val_loss: 0.3307 - val_accuracy: 0.8641\n",
      "Epoch 52/100\n",
      "3489/3489 [==============================] - 54s 15ms/step - loss: 0.4257 - accuracy: 0.8341 - val_loss: 0.3263 - val_accuracy: 0.8669\n",
      "Epoch 53/100\n",
      "3489/3489 [==============================] - 54s 15ms/step - loss: 0.4254 - accuracy: 0.8341 - val_loss: 0.3307 - val_accuracy: 0.8636\n",
      "Epoch 54/100\n",
      "3489/3489 [==============================] - 54s 15ms/step - loss: 0.4255 - accuracy: 0.8334 - val_loss: 0.3284 - val_accuracy: 0.8659\n",
      "Epoch 55/100\n",
      "3489/3489 [==============================] - 54s 15ms/step - loss: 0.4248 - accuracy: 0.8341 - val_loss: 0.3267 - val_accuracy: 0.8649\n",
      "Epoch 56/100\n",
      "3489/3489 [==============================] - 54s 15ms/step - loss: 0.4254 - accuracy: 0.8332 - val_loss: 0.3239 - val_accuracy: 0.8665\n",
      "Epoch 57/100\n",
      "3489/3489 [==============================] - 54s 15ms/step - loss: 0.4255 - accuracy: 0.8341 - val_loss: 0.3285 - val_accuracy: 0.8640\n",
      "Epoch 58/100\n",
      "3489/3489 [==============================] - 54s 15ms/step - loss: 0.4256 - accuracy: 0.8335 - val_loss: 0.3278 - val_accuracy: 0.8655\n",
      "Epoch 59/100\n",
      "3489/3489 [==============================] - 54s 15ms/step - loss: 0.4228 - accuracy: 0.8345 - val_loss: 0.3249 - val_accuracy: 0.8665\n",
      "Epoch 60/100\n",
      "3489/3489 [==============================] - 54s 15ms/step - loss: 0.4232 - accuracy: 0.8341 - val_loss: 0.3300 - val_accuracy: 0.8650\n",
      "Epoch 61/100\n",
      "3489/3489 [==============================] - 54s 15ms/step - loss: 0.4221 - accuracy: 0.8347 - val_loss: 0.3248 - val_accuracy: 0.8668\n",
      "Epoch 62/100\n",
      "3489/3489 [==============================] - 54s 15ms/step - loss: 0.4227 - accuracy: 0.8350 - val_loss: 0.3246 - val_accuracy: 0.8662\n",
      "Epoch 63/100\n",
      "3489/3489 [==============================] - 54s 15ms/step - loss: 0.4209 - accuracy: 0.8348 - val_loss: 0.3236 - val_accuracy: 0.8674\n",
      "Epoch 64/100\n",
      "3489/3489 [==============================] - 54s 15ms/step - loss: 0.4222 - accuracy: 0.8348 - val_loss: 0.3243 - val_accuracy: 0.8667\n",
      "Epoch 65/100\n",
      "3489/3489 [==============================] - 54s 15ms/step - loss: 0.4204 - accuracy: 0.8356 - val_loss: 0.3211 - val_accuracy: 0.8677\n",
      "Epoch 66/100\n",
      "3489/3489 [==============================] - 54s 15ms/step - loss: 0.4219 - accuracy: 0.8345 - val_loss: 0.3200 - val_accuracy: 0.8682\n",
      "Epoch 67/100\n",
      "3489/3489 [==============================] - 54s 15ms/step - loss: 0.4206 - accuracy: 0.8350 - val_loss: 0.3194 - val_accuracy: 0.8680\n",
      "Epoch 68/100\n",
      "3489/3489 [==============================] - 54s 15ms/step - loss: 0.4219 - accuracy: 0.8346 - val_loss: 0.3190 - val_accuracy: 0.8699\n",
      "Epoch 69/100\n",
      "3489/3489 [==============================] - 54s 15ms/step - loss: 0.4209 - accuracy: 0.8344 - val_loss: 0.3233 - val_accuracy: 0.8673\n",
      "Epoch 70/100\n",
      "3489/3489 [==============================] - 54s 15ms/step - loss: 0.4209 - accuracy: 0.8340 - val_loss: 0.3193 - val_accuracy: 0.8680\n",
      "Epoch 71/100\n",
      "3489/3489 [==============================] - 54s 15ms/step - loss: 0.4215 - accuracy: 0.8345 - val_loss: 0.3206 - val_accuracy: 0.8689\n",
      "Epoch 72/100\n",
      "3489/3489 [==============================] - 54s 15ms/step - loss: 0.4221 - accuracy: 0.8346 - val_loss: 0.3207 - val_accuracy: 0.8676\n",
      "Epoch 73/100\n",
      "3489/3489 [==============================] - 54s 15ms/step - loss: 0.4204 - accuracy: 0.8357 - val_loss: 0.3257 - val_accuracy: 0.8666\n",
      "Epoch 74/100\n",
      "3489/3489 [==============================] - 54s 15ms/step - loss: 0.4205 - accuracy: 0.8350 - val_loss: 0.3241 - val_accuracy: 0.8684\n",
      "Epoch 75/100\n",
      "3489/3489 [==============================] - 54s 15ms/step - loss: 0.4199 - accuracy: 0.8354 - val_loss: 0.3237 - val_accuracy: 0.8675\n",
      "Epoch 76/100\n",
      "3489/3489 [==============================] - 54s 15ms/step - loss: 0.4205 - accuracy: 0.8355 - val_loss: 0.3190 - val_accuracy: 0.8681\n",
      "Epoch 77/100\n",
      "3489/3489 [==============================] - 54s 15ms/step - loss: 0.4221 - accuracy: 0.8344 - val_loss: 0.3204 - val_accuracy: 0.8687\n",
      "Epoch 78/100\n",
      "3489/3489 [==============================] - 54s 15ms/step - loss: 0.4188 - accuracy: 0.8352 - val_loss: 0.3206 - val_accuracy: 0.8677\n",
      "Epoch 79/100\n",
      "3489/3489 [==============================] - 54s 15ms/step - loss: 0.4195 - accuracy: 0.8355 - val_loss: 0.3170 - val_accuracy: 0.8691\n",
      "Epoch 80/100\n",
      "3489/3489 [==============================] - 54s 15ms/step - loss: 0.4189 - accuracy: 0.8354 - val_loss: 0.3250 - val_accuracy: 0.8681\n",
      "Epoch 81/100\n",
      "3489/3489 [==============================] - 54s 15ms/step - loss: 0.4201 - accuracy: 0.8353 - val_loss: 0.3201 - val_accuracy: 0.8699\n",
      "Epoch 82/100\n",
      "3489/3489 [==============================] - 54s 15ms/step - loss: 0.4206 - accuracy: 0.8349 - val_loss: 0.3160 - val_accuracy: 0.8704\n",
      "Epoch 83/100\n",
      "3489/3489 [==============================] - 54s 15ms/step - loss: 0.4192 - accuracy: 0.8351 - val_loss: 0.3121 - val_accuracy: 0.8708\n",
      "Epoch 84/100\n",
      "3489/3489 [==============================] - 54s 15ms/step - loss: 0.4186 - accuracy: 0.8356 - val_loss: 0.3126 - val_accuracy: 0.8731\n",
      "Epoch 85/100\n",
      "3489/3489 [==============================] - 54s 15ms/step - loss: 0.4199 - accuracy: 0.8349 - val_loss: 0.3164 - val_accuracy: 0.8695\n",
      "Epoch 86/100\n",
      "3489/3489 [==============================] - 54s 15ms/step - loss: 0.4203 - accuracy: 0.8351 - val_loss: 0.3206 - val_accuracy: 0.8693\n",
      "Epoch 87/100\n",
      "3489/3489 [==============================] - 54s 15ms/step - loss: 0.4185 - accuracy: 0.8357 - val_loss: 0.3114 - val_accuracy: 0.8712\n",
      "Epoch 88/100\n",
      "3489/3489 [==============================] - 54s 15ms/step - loss: 0.4169 - accuracy: 0.8357 - val_loss: 0.3108 - val_accuracy: 0.8705\n",
      "Epoch 89/100\n",
      "3489/3489 [==============================] - 54s 15ms/step - loss: 0.4181 - accuracy: 0.8353 - val_loss: 0.3131 - val_accuracy: 0.8711\n",
      "Epoch 90/100\n",
      "3489/3489 [==============================] - 54s 15ms/step - loss: 0.4190 - accuracy: 0.8357 - val_loss: 0.3215 - val_accuracy: 0.8683\n",
      "Epoch 91/100\n",
      "3489/3489 [==============================] - 54s 15ms/step - loss: 0.4178 - accuracy: 0.8358 - val_loss: 0.3145 - val_accuracy: 0.8715\n",
      "Epoch 92/100\n",
      "3489/3489 [==============================] - 54s 15ms/step - loss: 0.4175 - accuracy: 0.8359 - val_loss: 0.3193 - val_accuracy: 0.8690\n",
      "Epoch 93/100\n",
      "3489/3489 [==============================] - 54s 15ms/step - loss: 0.4167 - accuracy: 0.8361 - val_loss: 0.3108 - val_accuracy: 0.8715\n",
      "Epoch 94/100\n",
      "3489/3489 [==============================] - 54s 15ms/step - loss: 0.4172 - accuracy: 0.8362 - val_loss: 0.3262 - val_accuracy: 0.8683\n",
      "Epoch 95/100\n",
      "3489/3489 [==============================] - 54s 15ms/step - loss: 0.4167 - accuracy: 0.8362 - val_loss: 0.3096 - val_accuracy: 0.8720\n",
      "Epoch 96/100\n",
      "3489/3489 [==============================] - 54s 15ms/step - loss: 0.4176 - accuracy: 0.8355 - val_loss: 0.3166 - val_accuracy: 0.8694\n",
      "Epoch 97/100\n",
      "3489/3489 [==============================] - 55s 16ms/step - loss: 0.4177 - accuracy: 0.8353 - val_loss: 0.3128 - val_accuracy: 0.8716\n",
      "Epoch 98/100\n",
      "3489/3489 [==============================] - 55s 16ms/step - loss: 0.4178 - accuracy: 0.8359 - val_loss: 0.3145 - val_accuracy: 0.8713\n",
      "Epoch 99/100\n",
      "3489/3489 [==============================] - 54s 15ms/step - loss: 0.4160 - accuracy: 0.8363 - val_loss: 0.3106 - val_accuracy: 0.8712\n",
      "Epoch 100/100\n",
      "3489/3489 [==============================] - 54s 15ms/step - loss: 0.4156 - accuracy: 0.8362 - val_loss: 0.3111 - val_accuracy: 0.8721\n"
     ]
    }
   ],
   "source": [
    "ds_train = preprocess_dataset(ds_train, batch_size=bs)\n",
    "ds_val = preprocess_dataset(ds_val, batch_size=bs)\n",
    "ds_test = preprocess_dataset(ds_test, batch_size=bs, cache=False)\n",
    "\n",
    "'''\n",
    "The architecture of the concrete CNN is shown in Fig. 2.\n",
    "The input is a 32x32 binarized matrix. \n",
    "The input is then propagated through 12 adaptable layers. \n",
    "First come two convolutional layers having 32 filters with the size of 3x3 and stride 1.\n",
    "Secondly, the output of the convolutional layer is fed to the\n",
    "ReLU function. The output is down-sampled using a max-pool-\n",
    "ing operation with a 2x2 stride. Next, the dropout technique is\n",
    "used with the coefficient 0.25. The four operations (two con-\n",
    "volutions, nonlinearity, max-pooling, and dropout) are repeated,\n",
    "using 64 filters for the convolutional layers. The output of the\n",
    "last layer is then flattened and fed through a fully connected\n",
    "layer with 256 neurons and ReLU nonlinearities, dropped out\n",
    "with the 0.25 coefficient, and a final output layer is fully con-\n",
    "nected with a Softmax activation function. The Adam optimizer\n",
    "and the cross-entropy loss function were used in the network\n",
    "[24]. The output is a probability distribution over 89 classes.\n",
    "'''\n",
    "\n",
    "model = tf.keras.Sequential(\n",
    "    [\n",
    "        tf.keras.layers.InputLayer(input_shape=(32, 32, 1)),\n",
    "        \n",
    "        # 2 Convolutional layers with 32 filters, 3x3 size, and stride 1\n",
    "        tf.keras.layers.Conv2D(32, (3, 3), strides=1, activation='relu'),\n",
    "        tf.keras.layers.Conv2D(32, (3, 3), strides=1, activation='relu'),\n",
    "        \n",
    "        # Max-pooling operation with 2x2 stride\n",
    "        tf.keras.layers.MaxPooling2D(pool_size=(2, 2), strides=2),\n",
    "        # Dropout with coefficient 0.25\n",
    "        tf.keras.layers.Dropout(0.25),\n",
    "        \n",
    "        # Repeat above 4 operations using 64 filters\n",
    "        tf.keras.layers.Conv2D(64, (3, 3), strides=1, activation='relu'),\n",
    "        tf.keras.layers.Conv2D(64, (3, 3), strides=1, activation='relu'),\n",
    "        tf.keras.layers.MaxPooling2D(pool_size=(2, 2), strides=2),\n",
    "        tf.keras.layers.Dropout(0.25),\n",
    "        \n",
    "        # Flatten the output and feed through fully connected layer with 256 neurons\n",
    "        tf.keras.layers.Flatten(),\n",
    "        tf.keras.layers.Dense(256, activation='relu'),\n",
    "\n",
    "        # Dropout with coefficient 0.25\n",
    "        tf.keras.layers.Dropout(0.25),\n",
    "        tf.keras.layers.Dense(num_classes, activation=\"softmax\"),\n",
    "    ]\n",
    ")\n",
    "\n",
    "\n",
    "\n",
    "\n",
    "model.compile(\n",
    "    optimizer=\"adam\",\n",
    "    loss=tf.keras.losses.SparseCategoricalCrossentropy(from_logits=True),\n",
    "    metrics=[\"accuracy\"],\n",
    ")\n",
    "\n",
    "# save the best model\n",
    "checkpoint_callback = tf.keras.callbacks.ModelCheckpoint(\n",
    "    filepath=f\"./artifacts/{MODEL_NAME}.h5\",\n",
    "    save_weights_only=False,\n",
    "    monitor=\"val_accuracy\",\n",
    "    mode=\"max\",\n",
    "    save_best_only=True,\n",
    ")\n",
    "\n",
    "wandb_callback = wandb.keras.WandbCallback(\n",
    "    save_model=False,\n",
    "    compute_flops=True,\n",
    ")\n",
    "\n",
    "history = model.fit(\n",
    "    ds_train,\n",
    "    epochs=epochs,\n",
    "    validation_data=ds_val,\n",
    "    callbacks=[wandb_callback, checkpoint_callback],\n",
    ")"
   ]
  },
  {
   "cell_type": "code",
   "execution_count": 7,
   "metadata": {},
   "outputs": [
    {
     "data": {
      "image/png": "[encoded data removed]",
      "text/plain": [
       "<Figure size 1500x1000 with 1 Axes>"
      ]
     },
     "metadata": {},
     "output_type": "display_data"
    }
   ],
   "source": [
    "# plot history\n",
    "import matplotlib.pyplot as plt\n",
    "\n",
    "fig, ax = plt.subplots(1, 1, figsize=(15, 10))\n",
    "epochs = range(1, len(history.history[\"loss\"]) + 1)\n",
    "ax.plot(epochs, history.history[\"accuracy\"], label=\"accuracy\")\n",
    "ax.plot(epochs, history.history[\"val_accuracy\"], label=\"val_accuracy\")\n",
    "ax.set_xlabel(\"Epoch\")\n",
    "ax.set_ylabel(\"Accuracy\")\n",
    "ax.legend(loc=\"lower right\")\n",
    "\n",
    "plt.show()"
   ]
  },
  {
   "cell_type": "code",
   "execution_count": 11,
   "metadata": {},
   "outputs": [
    {
     "name": "stdout",
     "output_type": "stream",
     "text": [
      "['GFLOPs', 'graph', 'epoch', '_timestamp', 'loss', 'accuracy', 'val_loss', 'val_accuracy', '_runtime', '_step', 'best_val_loss', 'best_epoch']\n",
      "872/872 [==============================] - 5s 6ms/step - loss: 0.3126 - accuracy: 0.8720\n"
     ]
    }
   ],
   "source": [
    "# calculate model size on disk, flops and number of parameters\n",
    "\n",
    "flops = calculate_model_flops(wandb.run.summary)\n",
    "disk_size = calculate_model_size_on_disk(f\"./artifacts/{MODEL_NAME}.h5\")\n",
    "num_parameters = calculate_model_num_parameters(model)\n",
    "\n",
    "# evaluate model on ds_test and log to wandb\n",
    "test_loss, test_acc = model.evaluate(ds_test)\n",
    "\n",
    "wandb.log({\n",
    "    \"test loss\": test_loss, \n",
    "    \"test accuracy\": test_acc, \n",
    "    \"number of parameters\": num_parameters,\n",
    "    \"disk size\": disk_size, \n",
    "    \"model flops\": flops\n",
    "    })"
   ]
  },
  {
   "cell_type": "code",
   "execution_count": 12,
   "metadata": {},
   "outputs": [
    {
     "data": {
      "text/html": [
       "Waiting for W&B process to finish... <strong style=\"color:green\">(success).</strong>"
      ],
      "text/plain": [
       "<IPython.core.display.HTML object>"
      ]
     },
     "metadata": {},
     "output_type": "display_data"
    },
    {
     "data": {
      "text/html": [
       "<style>\n",
       "    table.wandb td:nth-child(1) { padding: 0 10px; text-align: left ; width: auto;} td:nth-child(2) {text-align: left ; width: 100%}\n",
       "    .wandb-row { display: flex; flex-direction: row; flex-wrap: wrap; justify-content: flex-start; width: 100% }\n",
       "    .wandb-col { display: flex; flex-direction: column; flex-basis: 100%; flex: 1; padding: 10px; }\n",
       "    </style>\n",
       "<div class=\"wandb-row\"><div class=\"wandb-col\"><h3>Run history:</h3><br/><table class=\"wandb\"><tr><td>accuracy</td><td>▁▆▇▇▇▇▇▇████████████████████████████████</td></tr><tr><td>disk size</td><td>▁</td></tr><tr><td>epoch</td><td>▁▁▁▁▂▂▂▂▂▃▃▃▃▃▃▄▄▄▄▄▅▅▅▅▅▅▆▆▆▆▆▇▇▇▇▇▇███</td></tr><tr><td>loss</td><td>█▃▂▂▂▂▂▂▁▁▁▁▁▁▁▁▁▁▁▁▁▁▁▁▁▁▁▁▁▁▁▁▁▁▁▁▁▁▁▁</td></tr><tr><td>model flops</td><td>▁</td></tr><tr><td>number of parameters</td><td>▁</td></tr><tr><td>test accuracy</td><td>▁</td></tr><tr><td>test loss</td><td>▁</td></tr><tr><td>val_accuracy</td><td>▁▃▄▅▅▅▆▆▆▆▆▆▇▇▇▇▇▇▇▇▇▇▇▇▇▇▇▇▇████████▇██</td></tr><tr><td>val_loss</td><td>█▆▅▄▃▃▃▃▃▃▂▂▂▂▂▂▂▂▂▂▂▂▁▁▁▁▁▁▁▁▁▁▁▁▁▁▁▁▁▁</td></tr></table><br/></div><div class=\"wandb-col\"><h3>Run summary:</h3><br/><table class=\"wandb\"><tr><td>GFLOPs</td><td>0.01431</td></tr><tr><td>accuracy</td><td>0.83625</td></tr><tr><td>best_epoch</td><td>94</td></tr><tr><td>best_val_loss</td><td>0.30961</td></tr><tr><td>disk size</td><td>6033532</td></tr><tr><td>epoch</td><td>99</td></tr><tr><td>loss</td><td>0.41559</td></tr><tr><td>model flops</td><td>0.01431</td></tr><tr><td>number of parameters</td><td>497721</td></tr><tr><td>test accuracy</td><td>0.87195</td></tr><tr><td>test loss</td><td>0.31263</td></tr><tr><td>val_accuracy</td><td>0.87205</td></tr><tr><td>val_loss</td><td>0.31113</td></tr></table><br/></div></div>"
      ],
      "text/plain": [
       "<IPython.core.display.HTML object>"
      ]
     },
     "metadata": {},
     "output_type": "display_data"
    },
    {
     "data": {
      "text/html": [
       " View run <strong style=\"color:#cdcd00\">baseline-phcd</strong> at: <a href=\"https://wandb.ai/gratkadlafana/master-thesis/runs/py3k4p1s\" target=\"_blank\">https://wandb.ai/gratkadlafana/master-thesis/runs/py3k4p1s</a><br/>Synced 5 W&B file(s), 1 media file(s), 1 artifact file(s) and 0 other file(s)"
      ],
      "text/plain": [
       "<IPython.core.display.HTML object>"
      ]
     },
     "metadata": {},
     "output_type": "display_data"
    },
    {
     "data": {
      "text/html": [
       "Find logs at: <code>./wandb/run-20230123_162604-py3k4p1s/logs</code>"
      ],
      "text/plain": [
       "<IPython.core.display.HTML object>"
      ]
     },
     "metadata": {},
     "output_type": "display_data"
    }
   ],
   "source": [
    "# save artifact to wandb\n",
    "artifact = wandb.Artifact(\n",
    "    name=MODEL_NAME,\n",
    "    type=\"model\"\n",
    ")\n",
    "\n",
    "# save best model to artifact\n",
    "artifact.add_file(f\"./artifacts/{MODEL_NAME}.h5\")\n",
    "run.log_artifact(artifact)\n",
    "run.finish()"
   ]
  }
 ],
 "metadata": {
  "kernelspec": {
   "display_name": "Python 3 (ipykernel)",
   "language": "python",
   "name": "python3"
  },
  "language_info": {
   "codemirror_mode": {
    "name": "ipython",
    "version": 3
   },
   "file_extension": ".py",
   "mimetype": "text/x-python",
   "name": "python",
   "nbconvert_exporter": "python",
   "pygments_lexer": "ipython3",
   "version": "3.8.10"
  },
  "vscode": {
   "interpreter": {
    "hash": "d798f8ad6d6c53bff9e7c2dca27b60374f042a436c567b9cf87bf4fc98c22b9c"
   }
  }
 },
 "nbformat": 4,
 "nbformat_minor": 4
}
