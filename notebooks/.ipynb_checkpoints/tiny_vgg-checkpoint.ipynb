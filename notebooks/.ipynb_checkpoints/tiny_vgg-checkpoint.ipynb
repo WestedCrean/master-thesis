{
 "cells": [
  {
   "cell_type": "markdown",
   "metadata": {},
   "source": [
    "# TinyVGG network\n",
    "\n",
    "This notebook trains the TinyVGG network \n",
    "\n",
    "After training, model is serialized and uploaded to W&B project."
   ]
  },
  {
   "cell_type": "code",
   "execution_count": 1,
   "metadata": {},
   "outputs": [
    {
     "name": "stderr",
     "output_type": "stream",
     "text": [
      "2023-01-23 18:32:35.525962: I tensorflow/core/platform/cpu_feature_guard.cc:193] This TensorFlow binary is optimized with oneAPI Deep Neural Network Library (oneDNN) to use the following CPU instructions in performance-critical operations:  AVX2 FMA\n",
      "To enable them in other operations, rebuild TensorFlow with the appropriate compiler flags.\n"
     ]
    }
   ],
   "source": [
    "import wandb\n",
    "import tensorflow as tf\n",
    "import numpy as np\n",
    "import pathlib\n",
    "import shutil\n",
    "from typing import List\n",
    "\n",
    "POSSIBLE_DATASET_OPTIONS = [\"uppercase_no_diacritics\", \"uppercase\", \"lowercase_no_diacritics\", \"lowercase\", \"numbers\", \"phcd_paper\"]\n",
    "\n",
    "def load_data(run, dataset_option = 'letters') -> List[tf.data.Dataset]:\n",
    "    \"\"\"\n",
    "    Downloads datasets from a wandb artifact and loads them into a list of tf.data.Datasets.\n",
    "    \"\"\"\n",
    "\n",
    "    artifact_name = f\"{dataset_option}_splits_tfds\"\n",
    "    artifact = run.use_artifact(f\"master-thesis/{artifact_name}:latest\")\n",
    "    artifact_dir = pathlib.Path(\n",
    "        f\"./artifacts/{artifact.name.replace(':', '-')}\"\n",
    "    ).resolve()\n",
    "    if not artifact_dir.exists():\n",
    "        artifact_dir = artifact.download()\n",
    "        artifact_dir = pathlib.Path(artifact_dir).resolve()\n",
    "\n",
    "    # if tf.__version__ minor is less than 10, use\n",
    "    # tf.data.experimental.load instead of tf.data.Dataset.load\n",
    "\n",
    "    if int(tf.__version__.split(\".\")[1]) < 10:\n",
    "        load_function = tf.data.experimental.load\n",
    "    else:\n",
    "        load_function = tf.data.Dataset.load\n",
    "    \n",
    "    output_list = []\n",
    "    for split in [\"train\", \"test\", \"val\"]:\n",
    "        ds = load_function(str(artifact_dir / split), compression=\"GZIP\")\n",
    "        output_list.append(ds)\n",
    "    \n",
    "    return output_list\n",
    "\n",
    "def get_number_of_classes(ds: tf.data.Dataset) -> int:\n",
    "    \"\"\"\n",
    "    Returns the number of classes in a dataset.\n",
    "    \"\"\"\n",
    "    labels_iterator= ds.map(lambda x, y: y).as_numpy_iterator()\n",
    "    labels = np.concatenate(list(labels_iterator))\n",
    "    return len(np.unique(labels))\n",
    "\n",
    "def preprocess_dataset(ds: tf.data.Dataset, batch_size: int, cache: bool = True) -> tf.data.Dataset:\n",
    "    ds = ds.map(lambda x, y: (tf.cast(x, tf.float32) / 255.0, y))  # normalize\n",
    "    ds = ds.unbatch().batch(batch_size)\n",
    "    if cache:\n",
    "        ds = ds.cache().prefetch(buffer_size=tf.data.AUTOTUNE)\n",
    "    return ds\n",
    "\n",
    "def calculate_model_size_on_disk(path: str) -> int:\n",
    "    return pathlib.Path(path).stat().st_size    \n",
    "\n",
    "def calculate_model_num_parameters(model: tf.keras.Model) -> int:\n",
    "    return model.count_params()\n",
    "\n",
    "def calculate_model_flops(summary) -> float:\n",
    "    # from run.summary get GFLOPs or GFLOPS whichever is available\n",
    "    if \"GFLOPs\" in summary:\n",
    "        return summary.get(\"GFLOPs\")\n",
    "    elif \"GFLOPS\" in summary:\n",
    "        return summary.get(\"GFLOPS\")\n",
    "\n",
    "class Terminate_slow_convergence(tf.keras.callbacks.Callback):\n",
    "    ACCURACY_THRESHOLD =  0.9\n",
    "    EPOCH = 6\n",
    "    MAX_VAL_ACCURACY_THRESHOLD = 0.9995\n",
    "\n",
    "    def on_epoch_end(self, epoch, logs={}):\n",
    "        \n",
    "        # if model is not converging fast, stop training\n",
    "        if(logs.get('accuracy') < self.ACCURACY_THRESHOLD and epoch > self.EPOCH):\n",
    "            print(f\"Model accuracy is {logs.get('accuracy')} and is below {self.ACCURACY_THRESHOLD} at epoch {epoch}. Terminating training.\")\n",
    "            self.model.stop_training = True\n",
    "            \n",
    "        # if model converged, stop training\n",
    "        if(logs.get('val_accuracy') >= self.MAX_VAL_ACCURACY_THRESHOLD and epoch > 2):\n",
    "            print(f\"Model reached max val_accuracy. Terminating training.\")\n",
    "            self.model.stop_training = True"
   ]
  },
  {
   "cell_type": "code",
   "execution_count": 2,
   "metadata": {},
   "outputs": [],
   "source": [
    "defaults = dict(\n",
    "    batch_size=32*4,\n",
    "    epochs=100,    \n",
    "    optimizer=\"adam\"\n",
    ")"
   ]
  },
  {
   "cell_type": "code",
   "execution_count": 3,
   "metadata": {},
   "outputs": [
    {
     "name": "stdout",
     "output_type": "stream",
     "text": [
      "Num GPUs Available:  1\n",
      "Available devices:  [PhysicalDevice(name='/physical_device:CPU:0', device_type='CPU'), PhysicalDevice(name='/physical_device:GPU:0', device_type='GPU')]\n"
     ]
    },
    {
     "name": "stderr",
     "output_type": "stream",
     "text": [
      "2023-01-23 18:32:39.392205: I tensorflow/compiler/xla/stream_executor/cuda/cuda_gpu_executor.cc:967] could not open file to read NUMA node: /sys/bus/pci/devices/0000:26:00.0/numa_node\n",
      "Your kernel may have been built without NUMA support.\n",
      "2023-01-23 18:32:39.411064: I tensorflow/compiler/xla/stream_executor/cuda/cuda_gpu_executor.cc:967] could not open file to read NUMA node: /sys/bus/pci/devices/0000:26:00.0/numa_node\n",
      "Your kernel may have been built without NUMA support.\n",
      "2023-01-23 18:32:39.411458: I tensorflow/compiler/xla/stream_executor/cuda/cuda_gpu_executor.cc:967] could not open file to read NUMA node: /sys/bus/pci/devices/0000:26:00.0/numa_node\n",
      "Your kernel may have been built without NUMA support.\n"
     ]
    }
   ],
   "source": [
    "print(\"Num GPUs Available: \", len(tf.config.experimental.list_physical_devices('GPU')))\n",
    "print(\"Available devices: \", tf.config.list_physical_devices())"
   ]
  },
  {
   "cell_type": "code",
   "execution_count": 4,
   "metadata": {},
   "outputs": [],
   "source": [
    "\n",
    "def train(dataset_subset, defaults, MODEL_NAME = \"TinyVGG\", job_type = \"training\"):\n",
    "    with wandb.init(project=\"master-thesis\", job_type=job_type, name=MODEL_NAME, config=defaults) as run:\n",
    "        filters = wandb.config.filters\n",
    "        ds_train, ds_test, ds_val = load_data(run, dataset_option=dataset_subset)\n",
    "\n",
    "        num_classes = get_number_of_classes(ds_val)\n",
    "        ds_train = preprocess_dataset(ds_train, batch_size=wandb.config.batch_size)\n",
    "        ds_val = preprocess_dataset(ds_val, batch_size=wandb.config.batch_size)\n",
    "        ds_test = preprocess_dataset(ds_test, batch_size=wandb.config.batch_size, cache=False)\n",
    "\n",
    "        model = tf.keras.Sequential(\n",
    "            [\n",
    "                tf.keras.layers.InputLayer(input_shape=(32, 32, 1)),\n",
    "\n",
    "                tf.keras.layers.Conv2D(filters,kernel_size=(3, 3), activation=\"relu\"),\n",
    "                tf.keras.layers.Conv2D(filters,kernel_size=(3, 3), activation=\"relu\"),\n",
    "                tf.keras.layers.MaxPooling2D(pool_size=(2, 2)),\n",
    "\n",
    "                tf.keras.layers.Conv2D(filters,kernel_size=(3, 3), activation=\"relu\"),\n",
    "                tf.keras.layers.Conv2D(filters,kernel_size=(3, 3), activation=\"relu\"),\n",
    "                tf.keras.layers.MaxPooling2D(pool_size=(2, 2)),\n",
    "\n",
    "                tf.keras.layers.Flatten(),\n",
    "                tf.keras.layers.Dense(num_classes, activation=\"softmax\"),\n",
    "            ]\n",
    "        )\n",
    "\n",
    "        model.compile(\n",
    "            optimizer=\"adam\",\n",
    "            loss=tf.keras.losses.SparseCategoricalCrossentropy(from_logits=True),\n",
    "            metrics=[\"accuracy\"],\n",
    "        )\n",
    "\n",
    "        # save the best model\n",
    "        checkpoint_callback = tf.keras.callbacks.ModelCheckpoint(\n",
    "            filepath=f\"./artifacts/{dataset_subset}-{MODEL_NAME}.h5\",\n",
    "            save_weights_only=False,\n",
    "            monitor=\"val_accuracy\",\n",
    "            mode=\"max\",\n",
    "            save_best_only=True,\n",
    "        )\n",
    "\n",
    "        wandb_callback = wandb.keras.WandbCallback(\n",
    "            save_model=False,\n",
    "            compute_flops=True,\n",
    "        )\n",
    "\n",
    "        history = model.fit(\n",
    "            ds_train,\n",
    "            epochs=wandb.config.epochs,\n",
    "            validation_data=ds_val,\n",
    "            callbacks=[wandb_callback, checkpoint_callback],\n",
    "        )\n",
    "\n",
    "        # calculate model size on disk, flops and number of parameters\n",
    "\n",
    "        flops = calculate_model_flops(wandb.run.summary)\n",
    "        disk_size = calculate_model_size_on_disk(f\"./artifacts/{dataset_subset}-{MODEL_NAME}.h5\")\n",
    "        num_parameters = calculate_model_num_parameters(model)\n",
    "\n",
    "        # evaluate model on ds_test and log to wandb\n",
    "        test_loss, test_acc = model.evaluate(ds_test)\n",
    "\n",
    "        wandb.log({\n",
    "            \"dataset subset\": dataset_subset,\n",
    "            \"test loss\": test_loss, \n",
    "            \"test accuracy\": test_acc, \n",
    "            \"number of parameters\": num_parameters,\n",
    "            \"disk size\": disk_size, \n",
    "            \"model flops\": flops\n",
    "            })\n",
    "\n",
    "        # save artifact to wandb\n",
    "        artifact = wandb.Artifact(\n",
    "            name=f\"{dataset_subset}-{MODEL_NAME}\",\n",
    "            type=\"model\"\n",
    "        )\n",
    "\n",
    "        # save best model to artifact\n",
    "        artifact.add_file(f\"./artifacts/{dataset_subset}-{MODEL_NAME}.h5\")\n",
    "        run.log_artifact(artifact)\n",
    "        run.finish()"
   ]
  },
  {
   "cell_type": "code",
   "execution_count": 6,
   "metadata": {},
   "outputs": [
    {
     "name": "stderr",
     "output_type": "stream",
     "text": [
      "Failed to detect the name of this notebook, you can set it manually with the WANDB_NOTEBOOK_NAME environment variable to enable code saving.\n",
      "\u001b[34m\u001b[1mwandb\u001b[0m: Currently logged in as: \u001b[33mgratkadlafana\u001b[0m. Use \u001b[1m`wandb login --relogin`\u001b[0m to force relogin\n"
     ]
    },
    {
     "data": {
      "text/html": [
       "Tracking run with wandb version 0.13.9"
      ],
      "text/plain": [
       "<IPython.core.display.HTML object>"
      ]
     },
     "metadata": {},
     "output_type": "display_data"
    },
    {
     "data": {
      "text/html": [
       "Run data is saved locally in <code>/workspace/notebooks/wandb/run-20230123_183314-oe5z3cq9</code>"
      ],
      "text/plain": [
       "<IPython.core.display.HTML object>"
      ]
     },
     "metadata": {},
     "output_type": "display_data"
    },
    {
     "data": {
      "text/html": [
       "Syncing run <strong><a href=\"https://wandb.ai/gratkadlafana/master-thesis/runs/oe5z3cq9\" target=\"_blank\">TinyVGG</a></strong> to <a href=\"https://wandb.ai/gratkadlafana/master-thesis\" target=\"_blank\">Weights & Biases</a> (<a href=\"https://wandb.me/run\" target=\"_blank\">docs</a>)<br/>"
      ],
      "text/plain": [
       "<IPython.core.display.HTML object>"
      ]
     },
     "metadata": {},
     "output_type": "display_data"
    },
    {
     "data": {
      "text/html": [
       " View project at <a href=\"https://wandb.ai/gratkadlafana/master-thesis\" target=\"_blank\">https://wandb.ai/gratkadlafana/master-thesis</a>"
      ],
      "text/plain": [
       "<IPython.core.display.HTML object>"
      ]
     },
     "metadata": {},
     "output_type": "display_data"
    },
    {
     "data": {
      "text/html": [
       " View run at <a href=\"https://wandb.ai/gratkadlafana/master-thesis/runs/oe5z3cq9\" target=\"_blank\">https://wandb.ai/gratkadlafana/master-thesis/runs/oe5z3cq9</a>"
      ],
      "text/plain": [
       "<IPython.core.display.HTML object>"
      ]
     },
     "metadata": {},
     "output_type": "display_data"
    },
    {
     "name": "stderr",
     "output_type": "stream",
     "text": [
      "\u001b[34m\u001b[1mwandb\u001b[0m: Downloading large artifact phcd_paper_splits_tfds:latest, 163.87MB. 27 files... \n",
      "\u001b[34m\u001b[1mwandb\u001b[0m:   27 of 27 files downloaded.  \n",
      "Done. 0:0:0.0\n",
      "2023-01-23 18:33:16.847514: I tensorflow/core/platform/cpu_feature_guard.cc:193] This TensorFlow binary is optimized with oneAPI Deep Neural Network Library (oneDNN) to use the following CPU instructions in performance-critical operations:  AVX2 FMA\n",
      "To enable them in other operations, rebuild TensorFlow with the appropriate compiler flags.\n"
     ]
    },
    {
     "name": "stdout",
     "output_type": "stream",
     "text": [
      "WARNING:tensorflow:From /usr/local/lib/python3.8/dist-packages/tensorflow/python/autograph/pyct/static_analysis/liveness.py:83: Analyzer.lamba_check (from tensorflow.python.autograph.pyct.static_analysis.liveness) is deprecated and will be removed after 2023-09-23.\n",
      "Instructions for updating:\n",
      "Lambda fuctions will be no more assumed to be used in the statement where they are used, or at least in the same block. https://github.com/tensorflow/tensorflow/issues/56089\n"
     ]
    },
    {
     "name": "stderr",
     "output_type": "stream",
     "text": [
      "2023-01-23 18:33:16.848295: I tensorflow/compiler/xla/stream_executor/cuda/cuda_gpu_executor.cc:967] could not open file to read NUMA node: /sys/bus/pci/devices/0000:26:00.0/numa_node\n",
      "Your kernel may have been built without NUMA support.\n",
      "2023-01-23 18:33:16.848533: I tensorflow/compiler/xla/stream_executor/cuda/cuda_gpu_executor.cc:967] could not open file to read NUMA node: /sys/bus/pci/devices/0000:26:00.0/numa_node\n",
      "Your kernel may have been built without NUMA support.\n",
      "2023-01-23 18:33:16.848706: I tensorflow/compiler/xla/stream_executor/cuda/cuda_gpu_executor.cc:967] could not open file to read NUMA node: /sys/bus/pci/devices/0000:26:00.0/numa_node\n",
      "Your kernel may have been built without NUMA support.\n",
      "2023-01-23 18:33:17.929945: I tensorflow/compiler/xla/stream_executor/cuda/cuda_gpu_executor.cc:967] could not open file to read NUMA node: /sys/bus/pci/devices/0000:26:00.0/numa_node\n",
      "Your kernel may have been built without NUMA support.\n",
      "2023-01-23 18:33:17.930638: I tensorflow/compiler/xla/stream_executor/cuda/cuda_gpu_executor.cc:967] could not open file to read NUMA node: /sys/bus/pci/devices/0000:26:00.0/numa_node\n",
      "Your kernel may have been built without NUMA support.\n",
      "2023-01-23 18:33:17.930651: I tensorflow/core/common_runtime/gpu/gpu_device.cc:1700] Could not identify NUMA node of platform GPU id 0, defaulting to 0.  Your kernel may not have been built with NUMA support.\n",
      "2023-01-23 18:33:17.930922: I tensorflow/compiler/xla/stream_executor/cuda/cuda_gpu_executor.cc:967] could not open file to read NUMA node: /sys/bus/pci/devices/0000:26:00.0/numa_node\n",
      "Your kernel may have been built without NUMA support.\n",
      "2023-01-23 18:33:17.931254: I tensorflow/core/common_runtime/gpu/gpu_device.cc:1613] Created device /job:localhost/replica:0/task:0/device:GPU:0 with 2075 MB memory:  -> device: 0, name: NVIDIA GeForce GTX 1650 SUPER, pci bus id: 0000:26:00.0, compute capability: 7.5\n"
     ]
    },
    {
     "name": "stdout",
     "output_type": "stream",
     "text": [
      "WARNING:tensorflow:From /usr/local/lib/python3.8/dist-packages/tensorflow/python/ops/nn_ops.py:5250: tensor_shape_from_node_def_name (from tensorflow.python.framework.graph_util_impl) is deprecated and will be removed in a future version.\n",
      "Instructions for updating:\n",
      "This API was designed for TensorFlow v1. See https://www.tensorflow.org/guide/migrate for instructions on how to migrate your code to TensorFlow v2.\n",
      "Epoch 1/100\n"
     ]
    },
    {
     "name": "stderr",
     "output_type": "stream",
     "text": [
      "2023-01-23 18:33:18.962742: I tensorflow/compiler/xla/stream_executor/cuda/cuda_gpu_executor.cc:967] could not open file to read NUMA node: /sys/bus/pci/devices/0000:26:00.0/numa_node\n",
      "Your kernel may have been built without NUMA support.\n",
      "2023-01-23 18:33:18.962793: I tensorflow/core/grappler/devices.cc:66] Number of eligible GPUs (core count >= 8, compute capability >= 0.0): 1\n",
      "2023-01-23 18:33:18.962971: I tensorflow/core/grappler/clusters/single_machine.cc:358] Starting new session\n",
      "2023-01-23 18:33:18.963784: I tensorflow/compiler/xla/stream_executor/cuda/cuda_gpu_executor.cc:967] could not open file to read NUMA node: /sys/bus/pci/devices/0000:26:00.0/numa_node\n",
      "Your kernel may have been built without NUMA support.\n",
      "2023-01-23 18:33:18.963991: I tensorflow/compiler/xla/stream_executor/cuda/cuda_gpu_executor.cc:967] could not open file to read NUMA node: /sys/bus/pci/devices/0000:26:00.0/numa_node\n",
      "Your kernel may have been built without NUMA support.\n",
      "2023-01-23 18:33:18.964230: I tensorflow/compiler/xla/stream_executor/cuda/cuda_gpu_executor.cc:967] could not open file to read NUMA node: /sys/bus/pci/devices/0000:26:00.0/numa_node\n",
      "Your kernel may have been built without NUMA support.\n",
      "2023-01-23 18:33:18.964563: I tensorflow/compiler/xla/stream_executor/cuda/cuda_gpu_executor.cc:967] could not open file to read NUMA node: /sys/bus/pci/devices/0000:26:00.0/numa_node\n",
      "Your kernel may have been built without NUMA support.\n",
      "2023-01-23 18:33:18.964578: I tensorflow/core/common_runtime/gpu/gpu_device.cc:1700] Could not identify NUMA node of platform GPU id 0, defaulting to 0.  Your kernel may not have been built with NUMA support.\n",
      "2023-01-23 18:33:18.964810: I tensorflow/compiler/xla/stream_executor/cuda/cuda_gpu_executor.cc:967] could not open file to read NUMA node: /sys/bus/pci/devices/0000:26:00.0/numa_node\n",
      "Your kernel may have been built without NUMA support.\n",
      "2023-01-23 18:33:18.964832: I tensorflow/core/common_runtime/gpu/gpu_device.cc:1613] Created device /job:localhost/replica:0/task:0/device:GPU:0 with 2075 MB memory:  -> device: 0, name: NVIDIA GeForce GTX 1650 SUPER, pci bus id: 0000:26:00.0, compute capability: 7.5\n",
      "/usr/local/lib/python3.8/dist-packages/keras/backend.py:5585: UserWarning: \"`sparse_categorical_crossentropy` received `from_logits=True`, but the `output` argument was produced by a Softmax activation and thus does not represent logits. Was this intended?\n",
      "  output, from_logits = _get_logits(\n",
      "2023-01-23 18:33:20.430794: I tensorflow/compiler/xla/stream_executor/cuda/cuda_dnn.cc:428] Loaded cuDNN version 8100\n",
      "2023-01-23 18:33:22.159490: I tensorflow/compiler/xla/service/service.cc:173] XLA service 0x1c817990 initialized for platform CUDA (this does not guarantee that XLA will be used). Devices:\n",
      "2023-01-23 18:33:22.159544: I tensorflow/compiler/xla/service/service.cc:181]   StreamExecutor device (0): NVIDIA GeForce GTX 1650 SUPER, Compute Capability 7.5\n",
      "2023-01-23 18:33:22.183156: I tensorflow/compiler/mlir/tensorflow/utils/dump_mlir_util.cc:268] disabling MLIR crash reproducer, set env var `MLIR_CRASH_REPRODUCER_DIRECTORY` to enable.\n",
      "2023-01-23 18:33:22.423119: I tensorflow/compiler/jit/xla_compilation_cache.cc:477] Compiled cluster using XLA!  This line is logged at most once for the lifetime of the process.\n"
     ]
    },
    {
     "name": "stdout",
     "output_type": "stream",
     "text": [
      "3489/3489 [==============================] - 59s 16ms/step - loss: 0.7830 - accuracy: 0.7454 - val_loss: 0.5580 - val_accuracy: 0.8022\n",
      "Epoch 2/100\n",
      "3489/3489 [==============================] - 49s 14ms/step - loss: 0.5475 - accuracy: 0.8034 - val_loss: 0.4990 - val_accuracy: 0.8191\n",
      "Epoch 3/100\n",
      "3489/3489 [==============================] - 49s 14ms/step - loss: 0.5029 - accuracy: 0.8158 - val_loss: 0.4750 - val_accuracy: 0.8253\n",
      "Epoch 4/100\n",
      "3489/3489 [==============================] - 48s 14ms/step - loss: 0.4766 - accuracy: 0.8238 - val_loss: 0.4564 - val_accuracy: 0.8298\n",
      "Epoch 5/100\n",
      "3489/3489 [==============================] - 47s 14ms/step - loss: 0.4579 - accuracy: 0.8296 - val_loss: 0.4459 - val_accuracy: 0.8325\n",
      "Epoch 6/100\n",
      "3489/3489 [==============================] - 48s 14ms/step - loss: 0.4435 - accuracy: 0.8342 - val_loss: 0.4331 - val_accuracy: 0.8359\n",
      "Epoch 7/100\n",
      "3489/3489 [==============================] - 47s 14ms/step - loss: 0.4316 - accuracy: 0.8384 - val_loss: 0.4227 - val_accuracy: 0.8387\n",
      "Epoch 8/100\n",
      "3488/3489 [============================>.] - ETA: 0s - loss: 0.4218 - accuracy: 0.8413Model accuracy is 0.8413069844245911 and is below 0.9 at epoch 7. Terminating training.\n",
      "3489/3489 [==============================] - 48s 14ms/step - loss: 0.4218 - accuracy: 0.8413 - val_loss: 0.4176 - val_accuracy: 0.8406\n"
     ]
    },
    {
     "data": {
      "text/html": [
       "Waiting for W&B process to finish... <strong style=\"color:red\">(failed 1).</strong> Press Control-C to abort syncing."
      ],
      "text/plain": [
       "<IPython.core.display.HTML object>"
      ]
     },
     "metadata": {},
     "output_type": "display_data"
    },
    {
     "data": {
      "text/html": [
       "<style>\n",
       "    table.wandb td:nth-child(1) { padding: 0 10px; text-align: left ; width: auto;} td:nth-child(2) {text-align: left ; width: 100%}\n",
       "    .wandb-row { display: flex; flex-direction: row; flex-wrap: wrap; justify-content: flex-start; width: 100% }\n",
       "    .wandb-col { display: flex; flex-direction: column; flex-basis: 100%; flex: 1; padding: 10px; }\n",
       "    </style>\n",
       "<div class=\"wandb-row\"><div class=\"wandb-col\"><h3>Run history:</h3><br/><table class=\"wandb\"><tr><td>accuracy</td><td>▁▅▆▇▇▇██</td></tr><tr><td>epoch</td><td>▁▂▃▄▅▆▇█</td></tr><tr><td>loss</td><td>█▃▃▂▂▁▁▁</td></tr><tr><td>val_accuracy</td><td>▁▄▅▆▇▇██</td></tr><tr><td>val_loss</td><td>█▅▄▃▂▂▁▁</td></tr></table><br/></div><div class=\"wandb-col\"><h3>Run summary:</h3><br/><table class=\"wandb\"><tr><td>GFLOPs</td><td>0.01527</td></tr><tr><td>accuracy</td><td>0.84131</td></tr><tr><td>best_epoch</td><td>7</td></tr><tr><td>best_val_loss</td><td>0.41763</td></tr><tr><td>epoch</td><td>7</td></tr><tr><td>loss</td><td>0.42181</td></tr><tr><td>val_accuracy</td><td>0.84064</td></tr><tr><td>val_loss</td><td>0.41763</td></tr></table><br/></div></div>"
      ],
      "text/plain": [
       "<IPython.core.display.HTML object>"
      ]
     },
     "metadata": {},
     "output_type": "display_data"
    },
    {
     "data": {
      "text/html": [
       " View run <strong style=\"color:#cdcd00\">TinyVGG</strong> at: <a href=\"https://wandb.ai/gratkadlafana/master-thesis/runs/oe5z3cq9\" target=\"_blank\">https://wandb.ai/gratkadlafana/master-thesis/runs/oe5z3cq9</a><br/>Synced 5 W&B file(s), 1 media file(s), 0 artifact file(s) and 0 other file(s)"
      ],
      "text/plain": [
       "<IPython.core.display.HTML object>"
      ]
     },
     "metadata": {},
     "output_type": "display_data"
    },
    {
     "data": {
      "text/html": [
       "Find logs at: <code>./wandb/run-20230123_183314-oe5z3cq9/logs</code>"
      ],
      "text/plain": [
       "<IPython.core.display.HTML object>"
      ]
     },
     "metadata": {},
     "output_type": "display_data"
    },
    {
     "ename": "KeyError",
     "evalue": "0",
     "output_type": "error",
     "traceback": [
      "\u001b[0;31m---------------------------------------------------------------------------\u001b[0m",
      "\u001b[0;31mKeyError\u001b[0m                                  Traceback (most recent call last)",
      "Cell \u001b[0;32mIn[6], line 2\u001b[0m\n\u001b[1;32m      1\u001b[0m defaults[\u001b[38;5;124m'\u001b[39m\u001b[38;5;124mfilters\u001b[39m\u001b[38;5;124m'\u001b[39m] \u001b[38;5;241m=\u001b[39m \u001b[38;5;241m40\u001b[39m\n\u001b[0;32m----> 2\u001b[0m \u001b[43mtrain\u001b[49m\u001b[43m(\u001b[49m\u001b[38;5;124;43m\"\u001b[39;49m\u001b[38;5;124;43mphcd_paper\u001b[39;49m\u001b[38;5;124;43m\"\u001b[39;49m\u001b[43m,\u001b[49m\u001b[43m \u001b[49m\u001b[43mdefaults\u001b[49m\u001b[43m)\u001b[49m\n",
      "Cell \u001b[0;32mIn[4], line 58\u001b[0m, in \u001b[0;36mtrain\u001b[0;34m(dataset_subset, defaults, MODEL_NAME, job_type)\u001b[0m\n\u001b[1;32m     49\u001b[0m history \u001b[38;5;241m=\u001b[39m model\u001b[38;5;241m.\u001b[39mfit(\n\u001b[1;32m     50\u001b[0m     ds_train,\n\u001b[1;32m     51\u001b[0m     epochs\u001b[38;5;241m=\u001b[39mwandb\u001b[38;5;241m.\u001b[39mconfig\u001b[38;5;241m.\u001b[39mepochs,\n\u001b[1;32m     52\u001b[0m     validation_data\u001b[38;5;241m=\u001b[39mds_val,\n\u001b[1;32m     53\u001b[0m     callbacks\u001b[38;5;241m=\u001b[39m[wandb_callback, checkpoint_callback, slow_convergence_callback],\n\u001b[1;32m     54\u001b[0m )\n\u001b[1;32m     56\u001b[0m \u001b[38;5;66;03m# calculate model size on disk, flops and number of parameters\u001b[39;00m\n\u001b[0;32m---> 58\u001b[0m flops \u001b[38;5;241m=\u001b[39m \u001b[43mcalculate_model_flops\u001b[49m\u001b[43m(\u001b[49m\u001b[43mwandb\u001b[49m\u001b[38;5;241;43m.\u001b[39;49m\u001b[43mrun\u001b[49m\u001b[38;5;241;43m.\u001b[39;49m\u001b[43msummary\u001b[49m\u001b[43m)\u001b[49m\n\u001b[1;32m     59\u001b[0m disk_size \u001b[38;5;241m=\u001b[39m calculate_model_size_on_disk(\u001b[38;5;124mf\u001b[39m\u001b[38;5;124m\"\u001b[39m\u001b[38;5;124m./artifacts/\u001b[39m\u001b[38;5;132;01m{\u001b[39;00mdataset_subset\u001b[38;5;132;01m}\u001b[39;00m\u001b[38;5;124m-\u001b[39m\u001b[38;5;132;01m{\u001b[39;00mMODEL_NAME\u001b[38;5;132;01m}\u001b[39;00m\u001b[38;5;124m.h5\u001b[39m\u001b[38;5;124m\"\u001b[39m)\n\u001b[1;32m     60\u001b[0m num_parameters \u001b[38;5;241m=\u001b[39m calculate_model_num_parameters(model)\n",
      "Cell \u001b[0;32mIn[1], line 62\u001b[0m, in \u001b[0;36mcalculate_model_flops\u001b[0;34m(summary)\u001b[0m\n\u001b[1;32m     60\u001b[0m \u001b[38;5;28;01mdef\u001b[39;00m \u001b[38;5;21mcalculate_model_flops\u001b[39m(summary) \u001b[38;5;241m-\u001b[39m\u001b[38;5;241m>\u001b[39m \u001b[38;5;28mfloat\u001b[39m:\n\u001b[1;32m     61\u001b[0m     \u001b[38;5;66;03m# from run.summary get GFLOPs or GFLOPS whichever is available\u001b[39;00m\n\u001b[0;32m---> 62\u001b[0m     \u001b[38;5;28;01mif\u001b[39;00m \u001b[38;5;124;43m\"\u001b[39;49m\u001b[38;5;124;43mGFLOPs\u001b[39;49m\u001b[38;5;124;43m\"\u001b[39;49m\u001b[43m \u001b[49m\u001b[38;5;129;43;01min\u001b[39;49;00m\u001b[43m \u001b[49m\u001b[43msummary\u001b[49m:\n\u001b[1;32m     63\u001b[0m         \u001b[38;5;28;01mreturn\u001b[39;00m summary\u001b[38;5;241m.\u001b[39mget(\u001b[38;5;124m\"\u001b[39m\u001b[38;5;124mGFLOPs\u001b[39m\u001b[38;5;124m\"\u001b[39m)\n\u001b[1;32m     64\u001b[0m     \u001b[38;5;28;01melif\u001b[39;00m \u001b[38;5;124m\"\u001b[39m\u001b[38;5;124mGFLOPS\u001b[39m\u001b[38;5;124m\"\u001b[39m \u001b[38;5;129;01min\u001b[39;00m summary:\n",
      "File \u001b[0;32m/usr/local/lib/python3.8/dist-packages/wandb/sdk/wandb_summary.py:33\u001b[0m, in \u001b[0;36mSummaryDict.__getitem__\u001b[0;34m(self, key)\u001b[0m\n\u001b[1;32m     32\u001b[0m \u001b[38;5;28;01mdef\u001b[39;00m \u001b[38;5;21m__getitem__\u001b[39m(\u001b[38;5;28mself\u001b[39m, key):\n\u001b[0;32m---> 33\u001b[0m     item \u001b[38;5;241m=\u001b[39m \u001b[38;5;28;43mself\u001b[39;49m\u001b[38;5;241;43m.\u001b[39;49m\u001b[43m_as_dict\u001b[49m\u001b[43m(\u001b[49m\u001b[43m)\u001b[49m\u001b[43m[\u001b[49m\u001b[43mkey\u001b[49m\u001b[43m]\u001b[49m\n\u001b[1;32m     35\u001b[0m     \u001b[38;5;28;01mif\u001b[39;00m \u001b[38;5;28misinstance\u001b[39m(item, \u001b[38;5;28mdict\u001b[39m):\n\u001b[1;32m     36\u001b[0m         \u001b[38;5;66;03m# this nested dict needs to be wrapped:\u001b[39;00m\n\u001b[1;32m     37\u001b[0m         wrapped_item \u001b[38;5;241m=\u001b[39m SummarySubDict()\n",
      "\u001b[0;31mKeyError\u001b[0m: 0"
     ]
    }
   ],
   "source": [
    "defaults['filters'] = 40\n",
    "train(\"phcd_paper\", defaults)"
   ]
  },
  {
   "cell_type": "markdown",
   "metadata": {},
   "source": [
    "# W&B Sweep"
   ]
  },
  {
   "cell_type": "code",
   "execution_count": null,
   "metadata": {},
   "outputs": [],
   "source": [
    "# define sweep parameters\n",
    "sweep_config = {\n",
    "    \"method\": \"bayes\",\n",
    "    \"metric\": {\n",
    "        \"goal\": \"maximize\", \n",
    "        \"name\": \"val_accuracy\"\n",
    "    },\n",
    "    \"parameters\": {\n",
    "        \"filters\": {\n",
    "            \"values\": [10, 20, 30, 40, 50, 60, 70, 89]\n",
    "        },\n",
    "        \"batch_size\": {\n",
    "            \"value\": 32*4\n",
    "        },\n",
    "        \"epochs\": {\n",
    "            \"value\": 100\n",
    "        },\n",
    "        \"optimizer\": {\n",
    "            \"value\": \"adam\"\n",
    "        }\n",
    "    },\n",
    "}\n",
    "\n",
    "\n",
    "# launch sweep controller\n",
    "#sweep_id = wandb.sweep(sweep_config, project=\"master-thesis\")"
   ]
  },
  {
   "cell_type": "code",
   "execution_count": null,
   "metadata": {},
   "outputs": [],
   "source": [
    "def sweep_fn():\n",
    "    train(\"phcd_paper\",None, job_type='sweep', MODEL_NAME=\"TinyVGG\")\n",
    "#wandb.agent(sweep_id, sweep_fn, count=15)"
   ]
  }
 ],
 "metadata": {
  "kernelspec": {
   "display_name": "Python 3 (ipykernel)",
   "language": "python",
   "name": "python3"
  },
  "language_info": {
   "codemirror_mode": {
    "name": "ipython",
    "version": 3
   },
   "file_extension": ".py",
   "mimetype": "text/x-python",
   "name": "python",
   "nbconvert_exporter": "python",
   "pygments_lexer": "ipython3",
   "version": "3.8.10"
  },
  "vscode": {
   "interpreter": {
    "hash": "d798f8ad6d6c53bff9e7c2dca27b60374f042a436c567b9cf87bf4fc98c22b9c"
   }
  }
 },
 "nbformat": 4,
 "nbformat_minor": 4
}
