{
    "cells": [
        {
            "attachments": {},
            "cell_type": "markdown",
            "metadata": {},
            "source": [
                "# Baseline network + hyperparameter sweep\n",
                "\n",
                "This notebook trains the baseline network with exact same architecture as the one in paper [Recognition of handwritten Latin characters with diacritics using CNN](https://journals.pan.pl/dlibra/publication/136210/edition/119099/content/bulletin-of-the-polish-academy-of-sciences-technical-sciences-recognition-of-handwritten-latin-characters-with-diacritics-using-cnn-lukasik-edyta-charytanowicz-malgorzata-milosz-marek-tokovarov-michail-kaczorowska-monika-czerwinski-dariusz-zientarski-tomasz-2021-69-no-1?language=en)\n",
                "\n",
                "Model architecture description:\n",
                "\n",
                "- Input layer (32x32 grayscale image) \n",
                "\n",
                "- feature extraction\n",
                "    - Conv2d (padding = 1, kernel = (3,3), stride = 1, activation = relu) \n",
                "    - MaxPool layer ( kernel=(2,2), stride=2) \n",
                "    - Conv2d layer (padding = 1, kernel = (3,3), stride = 1, activation = relu) \n",
                "    - MaxPool layer ( kernel=(2,2), stride=2) \n",
                "\n",
                "- dense layers\n",
                "    - Dense(5376)\n",
                "    - Dense(256)\n",
                "    - Dense( number of classes - here in paper 89 classes)\n",
                "\n",
                "\n",
                "\n",
                "\n",
                "After training, model is serialized and uploaded to W&B project."
            ]
        },
        {
            "cell_type": "code",
            "execution_count": 2,
            "metadata": {},
            "outputs": [],
            "source": [
                "import wandb\n",
                "import tensorflow as tf\n",
                "import numpy as np\n",
                "import pathlib\n",
                "import shutil\n",
                "from typing import List\n",
                "\n",
                "def load_data(run) -> List[tf.data.Dataset]:\n",
                "    \"\"\"\n",
                "    Downloads datasets from a wandb artifact and loads them into a list of tf.data.Datasets.\n",
                "    \"\"\"\n",
                "\n",
                "    artifact_name = f\"letters_splits_tfds\"\n",
                "    artifact = run.use_artifact(f\"master-thesis/{artifact_name}:latest\")\n",
                "    artifact_dir = pathlib.Path(\n",
                "        f\"./artifacts/{artifact.name.replace(':', '-')}\"\n",
                "    ).resolve()\n",
                "    if not artifact_dir.exists():\n",
                "        artifact_dir = artifact.download()\n",
                "        artifact_dir = pathlib.Path(artifact_dir).resolve()\n",
                "\n",
                "    # if tf.__version__ minor is less than 10, use\n",
                "    # tf.data.experimental.load instead of tf.data.Dataset.load\n",
                "\n",
                "    if int(tf.__version__.split(\".\")[1]) < 10:\n",
                "        load_function = tf.data.experimental.load\n",
                "    else:\n",
                "        load_function = tf.data.Dataset.load\n",
                "    \n",
                "    output_list = []\n",
                "    for split in [\"train\", \"test\", \"val\"]:\n",
                "        ds = load_function(str(artifact_dir / split), compression=\"GZIP\")\n",
                "        output_list.append(ds)\n",
                "    \n",
                "    return output_list\n",
                "\n",
                "def get_number_of_classes(ds: tf.data.Dataset) -> int:\n",
                "    \"\"\"\n",
                "    Returns the number of classes in a dataset.\n",
                "    \"\"\"\n",
                "    labels_iterator= ds.map(lambda x, y: y).as_numpy_iterator()\n",
                "    labels = np.concatenate(list(labels_iterator))\n",
                "    return len(np.unique(labels))\n",
                "\n",
                "def preprocess_dataset(ds: tf.data.Dataset, batch_size: int, cache: bool = True) -> tf.data.Dataset:\n",
                "    ds = ds.map(lambda x, y: (tf.cast(x, tf.float32) / 255.0, y))  # normalize\n",
                "    ds = ds.unbatch().batch(batch_size)\n",
                "    if cache:\n",
                "        ds = ds.cache().prefetch(buffer_size=tf.data.AUTOTUNE)\n",
                "    return ds\n",
                "\n",
                "def calculate_model_size_on_disk(path: str) -> int:\n",
                "    return pathlib.Path(path).stat().st_size    \n",
                "\n",
                "def calculate_model_num_parameters(model: tf.keras.Model) -> int:\n",
                "    return model.count_params()\n",
                "\n",
                "def calculate_model_flops(summary) -> float:\n",
                "    # from run.summary get GFLOPs or GFLOPS whichever is available\n",
                "    if \"GFLOPs\" in summary.keys():\n",
                "        return summary.get(\"GFLOPs\")\n",
                "    elif \"GFLOPS\" in summary.keys():\n",
                "        return summary.get(\"GFLOPS\")"
            ]
        },
        {
            "cell_type": "code",
            "execution_count": 3,
            "metadata": {},
            "outputs": [
                {
                    "name": "stdout",
                    "output_type": "stream",
                    "text": [
                        "Num GPUs Available:  0\n",
                        "Available devices:  [PhysicalDevice(name='/physical_device:CPU:0', device_type='CPU')]\n"
                    ]
                }
            ],
            "source": [
                "print(\"Num GPUs Available: \", len(tf.config.experimental.list_physical_devices('GPU')))\n",
                "print(\"Available devices: \", tf.config.list_physical_devices())"
            ]
        },
        {
            "cell_type": "code",
            "execution_count": null,
            "metadata": {},
            "outputs": [],
            "source": [
                "# Set mixed precision policy for faster training\n",
                "# tf.keras.mixed_precision.set_global_policy('mixed_float16')"
            ]
        },
        {
            "cell_type": "code",
            "execution_count": null,
            "metadata": {},
            "outputs": [],
            "source": [
                "def train(config=None):\n",
                "    with wandb.init(project=\"master-thesis\", job_type=\"sweep\", config=config, settings=wandb.Settings(start_method=\"thread\")) as run:\n",
                "        MODEL_NAME = run.name\n",
                "        # hyperparameters\n",
                "        opt_name = wandb.config.optimizer\n",
                "        lr = wandb.config.learning_rate\n",
                "        bs = wandb.config.batch_size\n",
                "        epochs = wandb.config.epochs\n",
                "\n",
                "        ds_train, ds_test, ds_val = load_data(run)\n",
                "\n",
                "        num_classes = get_number_of_classes(ds_val)\n",
                "        ds_train = preprocess_dataset(ds_train, batch_size=bs)\n",
                "        ds_val = preprocess_dataset(ds_val, batch_size=bs)\n",
                "        ds_test = preprocess_dataset(ds_test, batch_size=bs, cache=False)\n",
                "\n",
                "        filters = wandb.config.filters\n",
                "        padding = wandb.config.padding #\"same\" # or \"valid\"\n",
                "        max_pool = wandb.config.max_pool #False # or True\n",
                "        last_activation = wandb.config.last_activation # \"softmax\" # or None\n",
                "\n",
                "        model = tf.keras.Sequential([tf.keras.layers.InputLayer(input_shape=(32, 32, 1))])\n",
                "        \n",
                "        for filter in filters:\n",
                "            model.add(tf.keras.layers.Conv2D(filter, kernel_size=(3, 3), activation=\"relu\", padding=padding))\n",
                "            if max_pool:\n",
                "                model.add(tf.keras.layers.MaxPooling2D(pool_size=(2, 2)))\n",
                "\n",
                "        tf.keras.layers.Conv2D(num_classes, kernel_size=(3, 3), activation=last_activation),\n",
                "        tf.keras.layers.GlobalAveragePooling2D(),\n",
                "        tf.keras.layers.Activation(\"softmax\")\n",
                "\n",
                "\n",
                "        model.compile(\n",
                "            optimizer=\"adam\",\n",
                "            loss=\"sparse_categorical_crossentropy\",\n",
                "            metrics=[\"accuracy\"],\n",
                "        )\n",
                "\n",
                "        wandb_callback = wandb.keras.WandbCallback(\n",
                "            save_model=False,\n",
                "            compute_flops=True,\n",
                "        )\n",
                "\n",
                "        model.fit(\n",
                "            ds_train,\n",
                "            epochs=epochs,\n",
                "            validation_data=ds_val,\n",
                "            callbacks=[wandb_callback],\n",
                "        )"
            ]
        },
        {
            "cell_type": "code",
            "execution_count": null,
            "metadata": {},
            "outputs": [],
            "source": [
                "# define sweep parameters\n",
                "sweep_config = {\n",
                "    \"method\": \"random\",\n",
                "    \"metric\": {\n",
                "        \"goal\": \"maximize\", \n",
                "        \"name\": \"accuracy\"\n",
                "    },\n",
                "    \"parameters\": {\n",
                "        \"epochs\": {\"value\": 3},\n",
                "        \"filters\": {\"values\": [[8, 128], [16, 256], [32, 512],  [8, 128, 256], [16, 256, 512], [32, 512, 1024], [1024, 2048]]},\n",
                "        \"padding\": {\"values\": [\"same\", \"valid\"]},\n",
                "        \"last_activation\": {\"values\": [\"softmax\", None]},\n",
                "        \"max_pool\": {\"values\": [True, False]},\n",
                "        \n",
                "    },\n",
                "}\n",
                "\n",
                "\n",
                "# launch sweep controller\n",
                "sweep_id = wandb.sweep(sweep_config, project=\"master-thesis\")"
            ]
        },
        {
            "cell_type": "code",
            "execution_count": null,
            "metadata": {},
            "outputs": [],
            "source": [
                "wandb.agent(sweep_id, train, count=15)"
            ]
        }
    ],
    "metadata": {
        "kernelspec": {
            "display_name": "Python 3",
            "language": "python",
            "name": "python3"
        },
        "language_info": {
            "codemirror_mode": {
                "name": "ipython",
                "version": 3
            },
            "file_extension": ".py",
            "mimetype": "text/x-python",
            "name": "python",
            "nbconvert_exporter": "python",
            "pygments_lexer": "ipython3",
            "version": "3.10.4 (tags/v3.10.4:9d38120, Mar 23 2022, 23:13:41) [MSC v.1929 64 bit (AMD64)]"
        },
        "orig_nbformat": 4,
        "vscode": {
            "interpreter": {
                "hash": "df5f531b08a468c0a2a3591ee4fa2c1150ed1bbbe823daf85795b21510fb4a25"
            }
        }
    },
    "nbformat": 4,
    "nbformat_minor": 2
}
