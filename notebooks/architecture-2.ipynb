{
 "cells": [
  {
   "cell_type": "markdown",
   "metadata": {
    "id": "fRicHmH8vnLY"
   },
   "source": [
    "# Baseline network + pruning + quantization\n",
    "\n",
    "This notebook trains the baseline network with exact same architecture as the one in paper [Recognition of handwritten Latin characters with diacritics using CNN](https://journals.pan.pl/dlibra/publication/136210/edition/119099/content/bulletin-of-the-polish-academy-of-sciences-technical-sciences-recognition-of-handwritten-latin-characters-with-diacritics-using-cnn-lukasik-edyta-charytanowicz-malgorzata-milosz-marek-tokovarov-michail-kaczorowska-monika-czerwinski-dariusz-zientarski-tomasz-2021-69-no-1?language=en)\n",
    "\n",
    "Model architecture description:\n",
    "\n",
    "\"The architecture of the concrete CNN is shown in Fig. 2.\n",
    "The input is a 32x32 binarized matrix. The input is then prop-\n",
    "agated through 12 adaptable layers. First come two convolu-\n",
    "tional layers having 32 filters with the size of 3x3 and stride 1.\n",
    "Secondly, the output of the convolutional layer is fed to the\n",
    "ReLU function. The output is down-sampled using a max-pool-\n",
    "ing operation with a 2x2 stride. Next, the dropout technique is\n",
    "used with the coefficient 0.25. The four operations (two con-\n",
    "volutions, nonlinearity, max-pooling, and dropout) are repeated,\n",
    "using 64 filters for the convolutional layers. The output of the\n",
    "last layer is then flattened and fed through a fully connected\n",
    "layer with 256 neurons and ReLU nonlinearities, dropped out\n",
    "with the 0.25 coefficient, and a final output layer is fully con-\n",
    "nected with a Softmax activation function. The Adam optimizer\n",
    "and the cross-entropy loss function were used in the network. \n",
    "The output is a probability distribution over 89 classes.\"\n",
    "\n",
    "\n",
    "Additionally, this network was pruned and quantized after training.\n",
    "\n",
    "\n",
    "\n",
    "After training, model is serialized and uploaded to W&B project."
   ]
  },
  {
   "cell_type": "code",
   "execution_count": 1,
   "metadata": {},
   "outputs": [
    {
     "name": "stdout",
     "output_type": "stream",
     "text": [
      "Requirement already satisfied: tensorflow-model-optimization in /usr/local/lib/python3.8/dist-packages (0.7.3)\n",
      "Requirement already satisfied: dm-tree~=0.1.1 in /usr/local/lib/python3.8/dist-packages (from tensorflow-model-optimization) (0.1.8)\n",
      "Requirement already satisfied: numpy~=1.14 in /usr/local/lib/python3.8/dist-packages (from tensorflow-model-optimization) (1.23.4)\n",
      "Requirement already satisfied: six~=1.10 in /usr/lib/python3/dist-packages (from tensorflow-model-optimization) (1.14.0)\n",
      "\u001b[33mWARNING: Running pip as the 'root' user can result in broken permissions and conflicting behaviour with the system package manager. It is recommended to use a virtual environment instead: https://pip.pypa.io/warnings/venv\u001b[0m\u001b[33m\n",
      "\u001b[0m"
     ]
    }
   ],
   "source": [
    "! pip install tensorflow-model-optimization"
   ]
  },
  {
   "cell_type": "code",
   "execution_count": null,
   "metadata": {
    "id": "XhFWPE1BvnLZ"
   },
   "outputs": [
    {
     "name": "stderr",
     "output_type": "stream",
     "text": [
      "2023-02-03 13:11:51.219228: I tensorflow/core/platform/cpu_feature_guard.cc:193] This TensorFlow binary is optimized with oneAPI Deep Neural Network Library (oneDNN) to use the following CPU instructions in performance-critical operations:  AVX2 FMA\n",
      "To enable them in other operations, rebuild TensorFlow with the appropriate compiler flags.\n"
     ]
    }
   ],
   "source": [
    "import pathlib\n",
    "import shutil\n",
    "import os\n",
    "import time\n",
    "import datetime\n",
    "import numpy as np\n",
    "import wandb\n",
    "from wandb.keras import WandbCallback\n",
    "import tensorflow as tf\n",
    "import tensorflow_model_optimization as tfmot\n",
    "import matplotlib.pyplot as plt\n",
    "import zipfile\n",
    "\n",
    "from typing import List\n",
    "\n",
    "def load_data(run, artifact_name = \"phcd_paper_splits_tfds\") -> List[tf.data.Dataset]:\n",
    "    \"\"\"\n",
    "    Downloads datasets from a wandb artifact and loads them into a list of tf.data.Datasets.\n",
    "    \"\"\"\n",
    "\n",
    "    artifact = run.use_artifact(f\"master-thesis/{artifact_name}:latest\")\n",
    "    artifact_dir = pathlib.Path(\n",
    "        f\"./artifacts/{artifact.name.replace(':', '-')}\"\n",
    "    ).resolve()\n",
    "    if not artifact_dir.exists():\n",
    "        artifact_dir = artifact.download()\n",
    "        artifact_dir = pathlib.Path(artifact_dir).resolve()\n",
    "\n",
    "    # if tf.__version__ minor is less than 10, use\n",
    "    # tf.data.experimental.load instead of tf.data.Dataset.load\n",
    "\n",
    "    if int(tf.__version__.split(\".\")[1]) < 10:\n",
    "        load_function = tf.data.experimental.load\n",
    "    else:\n",
    "        load_function = tf.data.Dataset.load\n",
    "    \n",
    "    output_list = []\n",
    "    for split in [\"train\", \"test\", \"val\"]:\n",
    "        ds = load_function(str(artifact_dir / split), compression=\"GZIP\")\n",
    "        output_list.append(ds)\n",
    "    \n",
    "    return output_list\n",
    "\n",
    "def get_readable_class_labels(subset = 'phcd_paper'):\n",
    "    if subset == 'phcd_paper':\n",
    "        return ['0', '1', '2', '3', '4', '5', '6', '7', '8', '9', 'a', 'b', 'c',\n",
    "        'd', 'e', 'f', 'g', 'h', 'i', 'j', 'k', 'l', 'm', 'n', 'o', 'p',\n",
    "        'q', 'r', 's', 't', 'u', 'v', 'w', 'x', 'y', 'z', 'A', 'B', 'C',\n",
    "        'D', 'E', 'F', 'G', 'H', 'I', 'J', 'K', 'L', 'M', 'N', 'O', 'P',\n",
    "        'Q', 'R', 'S', 'T', 'U', 'V', 'W', 'X', 'Y', 'Z', 'ą', 'ć', 'ę',\n",
    "        'ł', 'ń', 'ó', 'ś', 'ź', 'ż', 'Ą', 'Ć', 'Ę', 'Ł', 'Ń', 'Ó', 'Ś',\n",
    "        'Ź', 'Ż', '+', '-', ':', ';', '$', '!', '?', '@', '.']\n",
    "    elif subset == 'uppercase':\n",
    "        return ['A', 'B', 'C', 'D', 'E', 'F', 'G', 'H', 'I', 'J', 'K', 'L', 'M', \n",
    "        'N', 'O', 'P', 'Q', 'R', 'S', 'T', 'U', 'V', 'W', 'X', 'Y', 'Z', 'Ą', 'Ć', \n",
    "        'Ę', 'Ł', 'Ń', 'Ó', 'Ś', 'Ź', 'Ż']\n",
    "    elif subset == 'lowercase':\n",
    "        return ['a', 'b', 'c', 'd', 'e', 'f', 'g', 'h', 'i', 'j', 'k', 'l', 'm',\n",
    "        'n', 'o', 'p', 'q', 'r', 's', 't', 'u', 'v', 'w', 'x', 'y', 'z', 'ą', 'ć',\n",
    "        'ę', 'ł', 'ń', 'ó', 'ś', 'ź', 'ż']\n",
    "    elif subset == 'numbers':\n",
    "        return ['0', '1', '2', '3', '4', '5', '6', '7', '8', '9']\n",
    "    elif subset == 'uppercase_no_diacritics':\n",
    "        return ['A', 'B', 'C', 'D', 'E', 'F', 'G', 'H', 'I', 'J', 'K', 'L', 'M',\n",
    "        'N', 'O', 'P', 'Q', 'R', 'S', 'T', 'U', 'V', 'W', 'X', 'Y', 'Z']\n",
    "    elif subset == 'lowercase_no_diacritics':\n",
    "        return ['a', 'b', 'c', 'd', 'e', 'f', 'g', 'h', 'i', 'j', 'k', 'l', 'm',\n",
    "        'n', 'o', 'p', 'q', 'r', 's', 't', 'u', 'v', 'w', 'x', 'y', 'z']\n",
    "\n",
    "def calculate_accuracy_per_class(model, test_dataset, test_dataset_name):\n",
    "    '''\n",
    "    Calculates the accuracy per class for a given model and test dataset.\n",
    "\n",
    "    Returns dict with class labels as keys and accuracy as values.\n",
    "    '''\n",
    "        \n",
    "    y_pred = model.predict(test_dataset)\n",
    "    y_pred = np.argmax(y_pred, axis=1)\n",
    "    # get labels\n",
    "    y_true = test_dataset.map(lambda x, y: y).as_numpy_iterator()\n",
    "    y_true = np.concatenate(list(y_true))\n",
    "    # calculate accuracy per class\n",
    "    labels = get_readable_class_labels(test_dataset_name)\n",
    "    class_accuracy = np.zeros(len(labels))\n",
    "    for i, label in enumerate(labels):\n",
    "        class_accuracy[i] = np.sum(y_pred[y_true == i] == i) / np.sum(y_true == i)\n",
    "    return { label: acc for label, acc in zip(labels, class_accuracy) }\n",
    "    \n",
    "\n",
    "def plot_accuracy_per_class(class_accuracy_dict):\n",
    "    plt.figure(figsize=(10, 5))\n",
    "    labels = list(class_accuracy_dict.keys())\n",
    "    class_accuracy = list(class_accuracy_dict.values())\n",
    "    plt.bar(labels, class_accuracy)\n",
    "    plt.xticks(labels)\n",
    "    plt.xlabel(\"Class\")\n",
    "    plt.ylabel(\"Accuracy\")\n",
    "    plt.title(\"Accuracy per class\")\n",
    "    plt.show()\n",
    "\n",
    "\n",
    "def accuracy_table(class_accuracy_dict):\n",
    "    labels = list(class_accuracy_dict.keys())\n",
    "    class_accuracy = list(class_accuracy_dict.values())\n",
    "    return wandb.Table(columns=[\"Class\", \"Accuracy\"], data=list(zip(labels, class_accuracy)))\n",
    "\n",
    "def get_number_of_classes(ds: tf.data.Dataset) -> int:\n",
    "    \"\"\"\n",
    "    Returns the number of classes in a dataset.\n",
    "    \"\"\"\n",
    "    labels_iterator= ds.map(lambda x, y: y).as_numpy_iterator()\n",
    "    labels = np.concatenate(list(labels_iterator))\n",
    "    return len(np.unique(labels))\n",
    "\n",
    "def get_number_of_examples(ds: tf.data.Dataset) -> int:\n",
    "    \"\"\"\n",
    "    Returns the number of examples in a dataset.\n",
    "    \"\"\"\n",
    "    return sum(1 for _ in ds)\n",
    "\n",
    "def preprocess_dataset(ds: tf.data.Dataset, batch_size: int, cache: bool = True) -> tf.data.Dataset:\n",
    "    ds = ds.map(lambda x, y: (tf.cast(x, tf.float32) / 255.0, y))  # normalize\n",
    "    ds = ds.unbatch().batch(batch_size)\n",
    "    if cache:\n",
    "        ds = ds.cache().prefetch(buffer_size=tf.data.AUTOTUNE)\n",
    "    return ds\n",
    "\n",
    "def calculate_model_compressed_size_on_disk(path: str) -> int:\n",
    "    compressed_path = path + \".zip\"\n",
    "    with zipfile.ZipFile(compressed_path, 'w', compression=zipfile.ZIP_DEFLATED) as f:\n",
    "        f.write(path)\n",
    "    return pathlib.Path(compressed_path).stat().st_size    \n",
    "\n",
    "def calculate_model_num_parameters(model: tf.keras.Model) -> int:\n",
    "    return model.count_params()\n",
    "\n",
    "def calculate_model_flops(summary) -> float:\n",
    "    # from run.summary get GFLOPs or GFLOPS whichever is available\n",
    "    if \"GFLOPs\" in summary.keys():\n",
    "        return summary.get(\"GFLOPs\")\n",
    "    elif \"GFLOPS\" in summary.keys():\n",
    "        return summary.get(\"GFLOPS\")\n",
    "    else:\n",
    "        return 0\n",
    "\n",
    "def calculate_model_throughput(model, test_dataset, batch_size) -> float:\n",
    "    '''\n",
    "    Calculates the average throughput of a model over 50 batch predictions of 100 batches, in images per second.\n",
    "    '''\n",
    "    output = []\n",
    "    for _ in range(50):\n",
    "        start = time.time()\n",
    "        model.predict(test_dataset.take(100))\n",
    "        end = time.time()\n",
    "        output.append((100 * batch_size) / (end - start))\n",
    "    return np.mean(output)\n",
    "\n",
    "def plot_history(history, title):\n",
    "    plt.figure(figsize=(15,7))\n",
    "    plt.suptitle(title)\n",
    "    \n",
    "    plt.subplot(121)\n",
    "    plt.plot(history.history['accuracy'], label='train')\n",
    "    plt.plot(history.history['val_accuracy'], label='val')\n",
    "    plt.ylabel('accuracy')\n",
    "    plt.xlabel('epoch')\n",
    "    plt.legend()\n",
    "    \n",
    "    plt.subplot(122)\n",
    "    plt.plot(history.history['loss'], label='train')\n",
    "    plt.plot(history.history['val_loss'], label='val')\n",
    "    plt.ylabel('loss')\n",
    "    plt.xlabel('epoch')\n",
    "    plt.legend()"
   ]
  },
  {
   "cell_type": "code",
   "execution_count": null,
   "metadata": {
    "id": "rgJaTJFlvnLb"
   },
   "outputs": [
    {
     "name": "stdout",
     "output_type": "stream",
     "text": [
      "Num GPUs Available:  1\n",
      "Available devices:  [PhysicalDevice(name='/physical_device:CPU:0', device_type='CPU'), PhysicalDevice(name='/physical_device:GPU:0', device_type='GPU')]\n"
     ]
    },
    {
     "name": "stderr",
     "output_type": "stream",
     "text": [
      "2023-02-03 13:11:53.533359: I tensorflow/compiler/xla/stream_executor/cuda/cuda_gpu_executor.cc:967] could not open file to read NUMA node: /sys/bus/pci/devices/0000:26:00.0/numa_node\n",
      "Your kernel may have been built without NUMA support.\n",
      "2023-02-03 13:11:53.536156: I tensorflow/compiler/xla/stream_executor/cuda/cuda_gpu_executor.cc:967] could not open file to read NUMA node: /sys/bus/pci/devices/0000:26:00.0/numa_node\n",
      "Your kernel may have been built without NUMA support.\n",
      "2023-02-03 13:11:53.536446: I tensorflow/compiler/xla/stream_executor/cuda/cuda_gpu_executor.cc:967] could not open file to read NUMA node: /sys/bus/pci/devices/0000:26:00.0/numa_node\n",
      "Your kernel may have been built without NUMA support.\n"
     ]
    }
   ],
   "source": [
    "print(\"Num GPUs Available: \", len(tf.config.experimental.list_physical_devices('GPU')))\n",
    "print(\"Available devices: \", tf.config.list_physical_devices())"
   ]
  },
  {
   "cell_type": "markdown",
   "metadata": {},
   "source": [
    "# Baseline model"
   ]
  },
  {
   "cell_type": "code",
   "execution_count": null,
   "metadata": {},
   "outputs": [
    {
     "name": "stderr",
     "output_type": "stream",
     "text": [
      "Failed to detect the name of this notebook, you can set it manually with the WANDB_NOTEBOOK_NAME environment variable to enable code saving.\n",
      "\u001b[34m\u001b[1mwandb\u001b[0m: Currently logged in as: \u001b[33mgratkadlafana\u001b[0m. Use \u001b[1m`wandb login --relogin`\u001b[0m to force relogin\n"
     ]
    },
    {
     "data": {
      "text/html": [
       "Tracking run with wandb version 0.13.9"
      ],
      "text/plain": [
       "<IPython.core.display.HTML object>"
      ]
     },
     "metadata": {},
     "output_type": "display_data"
    },
    {
     "data": {
      "text/html": [
       "Run data is saved locally in <code>/workspace/notebooks/wandb/run-20230203_131155-gwtojpq9</code>"
      ],
      "text/plain": [
       "<IPython.core.display.HTML object>"
      ]
     },
     "metadata": {},
     "output_type": "display_data"
    },
    {
     "data": {
      "text/html": [
       "Syncing run <strong><a href=\"https://wandb.ai/gratkadlafana/master-thesis/runs/gwtojpq9\" target=\"_blank\">architecture-2-uppercase</a></strong> to <a href=\"https://wandb.ai/gratkadlafana/master-thesis\" target=\"_blank\">Weights & Biases</a> (<a href=\"https://wandb.me/run\" target=\"_blank\">docs</a>)<br/>"
      ],
      "text/plain": [
       "<IPython.core.display.HTML object>"
      ]
     },
     "metadata": {},
     "output_type": "display_data"
    },
    {
     "data": {
      "text/html": [
       " View project at <a href=\"https://wandb.ai/gratkadlafana/master-thesis\" target=\"_blank\">https://wandb.ai/gratkadlafana/master-thesis</a>"
      ],
      "text/plain": [
       "<IPython.core.display.HTML object>"
      ]
     },
     "metadata": {},
     "output_type": "display_data"
    },
    {
     "data": {
      "text/html": [
       " View run at <a href=\"https://wandb.ai/gratkadlafana/master-thesis/runs/gwtojpq9\" target=\"_blank\">https://wandb.ai/gratkadlafana/master-thesis/runs/gwtojpq9</a>"
      ],
      "text/plain": [
       "<IPython.core.display.HTML object>"
      ]
     },
     "metadata": {},
     "output_type": "display_data"
    },
    {
     "name": "stderr",
     "output_type": "stream",
     "text": [
      "\u001b[34m\u001b[1mwandb\u001b[0m:   12 of 12 files downloaded.  \n",
      "2023-02-03 13:12:01.890091: I tensorflow/core/platform/cpu_feature_guard.cc:193] This TensorFlow binary is optimized with oneAPI Deep Neural Network Library (oneDNN) to use the following CPU instructions in performance-critical operations:  AVX2 FMA\n",
      "To enable them in other operations, rebuild TensorFlow with the appropriate compiler flags.\n"
     ]
    },
    {
     "name": "stdout",
     "output_type": "stream",
     "text": [
      "WARNING:tensorflow:From /usr/local/lib/python3.8/dist-packages/tensorflow/python/autograph/pyct/static_analysis/liveness.py:83: Analyzer.lamba_check (from tensorflow.python.autograph.pyct.static_analysis.liveness) is deprecated and will be removed after 2023-09-23.\n",
      "Instructions for updating:\n",
      "Lambda fuctions will be no more assumed to be used in the statement where they are used, or at least in the same block. https://github.com/tensorflow/tensorflow/issues/56089\n"
     ]
    },
    {
     "name": "stderr",
     "output_type": "stream",
     "text": [
      "2023-02-03 13:12:01.891139: I tensorflow/compiler/xla/stream_executor/cuda/cuda_gpu_executor.cc:967] could not open file to read NUMA node: /sys/bus/pci/devices/0000:26:00.0/numa_node\n",
      "Your kernel may have been built without NUMA support.\n",
      "2023-02-03 13:12:01.891410: I tensorflow/compiler/xla/stream_executor/cuda/cuda_gpu_executor.cc:967] could not open file to read NUMA node: /sys/bus/pci/devices/0000:26:00.0/numa_node\n",
      "Your kernel may have been built without NUMA support.\n",
      "2023-02-03 13:12:01.891667: I tensorflow/compiler/xla/stream_executor/cuda/cuda_gpu_executor.cc:967] could not open file to read NUMA node: /sys/bus/pci/devices/0000:26:00.0/numa_node\n",
      "Your kernel may have been built without NUMA support.\n",
      "2023-02-03 13:12:02.766558: I tensorflow/compiler/xla/stream_executor/cuda/cuda_gpu_executor.cc:967] could not open file to read NUMA node: /sys/bus/pci/devices/0000:26:00.0/numa_node\n",
      "Your kernel may have been built without NUMA support.\n",
      "2023-02-03 13:12:02.766833: I tensorflow/compiler/xla/stream_executor/cuda/cuda_gpu_executor.cc:967] could not open file to read NUMA node: /sys/bus/pci/devices/0000:26:00.0/numa_node\n",
      "Your kernel may have been built without NUMA support.\n",
      "2023-02-03 13:12:02.766846: I tensorflow/core/common_runtime/gpu/gpu_device.cc:1700] Could not identify NUMA node of platform GPU id 0, defaulting to 0.  Your kernel may not have been built with NUMA support.\n",
      "2023-02-03 13:12:02.767129: I tensorflow/compiler/xla/stream_executor/cuda/cuda_gpu_executor.cc:967] could not open file to read NUMA node: /sys/bus/pci/devices/0000:26:00.0/numa_node\n",
      "Your kernel may have been built without NUMA support.\n",
      "2023-02-03 13:12:02.767169: I tensorflow/core/common_runtime/gpu/gpu_device.cc:1613] Created device /job:localhost/replica:0/task:0/device:GPU:0 with 2075 MB memory:  -> device: 0, name: NVIDIA GeForce GTX 1650 SUPER, pci bus id: 0000:26:00.0, compute capability: 7.5\n"
     ]
    },
    {
     "name": "stdout",
     "output_type": "stream",
     "text": [
      "Model: \"sequential\"\n",
      "_________________________________________________________________\n",
      " Layer (type)                Output Shape              Param #   \n",
      "=================================================================\n",
      " conv2d (Conv2D)             (None, 32, 32, 32)        320       \n",
      "                                                                 \n",
      " max_pooling2d (MaxPooling2D  (None, 16, 16, 32)       0         \n",
      " )                                                               \n",
      "                                                                 \n",
      " conv2d_1 (Conv2D)           (None, 14, 14, 64)        18496     \n",
      "                                                                 \n",
      " max_pooling2d_1 (MaxPooling  (None, 7, 7, 64)         0         \n",
      " 2D)                                                             \n",
      "                                                                 \n",
      " flatten (Flatten)           (None, 3136)              0         \n",
      "                                                                 \n",
      " dense (Dense)               (None, 512)               1606144   \n",
      "                                                                 \n",
      " dense_1 (Dense)             (None, 256)               131328    \n",
      "                                                                 \n",
      " dense_2 (Dense)             (None, 35)                8995      \n",
      "                                                                 \n",
      "=================================================================\n",
      "Total params: 1,765,283\n",
      "Trainable params: 1,765,283\n",
      "Non-trainable params: 0\n",
      "_________________________________________________________________\n"
     ]
    }
   ],
   "source": [
    "defaults = dict(\n",
    "    batch_size=32*2,\n",
    "    epochs=60,    \n",
    "    optimizer=\"adam\"\n",
    ")\n",
    "\n",
    "artifact_base_name = \"phcd_paper\"\n",
    "model_name = f\"architecture-2-{artifact_base_name}\"\n",
    "artifact_name = f\"{artifact_base_name}_splits_tfds\" # \"phcd_paper_splits_tfds\n",
    "run = wandb.init(project=\"master-thesis\", job_type=\"training\", name=model_name, config=defaults, tags=[artifact_name])\n",
    "    \n",
    "# hyperparameters\n",
    "epochs = wandb.config.epochs\n",
    "bs = wandb.config.batch_size\n",
    "\n",
    "ds_train, ds_test, ds_val = load_data(run, artifact_name=artifact_name)\n",
    "\n",
    "num_classes = get_number_of_classes(ds_val)\n",
    "\n",
    "ds_train = preprocess_dataset(ds_train, batch_size=bs)\n",
    "ds_val = preprocess_dataset(ds_val, batch_size=bs)\n",
    "ds_test = preprocess_dataset(ds_test, batch_size=bs, cache=False)\n",
    "\n",
    "'''\n",
    "The architecture of the concrete CNN is shown in Fig. 2.\n",
    "The input is a 32x32 binarized matrix. \n",
    "The input is then propagated through 12 adaptable layers. \n",
    "First come two convolutional layers having 32 filters with the size of 3x3 and stride 1.\n",
    "Secondly, the output of the convolutional layer is fed to the\n",
    "ReLU function. The output is down-sampled using a max-pool-\n",
    "ing operation with a 2x2 stride. Next, the dropout technique is\n",
    "used with the coefficient 0.25. The four operations (two con-\n",
    "volutions, nonlinearity, max-pooling, and dropout) are repeated,\n",
    "using 64 filters for the convolutional layers. The output of the\n",
    "last layer is then flattened and fed through a fully connected\n",
    "layer with 256 neurons and ReLU nonlinearities, dropped out\n",
    "with the 0.25 coefficient, and a final output layer is fully con-\n",
    "nected with a Softmax activation function. The Adam optimizer\n",
    "and the cross-entropy loss function were used in the network\n",
    "[24]. The output is a probability distribution over 89 classes.\n",
    "'''\n",
    "\n",
    "model = tf.keras.Sequential([\n",
    "            tf.keras.layers.InputLayer(input_shape=(32, 32, 1)),\n",
    "            tf.keras.layers.Conv2D(32,kernel_size=(3, 3), activation=\"relu\", padding=\"same\"),\n",
    "            tf.keras.layers.MaxPooling2D(pool_size=(2, 2)),\n",
    "            tf.keras.layers.Conv2D(64, kernel_size=(3, 3), activation=\"relu\"),\n",
    "            tf.keras.layers.MaxPooling2D(pool_size=(2, 2)),\n",
    "            tf.keras.layers.Flatten(),\n",
    "            tf.keras.layers.Dense(256*2, activation=\"relu\"),\n",
    "            tf.keras.layers.Dense(256, activation=\"relu\"),\n",
    "            tf.keras.layers.Dense(num_classes, activation=\"softmax\"),\n",
    "            ]\n",
    "        )\n",
    "\n",
    "model.compile(\n",
    "    optimizer=\"adam\",\n",
    "    loss=tf.keras.losses.SparseCategoricalCrossentropy(from_logits=True),\n",
    "    metrics=[\"accuracy\"],\n",
    ")\n",
    "model.summary()"
   ]
  },
  {
   "cell_type": "code",
   "execution_count": null,
   "metadata": {},
   "outputs": [
    {
     "name": "stdout",
     "output_type": "stream",
     "text": [
      "WARNING:tensorflow:From /usr/local/lib/python3.8/dist-packages/tensorflow/python/ops/nn_ops.py:5250: tensor_shape_from_node_def_name (from tensorflow.python.framework.graph_util_impl) is deprecated and will be removed in a future version.\n",
      "Instructions for updating:\n",
      "This API was designed for TensorFlow v1. See https://www.tensorflow.org/guide/migrate for instructions on how to migrate your code to TensorFlow v2.\n",
      "Epoch 1/60\n"
     ]
    },
    {
     "name": "stderr",
     "output_type": "stream",
     "text": [
      "2023-02-03 13:12:03.506274: I tensorflow/compiler/xla/stream_executor/cuda/cuda_gpu_executor.cc:967] could not open file to read NUMA node: /sys/bus/pci/devices/0000:26:00.0/numa_node\n",
      "Your kernel may have been built without NUMA support.\n",
      "2023-02-03 13:12:03.506332: I tensorflow/core/grappler/devices.cc:66] Number of eligible GPUs (core count >= 8, compute capability >= 0.0): 1\n",
      "2023-02-03 13:12:03.506600: I tensorflow/core/grappler/clusters/single_machine.cc:358] Starting new session\n",
      "2023-02-03 13:12:03.507247: I tensorflow/compiler/xla/stream_executor/cuda/cuda_gpu_executor.cc:967] could not open file to read NUMA node: /sys/bus/pci/devices/0000:26:00.0/numa_node\n",
      "Your kernel may have been built without NUMA support.\n",
      "2023-02-03 13:12:03.507524: I tensorflow/compiler/xla/stream_executor/cuda/cuda_gpu_executor.cc:967] could not open file to read NUMA node: /sys/bus/pci/devices/0000:26:00.0/numa_node\n",
      "Your kernel may have been built without NUMA support.\n",
      "2023-02-03 13:12:03.507765: I tensorflow/compiler/xla/stream_executor/cuda/cuda_gpu_executor.cc:967] could not open file to read NUMA node: /sys/bus/pci/devices/0000:26:00.0/numa_node\n",
      "Your kernel may have been built without NUMA support.\n",
      "2023-02-03 13:12:03.508235: I tensorflow/compiler/xla/stream_executor/cuda/cuda_gpu_executor.cc:967] could not open file to read NUMA node: /sys/bus/pci/devices/0000:26:00.0/numa_node\n",
      "Your kernel may have been built without NUMA support.\n",
      "2023-02-03 13:12:03.508247: I tensorflow/core/common_runtime/gpu/gpu_device.cc:1700] Could not identify NUMA node of platform GPU id 0, defaulting to 0.  Your kernel may not have been built with NUMA support.\n",
      "2023-02-03 13:12:03.508619: I tensorflow/compiler/xla/stream_executor/cuda/cuda_gpu_executor.cc:967] could not open file to read NUMA node: /sys/bus/pci/devices/0000:26:00.0/numa_node\n",
      "Your kernel may have been built without NUMA support.\n",
      "2023-02-03 13:12:03.508642: I tensorflow/core/common_runtime/gpu/gpu_device.cc:1613] Created device /job:localhost/replica:0/task:0/device:GPU:0 with 2075 MB memory:  -> device: 0, name: NVIDIA GeForce GTX 1650 SUPER, pci bus id: 0000:26:00.0, compute capability: 7.5\n",
      "/usr/local/lib/python3.8/dist-packages/keras/backend.py:5585: UserWarning: \"`sparse_categorical_crossentropy` received `from_logits=True`, but the `output` argument was produced by a Softmax activation and thus does not represent logits. Was this intended?\n",
      "  output, from_logits = _get_logits(\n",
      "2023-02-03 13:12:04.826995: I tensorflow/compiler/xla/stream_executor/cuda/cuda_dnn.cc:428] Loaded cuDNN version 8100\n",
      "2023-02-03 13:12:06.102305: I tensorflow/compiler/xla/service/service.cc:173] XLA service 0x7f7d0c008860 initialized for platform CUDA (this does not guarantee that XLA will be used). Devices:\n",
      "2023-02-03 13:12:06.102371: I tensorflow/compiler/xla/service/service.cc:181]   StreamExecutor device (0): NVIDIA GeForce GTX 1650 SUPER, Compute Capability 7.5\n",
      "2023-02-03 13:12:06.112634: I tensorflow/compiler/mlir/tensorflow/utils/dump_mlir_util.cc:268] disabling MLIR crash reproducer, set env var `MLIR_CRASH_REPRODUCER_DIRECTORY` to enable.\n",
      "2023-02-03 13:12:06.239280: I tensorflow/compiler/jit/xla_compilation_cache.cc:477] Compiled cluster using XLA!  This line is logged at most once for the lifetime of the process.\n"
     ]
    },
    {
     "name": "stdout",
     "output_type": "stream",
     "text": [
      "2410/2410 [==============================] - 27s 10ms/step - loss: 0.3373 - accuracy: 0.9021 - val_loss: 0.1643 - val_accuracy: 0.9512\n",
      "Epoch 2/60\n",
      "2410/2410 [==============================] - 21s 9ms/step - loss: 0.1528 - accuracy: 0.9546 - val_loss: 0.1110 - val_accuracy: 0.9664\n",
      "Epoch 3/60\n",
      "2410/2410 [==============================] - 22s 9ms/step - loss: 0.1115 - accuracy: 0.9674 - val_loss: 0.0801 - val_accuracy: 0.9758\n",
      "Epoch 4/60\n",
      "2410/2410 [==============================] - 21s 9ms/step - loss: 0.0835 - accuracy: 0.9747 - val_loss: 0.0691 - val_accuracy: 0.9782\n",
      "Epoch 5/60\n",
      "2410/2410 [==============================] - 21s 9ms/step - loss: 0.0668 - accuracy: 0.9791 - val_loss: 0.0571 - val_accuracy: 0.9817\n",
      "Epoch 6/60\n",
      "2410/2410 [==============================] - 21s 9ms/step - loss: 0.0537 - accuracy: 0.9826 - val_loss: 0.0574 - val_accuracy: 0.9817\n",
      "Epoch 7/60\n",
      "2410/2410 [==============================] - 22s 9ms/step - loss: 0.0450 - accuracy: 0.9850 - val_loss: 0.0450 - val_accuracy: 0.9846\n",
      "Epoch 8/60\n",
      "2410/2410 [==============================] - 23s 9ms/step - loss: 0.0379 - accuracy: 0.9866 - val_loss: 0.0544 - val_accuracy: 0.9819\n",
      "Epoch 9/60\n",
      "2410/2410 [==============================] - 22s 9ms/step - loss: 0.0339 - accuracy: 0.9884 - val_loss: 0.0431 - val_accuracy: 0.9858\n",
      "Epoch 10/60\n",
      "2410/2410 [==============================] - 22s 9ms/step - loss: 0.0289 - accuracy: 0.9898 - val_loss: 0.0396 - val_accuracy: 0.9876\n",
      "Epoch 11/60\n",
      "2410/2410 [==============================] - 22s 9ms/step - loss: 0.0267 - accuracy: 0.9910 - val_loss: 0.0305 - val_accuracy: 0.9896\n",
      "Epoch 12/60\n",
      "2410/2410 [==============================] - 21s 9ms/step - loss: 0.0241 - accuracy: 0.9919 - val_loss: 0.0366 - val_accuracy: 0.9879\n",
      "Epoch 13/60\n",
      "2410/2410 [==============================] - 21s 9ms/step - loss: 0.0236 - accuracy: 0.9923 - val_loss: 0.0316 - val_accuracy: 0.9896\n",
      "Epoch 14/60\n",
      "2410/2410 [==============================] - 22s 9ms/step - loss: 0.0216 - accuracy: 0.9929 - val_loss: 0.0249 - val_accuracy: 0.9918\n",
      "Epoch 15/60\n",
      "2410/2410 [==============================] - 21s 9ms/step - loss: 0.0190 - accuracy: 0.9938 - val_loss: 0.0299 - val_accuracy: 0.9908\n",
      "Epoch 16/60\n",
      "2410/2410 [==============================] - 22s 9ms/step - loss: 0.0177 - accuracy: 0.9939 - val_loss: 0.0299 - val_accuracy: 0.9909\n",
      "Epoch 17/60\n",
      "2410/2410 [==============================] - 22s 9ms/step - loss: 0.0168 - accuracy: 0.9945 - val_loss: 0.0251 - val_accuracy: 0.9923\n",
      "Epoch 18/60\n",
      "2410/2410 [==============================] - 21s 9ms/step - loss: 0.0153 - accuracy: 0.9949 - val_loss: 0.0281 - val_accuracy: 0.9924\n",
      "Epoch 19/60\n",
      "2410/2410 [==============================] - 21s 9ms/step - loss: 0.0154 - accuracy: 0.9952 - val_loss: 0.0197 - val_accuracy: 0.9936\n",
      "Epoch 20/60\n",
      "2410/2410 [==============================] - 22s 9ms/step - loss: 0.0152 - accuracy: 0.9953 - val_loss: 0.0300 - val_accuracy: 0.9913\n",
      "Epoch 21/60\n",
      "2410/2410 [==============================] - 22s 9ms/step - loss: 0.0134 - accuracy: 0.9958 - val_loss: 0.0167 - val_accuracy: 0.9954\n",
      "Epoch 22/60\n",
      "2410/2410 [==============================] - 22s 9ms/step - loss: 0.0154 - accuracy: 0.9955 - val_loss: 0.0117 - val_accuracy: 0.9962\n",
      "Epoch 23/60\n",
      "2410/2410 [==============================] - 23s 9ms/step - loss: 0.0135 - accuracy: 0.9959 - val_loss: 0.0176 - val_accuracy: 0.9947\n",
      "Epoch 24/60\n",
      "2410/2410 [==============================] - 22s 9ms/step - loss: 0.0142 - accuracy: 0.9957 - val_loss: 0.0163 - val_accuracy: 0.9946\n",
      "Epoch 25/60\n",
      "2410/2410 [==============================] - 21s 9ms/step - loss: 0.0143 - accuracy: 0.9960 - val_loss: 0.0209 - val_accuracy: 0.9942\n",
      "Epoch 26/60\n",
      "2410/2410 [==============================] - 23s 9ms/step - loss: 0.0125 - accuracy: 0.9963 - val_loss: 0.0152 - val_accuracy: 0.9961\n",
      "Epoch 27/60\n",
      " 290/2410 [==>...........................] - ETA: 18s - loss: 0.0096 - accuracy: 0.9971"
     ]
    }
   ],
   "source": [
    "history = model.fit(\n",
    "    ds_train,\n",
    "    epochs=wandb.config.epochs,\n",
    "    validation_data=ds_val,\n",
    "    callbacks=[\n",
    "        WandbCallback(\n",
    "            compute_flops=True, \n",
    "            save_model=False, \n",
    "            log_weights=False, \n",
    "            log_gradients=False\n",
    "        )\n",
    "    ],\n",
    ")\n",
    "\n",
    "plot_history(history, \"Baseline\")\n",
    "tf.keras.models.save_model(model, 'model_baseline.h5', include_optimizer=False)"
   ]
  },
  {
   "cell_type": "code",
   "execution_count": null,
   "metadata": {},
   "outputs": [],
   "source": [
    "# evaluate model on ds_test and log to wandb\n",
    "test_loss_before, test_acc_before = model.evaluate(ds_test)\n",
    "\n",
    "# calculate model size on disk, flops and number of parameters\n",
    "flops = calculate_model_flops(wandb.run.summary)\n",
    "num_parameters = calculate_model_num_parameters(model)\n",
    "compressed_disk_size = calculate_model_compressed_size_on_disk('model_baseline.h5')\n",
    "throughput = calculate_model_throughput(model, ds_test, wandb.config.batch_size)\n",
    "class_acc = calculate_accuracy_per_class(model, ds_test, artifact_base_name)\n",
    "\n",
    "data_to_log = {\n",
    "    \"test_loss\": test_loss_before, \n",
    "    \"test_accuracy\": test_acc_before, \n",
    "    \"num_parameters\": num_parameters,\n",
    "    \"compressed_disk_size\": compressed_disk_size, \n",
    "    \"model_flops\": flops,\n",
    "    \"throughput\": throughput,\n",
    "    \"accuracy_per_class\": accuracy_table(class_acc)\n",
    "    }\n",
    "plot_accuracy_per_class(class_acc)\n",
    "print(data_to_log)\n",
    "wandb.log(data_to_log)\n",
    "\n",
    "# upload model to wandb\n",
    "wandb.save('model_baseline.h5')\n",
    "run.finish()"
   ]
  },
  {
   "cell_type": "code",
   "execution_count": null,
   "metadata": {},
   "outputs": [],
   "source": [
    "raise Exception(\"Stop here\")"
   ]
  },
  {
   "cell_type": "markdown",
   "metadata": {},
   "source": [
    "# Quantization - allows for better accuracy"
   ]
  },
  {
   "cell_type": "code",
   "execution_count": null,
   "metadata": {},
   "outputs": [],
   "source": [
    "run = wandb.init(project=\"master-thesis\", job_type=\"training\", name=f\"{model_name}_quantized\", config=defaults, tags=[artifact_name, \"optimized\"])\n",
    "\n",
    "quantize_model = tfmot.quantization.keras.quantize_model\n",
    "\n",
    "quant_epochs = 2\n",
    "base_model = tf.keras.models.load_model('model_baseline.h5')\n",
    "\n",
    "# q_aware stands for for quantization aware.\n",
    "q_aware_model = quantize_model(base_model)\n",
    "\n",
    "# `quantize_model` requires a recompile.\n",
    "q_aware_model.compile(optimizer='adam',\n",
    "              loss=tf.keras.losses.SparseCategoricalCrossentropy(from_logits=True),\n",
    "              metrics=['accuracy'])\n",
    "\n",
    "q_aware_model.summary()"
   ]
  },
  {
   "cell_type": "code",
   "execution_count": null,
   "metadata": {},
   "outputs": [],
   "source": [
    "history = q_aware_model.fit(\n",
    "    ds_train,\n",
    "    epochs=quant_epochs,\n",
    "    validation_data=ds_val,\n",
    "    callbacks=[\n",
    "        WandbCallback(\n",
    "            compute_flops=True, \n",
    "            save_model=False, \n",
    "            log_weights=False, \n",
    "            log_gradients=False\n",
    "        )\n",
    "    ],\n",
    ")\n",
    "\n",
    "\n",
    "plot_history(history, \"Quantized\")\n",
    "tf.keras.models.save_model(q_aware_model, 'model_quantized.h5', include_optimizer=False)"
   ]
  },
  {
   "cell_type": "code",
   "execution_count": null,
   "metadata": {},
   "outputs": [],
   "source": [
    "# evaluate model on ds_test and log to wandb\n",
    "test_loss_quantize, test_acc_quantize = model.evaluate(ds_test)\n",
    "\n",
    "# calculate model size on disk, flops and number of parameters\n",
    "flops = calculate_model_flops(wandb.run.summary)\n",
    "num_parameters = calculate_model_num_parameters(q_aware_model)\n",
    "compressed_disk_size = calculate_model_compressed_size_on_disk('model_quantized.h5')\n",
    "throughput = calculate_model_throughput(q_aware_model, ds_test, wandb.config.batch_size)\n",
    "class_acc = calculate_accuracy_per_class(q_aware_model, ds_test, artifact_base_name)\n",
    "\n",
    "data_to_log = {\n",
    "    \"test_loss\": test_loss_quantize, \n",
    "    \"test_accuracy\": test_acc_quantize, \n",
    "    \"num_parameters\": num_parameters,\n",
    "    \"compressed_disk_size\": compressed_disk_size, \n",
    "    \"model_flops\": flops,\n",
    "    \"throughput\": throughput,\n",
    "    \"accuracy_per_class\": accuracy_table(class_acc)\n",
    "    }\n",
    "plot_accuracy_per_class(class_acc)\n",
    "print(data_to_log)\n",
    "wandb.log(data_to_log)\n",
    "run.finish()"
   ]
  },
  {
   "cell_type": "markdown",
   "metadata": {},
   "source": [
    "# Pruning model - allows for smaller size (after compression)"
   ]
  },
  {
   "cell_type": "code",
   "execution_count": null,
   "metadata": {},
   "outputs": [],
   "source": [
    "run = wandb.init(project=\"master-thesis\", job_type=\"training\", name=f\"{model_name}_pruned\", config=defaults, tags=[artifact_name, \"optimized\"])\n",
    "\n",
    "prune_low_magnitude = tfmot.sparsity.keras.prune_low_magnitude\n",
    "\n",
    "prune_epochs = 4\n",
    "pruning_params = {\n",
    "      'pruning_schedule': tfmot.sparsity.keras.ConstantSparsity(0.5, begin_step=0, frequency=100)\n",
    "  }\n",
    "\n",
    "callbacks = [\n",
    "  tfmot.sparsity.keras.UpdatePruningStep()\n",
    "]\n",
    "\n",
    "base_model = tf.keras.models.load_model('model_baseline.h5')\n",
    "model_sparse = prune_low_magnitude(base_model, **pruning_params)\n",
    "\n",
    "# Use smaller learning rate for fine-tuning\n",
    "opt = tf.keras.optimizers.Adam(learning_rate=1e-5)\n",
    "\n",
    "model_sparse.compile(\n",
    "  loss=tf.keras.losses.SparseCategoricalCrossentropy(from_logits=True),\n",
    "  optimizer=opt,\n",
    "  metrics=['accuracy'])\n",
    "\n",
    "model_sparse.summary()"
   ]
  },
  {
   "cell_type": "code",
   "execution_count": null,
   "metadata": {},
   "outputs": [],
   "source": [
    "callbacks = [\n",
    "    tfmot.sparsity.keras.UpdatePruningStep(),\n",
    "    WandbCallback(\n",
    "            compute_flops=True, \n",
    "            save_model=False, \n",
    "            log_weights=False, \n",
    "            log_gradients=False\n",
    "        )\n",
    "]\n",
    "\n",
    "history = model_sparse.fit(\n",
    "    ds_train,\n",
    "    epochs=prune_epochs,\n",
    "    validation_data=ds_val,\n",
    "    callbacks=callbacks\n",
    ")\n",
    "\n",
    "plot_history(history, \"Pruned\")\n",
    "tf.keras.models.save_model(model_sparse, 'model_sparse.h5', include_optimizer=False)"
   ]
  },
  {
   "cell_type": "code",
   "execution_count": null,
   "metadata": {},
   "outputs": [],
   "source": [
    "# evaluate model on ds_test and log to wandb\n",
    "test_loss_prune, test_acc_prune = model_sparse.evaluate(ds_test)\n",
    "\n",
    "# calculate model size on disk, flops and number of parameters\n",
    "flops = calculate_model_flops(wandb.run.summary)\n",
    "num_parameters = calculate_model_num_parameters(model_sparse)\n",
    "compressed_disk_size = calculate_model_compressed_size_on_disk('model_sparse.h5')\n",
    "throughput = calculate_model_throughput(model_sparse, ds_test, wandb.config.batch_size)\n",
    "class_acc = calculate_accuracy_per_class(model_sparse, ds_test, artifact_base_name)\n",
    "\n",
    "data_to_log = {\n",
    "    \"test_loss\": test_loss_prune, \n",
    "    \"test_accuracy\": test_acc_prune, \n",
    "    \"num_parameters\": num_parameters,\n",
    "    \"compressed_disk_size\": compressed_disk_size, \n",
    "    \"model_flops\": flops,\n",
    "    \"throughput\": throughput,\n",
    "    \"accuracy_per_class\": accuracy_table(class_acc)\n",
    "    }\n",
    "plot_accuracy_per_class(class_acc)\n",
    "print(data_to_log)\n",
    "wandb.log(data_to_log)\n",
    "run.finish()"
   ]
  },
  {
   "cell_type": "markdown",
   "metadata": {},
   "source": [
    "# PQAT - pruning preserving quantization aware training"
   ]
  },
  {
   "cell_type": "code",
   "execution_count": null,
   "metadata": {},
   "outputs": [],
   "source": [
    "run = wandb.init(project=\"master-thesis\", job_type=\"training\", name=f\"{model_name}_pqat\", config=defaults, tags=[artifact_name, \"optimized\"])\n",
    "\n",
    "# PQAT\n",
    "stripped_pruned_model = tfmot.sparsity.keras.strip_pruning(model_sparse)\n",
    "quant_aware_annotate_model = tfmot.quantization.keras.quantize_annotate_model(stripped_pruned_model)\n",
    "pqat_model = tfmot.quantization.keras.quantize_apply(\n",
    "              quant_aware_annotate_model,\n",
    "              tfmot.experimental.combine.Default8BitPrunePreserveQuantizeScheme())\n",
    "\n",
    "pqat_model.compile(optimizer='adam',\n",
    "              loss=tf.keras.losses.SparseCategoricalCrossentropy(from_logits=True),\n",
    "              metrics=['accuracy'])\n",
    "              \n",
    "callbacks = [\n",
    "    tfmot.sparsity.keras.UpdatePruningStep(),\n",
    "    tfmot.sparsity.keras.PruningSummaries(log_dir='./prune_summary'),\n",
    "    WandbCallback(\n",
    "            compute_flops=True, \n",
    "            save_model=False, \n",
    "            log_weights=False, \n",
    "            log_gradients=False\n",
    "        )\n",
    "]\n",
    "\n",
    "history = pqat_model.fit(\n",
    "    ds_train,\n",
    "    epochs=prune_epochs,\n",
    "    validation_data=ds_val,\n",
    "    callbacks=callbacks,\n",
    ")\n",
    "plot_history(history, \"Pruned model + PQAT\")\n",
    "tf.keras.models.save_model(pqat_model, 'model_quantized_sparse.h5', include_optimizer=False)"
   ]
  },
  {
   "cell_type": "code",
   "execution_count": null,
   "metadata": {},
   "outputs": [],
   "source": [
    "# evaluate model on ds_test and log to wandb\n",
    "test_loss_pqat, test_acc_pqat = pqat_model.evaluate(ds_test)\n",
    "\n",
    "# calculate model size on disk, flops and number of parameters\n",
    "flops = calculate_model_flops(wandb.run.summary)\n",
    "num_parameters = calculate_model_num_parameters(pqat_model)\n",
    "compressed_disk_size = calculate_model_compressed_size_on_disk('model_quantized_sparse.h5')\n",
    "throughput = calculate_model_throughput(pqat_model, ds_test, wandb.config.batch_size)\n",
    "class_acc = calculate_accuracy_per_class(pqat_model, ds_test, artifact_base_name)\n",
    "\n",
    "data_to_log = {\n",
    "    \"test_loss\": test_loss_pqat, \n",
    "    \"test_accuracy\": test_acc_pqat, \n",
    "    \"num_parameters\": num_parameters,\n",
    "    \"compressed_disk_size\": compressed_disk_size, \n",
    "    \"model_flops\": flops,\n",
    "    \"throughput\": throughput,\n",
    "    \"accuracy_per_class\": accuracy_table(class_acc)\n",
    "    }\n",
    "plot_accuracy_per_class(class_acc)\n",
    "print(data_to_log)\n",
    "wandb.log(data_to_log)\n",
    "run.finish()"
   ]
  },
  {
   "cell_type": "markdown",
   "metadata": {},
   "source": [
    "# Summary & Tensorboard"
   ]
  },
  {
   "cell_type": "code",
   "execution_count": null,
   "metadata": {},
   "outputs": [],
   "source": [
    "print('Baseline test accuracy:', test_acc_before) \n",
    "print('Quantized test accuracy:', test_acc_quantize)\n",
    "print('Pruned test accuracy:', test_acc_prune)\n",
    "print('PQAT test accuracy:', test_acc_pqat)"
   ]
  },
  {
   "cell_type": "code",
   "execution_count": null,
   "metadata": {},
   "outputs": [],
   "source": [
    "print('Zipped model files size:\\n')\n",
    "b_size = os.path.getsize('model_baseline.h5.zip')\n",
    "q_size = os.path.getsize('model_quantized.h5.zip')\n",
    "s_size = os.path.getsize('model_sparse.h5.zip')\n",
    "q_s_size = os.path.getsize('model_quantized_sparse.h5.zip')\n",
    "\n",
    "print('Baseline: {} bytes'.format(b_size))\n",
    "print('Quantized: {} bytes'.format(q_size))\n",
    "print('Sparse:   {} bytes'.format(s_size))\n",
    "print('PQAT:     {} bytes'.format(q_s_size))\n",
    "\n",
    "print(f'Quantized model is {((b_size-q_size)/b_size * 100):.2f}% smaller')\n",
    "print(f'Pruned model is {((b_size-s_size)/b_size * 100):.2f}% smaller')\n",
    "print(f'PQAT model is {((b_size-q_s_size)/b_size * 100):.2f}% smaller')"
   ]
  },
  {
   "cell_type": "code",
   "execution_count": null,
   "metadata": {},
   "outputs": [],
   "source": [
    "%load_ext tensorboard\n",
    "%tensorboard --logdir prune_summary"
   ]
  }
 ],
 "metadata": {
  "accelerator": "GPU",
  "colab": {
   "provenance": []
  },
  "gpuClass": "standard",
  "kernelspec": {
   "display_name": "Python 3",
   "language": "python",
   "name": "python3"
  },
  "language_info": {
   "codemirror_mode": {
    "name": "ipython",
    "version": 3
   },
   "file_extension": ".py",
   "mimetype": "text/x-python",
   "name": "python",
   "nbconvert_exporter": "python",
   "pygments_lexer": "ipython3",
   "version": "3.10.4 (tags/v3.10.4:9d38120, Mar 23 2022, 23:13:41) [MSC v.1929 64 bit (AMD64)]"
  },
  "vscode": {
   "interpreter": {
    "hash": "df5f531b08a468c0a2a3591ee4fa2c1150ed1bbbe823daf85795b21510fb4a25"
   }
  }
 },
 "nbformat": 4,
 "nbformat_minor": 4
}
