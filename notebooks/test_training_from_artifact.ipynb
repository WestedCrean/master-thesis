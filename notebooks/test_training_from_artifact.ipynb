{
 "cells": [
  {
   "cell_type": "code",
   "execution_count": null,
   "metadata": {},
   "outputs": [],
   "source": [
    "import wandb\n",
    "import tensorflow as tf\n",
    "import numpy as np\n",
    "import pathlib\n",
    "import shutil\n",
    "\n",
    "def load_data( run = wandb.init(project=\"master-thesis\", job_type=\"preprocessing\")) -> pathlib.Path:\n",
    "    \"\"\"\n",
    "    Unpacks data from an artifact into a folder and returns the path to the folder.\n",
    "    \"\"\"\n",
    "\n",
    "    artifact_name = f\"letters_splits\"\n",
    "    artifact = run.use_artifact(f\"master-thesis/{artifact_name}:latest\")\n",
    "    artifact_dir = artifact.download()\n",
    "    artifact_dir = pathlib.Path(artifact_dir).resolve()\n",
    "    \n",
    "    for split_file in artifact_dir.iterdir():\n",
    "        if split_file.name.endswith(\".tar.gz\"):\n",
    "            split = split_file.name.replace(\".tar.gz\", \"\")\n",
    "            shutil.unpack_archive(split_file, artifact_dir / split, format=\"gztar\")\n",
    "    return [ artifact_dir / split for split in [\"train\", \"test\", \"val\"]]\n",
    "\n",
    "def get_number_of_classes(ds: tf.data.Dataset) -> int:\n",
    "    \"\"\"\n",
    "    Returns the number of classes in a dataset.\n",
    "    \"\"\"\n",
    "    return len(ds.class_names)\n",
    "\n",
    "def create_tf_dataset(split_path: pathlib.Path, batch_size: int = 32):\n",
    "    \"\"\"\n",
    "    Creates a tf dataset from path containing a folder for each class.\n",
    "    \"\"\"\n",
    "    ds = tf.keras.utils.image_dataset_from_directory(\n",
    "        split_path, \n",
    "        image_size=(32,32), \n",
    "        batch_size=batch_size,\n",
    "        color_mode='grayscale',\n",
    "    )\n",
    "    return ds\n",
    "\n",
    "def preprocess_dataset(ds: tf.data.Dataset) -> tf.data.Dataset :\n",
    "    ds = ds.map(lambda x, y: (tf.cast(x, tf.float32) / 255.0, y)) # normalize\n",
    "    return ds.cache().prefetch(buffer_size=tf.data.AUTOTUNE)"
   ]
  },
  {
   "cell_type": "code",
   "execution_count": null,
   "metadata": {},
   "outputs": [],
   "source": [
    "run = wandb.init(project=\"master-thesis\", job_type=\"training\")\n",
    "BATCH_SIZE = 32\n",
    "\n",
    "ds_train, ds_test, ds_val = [\n",
    "    create_tf_dataset(split_path, batch_size=BATCH_SIZE) for split_path in load_data(run=run)\n",
    "    ]\n",
    "\n",
    "num_classes = len(ds_train.class_names)\n",
    "\n",
    "print(f\"In training set there are {len(ds_train)} examples\")\n",
    "print(f\"In validation set there are {len(ds_val)} examples\")\n",
    "print(f\"In validation set there are {len(ds_test)} examples\")\n",
    "\n",
    "print(f\"There are {num_classes} classes\")"
   ]
  },
  {
   "cell_type": "code",
   "execution_count": null,
   "metadata": {},
   "outputs": [],
   "source": [
    "ds_train = preprocess_dataset(ds_train)\n",
    "ds_val = preprocess_dataset(ds_val)\n",
    "ds_test = preprocess_dataset(ds_test)\n",
    "\n",
    "model = tf.keras.Sequential(\n",
    "    [\n",
    "        tf.keras.layers.InputLayer(input_shape=(32, 32, 1)),\n",
    "        tf.keras.layers.Conv2D(32, kernel_size=(3, 3), activation=\"relu\"),\n",
    "        tf.keras.layers.MaxPooling2D(pool_size=(2, 2)),\n",
    "        tf.keras.layers.Conv2D(64, kernel_size=(3, 3), activation=\"relu\"),\n",
    "        tf.keras.layers.MaxPooling2D(pool_size=(2, 2)),\n",
    "        tf.keras.layers.Flatten(),\n",
    "        tf.keras.layers.Dropout(0.5),\n",
    "        tf.keras.layers.Dense(num_classes, activation=\"softmax\"),\n",
    "    ]\n",
    ")\n",
    "\n",
    "model.compile(\n",
    "    optimizer=\"adam\",\n",
    "    loss=tf.keras.losses.SparseCategoricalCrossentropy(from_logits=True),\n",
    "    metrics=[\"accuracy\"],\n",
    ")\n",
    "\n",
    "history = model.fit(\n",
    "    ds_train,\n",
    "    epochs=10,\n",
    "    validation_data=ds_val,\n",
    "    #callbacks=[wandb.keras.WandbCallback()],\n",
    ")"
   ]
  },
  {
   "cell_type": "code",
   "execution_count": null,
   "metadata": {},
   "outputs": [],
   "source": [
    "# plot history\n",
    "import matplotlib.pyplot as plt\n",
    "\n",
    "fig, ax = plt.subplots(1, 1, figsize=(15, 10))\n",
    "epochs = range(1, len(history.history[\"loss\"]) + 1)\n",
    "ax.plot(epochs, history.history[\"accuracy\"], label=\"accuracy\")\n",
    "ax.plot(epochs, history.history[\"val_accuracy\"], label=\"val_accuracy\")\n",
    "ax.set_xlabel(\"Epoch\")\n",
    "ax.set_ylabel(\"Accuracy\")\n",
    "ax.legend(loc=\"lower right\")\n",
    "\n",
    "plt.show()"
   ]
  }
 ],
 "metadata": {
  "kernelspec": {
   "display_name": "master-thesis",
   "language": "python",
   "name": "python3"
  },
  "language_info": {
   "codemirror_mode": {
    "name": "ipython",
    "version": 3
   },
   "file_extension": ".py",
   "mimetype": "text/x-python",
   "name": "python",
   "nbconvert_exporter": "python",
   "pygments_lexer": "ipython3",
   "version": "3.10.9"
  },
  "orig_nbformat": 4,
  "vscode": {
   "interpreter": {
    "hash": "50e1e42dfe1d658956852bd8112c3a0f458e21bda0a35307ca1649a3ad9140a0"
   }
  }
 },
 "nbformat": 4,
 "nbformat_minor": 2
}
