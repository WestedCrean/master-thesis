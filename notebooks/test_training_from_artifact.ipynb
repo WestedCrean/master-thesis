{
 "cells": [
  {
   "cell_type": "code",
   "execution_count": 19,
   "metadata": {},
   "outputs": [
    {
     "data": {
      "text/html": [
       "Finishing last run (ID:3da6fozs) before initializing another..."
      ],
      "text/plain": [
       "<IPython.core.display.HTML object>"
      ]
     },
     "metadata": {},
     "output_type": "display_data"
    },
    {
     "data": {
      "text/html": [
       "Waiting for W&B process to finish... <strong style=\"color:green\">(success).</strong>"
      ],
      "text/plain": [
       "<IPython.core.display.HTML object>"
      ]
     },
     "metadata": {},
     "output_type": "display_data"
    },
    {
     "data": {
      "text/html": [
       "Synced <strong style=\"color:#cdcd00\">sweet-salad-42</strong>: <a href=\"https://wandb.ai/gratkadlafana/master-thesis/runs/3da6fozs\" target=\"_blank\">https://wandb.ai/gratkadlafana/master-thesis/runs/3da6fozs</a><br/>Synced 5 W&B file(s), 0 media file(s), 0 artifact file(s) and 0 other file(s)"
      ],
      "text/plain": [
       "<IPython.core.display.HTML object>"
      ]
     },
     "metadata": {},
     "output_type": "display_data"
    },
    {
     "data": {
      "text/html": [
       "Find logs at: <code>./wandb/run-20230108_121321-3da6fozs/logs</code>"
      ],
      "text/plain": [
       "<IPython.core.display.HTML object>"
      ]
     },
     "metadata": {},
     "output_type": "display_data"
    },
    {
     "data": {
      "text/html": [
       "Successfully finished last run (ID:3da6fozs). Initializing new run:<br/>"
      ],
      "text/plain": [
       "<IPython.core.display.HTML object>"
      ]
     },
     "metadata": {},
     "output_type": "display_data"
    },
    {
     "data": {
      "text/html": [
       "Tracking run with wandb version 0.13.7"
      ],
      "text/plain": [
       "<IPython.core.display.HTML object>"
      ]
     },
     "metadata": {},
     "output_type": "display_data"
    },
    {
     "data": {
      "text/html": [
       "Run data is saved locally in <code>/home/wiktor/code/master-thesis/notebooks/wandb/run-20230108_123338-2j8fi3zh</code>"
      ],
      "text/plain": [
       "<IPython.core.display.HTML object>"
      ]
     },
     "metadata": {},
     "output_type": "display_data"
    },
    {
     "data": {
      "text/html": [
       "Syncing run <strong><a href=\"https://wandb.ai/gratkadlafana/master-thesis/runs/2j8fi3zh\" target=\"_blank\">devout-tree-43</a></strong> to <a href=\"https://wandb.ai/gratkadlafana/master-thesis\" target=\"_blank\">Weights & Biases</a> (<a href=\"https://wandb.me/run\" target=\"_blank\">docs</a>)<br/>"
      ],
      "text/plain": [
       "<IPython.core.display.HTML object>"
      ]
     },
     "metadata": {},
     "output_type": "display_data"
    },
    {
     "data": {
      "text/html": [
       "Finishing last run (ID:2j8fi3zh) before initializing another..."
      ],
      "text/plain": [
       "<IPython.core.display.HTML object>"
      ]
     },
     "metadata": {},
     "output_type": "display_data"
    },
    {
     "data": {
      "text/html": [
       "Waiting for W&B process to finish... <strong style=\"color:green\">(success).</strong>"
      ],
      "text/plain": [
       "<IPython.core.display.HTML object>"
      ]
     },
     "metadata": {},
     "output_type": "display_data"
    },
    {
     "data": {
      "text/html": [
       "Synced <strong style=\"color:#cdcd00\">devout-tree-43</strong>: <a href=\"https://wandb.ai/gratkadlafana/master-thesis/runs/2j8fi3zh\" target=\"_blank\">https://wandb.ai/gratkadlafana/master-thesis/runs/2j8fi3zh</a><br/>Synced 4 W&B file(s), 0 media file(s), 0 artifact file(s) and 0 other file(s)"
      ],
      "text/plain": [
       "<IPython.core.display.HTML object>"
      ]
     },
     "metadata": {},
     "output_type": "display_data"
    },
    {
     "data": {
      "text/html": [
       "Find logs at: <code>./wandb/run-20230108_123338-2j8fi3zh/logs</code>"
      ],
      "text/plain": [
       "<IPython.core.display.HTML object>"
      ]
     },
     "metadata": {},
     "output_type": "display_data"
    },
    {
     "data": {
      "text/html": [
       "Successfully finished last run (ID:2j8fi3zh). Initializing new run:<br/>"
      ],
      "text/plain": [
       "<IPython.core.display.HTML object>"
      ]
     },
     "metadata": {},
     "output_type": "display_data"
    },
    {
     "data": {
      "text/html": [
       "Tracking run with wandb version 0.13.7"
      ],
      "text/plain": [
       "<IPython.core.display.HTML object>"
      ]
     },
     "metadata": {},
     "output_type": "display_data"
    },
    {
     "data": {
      "text/html": [
       "Run data is saved locally in <code>/home/wiktor/code/master-thesis/notebooks/wandb/run-20230108_123346-2k8tzoko</code>"
      ],
      "text/plain": [
       "<IPython.core.display.HTML object>"
      ]
     },
     "metadata": {},
     "output_type": "display_data"
    },
    {
     "data": {
      "text/html": [
       "Syncing run <strong><a href=\"https://wandb.ai/gratkadlafana/master-thesis/runs/2k8tzoko\" target=\"_blank\">amber-spaceship-44</a></strong> to <a href=\"https://wandb.ai/gratkadlafana/master-thesis\" target=\"_blank\">Weights & Biases</a> (<a href=\"https://wandb.me/run\" target=\"_blank\">docs</a>)<br/>"
      ],
      "text/plain": [
       "<IPython.core.display.HTML object>"
      ]
     },
     "metadata": {},
     "output_type": "display_data"
    }
   ],
   "source": [
    "import wandb\n",
    "import tensorflow as tf\n",
    "import numpy as np\n",
    "import pathlib\n",
    "from typing import List\n",
    "from sklearn.preprocessing import OneHotEncoder\n",
    "\n",
    "def load_label_dict(run = wandb.init(project=\"master-thesis\", job_type=\"preprocessing\")) -> List[str]:\n",
    "    \"\"\"\n",
    "    Loads labels from an artifact and returns them as a list.\n",
    "    \"\"\"\n",
    "    artifact = run.use_artifact(f\"master-thesis/letters_labels:latest\")\n",
    "    artifact_dir = artifact.download()\n",
    "    labels = np.load(pathlib.Path(artifact_dir) / \"labels.npy\", allow_pickle=True)\n",
    "    return {idx: label for idx, label in enumerate(labels)}\n",
    "\n",
    "\n",
    "def load_data(split: str = \"train\", run = wandb.init(project=\"master-thesis\", job_type=\"preprocessing\")) -> np.ndarray:\n",
    "    \"\"\"\n",
    "    Loads data from an artifact and returns it as a numpy array.\n",
    "    \"\"\"\n",
    "    if split not in [\"train\", \"test\", \"val\"]:\n",
    "        raise ValueError(\"Split must be either train, test or val\")\n",
    "\n",
    "    artifact_name = f\"letters_{split}\"\n",
    "    artifact = run.use_artifact(f\"master-thesis/{artifact_name}:latest\")\n",
    "    artifact_dir = artifact.download()\n",
    "    artifact_dir = pathlib.Path(artifact_dir).resolve()\n",
    "    data = []\n",
    "    labels = [ str(l).replace(\".npz\",\"\") for l in artifact_dir.iterdir()]\n",
    "    for label in labels:\n",
    "        data.append(\n",
    "            np.load(\n",
    "                f\"{label}.npz\", allow_pickle=True\n",
    "            )[\"arr_0\"]\n",
    "        )\n",
    "    data = np.concatenate(data)\n",
    "    labels = [ int(l.split(\"/\")[-1]) for l in labels ]\n",
    "    return data, labels\n",
    "\n",
    "def create_tf_dataset(data, labels, number_of_classes, batch_size: int = 32, shuffle: bool = True, normalize: bool = True):\n",
    "    \"\"\"\n",
    "    Creates a tf dataset from data and labels.\n",
    "    \"\"\"\n",
    "    data = tf.data.Dataset.from_tensor_slices(data)\n",
    "    labels = tf.data.Dataset.from_tensor_slices(labels)\n",
    "    \n",
    "    df = tf.data.Dataset.zip((data, labels))\n",
    "    if shuffle:\n",
    "        df = df.shuffle(buffer_size=10000)\n",
    "    if normalize:\n",
    "        df = df.map(lambda x, y: (tf.cast(x, tf.float32) / 255.0, y))\n",
    "    return df.batch(batch_size).prefetch(buffer_size=tf.data.experimental.AUTOTUNE).cache()\n",
    "\n",
    "def calculate_number_of_classes(labels: List[str]) -> int:\n",
    "    \"\"\"\n",
    "    Calculates the number of classes from a list of labels.\n",
    "    \"\"\"\n",
    "    return len(set(labels))"
   ]
  },
  {
   "cell_type": "code",
   "execution_count": 21,
   "metadata": {},
   "outputs": [
    {
     "data": {
      "text/html": [
       "Finishing last run (ID:2k8tzoko) before initializing another..."
      ],
      "text/plain": [
       "<IPython.core.display.HTML object>"
      ]
     },
     "metadata": {},
     "output_type": "display_data"
    },
    {
     "data": {
      "text/html": [
       "Waiting for W&B process to finish... <strong style=\"color:green\">(success).</strong>"
      ],
      "text/plain": [
       "<IPython.core.display.HTML object>"
      ]
     },
     "metadata": {},
     "output_type": "display_data"
    },
    {
     "data": {
      "text/html": [
       "Synced <strong style=\"color:#cdcd00\">amber-spaceship-44</strong>: <a href=\"https://wandb.ai/gratkadlafana/master-thesis/runs/2k8tzoko\" target=\"_blank\">https://wandb.ai/gratkadlafana/master-thesis/runs/2k8tzoko</a><br/>Synced 4 W&B file(s), 0 media file(s), 0 artifact file(s) and 0 other file(s)"
      ],
      "text/plain": [
       "<IPython.core.display.HTML object>"
      ]
     },
     "metadata": {},
     "output_type": "display_data"
    },
    {
     "data": {
      "text/html": [
       "Find logs at: <code>./wandb/run-20230108_123346-2k8tzoko/logs</code>"
      ],
      "text/plain": [
       "<IPython.core.display.HTML object>"
      ]
     },
     "metadata": {},
     "output_type": "display_data"
    },
    {
     "data": {
      "text/html": [
       "Successfully finished last run (ID:2k8tzoko). Initializing new run:<br/>"
      ],
      "text/plain": [
       "<IPython.core.display.HTML object>"
      ]
     },
     "metadata": {},
     "output_type": "display_data"
    },
    {
     "data": {
      "text/html": [
       "Tracking run with wandb version 0.13.7"
      ],
      "text/plain": [
       "<IPython.core.display.HTML object>"
      ]
     },
     "metadata": {},
     "output_type": "display_data"
    },
    {
     "data": {
      "text/html": [
       "Run data is saved locally in <code>/home/wiktor/code/master-thesis/notebooks/wandb/run-20230108_123355-2meaodkc</code>"
      ],
      "text/plain": [
       "<IPython.core.display.HTML object>"
      ]
     },
     "metadata": {},
     "output_type": "display_data"
    },
    {
     "data": {
      "text/html": [
       "Syncing run <strong><a href=\"https://wandb.ai/gratkadlafana/master-thesis/runs/2meaodkc\" target=\"_blank\">usual-water-45</a></strong> to <a href=\"https://wandb.ai/gratkadlafana/master-thesis\" target=\"_blank\">Weights & Biases</a> (<a href=\"https://wandb.me/run\" target=\"_blank\">docs</a>)<br/>"
      ],
      "text/plain": [
       "<IPython.core.display.HTML object>"
      ]
     },
     "metadata": {},
     "output_type": "display_data"
    },
    {
     "name": "stderr",
     "output_type": "stream",
     "text": [
      "\u001b[34m\u001b[1mwandb\u001b[0m:   1 of 1 files downloaded.  \n",
      "\u001b[34m\u001b[1mwandb\u001b[0m:   35 of 35 files downloaded.  \n",
      "\u001b[34m\u001b[1mwandb\u001b[0m:   35 of 35 files downloaded.  \n"
     ]
    },
    {
     "name": "stdout",
     "output_type": "stream",
     "text": [
      "Number of classes: 35\n",
      "In training set there are 176116 examples\n",
      "In validation set there are 22001 examples\n"
     ]
    }
   ],
   "source": [
    "run = wandb.init(project=\"master-thesis\", job_type=\"training\")\n",
    "\n",
    "labels_dict = load_label_dict(run=run)\n",
    "train_data, train_labels = load_data(\"train\", run=run)\n",
    "val_data, val_labels = load_data(\"val\", run=run)\n",
    "number_of_classes = calculate_number_of_classes(train_labels)\n",
    "print(f\"Number of classes: {number_of_classes}\")\n",
    "\n",
    "print(f\"In training set there are {len(train_data)} examples\")\n",
    "print(f\"In validation set there are {len(val_data)} examples\")\n",
    "\n",
    "enc = OneHotEncoder()\n",
    "\n",
    "train_labels = [labels_dict[l] for l in train_labels]\n",
    "train_labels = enc.fit_transform(np.array(train_labels).reshape(-1,1)).toarray()\n",
    "val_labels = enc.transform(np.array(val_labels).reshape(-1,1)).toarray()"
   ]
  },
  {
   "cell_type": "code",
   "execution_count": null,
   "metadata": {},
   "outputs": [],
   "source": [
    "batch_size = 128\n",
    "df_train = create_tf_dataset(train_data, train_labels, number_of_classes, batch_size=batch_size)\n",
    "df_val = create_tf_dataset(val_data, val_labels, number_of_classes, batch_size=batch_size)\n",
    "\n",
    "\n",
    "model = tf.keras.Sequential(\n",
    "    [\n",
    "        tf.keras.layers.InputLayer(input_shape=(32, 32, 1)),\n",
    "        tf.keras.layers.Conv2D(32, (3, 3), activation=\"relu\"),\n",
    "        tf.keras.layers.MaxPooling2D((2, 2)),\n",
    "        tf.keras.layers.Conv2D(64, (3, 3), activation=\"relu\"),\n",
    "        tf.keras.layers.MaxPooling2D((2, 2)),\n",
    "        tf.keras.layers.Conv2D(64, (3, 3), activation=\"relu\"),\n",
    "        tf.keras.layers.Flatten(),\n",
    "        tf.keras.layers.Dense(64, activation=\"relu\"),\n",
    "        tf.keras.layers.Dense(number_of_classes),\n",
    "    ]\n",
    ")\n",
    "\n",
    "model.compile(\n",
    "    optimizer=\"adam\",\n",
    "    loss=tf.keras.losses.SparseCategoricalCrossentropy(from_logits=True),\n",
    "    metrics=[\"accuracy\"],\n",
    ")\n",
    "\n",
    "history = model.fit(\n",
    "    df_train,\n",
    "    epochs=10,\n",
    "    validation_data=df_val,\n",
    "    callbacks=[wandb.keras.WandbCallback()],\n",
    ")"
   ]
  },
  {
   "cell_type": "code",
   "execution_count": null,
   "metadata": {},
   "outputs": [],
   "source": [
    "# plot history\n",
    "import matplotlib.pyplot as plt\n",
    "\n",
    "plt.plot(history.history[\"accuracy\"], label=\"accuracy\")\n",
    "plt.plot(history.history[\"val_accuracy\"], label=\"val_accuracy\")\n",
    "plt.xlabel(\"Epoch\")\n",
    "plt.ylabel(\"Accuracy\")\n",
    "plt.ylim([0.5, 1])\n",
    "plt.legend(loc=\"lower right\")\n",
    "\n",
    "plt.show()"
   ]
  }
 ],
 "metadata": {
  "kernelspec": {
   "display_name": "master-thesis",
   "language": "python",
   "name": "python3"
  },
  "language_info": {
   "codemirror_mode": {
    "name": "ipython",
    "version": 3
   },
   "file_extension": ".py",
   "mimetype": "text/x-python",
   "name": "python",
   "nbconvert_exporter": "python",
   "pygments_lexer": "ipython3",
   "version": "3.10.9"
  },
  "orig_nbformat": 4,
  "vscode": {
   "interpreter": {
    "hash": "50e1e42dfe1d658956852bd8112c3a0f458e21bda0a35307ca1649a3ad9140a0"
   }
  }
 },
 "nbformat": 4,
 "nbformat_minor": 2
}
