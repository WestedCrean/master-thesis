{
 "cells": [
  {
   "cell_type": "markdown",
   "metadata": {},
   "source": [
    "# TinyVGG network\n",
    "\n",
    "This notebook trains the TinyVGG network \n",
    "\n",
    "After training, model is serialized and uploaded to W&B project."
   ]
  },
  {
   "cell_type": "code",
   "execution_count": 1,
   "metadata": {},
   "outputs": [
    {
     "name": "stderr",
     "output_type": "stream",
     "text": [
      "2023-01-23 23:15:00.786605: I tensorflow/core/platform/cpu_feature_guard.cc:193] This TensorFlow binary is optimized with oneAPI Deep Neural Network Library (oneDNN) to use the following CPU instructions in performance-critical operations:  AVX2 FMA\n",
      "To enable them in other operations, rebuild TensorFlow with the appropriate compiler flags.\n"
     ]
    }
   ],
   "source": [
    "import wandb\n",
    "import tensorflow as tf\n",
    "import numpy as np\n",
    "import pathlib\n",
    "import shutil\n",
    "from typing import List\n",
    "\n",
    "POSSIBLE_DATASET_OPTIONS = [\"uppercase_no_diacritics\", \"uppercase\", \"lowercase_no_diacritics\", \"lowercase\", \"numbers\", \"phcd_paper\"]\n",
    "\n",
    "def load_data(run, dataset_option = 'letters') -> List[tf.data.Dataset]:\n",
    "    \"\"\"\n",
    "    Downloads datasets from a wandb artifact and loads them into a list of tf.data.Datasets.\n",
    "    \"\"\"\n",
    "\n",
    "    artifact_name = f\"{dataset_option}_splits_tfds\"\n",
    "    artifact = run.use_artifact(f\"master-thesis/{artifact_name}:latest\")\n",
    "    artifact_dir = pathlib.Path(\n",
    "        f\"./artifacts/{artifact.name.replace(':', '-')}\"\n",
    "    ).resolve()\n",
    "    if not artifact_dir.exists():\n",
    "        artifact_dir = artifact.download()\n",
    "        artifact_dir = pathlib.Path(artifact_dir).resolve()\n",
    "\n",
    "    # if tf.__version__ minor is less than 10, use\n",
    "    # tf.data.experimental.load instead of tf.data.Dataset.load\n",
    "\n",
    "    if int(tf.__version__.split(\".\")[1]) < 10:\n",
    "        load_function = tf.data.experimental.load\n",
    "    else:\n",
    "        load_function = tf.data.Dataset.load\n",
    "    \n",
    "    output_list = []\n",
    "    for split in [\"train\", \"test\", \"val\"]:\n",
    "        ds = load_function(str(artifact_dir / split), compression=\"GZIP\")\n",
    "        output_list.append(ds)\n",
    "    \n",
    "    return output_list\n",
    "\n",
    "def get_number_of_classes(ds: tf.data.Dataset) -> int:\n",
    "    \"\"\"\n",
    "    Returns the number of classes in a dataset.\n",
    "    \"\"\"\n",
    "    labels_iterator= ds.map(lambda x, y: y).as_numpy_iterator()\n",
    "    labels = np.concatenate(list(labels_iterator))\n",
    "    return len(np.unique(labels))\n",
    "\n",
    "def preprocess_dataset(ds: tf.data.Dataset, batch_size: int, cache: bool = True) -> tf.data.Dataset:\n",
    "    ds = ds.map(lambda x, y: (tf.cast(x, tf.float32) / 255.0, y))  # normalize\n",
    "    ds = ds.unbatch().batch(batch_size)\n",
    "    if cache:\n",
    "        ds = ds.cache().prefetch(buffer_size=tf.data.AUTOTUNE)\n",
    "    return ds\n",
    "\n",
    "def calculate_model_size_on_disk(path: str) -> int:\n",
    "    return pathlib.Path(path).stat().st_size    \n",
    "\n",
    "def calculate_model_num_parameters(model: tf.keras.Model) -> int:\n",
    "    return model.count_params()\n",
    "\n",
    "def calculate_model_flops(summary) -> float:\n",
    "    # from run.summary get GFLOPs or GFLOPS whichever is available\n",
    "    if \"GFLOPs\" in summary.keys():\n",
    "        return summary.get(\"GFLOPs\")\n",
    "    elif \"GFLOPS\" in summary.keys():\n",
    "        return summary.get(\"GFLOPS\")\n",
    "\n",
    "class Terminate_slow_convergence(tf.keras.callbacks.Callback):\n",
    "    ACCURACY_THRESHOLD =  0.9\n",
    "    EPOCH = 6\n",
    "    MAX_VAL_ACCURACY_THRESHOLD = 0.9995\n",
    "\n",
    "    def on_epoch_end(self, epoch, logs={}):\n",
    "        \n",
    "        # if model is not converging fast, stop training\n",
    "        if(logs.get('accuracy') < self.ACCURACY_THRESHOLD and epoch > self.EPOCH):\n",
    "            print(f\"Model accuracy is {logs.get('accuracy')} and is below {self.ACCURACY_THRESHOLD} at epoch {epoch}. Terminating training.\")\n",
    "            self.model.stop_training = True\n",
    "            \n",
    "        # if model converged, stop training\n",
    "        if(logs.get('val_accuracy') >= self.MAX_VAL_ACCURACY_THRESHOLD and epoch > 2):\n",
    "            print(f\"Model reached max val_accuracy. Terminating training.\")\n",
    "            self.model.stop_training = True"
   ]
  },
  {
   "cell_type": "code",
   "execution_count": 2,
   "metadata": {},
   "outputs": [],
   "source": [
    "defaults = dict(\n",
    "    batch_size=32*4,\n",
    "    epochs=100,    \n",
    "    optimizer=\"adam\"\n",
    ")"
   ]
  },
  {
   "cell_type": "code",
   "execution_count": 3,
   "metadata": {},
   "outputs": [
    {
     "name": "stdout",
     "output_type": "stream",
     "text": [
      "Num GPUs Available:  1\n",
      "Available devices:  [PhysicalDevice(name='/physical_device:CPU:0', device_type='CPU'), PhysicalDevice(name='/physical_device:GPU:0', device_type='GPU')]\n"
     ]
    },
    {
     "name": "stderr",
     "output_type": "stream",
     "text": [
      "2023-01-23 23:15:03.935822: I tensorflow/compiler/xla/stream_executor/cuda/cuda_gpu_executor.cc:967] could not open file to read NUMA node: /sys/bus/pci/devices/0000:26:00.0/numa_node\n",
      "Your kernel may have been built without NUMA support.\n",
      "2023-01-23 23:15:03.951984: I tensorflow/compiler/xla/stream_executor/cuda/cuda_gpu_executor.cc:967] could not open file to read NUMA node: /sys/bus/pci/devices/0000:26:00.0/numa_node\n",
      "Your kernel may have been built without NUMA support.\n",
      "2023-01-23 23:15:03.952238: I tensorflow/compiler/xla/stream_executor/cuda/cuda_gpu_executor.cc:967] could not open file to read NUMA node: /sys/bus/pci/devices/0000:26:00.0/numa_node\n",
      "Your kernel may have been built without NUMA support.\n"
     ]
    }
   ],
   "source": [
    "print(\"Num GPUs Available: \", len(tf.config.experimental.list_physical_devices('GPU')))\n",
    "print(\"Available devices: \", tf.config.list_physical_devices())"
   ]
  },
  {
   "cell_type": "code",
   "execution_count": 4,
   "metadata": {},
   "outputs": [],
   "source": [
    "\n",
    "def train(dataset_subset, defaults, MODEL_NAME = \"TinyVGG\", job_type = \"training\"):\n",
    "    with wandb.init(project=\"master-thesis\", job_type=job_type, name=MODEL_NAME, config=defaults) as run:\n",
    "        filters = wandb.config.filters\n",
    "        ds_train, ds_test, ds_val = load_data(run, dataset_option=dataset_subset)\n",
    "\n",
    "        num_classes = get_number_of_classes(ds_val)\n",
    "        ds_train = preprocess_dataset(ds_train, batch_size=wandb.config.batch_size)\n",
    "        ds_val = preprocess_dataset(ds_val, batch_size=wandb.config.batch_size)\n",
    "        ds_test = preprocess_dataset(ds_test, batch_size=wandb.config.batch_size, cache=False)\n",
    "\n",
    "        model = tf.keras.Sequential(\n",
    "            [\n",
    "                tf.keras.layers.InputLayer(input_shape=(32, 32, 1)),\n",
    "\n",
    "                tf.keras.layers.Conv2D(filters,kernel_size=(3, 3), activation=\"relu\"),\n",
    "                tf.keras.layers.Conv2D(filters,kernel_size=(3, 3), activation=\"relu\"),\n",
    "                tf.keras.layers.MaxPooling2D(pool_size=(2, 2)),\n",
    "\n",
    "                tf.keras.layers.Conv2D(filters,kernel_size=(3, 3), activation=\"relu\"),\n",
    "                tf.keras.layers.Conv2D(filters,kernel_size=(3, 3), activation=\"relu\"),\n",
    "                tf.keras.layers.MaxPooling2D(pool_size=(2, 2)),\n",
    "\n",
    "                tf.keras.layers.Flatten(),\n",
    "                tf.keras.layers.Dense(num_classes, activation=\"softmax\"),\n",
    "            ]\n",
    "        )\n",
    "\n",
    "        model.compile(\n",
    "            optimizer=\"adam\",\n",
    "            loss=tf.keras.losses.SparseCategoricalCrossentropy(from_logits=True),\n",
    "            metrics=[\"accuracy\"],\n",
    "        )\n",
    "\n",
    "        # save the best model\n",
    "        checkpoint_callback = tf.keras.callbacks.ModelCheckpoint(\n",
    "            filepath=f\"./artifacts/{dataset_subset}-{MODEL_NAME}.h5\",\n",
    "            save_weights_only=False,\n",
    "            monitor=\"val_accuracy\",\n",
    "            mode=\"max\",\n",
    "            save_best_only=True,\n",
    "        )\n",
    "\n",
    "        wandb_callback = wandb.keras.WandbCallback(\n",
    "            save_model=False,\n",
    "            compute_flops=True,\n",
    "        )\n",
    "\n",
    "        history = model.fit(\n",
    "            ds_train,\n",
    "            epochs=wandb.config.epochs,\n",
    "            validation_data=ds_val,\n",
    "            callbacks=[wandb_callback, checkpoint_callback],\n",
    "        )\n",
    "\n",
    "        # calculate model size on disk, flops and number of parameters\n",
    "\n",
    "        flops = calculate_model_flops(wandb.run.summary)\n",
    "        disk_size = calculate_model_size_on_disk(f\"./artifacts/{dataset_subset}-{MODEL_NAME}.h5\")\n",
    "        num_parameters = calculate_model_num_parameters(model)\n",
    "\n",
    "        # evaluate model on ds_test and log to wandb\n",
    "        test_loss, test_acc = model.evaluate(ds_test)\n",
    "\n",
    "        wandb.log({\n",
    "            \"dataset subset\": dataset_subset,\n",
    "            \"test loss\": test_loss, \n",
    "            \"test accuracy\": test_acc, \n",
    "            \"number of parameters\": num_parameters,\n",
    "            \"disk size\": disk_size, \n",
    "            \"model flops\": flops\n",
    "            })\n",
    "\n",
    "        # save artifact to wandb\n",
    "        artifact = wandb.Artifact(\n",
    "            name=f\"{dataset_subset}-{MODEL_NAME}\",\n",
    "            type=\"model\"\n",
    "        )\n",
    "\n",
    "        # save best model to artifact\n",
    "        artifact.add_file(f\"./artifacts/{dataset_subset}-{MODEL_NAME}.h5\")\n",
    "        run.log_artifact(artifact)\n",
    "        run.finish()"
   ]
  },
  {
   "cell_type": "code",
   "execution_count": null,
   "metadata": {},
   "outputs": [
    {
     "name": "stderr",
     "output_type": "stream",
     "text": [
      "Failed to detect the name of this notebook, you can set it manually with the WANDB_NOTEBOOK_NAME environment variable to enable code saving.\n",
      "\u001b[34m\u001b[1mwandb\u001b[0m: Currently logged in as: \u001b[33mgratkadlafana\u001b[0m. Use \u001b[1m`wandb login --relogin`\u001b[0m to force relogin\n"
     ]
    },
    {
     "data": {
      "text/html": [
       "Tracking run with wandb version 0.13.9"
      ],
      "text/plain": [
       "<IPython.core.display.HTML object>"
      ]
     },
     "metadata": {},
     "output_type": "display_data"
    },
    {
     "data": {
      "text/html": [
       "Run data is saved locally in <code>/workspace/notebooks/wandb/run-20230123_231505-m87e6vg2</code>"
      ],
      "text/plain": [
       "<IPython.core.display.HTML object>"
      ]
     },
     "metadata": {},
     "output_type": "display_data"
    },
    {
     "data": {
      "text/html": [
       "Syncing run <strong><a href=\"https://wandb.ai/gratkadlafana/master-thesis/runs/m87e6vg2\" target=\"_blank\">TinyVGG</a></strong> to <a href=\"https://wandb.ai/gratkadlafana/master-thesis\" target=\"_blank\">Weights & Biases</a> (<a href=\"https://wandb.me/run\" target=\"_blank\">docs</a>)<br/>"
      ],
      "text/plain": [
       "<IPython.core.display.HTML object>"
      ]
     },
     "metadata": {},
     "output_type": "display_data"
    },
    {
     "data": {
      "text/html": [
       " View project at <a href=\"https://wandb.ai/gratkadlafana/master-thesis\" target=\"_blank\">https://wandb.ai/gratkadlafana/master-thesis</a>"
      ],
      "text/plain": [
       "<IPython.core.display.HTML object>"
      ]
     },
     "metadata": {},
     "output_type": "display_data"
    },
    {
     "data": {
      "text/html": [
       " View run at <a href=\"https://wandb.ai/gratkadlafana/master-thesis/runs/m87e6vg2\" target=\"_blank\">https://wandb.ai/gratkadlafana/master-thesis/runs/m87e6vg2</a>"
      ],
      "text/plain": [
       "<IPython.core.display.HTML object>"
      ]
     },
     "metadata": {},
     "output_type": "display_data"
    },
    {
     "name": "stderr",
     "output_type": "stream",
     "text": [
      "\u001b[34m\u001b[1mwandb\u001b[0m: Downloading large artifact uppercase_splits_tfds:latest, 100.25MB. 21 files... \n",
      "\u001b[34m\u001b[1mwandb\u001b[0m:   21 of 21 files downloaded.  \n",
      "Done. 0:0:0.0\n",
      "2023-01-23 23:15:08.758254: I tensorflow/core/platform/cpu_feature_guard.cc:193] This TensorFlow binary is optimized with oneAPI Deep Neural Network Library (oneDNN) to use the following CPU instructions in performance-critical operations:  AVX2 FMA\n",
      "To enable them in other operations, rebuild TensorFlow with the appropriate compiler flags.\n"
     ]
    },
    {
     "name": "stdout",
     "output_type": "stream",
     "text": [
      "WARNING:tensorflow:From /usr/local/lib/python3.8/dist-packages/tensorflow/python/autograph/pyct/static_analysis/liveness.py:83: Analyzer.lamba_check (from tensorflow.python.autograph.pyct.static_analysis.liveness) is deprecated and will be removed after 2023-09-23.\n",
      "Instructions for updating:\n",
      "Lambda fuctions will be no more assumed to be used in the statement where they are used, or at least in the same block. https://github.com/tensorflow/tensorflow/issues/56089\n"
     ]
    },
    {
     "name": "stderr",
     "output_type": "stream",
     "text": [
      "2023-01-23 23:15:08.759001: I tensorflow/compiler/xla/stream_executor/cuda/cuda_gpu_executor.cc:967] could not open file to read NUMA node: /sys/bus/pci/devices/0000:26:00.0/numa_node\n",
      "Your kernel may have been built without NUMA support.\n",
      "2023-01-23 23:15:08.759207: I tensorflow/compiler/xla/stream_executor/cuda/cuda_gpu_executor.cc:967] could not open file to read NUMA node: /sys/bus/pci/devices/0000:26:00.0/numa_node\n",
      "Your kernel may have been built without NUMA support.\n",
      "2023-01-23 23:15:08.759414: I tensorflow/compiler/xla/stream_executor/cuda/cuda_gpu_executor.cc:967] could not open file to read NUMA node: /sys/bus/pci/devices/0000:26:00.0/numa_node\n",
      "Your kernel may have been built without NUMA support.\n",
      "2023-01-23 23:15:09.847791: I tensorflow/compiler/xla/stream_executor/cuda/cuda_gpu_executor.cc:967] could not open file to read NUMA node: /sys/bus/pci/devices/0000:26:00.0/numa_node\n",
      "Your kernel may have been built without NUMA support.\n",
      "2023-01-23 23:15:09.848049: I tensorflow/compiler/xla/stream_executor/cuda/cuda_gpu_executor.cc:967] could not open file to read NUMA node: /sys/bus/pci/devices/0000:26:00.0/numa_node\n",
      "Your kernel may have been built without NUMA support.\n",
      "2023-01-23 23:15:09.848062: I tensorflow/core/common_runtime/gpu/gpu_device.cc:1700] Could not identify NUMA node of platform GPU id 0, defaulting to 0.  Your kernel may not have been built with NUMA support.\n",
      "2023-01-23 23:15:09.848294: I tensorflow/compiler/xla/stream_executor/cuda/cuda_gpu_executor.cc:967] could not open file to read NUMA node: /sys/bus/pci/devices/0000:26:00.0/numa_node\n",
      "Your kernel may have been built without NUMA support.\n",
      "2023-01-23 23:15:09.848977: I tensorflow/core/common_runtime/gpu/gpu_device.cc:1613] Created device /job:localhost/replica:0/task:0/device:GPU:0 with 2075 MB memory:  -> device: 0, name: NVIDIA GeForce GTX 1650 SUPER, pci bus id: 0000:26:00.0, compute capability: 7.5\n"
     ]
    },
    {
     "name": "stdout",
     "output_type": "stream",
     "text": [
      "WARNING:tensorflow:From /usr/local/lib/python3.8/dist-packages/tensorflow/python/ops/nn_ops.py:5250: tensor_shape_from_node_def_name (from tensorflow.python.framework.graph_util_impl) is deprecated and will be removed in a future version.\n",
      "Instructions for updating:\n",
      "This API was designed for TensorFlow v1. See https://www.tensorflow.org/guide/migrate for instructions on how to migrate your code to TensorFlow v2.\n",
      "Epoch 1/100\n"
     ]
    },
    {
     "name": "stderr",
     "output_type": "stream",
     "text": [
      "2023-01-23 23:15:10.463483: I tensorflow/compiler/xla/stream_executor/cuda/cuda_gpu_executor.cc:967] could not open file to read NUMA node: /sys/bus/pci/devices/0000:26:00.0/numa_node\n",
      "Your kernel may have been built without NUMA support.\n",
      "2023-01-23 23:15:10.463531: I tensorflow/core/grappler/devices.cc:66] Number of eligible GPUs (core count >= 8, compute capability >= 0.0): 1\n",
      "2023-01-23 23:15:10.463691: I tensorflow/core/grappler/clusters/single_machine.cc:358] Starting new session\n",
      "2023-01-23 23:15:10.464530: I tensorflow/compiler/xla/stream_executor/cuda/cuda_gpu_executor.cc:967] could not open file to read NUMA node: /sys/bus/pci/devices/0000:26:00.0/numa_node\n",
      "Your kernel may have been built without NUMA support.\n",
      "2023-01-23 23:15:10.464754: I tensorflow/compiler/xla/stream_executor/cuda/cuda_gpu_executor.cc:967] could not open file to read NUMA node: /sys/bus/pci/devices/0000:26:00.0/numa_node\n",
      "Your kernel may have been built without NUMA support.\n",
      "2023-01-23 23:15:10.464970: I tensorflow/compiler/xla/stream_executor/cuda/cuda_gpu_executor.cc:967] could not open file to read NUMA node: /sys/bus/pci/devices/0000:26:00.0/numa_node\n",
      "Your kernel may have been built without NUMA support.\n",
      "2023-01-23 23:15:10.465329: I tensorflow/compiler/xla/stream_executor/cuda/cuda_gpu_executor.cc:967] could not open file to read NUMA node: /sys/bus/pci/devices/0000:26:00.0/numa_node\n",
      "Your kernel may have been built without NUMA support.\n",
      "2023-01-23 23:15:10.465341: I tensorflow/core/common_runtime/gpu/gpu_device.cc:1700] Could not identify NUMA node of platform GPU id 0, defaulting to 0.  Your kernel may not have been built with NUMA support.\n",
      "2023-01-23 23:15:10.465593: I tensorflow/compiler/xla/stream_executor/cuda/cuda_gpu_executor.cc:967] could not open file to read NUMA node: /sys/bus/pci/devices/0000:26:00.0/numa_node\n",
      "Your kernel may have been built without NUMA support.\n",
      "2023-01-23 23:15:10.465615: I tensorflow/core/common_runtime/gpu/gpu_device.cc:1613] Created device /job:localhost/replica:0/task:0/device:GPU:0 with 2075 MB memory:  -> device: 0, name: NVIDIA GeForce GTX 1650 SUPER, pci bus id: 0000:26:00.0, compute capability: 7.5\n",
      "/usr/local/lib/python3.8/dist-packages/keras/backend.py:5585: UserWarning: \"`sparse_categorical_crossentropy` received `from_logits=True`, but the `output` argument was produced by a Softmax activation and thus does not represent logits. Was this intended?\n",
      "  output, from_logits = _get_logits(\n",
      "2023-01-23 23:15:11.918902: I tensorflow/compiler/xla/stream_executor/cuda/cuda_dnn.cc:428] Loaded cuDNN version 8100\n",
      "2023-01-23 23:15:13.974826: I tensorflow/compiler/xla/service/service.cc:173] XLA service 0x7f2a58007600 initialized for platform CUDA (this does not guarantee that XLA will be used). Devices:\n",
      "2023-01-23 23:15:13.974893: I tensorflow/compiler/xla/service/service.cc:181]   StreamExecutor device (0): NVIDIA GeForce GTX 1650 SUPER, Compute Capability 7.5\n",
      "2023-01-23 23:15:14.008507: I tensorflow/compiler/mlir/tensorflow/utils/dump_mlir_util.cc:268] disabling MLIR crash reproducer, set env var `MLIR_CRASH_REPRODUCER_DIRECTORY` to enable.\n",
      "2023-01-23 23:15:14.361102: I tensorflow/compiler/jit/xla_compilation_cache.cc:477] Compiled cluster using XLA!  This line is logged at most once for the lifetime of the process.\n"
     ]
    },
    {
     "name": "stdout",
     "output_type": "stream",
     "text": [
      "1205/1205 [==============================] - 19s 11ms/step - loss: 0.8293 - accuracy: 0.7671 - val_loss: 0.3963 - val_accuracy: 0.8846\n",
      "Epoch 2/100\n",
      "1205/1205 [==============================] - 11s 9ms/step - loss: 0.3543 - accuracy: 0.8982 - val_loss: 0.3124 - val_accuracy: 0.9096\n",
      "Epoch 3/100\n",
      "1205/1205 [==============================] - 11s 9ms/step - loss: 0.3053 - accuracy: 0.9127 - val_loss: 0.2761 - val_accuracy: 0.9218\n",
      "Epoch 4/100\n",
      "1205/1205 [==============================] - 10s 8ms/step - loss: 0.2796 - accuracy: 0.9201 - val_loss: 0.2547 - val_accuracy: 0.9270\n",
      "Epoch 5/100\n",
      "1205/1205 [==============================] - 11s 9ms/step - loss: 0.2615 - accuracy: 0.9255 - val_loss: 0.2407 - val_accuracy: 0.9309\n",
      "Epoch 6/100\n",
      "1205/1205 [==============================] - 11s 9ms/step - loss: 0.2477 - accuracy: 0.9293 - val_loss: 0.2299 - val_accuracy: 0.9344\n",
      "Epoch 7/100\n",
      "1205/1205 [==============================] - 10s 8ms/step - loss: 0.2366 - accuracy: 0.9325 - val_loss: 0.2182 - val_accuracy: 0.9367\n",
      "Epoch 8/100\n",
      "1205/1205 [==============================] - 10s 8ms/step - loss: 0.2274 - accuracy: 0.9352 - val_loss: 0.2125 - val_accuracy: 0.9388\n",
      "Epoch 9/100\n",
      "1205/1205 [==============================] - 11s 9ms/step - loss: 0.2201 - accuracy: 0.9375 - val_loss: 0.2052 - val_accuracy: 0.9411\n",
      "Epoch 10/100\n",
      "1205/1205 [==============================] - 10s 9ms/step - loss: 0.2136 - accuracy: 0.9394 - val_loss: 0.1991 - val_accuracy: 0.9424\n",
      "Epoch 11/100\n",
      "1205/1205 [==============================] - 10s 9ms/step - loss: 0.2080 - accuracy: 0.9410 - val_loss: 0.1944 - val_accuracy: 0.9439\n",
      "Epoch 12/100\n",
      "1205/1205 [==============================] - 10s 9ms/step - loss: 0.2030 - accuracy: 0.9422 - val_loss: 0.1884 - val_accuracy: 0.9451\n",
      "Epoch 13/100\n",
      "1205/1205 [==============================] - 10s 8ms/step - loss: 0.1969 - accuracy: 0.9441 - val_loss: 0.1844 - val_accuracy: 0.9465\n",
      "Epoch 14/100\n",
      "1205/1205 [==============================] - 10s 8ms/step - loss: 0.1915 - accuracy: 0.9457 - val_loss: 0.1795 - val_accuracy: 0.9475\n",
      "Epoch 15/100\n",
      "1205/1205 [==============================] - 10s 8ms/step - loss: 0.1872 - accuracy: 0.9466 - val_loss: 0.1769 - val_accuracy: 0.9481\n",
      "Epoch 16/100\n",
      "1205/1205 [==============================] - 10s 8ms/step - loss: 0.1836 - accuracy: 0.9476 - val_loss: 0.1717 - val_accuracy: 0.9496\n",
      "Epoch 17/100\n",
      "1205/1205 [==============================] - 10s 8ms/step - loss: 0.1806 - accuracy: 0.9482 - val_loss: 0.1687 - val_accuracy: 0.9504\n",
      "Epoch 18/100\n",
      "1205/1205 [==============================] - 10s 9ms/step - loss: 0.1778 - accuracy: 0.9491 - val_loss: 0.1678 - val_accuracy: 0.9500\n",
      "Epoch 19/100\n",
      "1205/1205 [==============================] - 11s 9ms/step - loss: 0.1754 - accuracy: 0.9501 - val_loss: 0.1660 - val_accuracy: 0.9510\n",
      "Epoch 20/100\n",
      "1205/1205 [==============================] - 11s 9ms/step - loss: 0.1731 - accuracy: 0.9507 - val_loss: 0.1627 - val_accuracy: 0.9513\n",
      "Epoch 21/100\n",
      "1205/1205 [==============================] - 11s 9ms/step - loss: 0.1710 - accuracy: 0.9514 - val_loss: 0.1614 - val_accuracy: 0.9520\n",
      "Epoch 22/100\n",
      "1205/1205 [==============================] - 13s 11ms/step - loss: 0.1691 - accuracy: 0.9519 - val_loss: 0.1597 - val_accuracy: 0.9520\n",
      "Epoch 23/100\n",
      "1205/1205 [==============================] - 18s 15ms/step - loss: 0.1674 - accuracy: 0.9524 - val_loss: 0.1589 - val_accuracy: 0.9522\n",
      "Epoch 24/100\n",
      "1205/1205 [==============================] - 15s 12ms/step - loss: 0.1657 - accuracy: 0.9531 - val_loss: 0.1566 - val_accuracy: 0.9536\n",
      "Epoch 25/100\n",
      "1205/1205 [==============================] - 10s 8ms/step - loss: 0.1642 - accuracy: 0.9534 - val_loss: 0.1564 - val_accuracy: 0.9535\n",
      "Epoch 26/100\n",
      "1205/1205 [==============================] - 10s 8ms/step - loss: 0.1627 - accuracy: 0.9537 - val_loss: 0.1542 - val_accuracy: 0.9539\n",
      "Epoch 27/100\n",
      "1205/1205 [==============================] - 11s 9ms/step - loss: 0.1615 - accuracy: 0.9540 - val_loss: 0.1524 - val_accuracy: 0.9549\n",
      "Epoch 28/100\n",
      "1205/1205 [==============================] - 11s 9ms/step - loss: 0.1604 - accuracy: 0.9545 - val_loss: 0.1514 - val_accuracy: 0.9548\n",
      "Epoch 29/100\n",
      "1205/1205 [==============================] - 11s 9ms/step - loss: 0.1593 - accuracy: 0.9549 - val_loss: 0.1513 - val_accuracy: 0.9552\n",
      "Epoch 30/100\n",
      "1205/1205 [==============================] - 10s 8ms/step - loss: 0.1583 - accuracy: 0.9551 - val_loss: 0.1497 - val_accuracy: 0.9553\n",
      "Epoch 31/100\n",
      "1205/1205 [==============================] - 10s 8ms/step - loss: 0.1573 - accuracy: 0.9554 - val_loss: 0.1518 - val_accuracy: 0.9544\n",
      "Epoch 32/100\n",
      "1205/1205 [==============================] - 11s 9ms/step - loss: 0.1563 - accuracy: 0.9557 - val_loss: 0.1510 - val_accuracy: 0.9542\n",
      "Epoch 33/100\n",
      "1205/1205 [==============================] - 10s 9ms/step - loss: 0.1554 - accuracy: 0.9562 - val_loss: 0.1506 - val_accuracy: 0.9547\n",
      "Epoch 34/100\n",
      "1205/1205 [==============================] - 11s 9ms/step - loss: 0.1545 - accuracy: 0.9562 - val_loss: 0.1501 - val_accuracy: 0.9544\n",
      "Epoch 35/100\n",
      "1205/1205 [==============================] - 10s 8ms/step - loss: 0.1537 - accuracy: 0.9564 - val_loss: 0.1499 - val_accuracy: 0.9542\n",
      "Epoch 36/100\n",
      "1205/1205 [==============================] - 11s 9ms/step - loss: 0.1528 - accuracy: 0.9567 - val_loss: 0.1484 - val_accuracy: 0.9548\n",
      "Epoch 37/100\n",
      "1205/1205 [==============================] - 11s 9ms/step - loss: 0.1520 - accuracy: 0.9569 - val_loss: 0.1478 - val_accuracy: 0.9551\n",
      "Epoch 38/100\n",
      "1205/1205 [==============================] - 16s 13ms/step - loss: 0.1514 - accuracy: 0.9573 - val_loss: 0.1468 - val_accuracy: 0.9555\n",
      "Epoch 39/100\n",
      "1205/1205 [==============================] - 12s 10ms/step - loss: 0.1506 - accuracy: 0.9574 - val_loss: 0.1470 - val_accuracy: 0.9553\n",
      "Epoch 40/100\n",
      "1205/1205 [==============================] - 10s 8ms/step - loss: 0.1500 - accuracy: 0.9575 - val_loss: 0.1459 - val_accuracy: 0.9560\n",
      "Epoch 41/100\n",
      "1205/1205 [==============================] - 10s 8ms/step - loss: 0.1492 - accuracy: 0.9577 - val_loss: 0.1452 - val_accuracy: 0.9557\n",
      "Epoch 42/100\n",
      "1205/1205 [==============================] - 10s 8ms/step - loss: 0.1487 - accuracy: 0.9577 - val_loss: 0.1447 - val_accuracy: 0.9560\n",
      "Epoch 43/100\n",
      "1205/1205 [==============================] - 10s 8ms/step - loss: 0.1481 - accuracy: 0.9579 - val_loss: 0.1443 - val_accuracy: 0.9560\n",
      "Epoch 44/100\n",
      "1205/1205 [==============================] - 11s 9ms/step - loss: 0.1475 - accuracy: 0.9581 - val_loss: 0.1437 - val_accuracy: 0.9559\n",
      "Epoch 45/100\n",
      "1205/1205 [==============================] - 10s 8ms/step - loss: 0.1469 - accuracy: 0.9584 - val_loss: 0.1429 - val_accuracy: 0.9566\n",
      "Epoch 46/100\n",
      "1205/1205 [==============================] - 10s 9ms/step - loss: 0.1463 - accuracy: 0.9584 - val_loss: 0.1419 - val_accuracy: 0.9565\n",
      "Epoch 47/100\n",
      "1205/1205 [==============================] - 11s 9ms/step - loss: 0.1458 - accuracy: 0.9583 - val_loss: 0.1414 - val_accuracy: 0.9566\n",
      "Epoch 48/100\n",
      "1205/1205 [==============================] - 14s 11ms/step - loss: 0.1453 - accuracy: 0.9586 - val_loss: 0.1410 - val_accuracy: 0.9566\n",
      "Epoch 49/100\n",
      "1205/1205 [==============================] - 11s 9ms/step - loss: 0.1448 - accuracy: 0.9588 - val_loss: 0.1399 - val_accuracy: 0.9574\n",
      "Epoch 50/100\n",
      "1205/1205 [==============================] - 12s 10ms/step - loss: 0.1442 - accuracy: 0.9588 - val_loss: 0.1390 - val_accuracy: 0.9572\n",
      "Epoch 51/100\n",
      "1205/1205 [==============================] - 12s 10ms/step - loss: 0.1437 - accuracy: 0.9590 - val_loss: 0.1376 - val_accuracy: 0.9579\n",
      "Epoch 52/100\n",
      "1205/1205 [==============================] - 11s 9ms/step - loss: 0.1432 - accuracy: 0.9590 - val_loss: 0.1379 - val_accuracy: 0.9575\n",
      "Epoch 53/100\n",
      "1205/1205 [==============================] - 12s 10ms/step - loss: 0.1427 - accuracy: 0.9592 - val_loss: 0.1373 - val_accuracy: 0.9576\n",
      "Epoch 54/100\n",
      "1205/1205 [==============================] - 11s 9ms/step - loss: 0.1423 - accuracy: 0.9593 - val_loss: 0.1377 - val_accuracy: 0.9576\n",
      "Epoch 55/100\n",
      "1205/1205 [==============================] - 10s 8ms/step - loss: 0.1419 - accuracy: 0.9595 - val_loss: 0.1377 - val_accuracy: 0.9574\n",
      "Epoch 56/100\n",
      "1205/1205 [==============================] - 9s 8ms/step - loss: 0.1415 - accuracy: 0.9595 - val_loss: 0.1378 - val_accuracy: 0.9576\n",
      "Epoch 57/100\n",
      "1205/1205 [==============================] - 10s 8ms/step - loss: 0.1410 - accuracy: 0.9596 - val_loss: 0.1375 - val_accuracy: 0.9578\n",
      "Epoch 58/100\n",
      "1205/1205 [==============================] - 9s 8ms/step - loss: 0.1405 - accuracy: 0.9599 - val_loss: 0.1377 - val_accuracy: 0.9572\n",
      "Epoch 59/100\n",
      "1205/1205 [==============================] - 10s 8ms/step - loss: 0.1401 - accuracy: 0.9598 - val_loss: 0.1381 - val_accuracy: 0.9567\n",
      "Epoch 60/100\n",
      "1205/1205 [==============================] - 10s 8ms/step - loss: 0.1396 - accuracy: 0.9600 - val_loss: 0.1371 - val_accuracy: 0.9573\n",
      "Epoch 61/100\n",
      "1205/1205 [==============================] - 10s 8ms/step - loss: 0.1392 - accuracy: 0.9602 - val_loss: 0.1373 - val_accuracy: 0.9568\n",
      "Epoch 62/100\n",
      "1205/1205 [==============================] - 10s 8ms/step - loss: 0.1390 - accuracy: 0.9599 - val_loss: 0.1370 - val_accuracy: 0.9576\n",
      "Epoch 63/100\n",
      "1205/1205 [==============================] - 10s 8ms/step - loss: 0.1385 - accuracy: 0.9603 - val_loss: 0.1359 - val_accuracy: 0.9576\n",
      "Epoch 64/100\n",
      "1205/1205 [==============================] - 10s 8ms/step - loss: 0.1382 - accuracy: 0.9603 - val_loss: 0.1347 - val_accuracy: 0.9583\n",
      "Epoch 65/100\n",
      "1205/1205 [==============================] - 10s 8ms/step - loss: 0.1378 - accuracy: 0.9605 - val_loss: 0.1343 - val_accuracy: 0.9587\n",
      "Epoch 66/100\n",
      "1205/1205 [==============================] - 10s 8ms/step - loss: 0.1374 - accuracy: 0.9605 - val_loss: 0.1343 - val_accuracy: 0.9584\n",
      "Epoch 67/100\n",
      "1205/1205 [==============================] - 11s 9ms/step - loss: 0.1371 - accuracy: 0.9606 - val_loss: 0.1346 - val_accuracy: 0.9581\n",
      "Epoch 68/100\n",
      "1205/1205 [==============================] - 11s 9ms/step - loss: 0.1367 - accuracy: 0.9607 - val_loss: 0.1340 - val_accuracy: 0.9587\n",
      "Epoch 69/100\n",
      "1205/1205 [==============================] - 11s 9ms/step - loss: 0.1366 - accuracy: 0.9609 - val_loss: 0.1333 - val_accuracy: 0.9584\n",
      "Epoch 70/100\n",
      "1205/1205 [==============================] - 14s 12ms/step - loss: 0.1362 - accuracy: 0.9608 - val_loss: 0.1335 - val_accuracy: 0.9585\n",
      "Epoch 71/100\n",
      "1205/1205 [==============================] - 12s 10ms/step - loss: 0.1358 - accuracy: 0.9610 - val_loss: 0.1331 - val_accuracy: 0.9588\n",
      "Epoch 72/100\n",
      "1205/1205 [==============================] - 12s 10ms/step - loss: 0.1354 - accuracy: 0.9612 - val_loss: 0.1327 - val_accuracy: 0.9587\n",
      "Epoch 73/100\n",
      "1205/1205 [==============================] - 12s 10ms/step - loss: 0.1351 - accuracy: 0.9613 - val_loss: 0.1328 - val_accuracy: 0.9587\n",
      "Epoch 74/100\n",
      "1205/1205 [==============================] - 13s 10ms/step - loss: 0.1348 - accuracy: 0.9614 - val_loss: 0.1332 - val_accuracy: 0.9583\n",
      "Epoch 75/100\n",
      "1205/1205 [==============================] - 13s 11ms/step - loss: 0.1347 - accuracy: 0.9613 - val_loss: 0.1328 - val_accuracy: 0.9583\n",
      "Epoch 76/100\n",
      "1205/1205 [==============================] - 11s 9ms/step - loss: 0.1343 - accuracy: 0.9615 - val_loss: 0.1332 - val_accuracy: 0.9579\n",
      "Epoch 77/100\n",
      "1205/1205 [==============================] - 12s 10ms/step - loss: 0.1341 - accuracy: 0.9616 - val_loss: 0.1330 - val_accuracy: 0.9584\n",
      "Epoch 78/100\n",
      "1205/1205 [==============================] - 12s 10ms/step - loss: 0.1338 - accuracy: 0.9617 - val_loss: 0.1329 - val_accuracy: 0.9588\n",
      "Epoch 79/100\n",
      "1205/1205 [==============================] - 13s 11ms/step - loss: 0.1335 - accuracy: 0.9618 - val_loss: 0.1333 - val_accuracy: 0.9584\n",
      "Epoch 80/100\n",
      "1205/1205 [==============================] - 11s 9ms/step - loss: 0.1332 - accuracy: 0.9619 - val_loss: 0.1336 - val_accuracy: 0.9584\n",
      "Epoch 81/100\n",
      "1205/1205 [==============================] - 13s 11ms/step - loss: 0.1329 - accuracy: 0.9622 - val_loss: 0.1327 - val_accuracy: 0.9585\n",
      "Epoch 82/100\n",
      "1205/1205 [==============================] - 12s 10ms/step - loss: 0.1327 - accuracy: 0.9623 - val_loss: 0.1324 - val_accuracy: 0.9588\n",
      "Epoch 83/100\n",
      "1205/1205 [==============================] - 12s 10ms/step - loss: 0.1326 - accuracy: 0.9620 - val_loss: 0.1328 - val_accuracy: 0.9590\n",
      "Epoch 84/100\n",
      "1205/1205 [==============================] - 11s 9ms/step - loss: 0.1323 - accuracy: 0.9622 - val_loss: 0.1321 - val_accuracy: 0.9590\n",
      "Epoch 85/100\n",
      "1205/1205 [==============================] - 11s 9ms/step - loss: 0.1320 - accuracy: 0.9624 - val_loss: 0.1320 - val_accuracy: 0.9589\n",
      "Epoch 86/100\n",
      "1205/1205 [==============================] - 13s 11ms/step - loss: 0.1317 - accuracy: 0.9624 - val_loss: 0.1327 - val_accuracy: 0.9591\n",
      "Epoch 87/100\n",
      "1205/1205 [==============================] - 14s 11ms/step - loss: 0.1314 - accuracy: 0.9627 - val_loss: 0.1329 - val_accuracy: 0.9586\n",
      "Epoch 88/100\n",
      "1205/1205 [==============================] - 12s 10ms/step - loss: 0.1311 - accuracy: 0.9628 - val_loss: 0.1332 - val_accuracy: 0.9593\n",
      "Epoch 89/100\n",
      "1205/1205 [==============================] - 11s 9ms/step - loss: 0.1310 - accuracy: 0.9628 - val_loss: 0.1333 - val_accuracy: 0.9587\n",
      "Epoch 90/100\n",
      "1205/1205 [==============================] - 12s 10ms/step - loss: 0.1306 - accuracy: 0.9627 - val_loss: 0.1326 - val_accuracy: 0.9588\n",
      "Epoch 91/100\n",
      "1205/1205 [==============================] - 11s 9ms/step - loss: 0.1306 - accuracy: 0.9628 - val_loss: 0.1329 - val_accuracy: 0.9588\n",
      "Epoch 92/100\n",
      "1205/1205 [==============================] - 12s 10ms/step - loss: 0.1301 - accuracy: 0.9628 - val_loss: 0.1327 - val_accuracy: 0.9589\n",
      "Epoch 93/100\n",
      "1205/1205 [==============================] - 12s 10ms/step - loss: 0.1300 - accuracy: 0.9629 - val_loss: 0.1325 - val_accuracy: 0.9586\n",
      "Epoch 94/100\n",
      "1205/1205 [==============================] - 12s 10ms/step - loss: 0.1298 - accuracy: 0.9629 - val_loss: 0.1317 - val_accuracy: 0.9593\n",
      "Epoch 95/100\n",
      "1205/1205 [==============================] - 12s 10ms/step - loss: 0.1296 - accuracy: 0.9630 - val_loss: 0.1329 - val_accuracy: 0.9589\n",
      "Epoch 96/100\n",
      "1204/1205 [============================>.] - ETA: 0s - loss: 0.1295 - accuracy: 0.9631"
     ]
    }
   ],
   "source": [
    "defaults['filters'] = 10\n",
    "train(\"uppercase\", defaults)"
   ]
  },
  {
   "cell_type": "markdown",
   "metadata": {},
   "source": [
    "# W&B Sweep"
   ]
  },
  {
   "cell_type": "code",
   "execution_count": null,
   "metadata": {},
   "outputs": [],
   "source": [
    "# define sweep parameters\n",
    "sweep_config = {\n",
    "    \"method\": \"bayes\",\n",
    "    \"metric\": {\n",
    "        \"goal\": \"maximize\", \n",
    "        \"name\": \"val_accuracy\"\n",
    "    },\n",
    "    \"parameters\": {\n",
    "        \"filters\": {\n",
    "            \"values\": [10, 20, 30, 40, 50, 60, 70, 89]\n",
    "        },\n",
    "        \"batch_size\": {\n",
    "            \"value\": 32*4\n",
    "        },\n",
    "        \"epochs\": {\n",
    "            \"value\": 100\n",
    "        },\n",
    "        \"optimizer\": {\n",
    "            \"value\": \"adam\"\n",
    "        }\n",
    "    },\n",
    "}\n",
    "\n",
    "\n",
    "# launch sweep controller\n",
    "#sweep_id = wandb.sweep(sweep_config, project=\"master-thesis\")"
   ]
  },
  {
   "cell_type": "code",
   "execution_count": null,
   "metadata": {},
   "outputs": [],
   "source": [
    "def sweep_fn():\n",
    "    train(\"phcd_paper\",None, job_type='sweep', MODEL_NAME=\"TinyVGG\")\n",
    "#wandb.agent(sweep_id, sweep_fn, count=15)"
   ]
  }
 ],
 "metadata": {
  "kernelspec": {
   "display_name": "Python 3 (ipykernel)",
   "language": "python",
   "name": "python3"
  },
  "language_info": {
   "codemirror_mode": {
    "name": "ipython",
    "version": 3
   },
   "file_extension": ".py",
   "mimetype": "text/x-python",
   "name": "python",
   "nbconvert_exporter": "python",
   "pygments_lexer": "ipython3",
   "version": "3.8.10"
  },
  "vscode": {
   "interpreter": {
    "hash": "d798f8ad6d6c53bff9e7c2dca27b60374f042a436c567b9cf87bf4fc98c22b9c"
   }
  }
 },
 "nbformat": 4,
 "nbformat_minor": 4
}
