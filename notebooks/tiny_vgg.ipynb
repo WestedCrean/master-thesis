{
 "cells": [
  {
   "cell_type": "markdown",
   "metadata": {},
   "source": [
    "# TinyVGG network\n",
    "\n",
    "This notebook trains the TinyVGG network \n",
    "\n",
    "After training, model is serialized and uploaded to W&B project."
   ]
  },
  {
   "cell_type": "code",
   "execution_count": 1,
   "metadata": {},
   "outputs": [
    {
     "name": "stderr",
     "output_type": "stream",
     "text": [
      "2023-01-23 18:51:54.802394: I tensorflow/core/platform/cpu_feature_guard.cc:193] This TensorFlow binary is optimized with oneAPI Deep Neural Network Library (oneDNN) to use the following CPU instructions in performance-critical operations:  AVX2 FMA\n",
      "To enable them in other operations, rebuild TensorFlow with the appropriate compiler flags.\n"
     ]
    }
   ],
   "source": [
    "import wandb\n",
    "import tensorflow as tf\n",
    "import numpy as np\n",
    "import pathlib\n",
    "import shutil\n",
    "from typing import List\n",
    "\n",
    "POSSIBLE_DATASET_OPTIONS = [\"uppercase_no_diacritics\", \"uppercase\", \"lowercase_no_diacritics\", \"lowercase\", \"numbers\", \"phcd_paper\"]\n",
    "\n",
    "def load_data(run, dataset_option = 'letters') -> List[tf.data.Dataset]:\n",
    "    \"\"\"\n",
    "    Downloads datasets from a wandb artifact and loads them into a list of tf.data.Datasets.\n",
    "    \"\"\"\n",
    "\n",
    "    artifact_name = f\"{dataset_option}_splits_tfds\"\n",
    "    artifact = run.use_artifact(f\"master-thesis/{artifact_name}:latest\")\n",
    "    artifact_dir = pathlib.Path(\n",
    "        f\"./artifacts/{artifact.name.replace(':', '-')}\"\n",
    "    ).resolve()\n",
    "    if not artifact_dir.exists():\n",
    "        artifact_dir = artifact.download()\n",
    "        artifact_dir = pathlib.Path(artifact_dir).resolve()\n",
    "\n",
    "    # if tf.__version__ minor is less than 10, use\n",
    "    # tf.data.experimental.load instead of tf.data.Dataset.load\n",
    "\n",
    "    if int(tf.__version__.split(\".\")[1]) < 10:\n",
    "        load_function = tf.data.experimental.load\n",
    "    else:\n",
    "        load_function = tf.data.Dataset.load\n",
    "    \n",
    "    output_list = []\n",
    "    for split in [\"train\", \"test\", \"val\"]:\n",
    "        ds = load_function(str(artifact_dir / split), compression=\"GZIP\")\n",
    "        output_list.append(ds)\n",
    "    \n",
    "    return output_list\n",
    "\n",
    "def get_number_of_classes(ds: tf.data.Dataset) -> int:\n",
    "    \"\"\"\n",
    "    Returns the number of classes in a dataset.\n",
    "    \"\"\"\n",
    "    labels_iterator= ds.map(lambda x, y: y).as_numpy_iterator()\n",
    "    labels = np.concatenate(list(labels_iterator))\n",
    "    return len(np.unique(labels))\n",
    "\n",
    "def preprocess_dataset(ds: tf.data.Dataset, batch_size: int, cache: bool = True) -> tf.data.Dataset:\n",
    "    ds = ds.map(lambda x, y: (tf.cast(x, tf.float32) / 255.0, y))  # normalize\n",
    "    ds = ds.unbatch().batch(batch_size)\n",
    "    if cache:\n",
    "        ds = ds.cache().prefetch(buffer_size=tf.data.AUTOTUNE)\n",
    "    return ds\n",
    "\n",
    "def calculate_model_size_on_disk(path: str) -> int:\n",
    "    return pathlib.Path(path).stat().st_size    \n",
    "\n",
    "def calculate_model_num_parameters(model: tf.keras.Model) -> int:\n",
    "    return model.count_params()\n",
    "\n",
    "def calculate_model_flops(summary) -> float:\n",
    "    # from run.summary get GFLOPs or GFLOPS whichever is available\n",
    "    if \"GFLOPs\" in summary:\n",
    "        return summary.get(\"GFLOPs\")\n",
    "    elif \"GFLOPS\" in summary:\n",
    "        return summary.get(\"GFLOPS\")\n",
    "\n",
    "class Terminate_slow_convergence(tf.keras.callbacks.Callback):\n",
    "    ACCURACY_THRESHOLD =  0.9\n",
    "    EPOCH = 6\n",
    "    MAX_VAL_ACCURACY_THRESHOLD = 0.9995\n",
    "\n",
    "    def on_epoch_end(self, epoch, logs={}):\n",
    "        \n",
    "        # if model is not converging fast, stop training\n",
    "        if(logs.get('accuracy') < self.ACCURACY_THRESHOLD and epoch > self.EPOCH):\n",
    "            print(f\"Model accuracy is {logs.get('accuracy')} and is below {self.ACCURACY_THRESHOLD} at epoch {epoch}. Terminating training.\")\n",
    "            self.model.stop_training = True\n",
    "            \n",
    "        # if model converged, stop training\n",
    "        if(logs.get('val_accuracy') >= self.MAX_VAL_ACCURACY_THRESHOLD and epoch > 2):\n",
    "            print(f\"Model reached max val_accuracy. Terminating training.\")\n",
    "            self.model.stop_training = True"
   ]
  },
  {
   "cell_type": "code",
   "execution_count": 2,
   "metadata": {},
   "outputs": [],
   "source": [
    "defaults = dict(\n",
    "    batch_size=32*4,\n",
    "    epochs=100,    \n",
    "    optimizer=\"adam\"\n",
    ")"
   ]
  },
  {
   "cell_type": "code",
   "execution_count": 3,
   "metadata": {},
   "outputs": [
    {
     "name": "stdout",
     "output_type": "stream",
     "text": [
      "Num GPUs Available:  1\n",
      "Available devices:  [PhysicalDevice(name='/physical_device:CPU:0', device_type='CPU'), PhysicalDevice(name='/physical_device:GPU:0', device_type='GPU')]\n"
     ]
    },
    {
     "name": "stderr",
     "output_type": "stream",
     "text": [
      "2023-01-23 18:51:56.314104: I tensorflow/compiler/xla/stream_executor/cuda/cuda_gpu_executor.cc:967] could not open file to read NUMA node: /sys/bus/pci/devices/0000:26:00.0/numa_node\n",
      "Your kernel may have been built without NUMA support.\n",
      "2023-01-23 18:51:56.316618: I tensorflow/compiler/xla/stream_executor/cuda/cuda_gpu_executor.cc:967] could not open file to read NUMA node: /sys/bus/pci/devices/0000:26:00.0/numa_node\n",
      "Your kernel may have been built without NUMA support.\n",
      "2023-01-23 18:51:56.316849: I tensorflow/compiler/xla/stream_executor/cuda/cuda_gpu_executor.cc:967] could not open file to read NUMA node: /sys/bus/pci/devices/0000:26:00.0/numa_node\n",
      "Your kernel may have been built without NUMA support.\n"
     ]
    }
   ],
   "source": [
    "print(\"Num GPUs Available: \", len(tf.config.experimental.list_physical_devices('GPU')))\n",
    "print(\"Available devices: \", tf.config.list_physical_devices())"
   ]
  },
  {
   "cell_type": "code",
   "execution_count": 4,
   "metadata": {},
   "outputs": [],
   "source": [
    "\n",
    "def train(dataset_subset, defaults, MODEL_NAME = \"TinyVGG\", job_type = \"training\"):\n",
    "    with wandb.init(project=\"master-thesis\", job_type=job_type, name=MODEL_NAME, config=defaults) as run:\n",
    "        filters = wandb.config.filters\n",
    "        ds_train, ds_test, ds_val = load_data(run, dataset_option=dataset_subset)\n",
    "\n",
    "        num_classes = get_number_of_classes(ds_val)\n",
    "        ds_train = preprocess_dataset(ds_train, batch_size=wandb.config.batch_size)\n",
    "        ds_val = preprocess_dataset(ds_val, batch_size=wandb.config.batch_size)\n",
    "        ds_test = preprocess_dataset(ds_test, batch_size=wandb.config.batch_size, cache=False)\n",
    "\n",
    "        model = tf.keras.Sequential(\n",
    "            [\n",
    "                tf.keras.layers.InputLayer(input_shape=(32, 32, 1)),\n",
    "\n",
    "                tf.keras.layers.Conv2D(filters,kernel_size=(3, 3), activation=\"relu\"),\n",
    "                tf.keras.layers.Conv2D(filters,kernel_size=(3, 3), activation=\"relu\"),\n",
    "                tf.keras.layers.MaxPooling2D(pool_size=(2, 2)),\n",
    "\n",
    "                tf.keras.layers.Conv2D(filters,kernel_size=(3, 3), activation=\"relu\"),\n",
    "                tf.keras.layers.Conv2D(filters,kernel_size=(3, 3), activation=\"relu\"),\n",
    "                tf.keras.layers.MaxPooling2D(pool_size=(2, 2)),\n",
    "\n",
    "                tf.keras.layers.Flatten(),\n",
    "                tf.keras.layers.Dense(num_classes, activation=\"softmax\"),\n",
    "            ]\n",
    "        )\n",
    "\n",
    "        model.compile(\n",
    "            optimizer=\"adam\",\n",
    "            loss=tf.keras.losses.SparseCategoricalCrossentropy(from_logits=True),\n",
    "            metrics=[\"accuracy\"],\n",
    "        )\n",
    "\n",
    "        # save the best model\n",
    "        checkpoint_callback = tf.keras.callbacks.ModelCheckpoint(\n",
    "            filepath=f\"./artifacts/{dataset_subset}-{MODEL_NAME}.h5\",\n",
    "            save_weights_only=False,\n",
    "            monitor=\"val_accuracy\",\n",
    "            mode=\"max\",\n",
    "            save_best_only=True,\n",
    "        )\n",
    "\n",
    "        wandb_callback = wandb.keras.WandbCallback(\n",
    "            save_model=False,\n",
    "            compute_flops=True,\n",
    "        )\n",
    "\n",
    "        history = model.fit(\n",
    "            ds_train,\n",
    "            epochs=wandb.config.epochs,\n",
    "            validation_data=ds_val,\n",
    "            callbacks=[wandb_callback, checkpoint_callback],\n",
    "        )\n",
    "\n",
    "        # calculate model size on disk, flops and number of parameters\n",
    "\n",
    "        flops = calculate_model_flops(wandb.run.summary)\n",
    "        disk_size = calculate_model_size_on_disk(f\"./artifacts/{dataset_subset}-{MODEL_NAME}.h5\")\n",
    "        num_parameters = calculate_model_num_parameters(model)\n",
    "\n",
    "        # evaluate model on ds_test and log to wandb\n",
    "        test_loss, test_acc = model.evaluate(ds_test)\n",
    "\n",
    "        wandb.log({\n",
    "            \"dataset subset\": dataset_subset,\n",
    "            \"test loss\": test_loss, \n",
    "            \"test accuracy\": test_acc, \n",
    "            \"number of parameters\": num_parameters,\n",
    "            \"disk size\": disk_size, \n",
    "            \"model flops\": flops\n",
    "            })\n",
    "\n",
    "        # save artifact to wandb\n",
    "        artifact = wandb.Artifact(\n",
    "            name=f\"{dataset_subset}-{MODEL_NAME}\",\n",
    "            type=\"model\"\n",
    "        )\n",
    "\n",
    "        # save best model to artifact\n",
    "        artifact.add_file(f\"./artifacts/{dataset_subset}-{MODEL_NAME}.h5\")\n",
    "        run.log_artifact(artifact)\n",
    "        run.finish()"
   ]
  },
  {
   "cell_type": "code",
   "execution_count": null,
   "metadata": {},
   "outputs": [
    {
     "name": "stderr",
     "output_type": "stream",
     "text": [
      "Failed to detect the name of this notebook, you can set it manually with the WANDB_NOTEBOOK_NAME environment variable to enable code saving.\n",
      "\u001b[34m\u001b[1mwandb\u001b[0m: Currently logged in as: \u001b[33mgratkadlafana\u001b[0m. Use \u001b[1m`wandb login --relogin`\u001b[0m to force relogin\n"
     ]
    },
    {
     "data": {
      "text/html": [
       "Tracking run with wandb version 0.13.9"
      ],
      "text/plain": [
       "<IPython.core.display.HTML object>"
      ]
     },
     "metadata": {},
     "output_type": "display_data"
    },
    {
     "data": {
      "text/html": [
       "Run data is saved locally in <code>/workspace/notebooks/wandb/run-20230123_185158-2jg4dbu1</code>"
      ],
      "text/plain": [
       "<IPython.core.display.HTML object>"
      ]
     },
     "metadata": {},
     "output_type": "display_data"
    },
    {
     "data": {
      "text/html": [
       "Syncing run <strong><a href=\"https://wandb.ai/gratkadlafana/master-thesis/runs/2jg4dbu1\" target=\"_blank\">TinyVGG</a></strong> to <a href=\"https://wandb.ai/gratkadlafana/master-thesis\" target=\"_blank\">Weights & Biases</a> (<a href=\"https://wandb.me/run\" target=\"_blank\">docs</a>)<br/>"
      ],
      "text/plain": [
       "<IPython.core.display.HTML object>"
      ]
     },
     "metadata": {},
     "output_type": "display_data"
    },
    {
     "data": {
      "text/html": [
       " View project at <a href=\"https://wandb.ai/gratkadlafana/master-thesis\" target=\"_blank\">https://wandb.ai/gratkadlafana/master-thesis</a>"
      ],
      "text/plain": [
       "<IPython.core.display.HTML object>"
      ]
     },
     "metadata": {},
     "output_type": "display_data"
    },
    {
     "data": {
      "text/html": [
       " View run at <a href=\"https://wandb.ai/gratkadlafana/master-thesis/runs/2jg4dbu1\" target=\"_blank\">https://wandb.ai/gratkadlafana/master-thesis/runs/2jg4dbu1</a>"
      ],
      "text/plain": [
       "<IPython.core.display.HTML object>"
      ]
     },
     "metadata": {},
     "output_type": "display_data"
    },
    {
     "name": "stderr",
     "output_type": "stream",
     "text": [
      "\u001b[34m\u001b[1mwandb\u001b[0m: Downloading large artifact phcd_paper_splits_tfds:latest, 163.87MB. 27 files... \n",
      "\u001b[34m\u001b[1mwandb\u001b[0m:   27 of 27 files downloaded.  \n",
      "Done. 0:0:0.0\n",
      "2023-01-23 18:52:00.881663: I tensorflow/core/platform/cpu_feature_guard.cc:193] This TensorFlow binary is optimized with oneAPI Deep Neural Network Library (oneDNN) to use the following CPU instructions in performance-critical operations:  AVX2 FMA\n",
      "To enable them in other operations, rebuild TensorFlow with the appropriate compiler flags.\n"
     ]
    },
    {
     "name": "stdout",
     "output_type": "stream",
     "text": [
      "WARNING:tensorflow:From /usr/local/lib/python3.8/dist-packages/tensorflow/python/autograph/pyct/static_analysis/liveness.py:83: Analyzer.lamba_check (from tensorflow.python.autograph.pyct.static_analysis.liveness) is deprecated and will be removed after 2023-09-23.\n",
      "Instructions for updating:\n",
      "Lambda fuctions will be no more assumed to be used in the statement where they are used, or at least in the same block. https://github.com/tensorflow/tensorflow/issues/56089\n"
     ]
    },
    {
     "name": "stderr",
     "output_type": "stream",
     "text": [
      "2023-01-23 18:52:00.882404: I tensorflow/compiler/xla/stream_executor/cuda/cuda_gpu_executor.cc:967] could not open file to read NUMA node: /sys/bus/pci/devices/0000:26:00.0/numa_node\n",
      "Your kernel may have been built without NUMA support.\n",
      "2023-01-23 18:52:00.882607: I tensorflow/compiler/xla/stream_executor/cuda/cuda_gpu_executor.cc:967] could not open file to read NUMA node: /sys/bus/pci/devices/0000:26:00.0/numa_node\n",
      "Your kernel may have been built without NUMA support.\n",
      "2023-01-23 18:52:00.882817: I tensorflow/compiler/xla/stream_executor/cuda/cuda_gpu_executor.cc:967] could not open file to read NUMA node: /sys/bus/pci/devices/0000:26:00.0/numa_node\n",
      "Your kernel may have been built without NUMA support.\n",
      "2023-01-23 18:52:01.415125: I tensorflow/compiler/xla/stream_executor/cuda/cuda_gpu_executor.cc:967] could not open file to read NUMA node: /sys/bus/pci/devices/0000:26:00.0/numa_node\n",
      "Your kernel may have been built without NUMA support.\n",
      "2023-01-23 18:52:01.415535: I tensorflow/compiler/xla/stream_executor/cuda/cuda_gpu_executor.cc:967] could not open file to read NUMA node: /sys/bus/pci/devices/0000:26:00.0/numa_node\n",
      "Your kernel may have been built without NUMA support.\n",
      "2023-01-23 18:52:01.415554: I tensorflow/core/common_runtime/gpu/gpu_device.cc:1700] Could not identify NUMA node of platform GPU id 0, defaulting to 0.  Your kernel may not have been built with NUMA support.\n",
      "2023-01-23 18:52:01.415799: I tensorflow/compiler/xla/stream_executor/cuda/cuda_gpu_executor.cc:967] could not open file to read NUMA node: /sys/bus/pci/devices/0000:26:00.0/numa_node\n",
      "Your kernel may have been built without NUMA support.\n",
      "2023-01-23 18:52:01.415840: I tensorflow/core/common_runtime/gpu/gpu_device.cc:1613] Created device /job:localhost/replica:0/task:0/device:GPU:0 with 2075 MB memory:  -> device: 0, name: NVIDIA GeForce GTX 1650 SUPER, pci bus id: 0000:26:00.0, compute capability: 7.5\n"
     ]
    },
    {
     "name": "stdout",
     "output_type": "stream",
     "text": [
      "WARNING:tensorflow:From /usr/local/lib/python3.8/dist-packages/tensorflow/python/ops/nn_ops.py:5250: tensor_shape_from_node_def_name (from tensorflow.python.framework.graph_util_impl) is deprecated and will be removed in a future version.\n",
      "Instructions for updating:\n",
      "This API was designed for TensorFlow v1. See https://www.tensorflow.org/guide/migrate for instructions on how to migrate your code to TensorFlow v2.\n",
      "Epoch 1/100\n"
     ]
    },
    {
     "name": "stderr",
     "output_type": "stream",
     "text": [
      "2023-01-23 18:52:02.203371: I tensorflow/compiler/xla/stream_executor/cuda/cuda_gpu_executor.cc:967] could not open file to read NUMA node: /sys/bus/pci/devices/0000:26:00.0/numa_node\n",
      "Your kernel may have been built without NUMA support.\n",
      "2023-01-23 18:52:02.203420: I tensorflow/core/grappler/devices.cc:66] Number of eligible GPUs (core count >= 8, compute capability >= 0.0): 1\n",
      "2023-01-23 18:52:02.203576: I tensorflow/core/grappler/clusters/single_machine.cc:358] Starting new session\n",
      "2023-01-23 18:52:02.204072: I tensorflow/compiler/xla/stream_executor/cuda/cuda_gpu_executor.cc:967] could not open file to read NUMA node: /sys/bus/pci/devices/0000:26:00.0/numa_node\n",
      "Your kernel may have been built without NUMA support.\n",
      "2023-01-23 18:52:02.204373: I tensorflow/compiler/xla/stream_executor/cuda/cuda_gpu_executor.cc:967] could not open file to read NUMA node: /sys/bus/pci/devices/0000:26:00.0/numa_node\n",
      "Your kernel may have been built without NUMA support.\n",
      "2023-01-23 18:52:02.204684: I tensorflow/compiler/xla/stream_executor/cuda/cuda_gpu_executor.cc:967] could not open file to read NUMA node: /sys/bus/pci/devices/0000:26:00.0/numa_node\n",
      "Your kernel may have been built without NUMA support.\n",
      "2023-01-23 18:52:02.205093: I tensorflow/compiler/xla/stream_executor/cuda/cuda_gpu_executor.cc:967] could not open file to read NUMA node: /sys/bus/pci/devices/0000:26:00.0/numa_node\n",
      "Your kernel may have been built without NUMA support.\n",
      "2023-01-23 18:52:02.205106: I tensorflow/core/common_runtime/gpu/gpu_device.cc:1700] Could not identify NUMA node of platform GPU id 0, defaulting to 0.  Your kernel may not have been built with NUMA support.\n",
      "2023-01-23 18:52:02.205318: I tensorflow/compiler/xla/stream_executor/cuda/cuda_gpu_executor.cc:967] could not open file to read NUMA node: /sys/bus/pci/devices/0000:26:00.0/numa_node\n",
      "Your kernel may have been built without NUMA support.\n",
      "2023-01-23 18:52:02.205341: I tensorflow/core/common_runtime/gpu/gpu_device.cc:1613] Created device /job:localhost/replica:0/task:0/device:GPU:0 with 2075 MB memory:  -> device: 0, name: NVIDIA GeForce GTX 1650 SUPER, pci bus id: 0000:26:00.0, compute capability: 7.5\n",
      "/usr/local/lib/python3.8/dist-packages/keras/backend.py:5585: UserWarning: \"`sparse_categorical_crossentropy` received `from_logits=True`, but the `output` argument was produced by a Softmax activation and thus does not represent logits. Was this intended?\n",
      "  output, from_logits = _get_logits(\n",
      "2023-01-23 18:52:03.434101: I tensorflow/compiler/xla/stream_executor/cuda/cuda_dnn.cc:428] Loaded cuDNN version 8100\n",
      "2023-01-23 18:52:04.464642: I tensorflow/compiler/xla/service/service.cc:173] XLA service 0x7f9754e30ac0 initialized for platform CUDA (this does not guarantee that XLA will be used). Devices:\n",
      "2023-01-23 18:52:04.464697: I tensorflow/compiler/xla/service/service.cc:181]   StreamExecutor device (0): NVIDIA GeForce GTX 1650 SUPER, Compute Capability 7.5\n",
      "2023-01-23 18:52:04.471386: I tensorflow/compiler/mlir/tensorflow/utils/dump_mlir_util.cc:268] disabling MLIR crash reproducer, set env var `MLIR_CRASH_REPRODUCER_DIRECTORY` to enable.\n",
      "2023-01-23 18:52:04.587003: I tensorflow/compiler/jit/xla_compilation_cache.cc:477] Compiled cluster using XLA!  This line is logged at most once for the lifetime of the process.\n"
     ]
    },
    {
     "name": "stdout",
     "output_type": "stream",
     "text": [
      "3489/3489 [==============================] - 60s 16ms/step - loss: 0.7964 - accuracy: 0.7422 - val_loss: 0.5656 - val_accuracy: 0.7985\n",
      "Epoch 2/100\n",
      "3489/3489 [==============================] - 59s 17ms/step - loss: 0.5511 - accuracy: 0.8026 - val_loss: 0.5086 - val_accuracy: 0.8145\n",
      "Epoch 3/100\n",
      "3489/3489 [==============================] - 63s 18ms/step - loss: 0.5047 - accuracy: 0.8155 - val_loss: 0.4761 - val_accuracy: 0.8247\n",
      "Epoch 4/100\n",
      "3489/3489 [==============================] - 54s 16ms/step - loss: 0.4781 - accuracy: 0.8236 - val_loss: 0.4585 - val_accuracy: 0.8283\n",
      "Epoch 5/100\n",
      "3489/3489 [==============================] - 51s 14ms/step - loss: 0.4595 - accuracy: 0.8293 - val_loss: 0.4426 - val_accuracy: 0.8334\n",
      "Epoch 6/100\n",
      "3489/3489 [==============================] - 59s 17ms/step - loss: 0.4451 - accuracy: 0.8342 - val_loss: 0.4310 - val_accuracy: 0.8374\n",
      "Epoch 7/100\n",
      "3489/3489 [==============================] - 58s 17ms/step - loss: 0.4333 - accuracy: 0.8377 - val_loss: 0.4252 - val_accuracy: 0.8381\n",
      "Epoch 8/100\n",
      "3489/3489 [==============================] - 60s 17ms/step - loss: 0.4234 - accuracy: 0.8406 - val_loss: 0.4188 - val_accuracy: 0.8391\n",
      "Epoch 9/100\n",
      "3489/3489 [==============================] - 49s 14ms/step - loss: 0.4147 - accuracy: 0.8438 - val_loss: 0.4126 - val_accuracy: 0.8413\n",
      "Epoch 10/100\n",
      "3489/3489 [==============================] - 48s 14ms/step - loss: 0.4070 - accuracy: 0.8457 - val_loss: 0.4088 - val_accuracy: 0.8428\n",
      "Epoch 11/100\n",
      "3489/3489 [==============================] - 48s 14ms/step - loss: 0.4002 - accuracy: 0.8483 - val_loss: 0.4073 - val_accuracy: 0.8418\n",
      "Epoch 12/100\n",
      "3489/3489 [==============================] - 48s 14ms/step - loss: 0.3939 - accuracy: 0.8505 - val_loss: 0.4019 - val_accuracy: 0.8447\n",
      "Epoch 13/100\n",
      "3489/3489 [==============================] - 48s 14ms/step - loss: 0.3884 - accuracy: 0.8522 - val_loss: 0.4013 - val_accuracy: 0.8452\n",
      "Epoch 14/100\n",
      "3489/3489 [==============================] - 48s 14ms/step - loss: 0.3833 - accuracy: 0.8540 - val_loss: 0.3976 - val_accuracy: 0.8448\n",
      "Epoch 15/100\n",
      "3489/3489 [==============================] - 53s 15ms/step - loss: 0.3783 - accuracy: 0.8555 - val_loss: 0.3921 - val_accuracy: 0.8478\n",
      "Epoch 16/100\n",
      "3489/3489 [==============================] - 54s 15ms/step - loss: 0.3739 - accuracy: 0.8569 - val_loss: 0.3947 - val_accuracy: 0.8468\n",
      "Epoch 17/100\n",
      "3489/3489 [==============================] - 54s 15ms/step - loss: 0.3698 - accuracy: 0.8584 - val_loss: 0.3917 - val_accuracy: 0.8478\n",
      "Epoch 18/100\n",
      "3489/3489 [==============================] - 53s 15ms/step - loss: 0.3664 - accuracy: 0.8600 - val_loss: 0.3916 - val_accuracy: 0.8477\n",
      "Epoch 19/100\n",
      "3489/3489 [==============================] - 54s 15ms/step - loss: 0.3628 - accuracy: 0.8612 - val_loss: 0.3885 - val_accuracy: 0.8477\n",
      "Epoch 20/100\n",
      "3489/3489 [==============================] - 54s 15ms/step - loss: 0.3598 - accuracy: 0.8620 - val_loss: 0.3889 - val_accuracy: 0.8474\n",
      "Epoch 21/100\n",
      "3489/3489 [==============================] - 53s 15ms/step - loss: 0.3567 - accuracy: 0.8632 - val_loss: 0.3890 - val_accuracy: 0.8490\n",
      "Epoch 22/100\n",
      "3489/3489 [==============================] - 54s 15ms/step - loss: 0.3536 - accuracy: 0.8641 - val_loss: 0.3894 - val_accuracy: 0.8484\n",
      "Epoch 23/100\n",
      "3489/3489 [==============================] - 54s 15ms/step - loss: 0.3508 - accuracy: 0.8653 - val_loss: 0.3893 - val_accuracy: 0.8487\n",
      "Epoch 24/100\n",
      "3489/3489 [==============================] - 53s 15ms/step - loss: 0.3489 - accuracy: 0.8659 - val_loss: 0.3869 - val_accuracy: 0.8502\n",
      "Epoch 25/100\n",
      "3489/3489 [==============================] - 54s 15ms/step - loss: 0.3462 - accuracy: 0.8669 - val_loss: 0.3878 - val_accuracy: 0.8489\n",
      "Epoch 26/100\n",
      "3489/3489 [==============================] - 57s 16ms/step - loss: 0.3443 - accuracy: 0.8675 - val_loss: 0.3910 - val_accuracy: 0.8474\n",
      "Epoch 27/100\n",
      "3489/3489 [==============================] - 56s 16ms/step - loss: 0.3419 - accuracy: 0.8684 - val_loss: 0.3892 - val_accuracy: 0.8493\n",
      "Epoch 28/100\n",
      "3489/3489 [==============================] - 65s 19ms/step - loss: 0.3404 - accuracy: 0.8688 - val_loss: 0.3852 - val_accuracy: 0.8506\n",
      "Epoch 29/100\n",
      "3489/3489 [==============================] - 52s 15ms/step - loss: 0.3379 - accuracy: 0.8696 - val_loss: 0.3874 - val_accuracy: 0.8494\n",
      "Epoch 30/100\n",
      "3489/3489 [==============================] - 49s 14ms/step - loss: 0.3361 - accuracy: 0.8703 - val_loss: 0.3849 - val_accuracy: 0.8518\n",
      "Epoch 31/100\n",
      "3489/3489 [==============================] - 49s 14ms/step - loss: 0.3344 - accuracy: 0.8708 - val_loss: 0.3895 - val_accuracy: 0.8501\n",
      "Epoch 32/100\n",
      "3489/3489 [==============================] - 49s 14ms/step - loss: 0.3329 - accuracy: 0.8711 - val_loss: 0.3882 - val_accuracy: 0.8514\n",
      "Epoch 33/100\n",
      "3489/3489 [==============================] - 49s 14ms/step - loss: 0.3308 - accuracy: 0.8718 - val_loss: 0.3911 - val_accuracy: 0.8514\n",
      "Epoch 34/100\n",
      "3489/3489 [==============================] - 49s 14ms/step - loss: 0.3293 - accuracy: 0.8724 - val_loss: 0.3948 - val_accuracy: 0.8489\n",
      "Epoch 35/100\n",
      "3489/3489 [==============================] - 49s 14ms/step - loss: 0.3279 - accuracy: 0.8730 - val_loss: 0.3967 - val_accuracy: 0.8488\n",
      "Epoch 36/100\n",
      "3489/3489 [==============================] - 49s 14ms/step - loss: 0.3267 - accuracy: 0.8735 - val_loss: 0.3908 - val_accuracy: 0.8510\n",
      "Epoch 37/100\n",
      "3489/3489 [==============================] - 49s 14ms/step - loss: 0.3256 - accuracy: 0.8738 - val_loss: 0.4113 - val_accuracy: 0.8466\n",
      "Epoch 38/100\n",
      "3489/3489 [==============================] - 49s 14ms/step - loss: 0.3265 - accuracy: 0.8729 - val_loss: 0.3934 - val_accuracy: 0.8505\n",
      "Epoch 39/100\n",
      "3489/3489 [==============================] - 49s 14ms/step - loss: 0.3232 - accuracy: 0.8747 - val_loss: 0.4000 - val_accuracy: 0.8493\n",
      "Epoch 40/100\n",
      "3489/3489 [==============================] - 49s 14ms/step - loss: 0.3216 - accuracy: 0.8749 - val_loss: 0.4038 - val_accuracy: 0.8477\n",
      "Epoch 41/100\n",
      "3489/3489 [==============================] - 49s 14ms/step - loss: 0.3209 - accuracy: 0.8748 - val_loss: 0.4019 - val_accuracy: 0.8488\n",
      "Epoch 42/100\n",
      "3489/3489 [==============================] - 49s 14ms/step - loss: 0.3194 - accuracy: 0.8753 - val_loss: 0.4045 - val_accuracy: 0.8487\n",
      "Epoch 43/100\n",
      "3489/3489 [==============================] - 49s 14ms/step - loss: 0.3182 - accuracy: 0.8758 - val_loss: 0.4085 - val_accuracy: 0.8475\n",
      "Epoch 44/100\n",
      "3489/3489 [==============================] - 49s 14ms/step - loss: 0.3172 - accuracy: 0.8763 - val_loss: 0.4032 - val_accuracy: 0.8484\n",
      "Epoch 45/100\n",
      "3489/3489 [==============================] - 53s 15ms/step - loss: 0.3163 - accuracy: 0.8764 - val_loss: 0.4030 - val_accuracy: 0.8482\n",
      "Epoch 46/100\n",
      "3489/3489 [==============================] - 60s 17ms/step - loss: 0.3156 - accuracy: 0.8761 - val_loss: 0.4047 - val_accuracy: 0.8482\n",
      "Epoch 47/100\n",
      "3489/3489 [==============================] - 60s 17ms/step - loss: 0.3153 - accuracy: 0.8770 - val_loss: 0.4082 - val_accuracy: 0.8474\n",
      "Epoch 48/100\n",
      "3489/3489 [==============================] - 58s 17ms/step - loss: 0.3142 - accuracy: 0.8773 - val_loss: 0.4104 - val_accuracy: 0.8463\n",
      "Epoch 49/100\n",
      "3489/3489 [==============================] - 56s 16ms/step - loss: 0.3139 - accuracy: 0.8768 - val_loss: 0.4046 - val_accuracy: 0.8482\n",
      "Epoch 50/100\n",
      "3489/3489 [==============================] - 53s 15ms/step - loss: 0.3123 - accuracy: 0.8775 - val_loss: 0.4052 - val_accuracy: 0.8480\n",
      "Epoch 51/100\n",
      "3489/3489 [==============================] - 55s 16ms/step - loss: 0.3117 - accuracy: 0.8775 - val_loss: 0.4015 - val_accuracy: 0.8494\n",
      "Epoch 52/100\n",
      "3489/3489 [==============================] - 57s 16ms/step - loss: 0.3120 - accuracy: 0.8773 - val_loss: 0.4026 - val_accuracy: 0.8490\n",
      "Epoch 53/100\n",
      "3489/3489 [==============================] - 62s 18ms/step - loss: 0.3107 - accuracy: 0.8779 - val_loss: 0.4036 - val_accuracy: 0.8494\n",
      "Epoch 54/100\n",
      "3489/3489 [==============================] - 66s 19ms/step - loss: 0.3105 - accuracy: 0.8777 - val_loss: 0.4034 - val_accuracy: 0.8499\n",
      "Epoch 55/100\n",
      "3489/3489 [==============================] - 57s 16ms/step - loss: 0.3089 - accuracy: 0.8786 - val_loss: 0.4034 - val_accuracy: 0.8486\n",
      "Epoch 56/100\n",
      "3489/3489 [==============================] - 60s 17ms/step - loss: 0.3075 - accuracy: 0.8787 - val_loss: 0.4080 - val_accuracy: 0.8486\n",
      "Epoch 57/100\n",
      "3489/3489 [==============================] - 54s 16ms/step - loss: 0.3067 - accuracy: 0.8792 - val_loss: 0.4138 - val_accuracy: 0.8475\n",
      "Epoch 58/100\n",
      "3489/3489 [==============================] - 49s 14ms/step - loss: 0.3056 - accuracy: 0.8799 - val_loss: 0.4139 - val_accuracy: 0.8472\n",
      "Epoch 59/100\n",
      "3489/3489 [==============================] - 49s 14ms/step - loss: 0.3081 - accuracy: 0.8783 - val_loss: 0.4207 - val_accuracy: 0.8452\n",
      "Epoch 60/100\n",
      "3489/3489 [==============================] - 58s 17ms/step - loss: 0.3057 - accuracy: 0.8797 - val_loss: 0.4153 - val_accuracy: 0.8469\n",
      "Epoch 61/100\n",
      "3489/3489 [==============================] - 51s 15ms/step - loss: 0.3045 - accuracy: 0.8800 - val_loss: 0.4162 - val_accuracy: 0.8463\n",
      "Epoch 62/100\n",
      "3489/3489 [==============================] - 52s 15ms/step - loss: 0.3042 - accuracy: 0.8799 - val_loss: 0.4164 - val_accuracy: 0.8464\n",
      "Epoch 63/100\n",
      "3489/3489 [==============================] - 58s 17ms/step - loss: 0.3024 - accuracy: 0.8810 - val_loss: 0.4121 - val_accuracy: 0.8477\n",
      "Epoch 64/100\n",
      "3489/3489 [==============================] - 54s 15ms/step - loss: 0.3065 - accuracy: 0.8793 - val_loss: 0.4144 - val_accuracy: 0.8474\n",
      "Epoch 65/100\n",
      "3489/3489 [==============================] - 52s 15ms/step - loss: 0.3019 - accuracy: 0.8805 - val_loss: 0.4198 - val_accuracy: 0.8456\n",
      "Epoch 66/100\n",
      "3489/3489 [==============================] - 53s 15ms/step - loss: 0.3005 - accuracy: 0.8809 - val_loss: 0.4241 - val_accuracy: 0.8445\n",
      "Epoch 67/100\n",
      "3489/3489 [==============================] - 53s 15ms/step - loss: 0.3003 - accuracy: 0.8812 - val_loss: 0.4225 - val_accuracy: 0.8445\n",
      "Epoch 68/100\n",
      "3489/3489 [==============================] - 56s 16ms/step - loss: 0.2995 - accuracy: 0.8810 - val_loss: 0.4247 - val_accuracy: 0.8445\n",
      "Epoch 69/100\n",
      "3489/3489 [==============================] - 55s 16ms/step - loss: 0.2984 - accuracy: 0.8816 - val_loss: 0.4297 - val_accuracy: 0.8440\n",
      "Epoch 70/100\n",
      "3489/3489 [==============================] - 53s 15ms/step - loss: 0.2982 - accuracy: 0.8817 - val_loss: 0.4264 - val_accuracy: 0.8458\n",
      "Epoch 71/100\n",
      "3489/3489 [==============================] - 55s 16ms/step - loss: 0.2984 - accuracy: 0.8814 - val_loss: 0.4294 - val_accuracy: 0.8437\n",
      "Epoch 72/100\n",
      "3489/3489 [==============================] - 57s 16ms/step - loss: 0.2977 - accuracy: 0.8818 - val_loss: 0.4308 - val_accuracy: 0.8450\n",
      "Epoch 73/100\n",
      "3489/3489 [==============================] - 50s 14ms/step - loss: 0.2978 - accuracy: 0.8812 - val_loss: 0.4265 - val_accuracy: 0.8465\n",
      "Epoch 74/100\n",
      "3489/3489 [==============================] - 49s 14ms/step - loss: 0.2969 - accuracy: 0.8820 - val_loss: 0.4278 - val_accuracy: 0.8456\n",
      "Epoch 75/100\n",
      "3489/3489 [==============================] - 49s 14ms/step - loss: 0.2959 - accuracy: 0.8828 - val_loss: 0.4271 - val_accuracy: 0.8452\n",
      "Epoch 76/100\n",
      "3489/3489 [==============================] - 49s 14ms/step - loss: 0.3018 - accuracy: 0.8803 - val_loss: 0.4281 - val_accuracy: 0.8469\n",
      "Epoch 77/100\n",
      "3489/3489 [==============================] - 49s 14ms/step - loss: 0.2975 - accuracy: 0.8816 - val_loss: 0.4254 - val_accuracy: 0.8459\n",
      "Epoch 78/100\n",
      "3489/3489 [==============================] - 49s 14ms/step - loss: 0.2950 - accuracy: 0.8831 - val_loss: 0.4297 - val_accuracy: 0.8459\n",
      "Epoch 79/100\n",
      "3489/3489 [==============================] - 49s 14ms/step - loss: 0.2946 - accuracy: 0.8831 - val_loss: 0.4326 - val_accuracy: 0.8453\n",
      "Epoch 80/100\n",
      "3489/3489 [==============================] - 48s 14ms/step - loss: 0.2939 - accuracy: 0.8835 - val_loss: 0.4497 - val_accuracy: 0.8406\n",
      "Epoch 81/100\n",
      "3489/3489 [==============================] - 48s 14ms/step - loss: 0.2933 - accuracy: 0.8834 - val_loss: 0.4365 - val_accuracy: 0.8455\n",
      "Epoch 82/100\n",
      "3489/3489 [==============================] - 48s 14ms/step - loss: 0.2927 - accuracy: 0.8837 - val_loss: 0.4410 - val_accuracy: 0.8440\n",
      "Epoch 83/100\n",
      "3489/3489 [==============================] - 48s 14ms/step - loss: 0.2924 - accuracy: 0.8838 - val_loss: 0.4386 - val_accuracy: 0.8459\n",
      "Epoch 84/100\n",
      "3489/3489 [==============================] - 48s 14ms/step - loss: 0.2918 - accuracy: 0.8840 - val_loss: 0.4363 - val_accuracy: 0.8455\n",
      "Epoch 85/100\n",
      "3489/3489 [==============================] - 49s 14ms/step - loss: 0.2914 - accuracy: 0.8838 - val_loss: 0.4436 - val_accuracy: 0.8435\n",
      "Epoch 86/100\n",
      "3489/3489 [==============================] - 48s 14ms/step - loss: 0.2920 - accuracy: 0.8836 - val_loss: 0.4425 - val_accuracy: 0.8445\n",
      "Epoch 87/100\n",
      "3489/3489 [==============================] - 49s 14ms/step - loss: 0.2922 - accuracy: 0.8837 - val_loss: 0.4361 - val_accuracy: 0.8463\n",
      "Epoch 88/100\n",
      "3489/3489 [==============================] - 48s 14ms/step - loss: 0.2906 - accuracy: 0.8839 - val_loss: 0.4464 - val_accuracy: 0.8456\n",
      "Epoch 89/100\n",
      "3489/3489 [==============================] - 48s 14ms/step - loss: 0.2909 - accuracy: 0.8841 - val_loss: 0.4459 - val_accuracy: 0.8433\n",
      "Epoch 90/100\n",
      "3489/3489 [==============================] - 49s 14ms/step - loss: 0.2905 - accuracy: 0.8838 - val_loss: 0.4368 - val_accuracy: 0.8453\n",
      "Epoch 91/100\n",
      "3406/3489 [============================>.] - ETA: 1s - loss: 0.2909 - accuracy: 0.8839"
     ]
    }
   ],
   "source": [
    "defaults['filters'] = 40\n",
    "train(\"phcd_paper\", defaults)"
   ]
  },
  {
   "cell_type": "markdown",
   "metadata": {},
   "source": [
    "# W&B Sweep"
   ]
  },
  {
   "cell_type": "code",
   "execution_count": null,
   "metadata": {},
   "outputs": [],
   "source": [
    "# define sweep parameters\n",
    "sweep_config = {\n",
    "    \"method\": \"bayes\",\n",
    "    \"metric\": {\n",
    "        \"goal\": \"maximize\", \n",
    "        \"name\": \"val_accuracy\"\n",
    "    },\n",
    "    \"parameters\": {\n",
    "        \"filters\": {\n",
    "            \"values\": [10, 20, 30, 40, 50, 60, 70, 89]\n",
    "        },\n",
    "        \"batch_size\": {\n",
    "            \"value\": 32*4\n",
    "        },\n",
    "        \"epochs\": {\n",
    "            \"value\": 100\n",
    "        },\n",
    "        \"optimizer\": {\n",
    "            \"value\": \"adam\"\n",
    "        }\n",
    "    },\n",
    "}\n",
    "\n",
    "\n",
    "# launch sweep controller\n",
    "#sweep_id = wandb.sweep(sweep_config, project=\"master-thesis\")"
   ]
  },
  {
   "cell_type": "code",
   "execution_count": null,
   "metadata": {},
   "outputs": [],
   "source": [
    "def sweep_fn():\n",
    "    train(\"phcd_paper\",None, job_type='sweep', MODEL_NAME=\"TinyVGG\")\n",
    "#wandb.agent(sweep_id, sweep_fn, count=15)"
   ]
  }
 ],
 "metadata": {
  "kernelspec": {
   "display_name": "Python 3 (ipykernel)",
   "language": "python",
   "name": "python3"
  },
  "language_info": {
   "codemirror_mode": {
    "name": "ipython",
    "version": 3
   },
   "file_extension": ".py",
   "mimetype": "text/x-python",
   "name": "python",
   "nbconvert_exporter": "python",
   "pygments_lexer": "ipython3",
   "version": "3.8.10"
  },
  "vscode": {
   "interpreter": {
    "hash": "d798f8ad6d6c53bff9e7c2dca27b60374f042a436c567b9cf87bf4fc98c22b9c"
   }
  }
 },
 "nbformat": 4,
 "nbformat_minor": 4
}
