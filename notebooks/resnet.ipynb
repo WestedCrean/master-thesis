{
 "cells": [
  {
   "attachments": {},
   "cell_type": "markdown",
   "metadata": {},
   "source": [
    "# Residual network\n",
    "\n",
    "This notebook trains the ResNet-20 based on\n",
    "\n",
    "\n",
    "After training, model is serialized and uploaded to W&B project."
   ]
  },
  {
   "cell_type": "code",
   "execution_count": 1,
   "metadata": {},
   "outputs": [
    {
     "name": "stderr",
     "output_type": "stream",
     "text": [
      "2023-01-14 12:08:58.552405: I tensorflow/core/platform/cpu_feature_guard.cc:193] This TensorFlow binary is optimized with oneAPI Deep Neural Network Library (oneDNN) to use the following CPU instructions in performance-critical operations:  AVX2 FMA\n",
      "To enable them in other operations, rebuild TensorFlow with the appropriate compiler flags.\n",
      "2023-01-14 12:08:59.175134: W tensorflow/compiler/xla/stream_executor/platform/default/dso_loader.cc:64] Could not load dynamic library 'libnvinfer.so.7'; dlerror: libnvinfer.so.7: cannot open shared object file: No such file or directory; LD_LIBRARY_PATH: /usr/local/cuda/lib64:/usr/local/cuda-11.2/lib64:\n",
      "2023-01-14 12:08:59.175208: W tensorflow/compiler/xla/stream_executor/platform/default/dso_loader.cc:64] Could not load dynamic library 'libnvinfer_plugin.so.7'; dlerror: libnvinfer_plugin.so.7: cannot open shared object file: No such file or directory; LD_LIBRARY_PATH: /usr/local/cuda/lib64:/usr/local/cuda-11.2/lib64:\n",
      "2023-01-14 12:08:59.175214: W tensorflow/compiler/tf2tensorrt/utils/py_utils.cc:38] TF-TRT Warning: Cannot dlopen some TensorRT libraries. If you would like to use Nvidia GPU with TensorRT, please make sure the missing libraries mentioned above are installed properly.\n"
     ]
    }
   ],
   "source": [
    "import wandb\n",
    "import pathlib\n",
    "import shutil\n",
    "import tensorflow as tf\n",
    "import numpy as np\n",
    "import matplotlib.pyplot as plt\n",
    "from typing import List\n",
    "\n",
    "\n",
    "def load_data(run: wandb.sdk.wandb_run.Run) -> List[tf.data.Dataset]:\n",
    "    \"\"\"\n",
    "    Downloads datasets from a wandb artifact and loads them into a list of tf.data.Datasets.\n",
    "    \"\"\"\n",
    "\n",
    "    artifact_name = f\"letters_splits_tfds\"\n",
    "    artifact = run.use_artifact(f\"master-thesis/{artifact_name}:latest\")\n",
    "    artifact_dir = pathlib.Path(\n",
    "        f\"./artifacts/{artifact.name.replace(':', '-')}\"\n",
    "    ).resolve()\n",
    "    if not artifact_dir.exists():\n",
    "        artifact_dir = artifact.download()\n",
    "        artifact_dir = pathlib.Path(artifact_dir).resolve()\n",
    "    \n",
    "    output_list = []\n",
    "    for split in [\"train\", \"test\", \"val\"]:\n",
    "        ds = tf.data.Dataset.load(str(artifact_dir / split), compression=\"GZIP\")\n",
    "        output_list.append(ds)\n",
    "    \n",
    "    return output_list\n",
    "\n",
    "def get_number_of_classes(ds: tf.data.Dataset) -> int:\n",
    "    \"\"\"\n",
    "    Returns the number of classes in a dataset.\n",
    "    \"\"\"\n",
    "    labels_iterator= ds.map(lambda x, y: y).as_numpy_iterator()\n",
    "    labels = np.concatenate(list(labels_iterator))\n",
    "    return len(np.unique(labels))\n",
    "\n",
    "\n",
    "def preprocess_dataset(ds: tf.data.Dataset, batch_size: int, cache: bool = True) -> tf.data.Dataset:\n",
    "    ds = ds.map(lambda x, y: (tf.cast(x, tf.float32) / 255.0, y))  # normalize\n",
    "    ds = ds.unbatch().batch(batch_size)\n",
    "    if cache:\n",
    "        ds = ds.cache().prefetch(buffer_size=tf.data.AUTOTUNE)\n",
    "    return ds\n",
    "\n",
    "\n",
    "def calculate_model_size_on_disk(path: str) -> int:\n",
    "    return pathlib.Path(path).stat().st_size\n",
    "\n",
    "\n",
    "def calculate_model_num_parameters(model: tf.keras.Model) -> int:\n",
    "    return model.count_params()\n",
    "\n",
    "\n",
    "def calculate_model_flops() -> str:\n",
    "    pass\n",
    "\n",
    "\n",
    "def plot_history(history):\n",
    "    fig, ax = plt.subplots(1, 1, figsize=(15, 10))\n",
    "    epochs = range(1, len(history.history[\"loss\"]) + 1)\n",
    "    ax.plot(epochs, history.history[\"accuracy\"], label=\"accuracy\")\n",
    "    ax.plot(epochs, history.history[\"val_accuracy\"], label=\"val_accuracy\")\n",
    "    ax.set_xlabel(\"Epoch\")\n",
    "    ax.set_ylabel(\"Accuracy\")\n",
    "    ax.legend(loc=\"lower right\")\n",
    "\n",
    "    plt.show()\n",
    "\n",
    "def evaluate_model(model, ds_test, model_name):\n",
    "    \"\"\"\n",
    "    Evaluate model test loss, accuracy and other characteristics then log to wandb\n",
    "    \"\"\"\n",
    "    flops = wandb.run.summary[\"GFLOPs\"]\n",
    "    disk_size = calculate_model_size_on_disk(f\"./artifacts/{model_name}.h5\")\n",
    "    num_parameters = calculate_model_num_parameters(model)\n",
    "\n",
    "    # evaluate model on ds_test and log to wandb\n",
    "    test_loss, test_acc = model.evaluate(ds_test)\n",
    "\n",
    "    wandb.log(\n",
    "        {\n",
    "            \"test loss\": test_loss,\n",
    "            \"test accuracy\": test_acc,\n",
    "            \"number of parameters\": num_parameters,\n",
    "            \"disk size\": disk_size,\n",
    "            \"model flops\": flops,\n",
    "        }\n",
    "    )\n",
    "\n",
    "\n",
    "def evaluate_diacritics_performance(model, ds_test):\n",
    "    \"\"\"\n",
    "    Evaluate model test loss, accuracy on letters with diacritics then log to wandb\n",
    "    \"\"\"\n",
    "    diacritics = {\n",
    "        62: \"ą\",\n",
    "        63: \"ć\",\n",
    "        64: \"ę\",\n",
    "        65: \"ł\",\n",
    "        66: \"ń\",\n",
    "        67: \"ó\",\n",
    "        68: \"ś\",\n",
    "        69: \"ź\",\n",
    "        70: \"ż\",\n",
    "        71: \"Ą\",\n",
    "        72: \"Ć\",\n",
    "        73: \"Ę\",\n",
    "        74: \"Ł\",\n",
    "        75: \"Ń\",\n",
    "        76: \"Ó\",\n",
    "        77: \"Ś\",\n",
    "        78: \"Ź\",\n",
    "        79: \"Ż\",\n",
    "    }\n",
    "\n",
    "    def calculate_batch_size(dataset):\n",
    "        return next(iter(dataset)).shape[0]\n",
    "\n",
    "    bs = calculate_batch_size(ds_test)\n",
    "\n",
    "    # log test accuracy on these classes separately to wandb\n",
    "    diacritics_acc = {}\n",
    "    for diacritic_label in diacritics.keys():\n",
    "        ds_test_diacritic = ds_test.unbatch().filter(lambda x, y: tf.equal(y, diacritic_label)).batch(bs)\n",
    "        test_loss, test_acc = model.evaluate(ds_test_diacritic)\n",
    "        diacritics_acc[diacritic_label] = {\n",
    "            \"loss\": test_loss,\n",
    "            \"accuracy\": test_acc,\n",
    "            \"label\": diacritics[diacritic_label],\n",
    "        }\n",
    "\n",
    "    wandb.log(diacritics_acc)\n"
   ]
  },
  {
   "cell_type": "code",
   "execution_count": 2,
   "metadata": {},
   "outputs": [
    {
     "name": "stderr",
     "output_type": "stream",
     "text": [
      "\u001b[34m\u001b[1mwandb\u001b[0m: Currently logged in as: \u001b[33mgratkadlafana\u001b[0m. Use \u001b[1m`wandb login --relogin`\u001b[0m to force relogin\n"
     ]
    },
    {
     "data": {
      "text/html": [
       "wandb version 0.13.9 is available!  To upgrade, please run:\n",
       " $ pip install wandb --upgrade"
      ],
      "text/plain": [
       "<IPython.core.display.HTML object>"
      ]
     },
     "metadata": {},
     "output_type": "display_data"
    },
    {
     "data": {
      "text/html": [
       "Tracking run with wandb version 0.13.7"
      ],
      "text/plain": [
       "<IPython.core.display.HTML object>"
      ]
     },
     "metadata": {},
     "output_type": "display_data"
    },
    {
     "data": {
      "text/html": [
       "Run data is saved locally in <code>/home/wiktor/code/master-thesis/notebooks/wandb/run-20230114_120909-2xwmg5y5</code>"
      ],
      "text/plain": [
       "<IPython.core.display.HTML object>"
      ]
     },
     "metadata": {},
     "output_type": "display_data"
    },
    {
     "data": {
      "text/html": [
       "Syncing run <strong><a href=\"https://wandb.ai/gratkadlafana/master-thesis/runs/2xwmg5y5\" target=\"_blank\">resnet-18</a></strong> to <a href=\"https://wandb.ai/gratkadlafana/master-thesis\" target=\"_blank\">Weights & Biases</a> (<a href=\"https://wandb.me/run\" target=\"_blank\">docs</a>)<br/>"
      ],
      "text/plain": [
       "<IPython.core.display.HTML object>"
      ]
     },
     "metadata": {},
     "output_type": "display_data"
    }
   ],
   "source": [
    "defaults = dict(\n",
    "    batch_size=32*4,\n",
    "    epochs=100,    \n",
    "    optimizer=\"sgd\",\n",
    "    learning_rate=0.001,\n",
    "    momentum=0.9,\n",
    ")\n",
    "\n",
    "RESNET_DEPTHS = [3, 4, 6, 3]\n",
    "MODEL_NAME = f\"resnet-{sum(RESNET_DEPTHS) + 2}\"\n",
    "run = wandb.init(project=\"master-thesis\", job_type=\"training\", name=MODEL_NAME, config=defaults,)\n",
    "\n",
    "# hyperparameters\n",
    "\n",
    "opt_name = wandb.config.optimizer\n",
    "lr = wandb.config.learning_rate\n",
    "momentum = wandb.config.momentum\n",
    "bs = wandb.config.batch_size\n",
    "epochs = wandb.config.epochs"
   ]
  },
  {
   "cell_type": "code",
   "execution_count": 12,
   "metadata": {},
   "outputs": [
    {
     "name": "stderr",
     "output_type": "stream",
     "text": [
      "\u001b[34m\u001b[1mwandb\u001b[0m:   9 of 9 files downloaded.  \n"
     ]
    },
    {
     "name": "stdout",
     "output_type": "stream",
     "text": [
      "There are 89 classes\n",
      "Training set has 13953 batches\n",
      "Test set has 1743 batches\n",
      "Validation set has 1743 batches\n"
     ]
    }
   ],
   "source": [
    "ds_train, ds_test, ds_val = load_data(run)\n",
    "\n",
    "num_classes = get_number_of_classes(ds_val)\n",
    "\n",
    "print(f\"There are {num_classes} classes\")\n",
    "print(f\"Training set has {len(ds_train)} batches\")\n",
    "print(f\"Test set has {len(ds_test)} batches\")\n",
    "print(f\"Validation set has {len(ds_val)} batches\")\n",
    "\n",
    "ds_train = preprocess_dataset(ds_train, batch_size=bs, batch_size=bs)\n",
    "ds_val = preprocess_dataset(ds_val, batch_size=bs, batch_size=bs)\n",
    "ds_test = preprocess_dataset(ds_test, batch_size=bs, batch_size=bs, cache=False)"
   ]
  },
  {
   "cell_type": "code",
   "execution_count": 14,
   "metadata": {},
   "outputs": [
    {
     "name": "stdout",
     "output_type": "stream",
     "text": [
      "(32, 32, 32, 1)\n",
      "(32,)\n"
     ]
    }
   ],
   "source": [
    "for r in ds_train.take(1):\n",
    "    print(r[0].shape)\n",
    "    print(r[1].shape)"
   ]
  },
  {
   "cell_type": "code",
   "execution_count": 16,
   "metadata": {},
   "outputs": [
    {
     "name": "stdout",
     "output_type": "stream",
     "text": [
      "(128, 32, 32, 1)\n",
      "(128,)\n"
     ]
    }
   ],
   "source": [
    "for r in ds_train.unbatch().batch(128).take(1):\n",
    "    print(r[0].shape)\n",
    "    print(r[1].shape)"
   ]
  },
  {
   "cell_type": "code",
   "execution_count": 10,
   "metadata": {},
   "outputs": [],
   "source": [
    "class ResidualBlock(tf.keras.layers.Layer):\n",
    "    def __init__(self, filters, strides=1, activation=\"relu\", **kwargs):\n",
    "        super(ResidualBlock, self).__init__(**kwargs)\n",
    "        self.activation = tf.keras.activations.get(activation)\n",
    "        self.main_layers = [\n",
    "            tf.keras.layers.Conv2D(\n",
    "                filters, strides=strides, kernel_size=3, padding=\"same\", use_bias=False\n",
    "            ),\n",
    "            tf.keras.layers.BatchNormalization(),\n",
    "            self.activation,\n",
    "            tf.keras.layers.Conv2D(\n",
    "                filters, strides=1, kernel_size=3, padding=\"same\", use_bias=False\n",
    "            ),\n",
    "            tf.keras.layers.BatchNormalization(),\n",
    "        ]\n",
    "        self.skip_layers = []\n",
    "        if strides > 1:\n",
    "            self.skip_layers = [\n",
    "                tf.keras.layers.Conv2D(\n",
    "                    filters,\n",
    "                    strides=strides,\n",
    "                    kernel_size=1,\n",
    "                    padding=\"same\",\n",
    "                    use_bias=False,\n",
    "                ),\n",
    "                tf.keras.layers.BatchNormalization(),\n",
    "            ]\n",
    "    def get_config(self):\n",
    "        config = super().get_config()\n",
    "        config.update({\n",
    "            'activation': self.activation,\n",
    "            'main_layers': self.main_layers,\n",
    "            'skip_layers': self.skip_layers\n",
    "        })\n",
    "        return config\n",
    "\n",
    "    def call(self, inputs):\n",
    "        x = inputs\n",
    "        for layer in self.main_layers:\n",
    "            x = layer(x)\n",
    "        skip_x = inputs\n",
    "        for layer in self.skip_layers:\n",
    "            skip_x = layer(skip_x)\n",
    "        return self.activation(x + skip_x)\n",
    "\n",
    "\n",
    "class ResNet(tf.keras.Model):\n",
    "    def __init__(\n",
    "        self,\n",
    "        block_design=[3, 4, 6, 3],\n",
    "        input_shape=[32, 32, 1],\n",
    "        num_classes=88,\n",
    "        **kwargs\n",
    "    ):\n",
    "        super(ResNet, self).__init__(**kwargs)\n",
    "        self.num_classes = num_classes\n",
    "        self.classifier = tf.keras.layers.Dense(num_classes, activation=\"softmax\")\n",
    "        self.input_conv = tf.keras.models.Sequential(\n",
    "            [\n",
    "                tf.keras.layers.Conv2D(\n",
    "                    64,\n",
    "                    kernel_size=7,\n",
    "                    strides=2,\n",
    "                    input_shape=input_shape,\n",
    "                    padding=\"same\",\n",
    "                ),\n",
    "                tf.keras.layers.BatchNormalization(),\n",
    "                tf.keras.layers.Activation(\"relu\"),\n",
    "                tf.keras.layers.MaxPool2D(pool_size=3, strides=2, padding=\"same\"),\n",
    "            ]\n",
    "        )\n",
    "        self.resnet_blocks = tf.keras.models.Sequential()\n",
    "        prev_filters = 64\n",
    "        for filters in np.repeat(np.array([64, 128, 256, 512]), block_design):\n",
    "            strides = 1 if filters == prev_filters else 2\n",
    "            self.resnet_blocks.add(ResidualBlock(filters, strides=strides))\n",
    "            prev_filters = filters\n",
    "        self.avg_pool = tf.keras.layers.GlobalAveragePooling2D()\n",
    "        self.flatten = tf.keras.layers.Flatten()\n",
    "\n",
    "    def call(self, inputs):\n",
    "        x = self.input_conv(inputs)\n",
    "        x = self.resnet_blocks(x)\n",
    "        x = self.avg_pool(x)\n",
    "        x = self.flatten(x)\n",
    "        return self.classifier(x)\n",
    "\n",
    "\n",
    "def get_resnet_model(input_shape, block_design, num_classes) -> tf.keras.Sequential:\n",
    "    model = tf.keras.models.Sequential(\n",
    "        [\n",
    "            tf.keras.layers.Conv2D(\n",
    "                64, kernel_size=7, strides=2, input_shape=input_shape, padding=\"same\"\n",
    "            ),\n",
    "            tf.keras.layers.BatchNormalization(),\n",
    "            tf.keras.layers.Activation(\"relu\"),\n",
    "            tf.keras.layers.MaxPool2D(pool_size=3, strides=2, padding=\"same\"),\n",
    "        ]\n",
    "    )\n",
    "    resnet_blocks = tf.keras.models.Sequential()\n",
    "    prev_filters = 64\n",
    "    for filters in np.repeat(np.array([64, 128, 256, 512]), block_design):\n",
    "        strides = 1 if filters == prev_filters else 2\n",
    "        resnet_blocks.add(ResidualBlock(filters, strides=strides))\n",
    "        prev_filters = filters\n",
    "    model.add(resnet_blocks)\n",
    "    model.add(tf.keras.layers.GlobalAveragePooling2D())\n",
    "    model.add(tf.keras.layers.Flatten())\n",
    "    model.add(tf.keras.layers.Dense(num_classes, activation=\"softmax\"))\n",
    "    return model"
   ]
  },
  {
   "cell_type": "code",
   "execution_count": 11,
   "metadata": {},
   "outputs": [
    {
     "name": "stderr",
     "output_type": "stream",
     "text": [
      "2023-01-14 12:11:32.621894: I tensorflow/core/grappler/devices.cc:66] Number of eligible GPUs (core count >= 8, compute capability >= 0.0): 0\n",
      "2023-01-14 12:11:32.621994: I tensorflow/core/grappler/clusters/single_machine.cc:358] Starting new session\n"
     ]
    },
    {
     "name": "stdout",
     "output_type": "stream",
     "text": [
      "WARNING:tensorflow:From /home/wiktor/.pyenv/versions/3.10.9/envs/master-thesis/lib/python3.10/site-packages/tensorflow/python/ops/nn_ops.py:5250: tensor_shape_from_node_def_name (from tensorflow.python.framework.graph_util_impl) is deprecated and will be removed in a future version.\n",
      "Instructions for updating:\n",
      "This API was designed for TensorFlow v1. See https://www.tensorflow.org/guide/migrate for instructions on how to migrate your code to TensorFlow v2.\n",
      "Epoch 1/100\n",
      "WARNING:tensorflow:Model was constructed with shape (None, 32, 32, 1) for input KerasTensor(type_spec=TensorSpec(shape=(None, 32, 32, 1), dtype=tf.float32, name='conv2d_input'), name='conv2d_input', description=\"created by layer 'conv2d_input'\"), but it was called on an input with incompatible shape (None, None, 32, 32).\n"
     ]
    },
    {
     "ename": "ValueError",
     "evalue": "in user code:\n\n    File \"/home/wiktor/.pyenv/versions/3.10.9/envs/master-thesis/lib/python3.10/site-packages/keras/engine/training.py\", line 1249, in train_function  *\n        return step_function(self, iterator)\n    File \"/home/wiktor/.pyenv/versions/3.10.9/envs/master-thesis/lib/python3.10/site-packages/keras/engine/training.py\", line 1233, in step_function  **\n        outputs = model.distribute_strategy.run(run_step, args=(data,))\n    File \"/home/wiktor/.pyenv/versions/3.10.9/envs/master-thesis/lib/python3.10/site-packages/keras/engine/training.py\", line 1222, in run_step  **\n        outputs = model.train_step(data)\n    File \"/home/wiktor/.pyenv/versions/3.10.9/envs/master-thesis/lib/python3.10/site-packages/keras/engine/training.py\", line 1023, in train_step\n        y_pred = self(x, training=True)\n    File \"/home/wiktor/.pyenv/versions/3.10.9/envs/master-thesis/lib/python3.10/site-packages/keras/utils/traceback_utils.py\", line 70, in error_handler\n        raise e.with_traceback(filtered_tb) from None\n    File \"/home/wiktor/.pyenv/versions/3.10.9/envs/master-thesis/lib/python3.10/site-packages/keras/engine/input_spec.py\", line 277, in assert_input_compatibility\n        raise ValueError(\n\n    ValueError: Exception encountered when calling layer 'sequential' (type Sequential).\n    \n    Input 0 of layer \"conv2d\" is incompatible with the layer: expected axis -1 of input shape to have value 1, but received input with shape (None, None, 32, 32)\n    \n    Call arguments received by layer 'sequential' (type Sequential):\n      • inputs=tf.Tensor(shape=(None, None, 32, 32, 1), dtype=float32)\n      • training=True\n      • mask=None\n",
     "output_type": "error",
     "traceback": [
      "\u001b[0;31m---------------------------------------------------------------------------\u001b[0m",
      "\u001b[0;31mValueError\u001b[0m                                Traceback (most recent call last)",
      "Cell \u001b[0;32mIn[11], line 31\u001b[0m\n\u001b[1;32m     22\u001b[0m \u001b[39m# save the best model\u001b[39;00m\n\u001b[1;32m     23\u001b[0m checkpoint_callback \u001b[39m=\u001b[39m tf\u001b[39m.\u001b[39mkeras\u001b[39m.\u001b[39mcallbacks\u001b[39m.\u001b[39mModelCheckpoint(\n\u001b[1;32m     24\u001b[0m     filepath\u001b[39m=\u001b[39m\u001b[39mf\u001b[39m\u001b[39m\"\u001b[39m\u001b[39m./artifacts/\u001b[39m\u001b[39m{\u001b[39;00mMODEL_NAME\u001b[39m}\u001b[39;00m\u001b[39m.h5\u001b[39m\u001b[39m\"\u001b[39m,\n\u001b[1;32m     25\u001b[0m     save_weights_only\u001b[39m=\u001b[39m\u001b[39mFalse\u001b[39;00m,\n\u001b[0;32m   (...)\u001b[0m\n\u001b[1;32m     28\u001b[0m     save_best_only\u001b[39m=\u001b[39m\u001b[39mTrue\u001b[39;00m,\n\u001b[1;32m     29\u001b[0m )\n\u001b[0;32m---> 31\u001b[0m history \u001b[39m=\u001b[39m model\u001b[39m.\u001b[39;49mfit(\n\u001b[1;32m     32\u001b[0m     ds_train,\n\u001b[1;32m     33\u001b[0m     epochs\u001b[39m=\u001b[39;49mepochs,\n\u001b[1;32m     34\u001b[0m     validation_data\u001b[39m=\u001b[39;49mds_val,\n\u001b[1;32m     35\u001b[0m     callbacks\u001b[39m=\u001b[39;49m[wandb_callback, checkpoint_callback],\n\u001b[1;32m     36\u001b[0m )\n",
      "File \u001b[0;32m~/.pyenv/versions/3.10.9/envs/master-thesis/lib/python3.10/site-packages/wandb/integration/keras/keras.py:174\u001b[0m, in \u001b[0;36mpatch_tf_keras.<locals>.new_v2\u001b[0;34m(*args, **kwargs)\u001b[0m\n\u001b[1;32m    172\u001b[0m     \u001b[39mfor\u001b[39;00m cbk \u001b[39min\u001b[39;00m cbks:\n\u001b[1;32m    173\u001b[0m         set_wandb_attrs(cbk, val_data)\n\u001b[0;32m--> 174\u001b[0m \u001b[39mreturn\u001b[39;00m old_v2(\u001b[39m*\u001b[39;49margs, \u001b[39m*\u001b[39;49m\u001b[39m*\u001b[39;49mkwargs)\n",
      "File \u001b[0;32m~/.pyenv/versions/3.10.9/envs/master-thesis/lib/python3.10/site-packages/wandb/integration/keras/keras.py:174\u001b[0m, in \u001b[0;36mpatch_tf_keras.<locals>.new_v2\u001b[0;34m(*args, **kwargs)\u001b[0m\n\u001b[1;32m    172\u001b[0m     \u001b[39mfor\u001b[39;00m cbk \u001b[39min\u001b[39;00m cbks:\n\u001b[1;32m    173\u001b[0m         set_wandb_attrs(cbk, val_data)\n\u001b[0;32m--> 174\u001b[0m \u001b[39mreturn\u001b[39;00m old_v2(\u001b[39m*\u001b[39;49margs, \u001b[39m*\u001b[39;49m\u001b[39m*\u001b[39;49mkwargs)\n",
      "File \u001b[0;32m~/.pyenv/versions/3.10.9/envs/master-thesis/lib/python3.10/site-packages/wandb/integration/keras/keras.py:174\u001b[0m, in \u001b[0;36mpatch_tf_keras.<locals>.new_v2\u001b[0;34m(*args, **kwargs)\u001b[0m\n\u001b[1;32m    172\u001b[0m     \u001b[39mfor\u001b[39;00m cbk \u001b[39min\u001b[39;00m cbks:\n\u001b[1;32m    173\u001b[0m         set_wandb_attrs(cbk, val_data)\n\u001b[0;32m--> 174\u001b[0m \u001b[39mreturn\u001b[39;00m old_v2(\u001b[39m*\u001b[39;49margs, \u001b[39m*\u001b[39;49m\u001b[39m*\u001b[39;49mkwargs)\n",
      "File \u001b[0;32m~/.pyenv/versions/3.10.9/envs/master-thesis/lib/python3.10/site-packages/keras/utils/traceback_utils.py:70\u001b[0m, in \u001b[0;36mfilter_traceback.<locals>.error_handler\u001b[0;34m(*args, **kwargs)\u001b[0m\n\u001b[1;32m     67\u001b[0m     filtered_tb \u001b[39m=\u001b[39m _process_traceback_frames(e\u001b[39m.\u001b[39m__traceback__)\n\u001b[1;32m     68\u001b[0m     \u001b[39m# To get the full stack trace, call:\u001b[39;00m\n\u001b[1;32m     69\u001b[0m     \u001b[39m# `tf.debugging.disable_traceback_filtering()`\u001b[39;00m\n\u001b[0;32m---> 70\u001b[0m     \u001b[39mraise\u001b[39;00m e\u001b[39m.\u001b[39mwith_traceback(filtered_tb) \u001b[39mfrom\u001b[39;00m \u001b[39mNone\u001b[39m\n\u001b[1;32m     71\u001b[0m \u001b[39mfinally\u001b[39;00m:\n\u001b[1;32m     72\u001b[0m     \u001b[39mdel\u001b[39;00m filtered_tb\n",
      "File \u001b[0;32m/tmp/__autograph_generated_file3klr1u4h.py:15\u001b[0m, in \u001b[0;36mouter_factory.<locals>.inner_factory.<locals>.tf__train_function\u001b[0;34m(iterator)\u001b[0m\n\u001b[1;32m     13\u001b[0m \u001b[39mtry\u001b[39;00m:\n\u001b[1;32m     14\u001b[0m     do_return \u001b[39m=\u001b[39m \u001b[39mTrue\u001b[39;00m\n\u001b[0;32m---> 15\u001b[0m     retval_ \u001b[39m=\u001b[39m ag__\u001b[39m.\u001b[39mconverted_call(ag__\u001b[39m.\u001b[39mld(step_function), (ag__\u001b[39m.\u001b[39mld(\u001b[39mself\u001b[39m), ag__\u001b[39m.\u001b[39mld(iterator)), \u001b[39mNone\u001b[39;00m, fscope)\n\u001b[1;32m     16\u001b[0m \u001b[39mexcept\u001b[39;00m:\n\u001b[1;32m     17\u001b[0m     do_return \u001b[39m=\u001b[39m \u001b[39mFalse\u001b[39;00m\n",
      "\u001b[0;31mValueError\u001b[0m: in user code:\n\n    File \"/home/wiktor/.pyenv/versions/3.10.9/envs/master-thesis/lib/python3.10/site-packages/keras/engine/training.py\", line 1249, in train_function  *\n        return step_function(self, iterator)\n    File \"/home/wiktor/.pyenv/versions/3.10.9/envs/master-thesis/lib/python3.10/site-packages/keras/engine/training.py\", line 1233, in step_function  **\n        outputs = model.distribute_strategy.run(run_step, args=(data,))\n    File \"/home/wiktor/.pyenv/versions/3.10.9/envs/master-thesis/lib/python3.10/site-packages/keras/engine/training.py\", line 1222, in run_step  **\n        outputs = model.train_step(data)\n    File \"/home/wiktor/.pyenv/versions/3.10.9/envs/master-thesis/lib/python3.10/site-packages/keras/engine/training.py\", line 1023, in train_step\n        y_pred = self(x, training=True)\n    File \"/home/wiktor/.pyenv/versions/3.10.9/envs/master-thesis/lib/python3.10/site-packages/keras/utils/traceback_utils.py\", line 70, in error_handler\n        raise e.with_traceback(filtered_tb) from None\n    File \"/home/wiktor/.pyenv/versions/3.10.9/envs/master-thesis/lib/python3.10/site-packages/keras/engine/input_spec.py\", line 277, in assert_input_compatibility\n        raise ValueError(\n\n    ValueError: Exception encountered when calling layer 'sequential' (type Sequential).\n    \n    Input 0 of layer \"conv2d\" is incompatible with the layer: expected axis -1 of input shape to have value 1, but received input with shape (None, None, 32, 32)\n    \n    Call arguments received by layer 'sequential' (type Sequential):\n      • inputs=tf.Tensor(shape=(None, None, 32, 32, 1), dtype=float32)\n      • training=True\n      • mask=None\n"
     ]
    }
   ],
   "source": [
    "model = get_resnet_model(input_shape=[32, 32, 1], block_design=RESNET_DEPTHS, num_classes=num_classes)\n",
    "\n",
    "opt = tf.keras.optimizers.get({\n",
    "    'class_name': wandb.config.optimizer,\n",
    "    'config': {\n",
    "        'learning_rate': lr,\n",
    "        'momentum': momentum\n",
    "    }\n",
    "})\n",
    "\n",
    "model.compile(\n",
    "    optimizer=opt,\n",
    "    loss=tf.keras.losses.SparseCategoricalCrossentropy(from_logits=True),\n",
    "    metrics=[\"accuracy\"],\n",
    ")\n",
    "\n",
    "wandb_callback = wandb.keras.WandbCallback(\n",
    "    save_model=False,\n",
    "    compute_flops=True,\n",
    ")\n",
    "\n",
    "# save the best model\n",
    "checkpoint_callback = tf.keras.callbacks.ModelCheckpoint(\n",
    "    filepath=f\"./artifacts/{MODEL_NAME}.h5\",\n",
    "    save_weights_only=False,\n",
    "    monitor=\"val_accuracy\",\n",
    "    mode=\"max\",\n",
    "    save_best_only=True,\n",
    ")\n",
    "\n",
    "history = model.fit(\n",
    "    ds_train,\n",
    "    epochs=epochs,\n",
    "    validation_data=ds_val,\n",
    "    callbacks=[wandb_callback, checkpoint_callback],\n",
    ")"
   ]
  },
  {
   "cell_type": "code",
   "execution_count": null,
   "metadata": {},
   "outputs": [],
   "source": [
    "plot_history(history)"
   ]
  },
  {
   "cell_type": "code",
   "execution_count": null,
   "metadata": {},
   "outputs": [],
   "source": [
    "# evaluate model then log to wandb\n",
    "\n",
    "evaluate_model(model, ds_test, MODEL_NAME)\n",
    "evaluate_diacritics_performance(model, ds_test)"
   ]
  },
  {
   "cell_type": "code",
   "execution_count": null,
   "metadata": {},
   "outputs": [],
   "source": [
    "# save artifact to wandb\n",
    "artifact = wandb.Artifact(\n",
    "    name=MODEL_NAME,\n",
    "    type=\"model\"\n",
    ")\n",
    "\n",
    "# save best model to artifact\n",
    "artifact.add_file(f\"./artifacts/{MODEL_NAME}.h5\")\n",
    "run.log_artifact(artifact)\n",
    "run.finish()"
   ]
  }
 ],
 "metadata": {
  "kernelspec": {
   "display_name": "master-thesis",
   "language": "python",
   "name": "python3"
  },
  "language_info": {
   "codemirror_mode": {
    "name": "ipython",
    "version": 3
   },
   "file_extension": ".py",
   "mimetype": "text/x-python",
   "name": "python",
   "nbconvert_exporter": "python",
   "pygments_lexer": "ipython3",
   "version": "3.10.9 (main, Dec 31 2022, 09:54:50) [GCC 9.5.0]"
  },
  "orig_nbformat": 4,
  "vscode": {
   "interpreter": {
    "hash": "50e1e42dfe1d658956852bd8112c3a0f458e21bda0a35307ca1649a3ad9140a0"
   }
  }
 },
 "nbformat": 4,
 "nbformat_minor": 2
}
