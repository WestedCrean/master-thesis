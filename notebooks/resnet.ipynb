{
 "cells": [
  {
   "attachments": {},
   "cell_type": "markdown",
   "metadata": {},
   "source": [
    "# Residual network\n",
    "\n",
    "This notebook trains the ResNet-20 based on\n",
    "\n",
    "\n",
    "After training, model is serialized and uploaded to W&B project."
   ]
  },
  {
   "cell_type": "code",
   "execution_count": null,
   "metadata": {},
   "outputs": [],
   "source": [
    "import wandb\n",
    "import tensorflow as tf\n",
    "import pathlib\n",
    "import shutil\n",
    "import utils\n",
    "from train import evaluate_model, evaluate_diacritics_performance"
   ]
  },
  {
   "cell_type": "code",
   "execution_count": null,
   "metadata": {},
   "outputs": [],
   "source": [
    "defaults = dict(\n",
    "    batch_size=32*4,\n",
    "    epochs=100,    \n",
    "    optimizer=\"sgd\",\n",
    "    learning_rate=0.01,\n",
    "    momentum=0.9,\n",
    ")\n",
    "\n",
    "RESNET_DEPTHS = [3, 4, 6, 3]\n",
    "MODEL_NAME = f\"resnet-{sum(RESNET_DEPTHS) + 2}\"\n",
    "run = wandb.init(project=\"master-thesis\", job_type=\"training\", name=MODEL_NAME, config=defaults,)\n",
    "split_paths = utils.load_data(run=run)\n",
    "\n",
    "# hyperparameters\n",
    "\n",
    "opt_name = wandb.config.optimizer\n",
    "lr = wandb.config.learning_rate\n",
    "momentum = wandb.config.momentum\n",
    "bs = wandb.config.batch_size\n",
    "epochs = wandb.config.epochs"
   ]
  },
  {
   "cell_type": "code",
   "execution_count": null,
   "metadata": {},
   "outputs": [],
   "source": [
    "ds_train, ds_test, ds_val = [\n",
    "    utils.create_tf_dataset(split_path, batch_size=bs) for split_path in split_paths\n",
    "    ]\n",
    "\n",
    "num_classes = len(ds_train.class_names)\n",
    "\n",
    "print(f\"There are {num_classes} classes\")\n",
    "print(f\"Training set has {len(ds_train)} batches\")\n",
    "print(f\"Test set has {len(ds_test)} batches\")\n",
    "print(f\"Validation set has {len(ds_val)} batches\")\n",
    "\n",
    "ds_train = utils.preprocess_dataset(ds_train)\n",
    "ds_val = utils.preprocess_dataset(ds_val)\n",
    "ds_test = utils.preprocess_dataset(ds_test, cache=False)"
   ]
  },
  {
   "cell_type": "code",
   "execution_count": null,
   "metadata": {},
   "outputs": [],
   "source": [
    "from resnet import get_resnet_model\n",
    "\n",
    "model = get_resnet_model(input_shape=[32, 32, 1], block_design=RESNET_DEPTHS, num_classes=num_classes)\n",
    "\n",
    "opt = tf.keras.optimizers.get({\n",
    "    'class_name': wandb.config.optimizer,\n",
    "    'config': {\n",
    "        'learning_rate': lr,\n",
    "        'momentum': momentum\n",
    "    }\n",
    "})\n",
    "\n",
    "model.compile(\n",
    "    optimizer=opt,\n",
    "    loss=tf.keras.losses.SparseCategoricalCrossentropy(from_logits=True),\n",
    "    metrics=[\"accuracy\"],\n",
    ")\n",
    "\n",
    "wandb_callback = wandb.keras.WandbCallback(\n",
    "    save_model=False,\n",
    "    compute_flops=True,\n",
    ")\n",
    "\n",
    "# save the best model\n",
    "checkpoint_callback = tf.keras.callbacks.ModelCheckpoint(\n",
    "    filepath=f\"./artifacts/{MODEL_NAME}.h5\",\n",
    "    save_weights_only=False,\n",
    "    monitor=\"val_accuracy\",\n",
    "    mode=\"max\",\n",
    "    save_best_only=True,\n",
    ")\n",
    "\n",
    "history = model.fit(\n",
    "    ds_train,\n",
    "    epochs=epochs,\n",
    "    validation_data=ds_val,\n",
    "    callbacks=[wandb_callback, checkpoint_callback],\n",
    ")"
   ]
  },
  {
   "cell_type": "code",
   "execution_count": null,
   "metadata": {},
   "outputs": [],
   "source": [
    "plot_history(history)"
   ]
  },
  {
   "cell_type": "code",
   "execution_count": null,
   "metadata": {},
   "outputs": [],
   "source": [
    "# evaluate model then log to wandb\n",
    "\n",
    "evaluate_model(model, ds_test, MODEL_NAME)\n",
    "evaluate_diacritics_performance(model, ds_test)"
   ]
  },
  {
   "cell_type": "code",
   "execution_count": null,
   "metadata": {},
   "outputs": [],
   "source": [
    "# save artifact to wandb\n",
    "artifact = wandb.Artifact(\n",
    "    name=MODEL_NAME,\n",
    "    type=\"model\"\n",
    ")\n",
    "\n",
    "# save best model to artifact\n",
    "artifact.add_file(f\"./artifacts/{MODEL_NAME}.h5\")\n",
    "run.log_artifact(artifact)\n",
    "run.finish()"
   ]
  }
 ],
 "metadata": {
  "kernelspec": {
   "display_name": "Python 3",
   "language": "python",
   "name": "python3"
  },
  "language_info": {
   "codemirror_mode": {
    "name": "ipython",
    "version": 3
   },
   "file_extension": ".py",
   "mimetype": "text/x-python",
   "name": "python",
   "nbconvert_exporter": "python",
   "pygments_lexer": "ipython3",
   "version": "3.10.4"
  },
  "orig_nbformat": 4,
  "vscode": {
   "interpreter": {
    "hash": "df5f531b08a468c0a2a3591ee4fa2c1150ed1bbbe823daf85795b21510fb4a25"
   }
  }
 },
 "nbformat": 4,
 "nbformat_minor": 2
}
