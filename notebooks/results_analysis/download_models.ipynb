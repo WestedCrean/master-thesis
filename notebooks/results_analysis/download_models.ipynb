{
 "cells": [
  {
   "cell_type": "code",
   "execution_count": null,
   "metadata": {},
   "outputs": [],
   "source": [
    "import wandb\n",
    "import pandas as pd\n",
    "\n",
    "# Download the results table from wandb\n",
    "api = wandb.Api()\n",
    "\n",
    "run_ids = [\n",
    "    \"xzgf771s\",\n",
    "    \"j4le637v\",\n",
    "    \"s60ro5u2\",\n",
    "    \"dr66bmts\",\n",
    "    \"qb2m4w5m\",\n",
    "    \"jlk71mxj\",\n",
    "]\n",
    "\n",
    "table = api.runs(\n",
    "    \"gratkadlafana/master-thesis\",\n",
    "    filters={\"job_type\": \"training\"}\n",
    ")\n",
    "for run in table:\n",
    "    print(run.name)"
   ]
  },
  {
   "cell_type": "code",
   "execution_count": null,
   "metadata": {},
   "outputs": [],
   "source": [
    "api.runs(\n",
    "    \"gratkadlafana/master-thesis\",\n",
    ")"
   ]
  },
  {
   "cell_type": "code",
   "execution_count": null,
   "metadata": {},
   "outputs": [],
   "source": []
  }
 ],
 "metadata": {
  "kernelspec": {
   "display_name": "master-thesis",
   "language": "python",
   "name": "python3"
  },
  "language_info": {
   "codemirror_mode": {
    "name": "ipython",
    "version": 3
   },
   "file_extension": ".py",
   "mimetype": "text/x-python",
   "name": "python",
   "nbconvert_exporter": "python",
   "pygments_lexer": "ipython3",
   "version": "3.10.8"
  },
  "orig_nbformat": 4,
  "vscode": {
   "interpreter": {
    "hash": "e25b199ea3671ac14fcd9257931c2d883fc8c97101fad7f035094360c4bcdb79"
   }
  }
 },
 "nbformat": 4,
 "nbformat_minor": 2
}
