{
 "cells": [
  {
   "cell_type": "markdown",
   "metadata": {},
   "source": [
    "# CNN Visualization in TensorFlow"
   ]
  },
  {
   "cell_type": "code",
   "execution_count": null,
   "metadata": {},
   "outputs": [],
   "source": [
    "import tensorflow as tf\n",
    "\n",
    "for gpu in tf.config.list_physical_devices('GPU'):\n",
    "    tf.config.experimental.set_memory_growth(gpu, True)\n",
    "\n",
    "import numpy as np\n",
    "import matplotlib.pyplot as plt\n",
    "import json\n",
    "import urllib.request"
   ]
  },
  {
   "cell_type": "code",
   "execution_count": null,
   "metadata": {},
   "outputs": [],
   "source": [
    "url = 'https://upload.wikimedia.org/wikipedia/commons/thumb/d/d9/2005_LTI_TXII_Silver_Automatic_2.4_Front.jpg/1920px-2005_LTI_TXII_Silver_Automatic_2.4_Front.jpg'\n",
    "\n",
    "urllib.request.urlretrieve(url, 'taxi.jpg')\n",
    "\n",
    "img = tf.keras.preprocessing.image.load_img('taxi.jpg', target_size=(224, 224))\n",
    "\n",
    "plt.imshow(img);\n",
    "plt.xticks([]);\n",
    "plt.yticks([]);"
   ]
  },
  {
   "cell_type": "code",
   "execution_count": null,
   "metadata": {},
   "outputs": [],
   "source": [
    "model = tf.keras.applications.VGG16()\n",
    "model.summary()"
   ]
  },
  {
   "cell_type": "code",
   "execution_count": null,
   "metadata": {},
   "outputs": [],
   "source": [
    "print('Image:',img.size)\n",
    "img = tf.keras.preprocessing.image.img_to_array(img)\n",
    "print('Image:',img.shape)\n",
    "x = np.expand_dims(img, axis=0)\n",
    "print('Image:',x.shape)\n",
    "x = tf.keras.applications.vgg16.preprocess_input(x)\n",
    "print('Image:',x.shape)"
   ]
  },
  {
   "cell_type": "code",
   "execution_count": null,
   "metadata": {},
   "outputs": [],
   "source": [
    "pred = model.predict(x)\n",
    "print(pred.shape)"
   ]
  },
  {
   "cell_type": "code",
   "execution_count": null,
   "metadata": {},
   "outputs": [],
   "source": [
    "# plik z klasami ImageNet\n",
    "url = 'https://raw.githubusercontent.com/pytorch/hub/master/imagenet_classes.txt'\n",
    "urllib.request.urlretrieve(url, 'imagenet_classes.txt')\n",
    "    \n",
    "with open('imagenet_classes.txt', 'r') as f:\n",
    "    classes = [s.strip() for s in f.readlines()]\n",
    "    print('Classes:',len(classes))"
   ]
  },
  {
   "cell_type": "code",
   "execution_count": null,
   "metadata": {},
   "outputs": [],
   "source": [
    "max_index = np.argmax(pred[0])\n",
    "print(max_index)\n",
    "print(classes[max_index])"
   ]
  },
  {
   "cell_type": "code",
   "execution_count": null,
   "metadata": {},
   "outputs": [],
   "source": [
    "top5 = tf.math.top_k(pred[0],5)\n",
    "print('\\n'.join(['%s %.1f%%'%(classes[i],100*v) for i,v in zip(top5.indices, top5.values)]))"
   ]
  },
  {
   "cell_type": "code",
   "execution_count": null,
   "metadata": {
    "scrolled": false
   },
   "outputs": [],
   "source": [
    "layers = [layer for layer in model.layers]\n",
    "names=[layer.name for layer in model.layers]\n",
    "for i, l in enumerate(layers):\n",
    "    o=l.output\n",
    "    print(\"%2d %25s\"%(i, o.name.split(':')[0]), o.shape)"
   ]
  },
  {
   "cell_type": "code",
   "execution_count": null,
   "metadata": {},
   "outputs": [],
   "source": [
    "outputs=[]\n",
    "image = x\n",
    "for l in layers:\n",
    "    if 'flatten' in  l.name:\n",
    "        break\n",
    "    image = l(image)\n",
    "    print(image.shape)\n",
    "    outputs.append(image)"
   ]
  },
  {
   "cell_type": "code",
   "execution_count": null,
   "metadata": {},
   "outputs": [],
   "source": [
    "layer_id = 1\n",
    "\n",
    "fig = plt.figure(figsize=(20,20))\n",
    "\n",
    "plt.suptitle('%s %s\\n'%(names[layer_id],str(outputs[layer_id].shape)))\n",
    "\n",
    "for i in range(outputs[layer_id].shape[-1]):\n",
    "    _img=outputs[layer_id][0,:,:,i]\n",
    "    a=fig.add_subplot(8,8,i+1)\n",
    "    imgplot=plt.imshow(_img,cmap='gray')\n",
    "    plt.axis('off')\n",
    "plt.tight_layout()"
   ]
  },
  {
   "cell_type": "code",
   "execution_count": null,
   "metadata": {},
   "outputs": [],
   "source": [
    "layer_id = 18\n",
    "\n",
    "fig = plt.figure(figsize=(20,10))\n",
    "\n",
    "plt.suptitle('%s %s\\n'%(names[layer_id],str(outputs[layer_id].shape)))\n",
    "\n",
    "for i in range(outputs[layer_id].shape[-1]):\n",
    "    _img=outputs[layer_id][0,:,:,i]\n",
    "    a=fig.add_subplot(16,32,i+1)\n",
    "    imgplot=plt.imshow(_img,cmap='gray')\n",
    "    plt.axis('off')\n",
    "plt.tight_layout()"
   ]
  },
  {
   "cell_type": "code",
   "execution_count": null,
   "metadata": {},
   "outputs": [],
   "source": [
    "first_maps=[]\n",
    "mean_maps=[]\n",
    "for feature_map in outputs:\n",
    "    feature_map=feature_map[0]\n",
    "    mean_maps.append(tf.math.reduce_mean(feature_map,axis=2))\n",
    "    first_maps.append(feature_map[:,:,0])\n",
    "mean_maps[0].shape"
   ]
  },
  {
   "cell_type": "code",
   "execution_count": null,
   "metadata": {
    "scrolled": false
   },
   "outputs": [],
   "source": [
    "fig =plt.figure(figsize=(20,12))\n",
    "\n",
    "for i in range(len(first_maps)):\n",
    "    a=fig.add_subplot(4,8,i+1)\n",
    "    imgplot=plt.imshow(first_maps[i],cmap='gray')\n",
    "    plt.axis('off')\n",
    "    a.set_title('%s\\n%dx%d'%(names[i].split('(')[0],first_maps[i].shape[0],first_maps[i].shape[1]), fontsize=20)"
   ]
  },
  {
   "cell_type": "code",
   "execution_count": null,
   "metadata": {
    "scrolled": false
   },
   "outputs": [],
   "source": [
    "fig =plt.figure(figsize=(20,12))\n",
    "\n",
    "for i in range(len(mean_maps)):\n",
    "    a=fig.add_subplot(4,8,i+1)\n",
    "    imgplot=plt.imshow(mean_maps[i],cmap='gray')\n",
    "    plt.axis('off')\n",
    "    a.set_title('%s\\n%dx%d'%(names[i].split('(')[0],mean_maps[i].shape[0],mean_maps[i].shape[1]), fontsize=20)"
   ]
  }
 ],
 "metadata": {
  "kernelspec": {
   "display_name": "Python 3",
   "language": "python",
   "name": "python3"
  },
  "language_info": {
   "codemirror_mode": {
    "name": "ipython",
    "version": 3
   },
   "file_extension": ".py",
   "mimetype": "text/x-python",
   "name": "python",
   "nbconvert_exporter": "python",
   "pygments_lexer": "ipython3",
   "version": "3.7.6"
  }
 },
 "nbformat": 4,
 "nbformat_minor": 4
}
