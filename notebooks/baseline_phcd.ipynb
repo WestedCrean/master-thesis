{
    "cells": [
        {
            "attachments": {},
            "cell_type": "markdown",
            "metadata": {},
            "source": [
                "# Baseline network\n",
                "\n",
                "This notebook trains the baseline network with exact same architecture as the one in paper [Recognition of handwritten Latin characters with diacritics using CNN](https://journals.pan.pl/dlibra/publication/136210/edition/119099/content/bulletin-of-the-polish-academy-of-sciences-technical-sciences-recognition-of-handwritten-latin-characters-with-diacritics-using-cnn-lukasik-edyta-charytanowicz-malgorzata-milosz-marek-tokovarov-michail-kaczorowska-monika-czerwinski-dariusz-zientarski-tomasz-2021-69-no-1?language=en)\n",
                "\n",
                "Model architecture description:\n",
                "\n",
                "- Input layer (32x32 grayscale image) \n",
                "\n",
                "- feature extraction\n",
                "    - Conv2d (padding = 1, kernel = (3,3), stride = 1, activation = relu) \n",
                "    - MaxPool layer ( kernel=(2,2), stride=2) \n",
                "    - Conv2d layer (padding = 1, kernel = (3,3), stride = 1, activation = relu) \n",
                "    - MaxPool layer ( kernel=(2,2), stride=2) \n",
                "\n",
                "- dense layers\n",
                "    - Dense(5376)\n",
                "    - Dense(256)\n",
                "    - Dense( number of classes - here in paper 89 classes)\n",
                "\n",
                "\n",
                "\n",
                "\n",
                "After training, model is serialized and uploaded to W&B project."
            ]
        },
        {
            "cell_type": "code",
            "execution_count": 1,
            "metadata": {},
            "outputs": [
                {
                    "name": "stderr",
                    "output_type": "stream",
                    "text": [
                        "2023-01-14 20:53:01.439535: I tensorflow/core/platform/cpu_feature_guard.cc:193] This TensorFlow binary is optimized with oneAPI Deep Neural Network Library (oneDNN) to use the following CPU instructions in performance-critical operations:  AVX2 FMA\n",
                        "To enable them in other operations, rebuild TensorFlow with the appropriate compiler flags.\n",
                        "2023-01-14 20:53:01.999479: W tensorflow/compiler/xla/stream_executor/platform/default/dso_loader.cc:64] Could not load dynamic library 'libnvinfer.so.7'; dlerror: libnvinfer.so.7: cannot open shared object file: No such file or directory; LD_LIBRARY_PATH: :/home/wiktor/miniconda3/lib/\n",
                        "2023-01-14 20:53:01.999547: W tensorflow/compiler/xla/stream_executor/platform/default/dso_loader.cc:64] Could not load dynamic library 'libnvinfer_plugin.so.7'; dlerror: libnvinfer_plugin.so.7: cannot open shared object file: No such file or directory; LD_LIBRARY_PATH: :/home/wiktor/miniconda3/lib/\n",
                        "2023-01-14 20:53:01.999552: W tensorflow/compiler/tf2tensorrt/utils/py_utils.cc:38] TF-TRT Warning: Cannot dlopen some TensorRT libraries. If you would like to use Nvidia GPU with TensorRT, please make sure the missing libraries mentioned above are installed properly.\n"
                    ]
                }
            ],
            "source": [
                "import wandb\n",
                "import tensorflow as tf\n",
                "import numpy as np\n",
                "import pathlib\n",
                "import shutil\n",
                "from typing import List\n",
                "\n",
                "def load_data(run) -> List[tf.data.Dataset]:\n",
                "    \"\"\"\n",
                "    Downloads datasets from a wandb artifact and loads them into a list of tf.data.Datasets.\n",
                "    \"\"\"\n",
                "\n",
                "    artifact_name = f\"letters_splits_tfds\"\n",
                "    artifact = run.use_artifact(f\"master-thesis/{artifact_name}:latest\")\n",
                "    artifact_dir = pathlib.Path(\n",
                "        f\"./artifacts/{artifact.name.replace(':', '-')}\"\n",
                "    ).resolve()\n",
                "    if not artifact_dir.exists():\n",
                "        artifact_dir = artifact.download()\n",
                "        artifact_dir = pathlib.Path(artifact_dir).resolve()\n",
                "\n",
                "    # if tf.__version__ minor is less than 10, use\n",
                "    # tf.data.experimental.load instead of tf.data.Dataset.load\n",
                "\n",
                "    if int(tf.__version__.split(\".\")[1]) < 10:\n",
                "        load_function = tf.data.experimental.load\n",
                "    else:\n",
                "        load_function = tf.data.Dataset.load\n",
                "    \n",
                "    output_list = []\n",
                "    for split in [\"train\", \"test\", \"val\"]:\n",
                "        ds = load_function(str(artifact_dir / split), compression=\"GZIP\")\n",
                "        output_list.append(ds)\n",
                "    \n",
                "    return output_list\n",
                "\n",
                "def get_number_of_classes(ds: tf.data.Dataset) -> int:\n",
                "    \"\"\"\n",
                "    Returns the number of classes in a dataset.\n",
                "    \"\"\"\n",
                "    labels_iterator= ds.map(lambda x, y: y).as_numpy_iterator()\n",
                "    labels = np.concatenate(list(labels_iterator))\n",
                "    return len(np.unique(labels))\n",
                "\n",
                "def preprocess_dataset(ds: tf.data.Dataset, batch_size: int, cache: bool = True) -> tf.data.Dataset:\n",
                "    ds = ds.map(lambda x, y: (tf.cast(x, tf.float32) / 255.0, y))  # normalize\n",
                "    ds = ds.unbatch().batch(batch_size)\n",
                "    if cache:\n",
                "        ds = ds.cache().prefetch(buffer_size=tf.data.AUTOTUNE)\n",
                "    return ds\n",
                "\n",
                "def calculate_model_size_on_disk(path: str) -> int:\n",
                "    return pathlib.Path(path).stat().st_size    \n",
                "\n",
                "def calculate_model_num_parameters(model: tf.keras.Model) -> int:\n",
                "    return model.count_params()\n",
                "\n",
                "def calculate_model_flops(model: tf.keras.Model) -> str:\n",
                "    pass"
            ]
        },
        {
            "cell_type": "code",
            "execution_count": 2,
            "metadata": {},
            "outputs": [],
            "source": [
                "defaults = dict(\n",
                "    batch_size=32*4,\n",
                "    epochs=100,    \n",
                "    optimizer=\"adam\",\n",
                "    learning_rate=0.001,\n",
                "    beta1=0.9, \n",
                "    beta2=0.999, \n",
                "    epsilon=0.1\n",
                ")"
            ]
        },
        {
            "cell_type": "code",
            "execution_count": 3,
            "metadata": {},
            "outputs": [
                {
                    "name": "stderr",
                    "output_type": "stream",
                    "text": [
                        "Failed to detect the name of this notebook, you can set it manually with the WANDB_NOTEBOOK_NAME environment variable to enable code saving.\n",
                        "\u001b[34m\u001b[1mwandb\u001b[0m: Currently logged in as: \u001b[33mgratkadlafana\u001b[0m. Use \u001b[1m`wandb login --relogin`\u001b[0m to force relogin\n"
                    ]
                },
                {
                    "data": {
                        "text/html": [
                            "Tracking run with wandb version 0.13.9"
                        ],
                        "text/plain": [
                            "<IPython.core.display.HTML object>"
                        ]
                    },
                    "metadata": {},
                    "output_type": "display_data"
                },
                {
                    "data": {
                        "text/html": [
                            "Run data is saved locally in <code>/home/wiktor/code/master-thesis/notebooks/wandb/run-20230114_205303-1f9ce2ec</code>"
                        ],
                        "text/plain": [
                            "<IPython.core.display.HTML object>"
                        ]
                    },
                    "metadata": {},
                    "output_type": "display_data"
                },
                {
                    "data": {
                        "text/html": [
                            "Syncing run <strong><a href=\"https://wandb.ai/gratkadlafana/master-thesis/runs/1f9ce2ec\" target=\"_blank\">baseline-phcd</a></strong> to <a href=\"https://wandb.ai/gratkadlafana/master-thesis\" target=\"_blank\">Weights & Biases</a> (<a href=\"https://wandb.me/run\" target=\"_blank\">docs</a>)<br/>"
                        ],
                        "text/plain": [
                            "<IPython.core.display.HTML object>"
                        ]
                    },
                    "metadata": {},
                    "output_type": "display_data"
                },
                {
                    "data": {
                        "text/html": [
                            " View project at <a href=\"https://wandb.ai/gratkadlafana/master-thesis\" target=\"_blank\">https://wandb.ai/gratkadlafana/master-thesis</a>"
                        ],
                        "text/plain": [
                            "<IPython.core.display.HTML object>"
                        ]
                    },
                    "metadata": {},
                    "output_type": "display_data"
                },
                {
                    "data": {
                        "text/html": [
                            " View run at <a href=\"https://wandb.ai/gratkadlafana/master-thesis/runs/1f9ce2ec\" target=\"_blank\">https://wandb.ai/gratkadlafana/master-thesis/runs/1f9ce2ec</a>"
                        ],
                        "text/plain": [
                            "<IPython.core.display.HTML object>"
                        ]
                    },
                    "metadata": {},
                    "output_type": "display_data"
                }
            ],
            "source": [
                "MODEL_NAME = \"baseline-phcd\"\n",
                "run = wandb.init(project=\"master-thesis\", job_type=\"training\", name=MODEL_NAME, config=defaults,)\n",
                "\n",
                "# hyperparameters\n",
                "\n",
                "epochs = wandb.config.epochs\n",
                "bs = wandb.config.batch_size"
            ]
        },
        {
            "cell_type": "code",
            "execution_count": 5,
            "metadata": {},
            "outputs": [
                {
                    "name": "stderr",
                    "output_type": "stream",
                    "text": [
                        "\u001b[34m\u001b[1mwandb\u001b[0m:   9 of 9 files downloaded.  \n"
                    ]
                },
                {
                    "name": "stdout",
                    "output_type": "stream",
                    "text": [
                        "/home/wiktor/code/master-thesis/notebooks/artifacts/letters_splits_tfds:v0\n",
                        "WARNING:tensorflow:From /home/wiktor/.pyenv/versions/3.10.9/lib/python3.10/site-packages/tensorflow/python/autograph/pyct/static_analysis/liveness.py:83: Analyzer.lamba_check (from tensorflow.python.autograph.pyct.static_analysis.liveness) is deprecated and will be removed after 2023-09-23.\n",
                        "Instructions for updating:\n",
                        "Lambda fuctions will be no more assumed to be used in the statement where they are used, or at least in the same block. https://github.com/tensorflow/tensorflow/issues/56089\n"
                    ]
                },
                {
                    "name": "stderr",
                    "output_type": "stream",
                    "text": [
                        "2023-01-14 20:53:06.098263: I tensorflow/compiler/xla/stream_executor/cuda/cuda_gpu_executor.cc:967] could not open file to read NUMA node: /sys/bus/pci/devices/0000:26:00.0/numa_node\n",
                        "Your kernel may have been built without NUMA support.\n",
                        "2023-01-14 20:53:06.102560: I tensorflow/compiler/xla/stream_executor/cuda/cuda_gpu_executor.cc:967] could not open file to read NUMA node: /sys/bus/pci/devices/0000:26:00.0/numa_node\n",
                        "Your kernel may have been built without NUMA support.\n",
                        "2023-01-14 20:53:06.102596: I tensorflow/compiler/xla/stream_executor/cuda/cuda_gpu_executor.cc:967] could not open file to read NUMA node: /sys/bus/pci/devices/0000:26:00.0/numa_node\n",
                        "Your kernel may have been built without NUMA support.\n",
                        "2023-01-14 20:53:06.102820: I tensorflow/core/platform/cpu_feature_guard.cc:193] This TensorFlow binary is optimized with oneAPI Deep Neural Network Library (oneDNN) to use the following CPU instructions in performance-critical operations:  AVX2 FMA\n",
                        "To enable them in other operations, rebuild TensorFlow with the appropriate compiler flags.\n",
                        "2023-01-14 20:53:06.103075: I tensorflow/compiler/xla/stream_executor/cuda/cuda_gpu_executor.cc:967] could not open file to read NUMA node: /sys/bus/pci/devices/0000:26:00.0/numa_node\n",
                        "Your kernel may have been built without NUMA support.\n",
                        "2023-01-14 20:53:06.103104: I tensorflow/compiler/xla/stream_executor/cuda/cuda_gpu_executor.cc:967] could not open file to read NUMA node: /sys/bus/pci/devices/0000:26:00.0/numa_node\n",
                        "Your kernel may have been built without NUMA support.\n",
                        "2023-01-14 20:53:06.103123: I tensorflow/compiler/xla/stream_executor/cuda/cuda_gpu_executor.cc:967] could not open file to read NUMA node: /sys/bus/pci/devices/0000:26:00.0/numa_node\n",
                        "Your kernel may have been built without NUMA support.\n",
                        "2023-01-14 20:53:06.581368: I tensorflow/compiler/xla/stream_executor/cuda/cuda_gpu_executor.cc:967] could not open file to read NUMA node: /sys/bus/pci/devices/0000:26:00.0/numa_node\n",
                        "Your kernel may have been built without NUMA support.\n",
                        "2023-01-14 20:53:06.581421: I tensorflow/compiler/xla/stream_executor/cuda/cuda_gpu_executor.cc:967] could not open file to read NUMA node: /sys/bus/pci/devices/0000:26:00.0/numa_node\n",
                        "Your kernel may have been built without NUMA support.\n",
                        "2023-01-14 20:53:06.581426: I tensorflow/core/common_runtime/gpu/gpu_device.cc:1700] Could not identify NUMA node of platform GPU id 0, defaulting to 0.  Your kernel may not have been built with NUMA support.\n",
                        "2023-01-14 20:53:06.581452: I tensorflow/compiler/xla/stream_executor/cuda/cuda_gpu_executor.cc:967] could not open file to read NUMA node: /sys/bus/pci/devices/0000:26:00.0/numa_node\n",
                        "Your kernel may have been built without NUMA support.\n",
                        "2023-01-14 20:53:06.581476: I tensorflow/core/common_runtime/gpu/gpu_device.cc:1613] Created device /job:localhost/replica:0/task:0/device:GPU:0 with 1727 MB memory:  -> device: 0, name: NVIDIA GeForce GTX 1650 SUPER, pci bus id: 0000:26:00.0, compute capability: 7.5\n"
                    ]
                },
                {
                    "name": "stdout",
                    "output_type": "stream",
                    "text": [
                        "There are 89 classes\n",
                        "Training set has 13953 batches\n",
                        "Test set has 1743 batches\n",
                        "Validation set has 1743 batches\n"
                    ]
                }
            ],
            "source": [
                "ds_train, ds_test, ds_val = load_data(run)\n",
                "\n",
                "num_classes = get_number_of_classes(ds_val)\n",
                "\n",
                "print(f\"There are {num_classes} classes\")\n",
                "print(f\"Training set has {len(ds_train)} batches\")\n",
                "print(f\"Test set has {len(ds_test)} batches\")\n",
                "print(f\"Validation set has {len(ds_val)} batches\")"
            ]
        },
        {
            "cell_type": "code",
            "execution_count": 6,
            "metadata": {},
            "outputs": [
                {
                    "name": "stdout",
                    "output_type": "stream",
                    "text": [
                        "Num GPUs Available:  1\n",
                        "Available devices:  [PhysicalDevice(name='/physical_device:CPU:0', device_type='CPU'), PhysicalDevice(name='/physical_device:GPU:0', device_type='GPU')]\n"
                    ]
                }
            ],
            "source": [
                "print(\"Num GPUs Available: \", len(tf.config.experimental.list_physical_devices('GPU')))\n",
                "print(\"Available devices: \", tf.config.list_physical_devices())\n"
            ]
        },
        {
            "cell_type": "code",
            "execution_count": 7,
            "metadata": {},
            "outputs": [
                {
                    "name": "stderr",
                    "output_type": "stream",
                    "text": [
                        "2023-01-14 20:53:07.333095: I tensorflow/compiler/xla/stream_executor/cuda/cuda_gpu_executor.cc:967] could not open file to read NUMA node: /sys/bus/pci/devices/0000:26:00.0/numa_node\n",
                        "Your kernel may have been built without NUMA support.\n",
                        "2023-01-14 20:53:07.333136: I tensorflow/core/grappler/devices.cc:66] Number of eligible GPUs (core count >= 8, compute capability >= 0.0): 1\n",
                        "2023-01-14 20:53:07.333257: I tensorflow/core/grappler/clusters/single_machine.cc:358] Starting new session\n",
                        "2023-01-14 20:53:07.333543: I tensorflow/compiler/xla/stream_executor/cuda/cuda_gpu_executor.cc:967] could not open file to read NUMA node: /sys/bus/pci/devices/0000:26:00.0/numa_node\n",
                        "Your kernel may have been built without NUMA support.\n",
                        "2023-01-14 20:53:07.333575: I tensorflow/compiler/xla/stream_executor/cuda/cuda_gpu_executor.cc:967] could not open file to read NUMA node: /sys/bus/pci/devices/0000:26:00.0/numa_node\n",
                        "Your kernel may have been built without NUMA support.\n",
                        "2023-01-14 20:53:07.333595: I tensorflow/compiler/xla/stream_executor/cuda/cuda_gpu_executor.cc:967] could not open file to read NUMA node: /sys/bus/pci/devices/0000:26:00.0/numa_node\n",
                        "Your kernel may have been built without NUMA support.\n",
                        "2023-01-14 20:53:07.333760: I tensorflow/compiler/xla/stream_executor/cuda/cuda_gpu_executor.cc:967] could not open file to read NUMA node: /sys/bus/pci/devices/0000:26:00.0/numa_node\n",
                        "Your kernel may have been built without NUMA support.\n",
                        "2023-01-14 20:53:07.333768: I tensorflow/core/common_runtime/gpu/gpu_device.cc:1700] Could not identify NUMA node of platform GPU id 0, defaulting to 0.  Your kernel may not have been built with NUMA support.\n",
                        "2023-01-14 20:53:07.333791: I tensorflow/compiler/xla/stream_executor/cuda/cuda_gpu_executor.cc:967] could not open file to read NUMA node: /sys/bus/pci/devices/0000:26:00.0/numa_node\n",
                        "Your kernel may have been built without NUMA support.\n",
                        "2023-01-14 20:53:07.333802: I tensorflow/core/common_runtime/gpu/gpu_device.cc:1613] Created device /job:localhost/replica:0/task:0/device:GPU:0 with 1727 MB memory:  -> device: 0, name: NVIDIA GeForce GTX 1650 SUPER, pci bus id: 0000:26:00.0, compute capability: 7.5\n"
                    ]
                },
                {
                    "name": "stdout",
                    "output_type": "stream",
                    "text": [
                        "WARNING:tensorflow:From /home/wiktor/.pyenv/versions/3.10.9/lib/python3.10/site-packages/tensorflow/python/ops/nn_ops.py:5250: tensor_shape_from_node_def_name (from tensorflow.python.framework.graph_util_impl) is deprecated and will be removed in a future version.\n",
                        "Instructions for updating:\n",
                        "This API was designed for TensorFlow v1. See https://www.tensorflow.org/guide/migrate for instructions on how to migrate your code to TensorFlow v2.\n",
                        "Epoch 1/10\n"
                    ]
                },
                {
                    "name": "stderr",
                    "output_type": "stream",
                    "text": [
                        "/home/wiktor/.pyenv/versions/3.10.9/lib/python3.10/site-packages/keras/backend.py:5585: UserWarning: \"`sparse_categorical_crossentropy` received `from_logits=True`, but the `output` argument was produced by a Softmax activation and thus does not represent logits. Was this intended?\n",
                        "  output, from_logits = _get_logits(\n",
                        "2023-01-14 20:53:08.520144: I tensorflow/compiler/xla/stream_executor/cuda/cuda_dnn.cc:428] Loaded cuDNN version 8100\n",
                        "2023-01-14 20:53:08.953582: I tensorflow/tsl/platform/default/subprocess.cc:304] Start cannot spawn child process: No such file or directory\n",
                        "2023-01-14 20:53:08.955647: I tensorflow/tsl/platform/default/subprocess.cc:304] Start cannot spawn child process: No such file or directory\n",
                        "2023-01-14 20:53:08.955679: W tensorflow/compiler/xla/stream_executor/gpu/asm_compiler.cc:85] Couldn't get ptxas version string: INTERNAL: Couldn't invoke ptxas --version\n",
                        "2023-01-14 20:53:08.958112: I tensorflow/tsl/platform/default/subprocess.cc:304] Start cannot spawn child process: No such file or directory\n",
                        "2023-01-14 20:53:08.958169: W tensorflow/compiler/xla/stream_executor/gpu/redzone_allocator.cc:318] INTERNAL: Failed to launch ptxas\n",
                        "Relying on driver to perform ptx compilation. \n",
                        "Modify $PATH to customize ptxas location.\n",
                        "This message will be only logged once.\n"
                    ]
                },
                {
                    "name": "stdout",
                    "output_type": "stream",
                    "text": [
                        "13953/13953 [==============================] - 124s 9ms/step - loss: 3.1827 - accuracy: 0.2812 - val_loss: 1.4596 - val_accuracy: 0.5851\n",
                        "Epoch 2/10\n",
                        "13953/13953 [==============================] - 123s 9ms/step - loss: 1.1730 - accuracy: 0.6523 - val_loss: 0.9631 - val_accuracy: 0.7051\n",
                        "Epoch 3/10\n",
                        "13953/13953 [==============================] - 120s 9ms/step - loss: 0.8766 - accuracy: 0.7223 - val_loss: 0.7918 - val_accuracy: 0.7461\n",
                        "Epoch 4/10\n",
                        "13953/13953 [==============================] - 121s 9ms/step - loss: 0.7570 - accuracy: 0.7514 - val_loss: 0.7101 - val_accuracy: 0.7666\n",
                        "Epoch 5/10\n",
                        "13953/13953 [==============================] - 123s 9ms/step - loss: 0.6918 - accuracy: 0.7677 - val_loss: 0.6578 - val_accuracy: 0.7801\n",
                        "Epoch 6/10\n",
                        "13953/13953 [==============================] - 138s 10ms/step - loss: 0.6481 - accuracy: 0.7790 - val_loss: 0.6204 - val_accuracy: 0.7889\n",
                        "Epoch 7/10\n",
                        "13953/13953 [==============================] - 164s 12ms/step - loss: 0.6155 - accuracy: 0.7878 - val_loss: 0.5913 - val_accuracy: 0.7972\n",
                        "Epoch 8/10\n",
                        "13953/13953 [==============================] - 120s 9ms/step - loss: 0.5896 - accuracy: 0.7947 - val_loss: 0.5682 - val_accuracy: 0.8035\n",
                        "Epoch 9/10\n",
                        "13953/13953 [==============================] - 121s 9ms/step - loss: 0.5680 - accuracy: 0.8006 - val_loss: 0.5485 - val_accuracy: 0.8082\n",
                        "Epoch 10/10\n",
                        "13953/13953 [==============================] - 121s 9ms/step - loss: 0.5495 - accuracy: 0.8059 - val_loss: 0.5319 - val_accuracy: 0.8129\n"
                    ]
                }
            ],
            "source": [
                "ds_train = preprocess_dataset(ds_train, batch_size=bs)\n",
                "ds_val = preprocess_dataset(ds_val, batch_size=bs)\n",
                "ds_test = preprocess_dataset(ds_test, batch_size=bs, cache=False)\n",
                "\n",
                "model = tf.keras.Sequential(\n",
                "    [\n",
                "        tf.keras.layers.InputLayer(input_shape=(32, 32, 1)),\n",
                "        tf.keras.layers.Conv2D(32,kernel_size=(3, 3), activation=\"relu\"),\n",
                "        tf.keras.layers.MaxPooling2D(pool_size=(2, 2)),\n",
                "        tf.keras.layers.Conv2D(64, kernel_size=(3, 3), activation=\"relu\"),\n",
                "        tf.keras.layers.MaxPooling2D(pool_size=(2, 2)),\n",
                "        tf.keras.layers.Flatten(),\n",
                "        tf.keras.layers.Dense(5376, activation=\"relu\"),\n",
                "        tf.keras.layers.Dense(256, activation=\"relu\"),\n",
                "        tf.keras.layers.Dense(num_classes, activation=\"softmax\"),\n",
                "    ]\n",
                ")\n",
                "\n",
                "opt = tf.keras.optimizers.get({\n",
                "    'class_name': wandb.config.optimizer,\n",
                "    'config': {\n",
                "        'learning_rate': wandb.config.learning_rate,\n",
                "        'beta_1': wandb.config.beta1,\n",
                "        'beta_2': wandb.config.beta2,\n",
                "        'epsilon': wandb.config.epsilon\n",
                "    }\n",
                "})\n",
                "\n",
                "model.compile(\n",
                "    optimizer=opt,\n",
                "    loss=tf.keras.losses.SparseCategoricalCrossentropy(from_logits=True),\n",
                "    metrics=[\"accuracy\"],\n",
                ")\n",
                "\n",
                "# save the best model\n",
                "checkpoint_callback = tf.keras.callbacks.ModelCheckpoint(\n",
                "    filepath=f\"./artifacts/{MODEL_NAME}.h5\",\n",
                "    save_weights_only=False,\n",
                "    monitor=\"val_accuracy\",\n",
                "    mode=\"max\",\n",
                "    save_best_only=True,\n",
                ")\n",
                "\n",
                "wandb_callback = wandb.keras.WandbCallback(\n",
                "    save_model=False,\n",
                "    compute_flops=True,\n",
                ")\n",
                "\n",
                "history = model.fit(\n",
                "    ds_train,\n",
                "    epochs=epochs,\n",
                "    validation_data=ds_val,\n",
                "    callbacks=[wandb_callback, checkpoint_callback],\n",
                ")"
            ]
        },
        {
            "cell_type": "code",
            "execution_count": 8,
            "metadata": {},
            "outputs": [
                {
                    "data": {
                        "image/png": "[encoded data removed]",
                        "text/plain": [
                            "<Figure size 1500x1000 with 1 Axes>"
                        ]
                    },
                    "metadata": {},
                    "output_type": "display_data"
                }
            ],
            "source": [
                "# plot history\n",
                "import matplotlib.pyplot as plt\n",
                "\n",
                "fig, ax = plt.subplots(1, 1, figsize=(15, 10))\n",
                "epochs = range(1, len(history.history[\"loss\"]) + 1)\n",
                "ax.plot(epochs, history.history[\"accuracy\"], label=\"accuracy\")\n",
                "ax.plot(epochs, history.history[\"val_accuracy\"], label=\"val_accuracy\")\n",
                "ax.set_xlabel(\"Epoch\")\n",
                "ax.set_ylabel(\"Accuracy\")\n",
                "ax.legend(loc=\"lower right\")\n",
                "\n",
                "plt.show()"
            ]
        },
        {
            "cell_type": "code",
            "execution_count": 9,
            "metadata": {},
            "outputs": [
                {
                    "name": "stdout",
                    "output_type": "stream",
                    "text": [
                        "1743/1743 [==============================] - 7s 4ms/step - loss: 0.5319 - accuracy: 0.8129\n"
                    ]
                },
                {
                    "ename": "ValueError",
                    "evalue": "Invalid `predicate`. `predicate` must return a `tf.bool` scalar tensor, but its return type is TensorSpec(shape=(None,), dtype=tf.bool, name=None).",
                    "output_type": "error",
                    "traceback": [
                        "\u001b[0;31m---------------------------------------------------------------------------\u001b[0m",
                        "\u001b[0;31mValueError\u001b[0m                                Traceback (most recent call last)",
                        "Cell \u001b[0;32mIn[9], line 44\u001b[0m\n\u001b[1;32m     42\u001b[0m diacritics_acc \u001b[39m=\u001b[39m {}\n\u001b[1;32m     43\u001b[0m \u001b[39mfor\u001b[39;00m diacritic_label \u001b[39min\u001b[39;00m diacritics\u001b[39m.\u001b[39mkeys():\n\u001b[0;32m---> 44\u001b[0m     ds_test_diacritic \u001b[39m=\u001b[39m ds_test\u001b[39m.\u001b[39;49mfilter(\u001b[39mlambda\u001b[39;49;00m x, y: y \u001b[39m==\u001b[39;49m diacritic_label)\n\u001b[1;32m     45\u001b[0m     test_loss, test_acc \u001b[39m=\u001b[39m model\u001b[39m.\u001b[39mevaluate(ds_test_diacritic)\n\u001b[1;32m     46\u001b[0m     diacritics_acc[diacritic_label] \u001b[39m=\u001b[39m {\n\u001b[1;32m     47\u001b[0m         \u001b[39m\"\u001b[39m\u001b[39mloss\u001b[39m\u001b[39m\"\u001b[39m: test_loss,\n\u001b[1;32m     48\u001b[0m         \u001b[39m\"\u001b[39m\u001b[39maccuracy\u001b[39m\u001b[39m\"\u001b[39m: test_acc,\n\u001b[1;32m     49\u001b[0m         \u001b[39m\"\u001b[39m\u001b[39mlabel\u001b[39m\u001b[39m\"\u001b[39m: diacritics[diacritic_label],\n\u001b[1;32m     50\u001b[0m     }\n",
                        "File \u001b[0;32m~/.pyenv/versions/3.10.9/lib/python3.10/site-packages/tensorflow/python/data/ops/dataset_ops.py:2519\u001b[0m, in \u001b[0;36mDatasetV2.filter\u001b[0;34m(self, predicate, name)\u001b[0m\n\u001b[1;32m   2516\u001b[0m \u001b[39m# Loaded lazily due to a circular dependency (dataset_ops -> filter_op ->\u001b[39;00m\n\u001b[1;32m   2517\u001b[0m \u001b[39m# dataset_ops).\u001b[39;00m\n\u001b[1;32m   2518\u001b[0m \u001b[39mfrom\u001b[39;00m \u001b[39mtensorflow\u001b[39;00m\u001b[39m.\u001b[39;00m\u001b[39mpython\u001b[39;00m\u001b[39m.\u001b[39;00m\u001b[39mdata\u001b[39;00m\u001b[39m.\u001b[39;00m\u001b[39mops\u001b[39;00m \u001b[39mimport\u001b[39;00m filter_op  \u001b[39m# pylint: disable=g-import-not-at-top\u001b[39;00m\n\u001b[0;32m-> 2519\u001b[0m \u001b[39mreturn\u001b[39;00m filter_op\u001b[39m.\u001b[39;49mfilter(\u001b[39mself\u001b[39;49m, predicate, name)\n",
                        "File \u001b[0;32m~/.pyenv/versions/3.10.9/lib/python3.10/site-packages/tensorflow/python/data/ops/filter_op.py:25\u001b[0m, in \u001b[0;36mfilter\u001b[0;34m(self, predicate, name)\u001b[0m\n\u001b[1;32m     24\u001b[0m \u001b[39mdef\u001b[39;00m \u001b[39mfilter\u001b[39m(\u001b[39mself\u001b[39m, predicate, name\u001b[39m=\u001b[39m\u001b[39mNone\u001b[39;00m):  \u001b[39m# pylint: disable=redefined-builtin\u001b[39;00m\n\u001b[0;32m---> 25\u001b[0m   \u001b[39mreturn\u001b[39;00m FilterDataset(\u001b[39mself\u001b[39;49m, predicate, name\u001b[39m=\u001b[39;49mname)\n",
                        "File \u001b[0;32m~/.pyenv/versions/3.10.9/lib/python3.10/site-packages/tensorflow/python/data/ops/filter_op.py:45\u001b[0m, in \u001b[0;36mFilterDataset.__init__\u001b[0;34m(self, input_dataset, predicate, use_legacy_function, name)\u001b[0m\n\u001b[1;32m     38\u001b[0m wrapped_func \u001b[39m=\u001b[39m structured_function\u001b[39m.\u001b[39mStructuredFunctionWrapper(\n\u001b[1;32m     39\u001b[0m     predicate,\n\u001b[1;32m     40\u001b[0m     \u001b[39mself\u001b[39m\u001b[39m.\u001b[39m_transformation_name(),\n\u001b[1;32m     41\u001b[0m     dataset\u001b[39m=\u001b[39minput_dataset,\n\u001b[1;32m     42\u001b[0m     use_legacy_function\u001b[39m=\u001b[39muse_legacy_function)\n\u001b[1;32m     43\u001b[0m \u001b[39mif\u001b[39;00m \u001b[39mnot\u001b[39;00m wrapped_func\u001b[39m.\u001b[39moutput_structure\u001b[39m.\u001b[39mis_compatible_with(\n\u001b[1;32m     44\u001b[0m     tensor_spec\u001b[39m.\u001b[39mTensorSpec([], dtypes\u001b[39m.\u001b[39mbool)):\n\u001b[0;32m---> 45\u001b[0m   \u001b[39mraise\u001b[39;00m \u001b[39mValueError\u001b[39;00m(\u001b[39mf\u001b[39m\u001b[39m\"\u001b[39m\u001b[39mInvalid `predicate`. `predicate` must return a \u001b[39m\u001b[39m\"\u001b[39m\n\u001b[1;32m     46\u001b[0m                    \u001b[39mf\u001b[39m\u001b[39m\"\u001b[39m\u001b[39m`tf.bool` scalar tensor, but its return type is \u001b[39m\u001b[39m\"\u001b[39m\n\u001b[1;32m     47\u001b[0m                    \u001b[39mf\u001b[39m\u001b[39m\"\u001b[39m\u001b[39m{\u001b[39;00mwrapped_func\u001b[39m.\u001b[39moutput_structure\u001b[39m}\u001b[39;00m\u001b[39m.\u001b[39m\u001b[39m\"\u001b[39m)\n\u001b[1;32m     48\u001b[0m \u001b[39mself\u001b[39m\u001b[39m.\u001b[39m_predicate \u001b[39m=\u001b[39m wrapped_func\n\u001b[1;32m     49\u001b[0m \u001b[39mself\u001b[39m\u001b[39m.\u001b[39m_name \u001b[39m=\u001b[39m name\n",
                        "\u001b[0;31mValueError\u001b[0m: Invalid `predicate`. `predicate` must return a `tf.bool` scalar tensor, but its return type is TensorSpec(shape=(None,), dtype=tf.bool, name=None)."
                    ]
                }
            ],
            "source": [
                "# calculate model size on disk, flops and number of parameters\n",
                "\n",
                "flops = wandb.run.summary[\"GFLOPs\"]\n",
                "disk_size = calculate_model_size_on_disk(f\"./artifacts/{MODEL_NAME}.h5\")\n",
                "num_parameters = calculate_model_num_parameters(model)\n",
                "\n",
                "# evaluate model on ds_test and log to wandb\n",
                "test_loss, test_acc = model.evaluate(ds_test)\n",
                "\n",
                "wandb.log({\n",
                "    \"test loss\": test_loss, \n",
                "    \"test accuracy\": test_acc, \n",
                "    \"number of parameters\": num_parameters,\n",
                "    \"disk size\": disk_size, \n",
                "    \"model flops\": flops\n",
                "    })\n",
                "\n",
                "\n",
                "diacritics = {\n",
                "    62: \"ą\",\n",
                "    63: \"ć\",\n",
                "    64: \"ę\",\n",
                "    65: \"ł\",\n",
                "    66: \"ń\",\n",
                "    67: \"ó\",\n",
                "    68: \"ś\",\n",
                "    69: \"ź\",\n",
                "    70: \"ż\",\n",
                "    71: \"Ą\",\n",
                "    72: \"Ć\",\n",
                "    73: \"Ę\",\n",
                "    74: \"Ł\",\n",
                "    75: \"Ń\",\n",
                "    76: \"Ó\",\n",
                "    77: \"Ś\",\n",
                "    78: \"Ź\",\n",
                "    79: \"Ż\"\n",
                "}\n",
                "\n",
                "# log test accuracy on these classes separately to wandb\n",
                "\n",
                "diacritics_acc = {}\n",
                "for diacritic_label in diacritics.keys():\n",
                "    ds_test_diacritic = ds_test.filter(lambda x, y: y == diacritic_label)\n",
                "    test_loss, test_acc = model.evaluate(ds_test_diacritic)\n",
                "    diacritics_acc[diacritic_label] = {\n",
                "        \"loss\": test_loss,\n",
                "        \"accuracy\": test_acc,\n",
                "        \"label\": diacritics[diacritic_label],\n",
                "    }\n",
                "\n",
                "wandb.log(diacritics_acc)"
            ]
        },
        {
            "cell_type": "code",
            "execution_count": null,
            "metadata": {},
            "outputs": [],
            "source": [
                "# save artifact to wandb\n",
                "artifact = wandb.Artifact(\n",
                "    name=MODEL_NAME,\n",
                "    type=\"model\"\n",
                ")\n",
                "\n",
                "# save best model to artifact\n",
                "artifact.add_file(f\"./artifacts/{MODEL_NAME}.h5\")\n",
                "run.log_artifact(artifact)\n",
                "run.finish()"
            ]
        }
    ],
    "metadata": {
        "kernelspec": {
            "display_name": "Python 3",
            "language": "python",
            "name": "python3"
        },
        "language_info": {
            "codemirror_mode": {
                "name": "ipython",
                "version": 3
            },
            "file_extension": ".py",
            "mimetype": "text/x-python",
            "name": "python",
            "nbconvert_exporter": "python",
            "pygments_lexer": "ipython3",
            "version": "3.10.8 (main, Dec  2 2022, 12:59:27) [GCC 11.3.0]"
        },
        "orig_nbformat": 4,
        "vscode": {
            "interpreter": {
                "hash": "a3cf6db26d87e92fac078aa6971b2d8666aac2a31f8d0d2caf1f374e90c80bd2"
            }
        }
    },
    "nbformat": 4,
    "nbformat_minor": 2
}
