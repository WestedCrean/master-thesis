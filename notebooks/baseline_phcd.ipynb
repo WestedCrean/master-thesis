{
 "cells": [
  {
   "cell_type": "markdown",
   "metadata": {},
   "source": [
    "# Baseline network\n",
    "\n",
    "This notebook trains the baseline network with exact same architecture as the one in paper [Recognition of handwritten Latin characters with diacritics using CNN](https://journals.pan.pl/dlibra/publication/136210/edition/119099/content/bulletin-of-the-polish-academy-of-sciences-technical-sciences-recognition-of-handwritten-latin-characters-with-diacritics-using-cnn-lukasik-edyta-charytanowicz-malgorzata-milosz-marek-tokovarov-michail-kaczorowska-monika-czerwinski-dariusz-zientarski-tomasz-2021-69-no-1?language=en)\n",
    "\n",
    "Model architecture description:\n",
    "\n",
    "\"The architecture of the concrete CNN is shown in Fig. 2.\n",
    "The input is a 32x32 binarized matrix. The input is then prop-\n",
    "agated through 12 adaptable layers. First come two convolu-\n",
    "tional layers having 32 filters with the size of 3x3 and stride 1.\n",
    "Secondly, the output of the convolutional layer is fed to the\n",
    "ReLU function. The output is down-sampled using a max-pool-\n",
    "ing operation with a 2x2 stride. Next, the dropout technique is\n",
    "used with the coefficient 0.25. The four operations (two con-\n",
    "volutions, nonlinearity, max-pooling, and dropout) are repeated,\n",
    "using 64 filters for the convolutional layers. The output of the\n",
    "last layer is then flattened and fed through a fully connected\n",
    "layer with 256 neurons and ReLU nonlinearities, dropped out\n",
    "with the 0.25 coefficient, and a final output layer is fully con-\n",
    "nected with a Softmax activation function. The Adam optimizer\n",
    "and the cross-entropy loss function were used in the network. \n",
    "The output is a probability distribution over 89 classes.\"\n",
    "\n",
    "\n",
    "\n",
    "\n",
    "After training, model is serialized and uploaded to W&B project."
   ]
  },
  {
   "cell_type": "code",
   "execution_count": 1,
   "metadata": {},
   "outputs": [
    {
     "name": "stderr",
     "output_type": "stream",
     "text": [
      "2023-01-22 17:10:55.654444: I tensorflow/core/platform/cpu_feature_guard.cc:193] This TensorFlow binary is optimized with oneAPI Deep Neural Network Library (oneDNN) to use the following CPU instructions in performance-critical operations:  AVX2 FMA\n",
      "To enable them in other operations, rebuild TensorFlow with the appropriate compiler flags.\n"
     ]
    }
   ],
   "source": [
    "import wandb\n",
    "import tensorflow as tf\n",
    "import numpy as np\n",
    "import pathlib\n",
    "import shutil\n",
    "from typing import List\n",
    "\n",
    "def load_data(run) -> List[tf.data.Dataset]:\n",
    "    \"\"\"\n",
    "    Downloads datasets from a wandb artifact and loads them into a list of tf.data.Datasets.\n",
    "    \"\"\"\n",
    "\n",
    "    artifact_name = f\"letters_splits_tfds\"\n",
    "    artifact = run.use_artifact(f\"master-thesis/{artifact_name}:latest\")\n",
    "    artifact_dir = pathlib.Path(\n",
    "        f\"./artifacts/{artifact.name.replace(':', '-')}\"\n",
    "    ).resolve()\n",
    "    if not artifact_dir.exists():\n",
    "        artifact_dir = artifact.download()\n",
    "        artifact_dir = pathlib.Path(artifact_dir).resolve()\n",
    "\n",
    "    # if tf.__version__ minor is less than 10, use\n",
    "    # tf.data.experimental.load instead of tf.data.Dataset.load\n",
    "\n",
    "    if int(tf.__version__.split(\".\")[1]) < 10:\n",
    "        load_function = tf.data.experimental.load\n",
    "    else:\n",
    "        load_function = tf.data.Dataset.load\n",
    "    \n",
    "    output_list = []\n",
    "    for split in [\"train\", \"test\", \"val\"]:\n",
    "        ds = load_function(str(artifact_dir / split), compression=\"GZIP\")\n",
    "        output_list.append(ds)\n",
    "    \n",
    "    return output_list\n",
    "\n",
    "def get_number_of_classes(ds: tf.data.Dataset) -> int:\n",
    "    \"\"\"\n",
    "    Returns the number of classes in a dataset.\n",
    "    \"\"\"\n",
    "    labels_iterator= ds.map(lambda x, y: y).as_numpy_iterator()\n",
    "    labels = np.concatenate(list(labels_iterator))\n",
    "    return len(np.unique(labels))\n",
    "\n",
    "def preprocess_dataset(ds: tf.data.Dataset, batch_size: int, cache: bool = True) -> tf.data.Dataset:\n",
    "    ds = ds.map(lambda x, y: (tf.cast(x, tf.float32) / 255.0, y))  # normalize\n",
    "    ds = ds.unbatch().batch(batch_size)\n",
    "    if cache:\n",
    "        ds = ds.cache().prefetch(buffer_size=tf.data.AUTOTUNE)\n",
    "    return ds\n",
    "\n",
    "def calculate_model_size_on_disk(path: str) -> int:\n",
    "    return pathlib.Path(path).stat().st_size    \n",
    "\n",
    "def calculate_model_num_parameters(model: tf.keras.Model) -> int:\n",
    "    return model.count_params()\n",
    "\n",
    "def calculate_model_flops(summary) -> float:\n",
    "    # from run.summary get GFLOPs or GFLOPS whichever is available\n",
    "    if \"GFLOPs\" in summary:\n",
    "        return summary.get(\"GFLOPs\")\n",
    "    elif \"GFLOPS\" in summary:\n",
    "        return summary.get(\"GFLOPS\")"
   ]
  },
  {
   "cell_type": "code",
   "execution_count": 2,
   "metadata": {},
   "outputs": [],
   "source": [
    "defaults = dict(\n",
    "    batch_size=32*4,\n",
    "    epochs=100,    \n",
    "    optimizer=\"adam\"\n",
    ")"
   ]
  },
  {
   "cell_type": "code",
   "execution_count": 3,
   "metadata": {},
   "outputs": [
    {
     "name": "stderr",
     "output_type": "stream",
     "text": [
      "\u001b[34m\u001b[1mwandb\u001b[0m: Currently logged in as: \u001b[33mgratkadlafana\u001b[0m. Use \u001b[1m`wandb login --relogin`\u001b[0m to force relogin\n"
     ]
    },
    {
     "data": {
      "text/html": [
       "Tracking run with wandb version 0.13.9"
      ],
      "text/plain": [
       "<IPython.core.display.HTML object>"
      ]
     },
     "metadata": {},
     "output_type": "display_data"
    },
    {
     "data": {
      "text/html": [
       "Run data is saved locally in <code>/workspace/notebooks/wandb/run-20230122_171058-7p23yxek</code>"
      ],
      "text/plain": [
       "<IPython.core.display.HTML object>"
      ]
     },
     "metadata": {},
     "output_type": "display_data"
    },
    {
     "data": {
      "text/html": [
       "Syncing run <strong><a href=\"https://wandb.ai/gratkadlafana/master-thesis/runs/7p23yxek\" target=\"_blank\">baseline-phcd-single-convs</a></strong> to <a href=\"https://wandb.ai/gratkadlafana/master-thesis\" target=\"_blank\">Weights & Biases</a> (<a href=\"https://wandb.me/run\" target=\"_blank\">docs</a>)<br/>"
      ],
      "text/plain": [
       "<IPython.core.display.HTML object>"
      ]
     },
     "metadata": {},
     "output_type": "display_data"
    },
    {
     "data": {
      "text/html": [
       " View project at <a href=\"https://wandb.ai/gratkadlafana/master-thesis\" target=\"_blank\">https://wandb.ai/gratkadlafana/master-thesis</a>"
      ],
      "text/plain": [
       "<IPython.core.display.HTML object>"
      ]
     },
     "metadata": {},
     "output_type": "display_data"
    },
    {
     "data": {
      "text/html": [
       " View run at <a href=\"https://wandb.ai/gratkadlafana/master-thesis/runs/7p23yxek\" target=\"_blank\">https://wandb.ai/gratkadlafana/master-thesis/runs/7p23yxek</a>"
      ],
      "text/plain": [
       "<IPython.core.display.HTML object>"
      ]
     },
     "metadata": {},
     "output_type": "display_data"
    }
   ],
   "source": [
    "MODEL_NAME = \"baseline-phcd\"\n",
    "run = wandb.init(project=\"master-thesis\", job_type=\"training\", name=MODEL_NAME, config=defaults,)\n",
    "\n",
    "# hyperparameters\n",
    "\n",
    "epochs = wandb.config.epochs\n",
    "bs = wandb.config.batch_size"
   ]
  },
  {
   "cell_type": "code",
   "execution_count": 4,
   "metadata": {},
   "outputs": [
    {
     "name": "stderr",
     "output_type": "stream",
     "text": [
      "\u001b[34m\u001b[1mwandb\u001b[0m: Downloading large artifact letters_splits_tfds:latest, 54.88MB. 18 files... \n",
      "\u001b[34m\u001b[1mwandb\u001b[0m:   18 of 18 files downloaded.  \n",
      "Done. 0:0:0.0\n",
      "2023-01-22 17:11:01.083277: I tensorflow/compiler/xla/stream_executor/cuda/cuda_gpu_executor.cc:967] could not open file to read NUMA node: /sys/bus/pci/devices/0000:26:00.0/numa_node\n",
      "Your kernel may have been built without NUMA support.\n"
     ]
    },
    {
     "name": "stdout",
     "output_type": "stream",
     "text": [
      "WARNING:tensorflow:From /usr/local/lib/python3.8/dist-packages/tensorflow/python/autograph/pyct/static_analysis/liveness.py:83: Analyzer.lamba_check (from tensorflow.python.autograph.pyct.static_analysis.liveness) is deprecated and will be removed after 2023-09-23.\n",
      "Instructions for updating:\n",
      "Lambda fuctions will be no more assumed to be used in the statement where they are used, or at least in the same block. https://github.com/tensorflow/tensorflow/issues/56089\n"
     ]
    },
    {
     "name": "stderr",
     "output_type": "stream",
     "text": [
      "2023-01-22 17:11:01.087978: I tensorflow/compiler/xla/stream_executor/cuda/cuda_gpu_executor.cc:967] could not open file to read NUMA node: /sys/bus/pci/devices/0000:26:00.0/numa_node\n",
      "Your kernel may have been built without NUMA support.\n",
      "2023-01-22 17:11:01.088320: I tensorflow/compiler/xla/stream_executor/cuda/cuda_gpu_executor.cc:967] could not open file to read NUMA node: /sys/bus/pci/devices/0000:26:00.0/numa_node\n",
      "Your kernel may have been built without NUMA support.\n",
      "2023-01-22 17:11:01.088937: I tensorflow/core/platform/cpu_feature_guard.cc:193] This TensorFlow binary is optimized with oneAPI Deep Neural Network Library (oneDNN) to use the following CPU instructions in performance-critical operations:  AVX2 FMA\n",
      "To enable them in other operations, rebuild TensorFlow with the appropriate compiler flags.\n",
      "2023-01-22 17:11:01.089732: I tensorflow/compiler/xla/stream_executor/cuda/cuda_gpu_executor.cc:967] could not open file to read NUMA node: /sys/bus/pci/devices/0000:26:00.0/numa_node\n",
      "Your kernel may have been built without NUMA support.\n",
      "2023-01-22 17:11:01.089986: I tensorflow/compiler/xla/stream_executor/cuda/cuda_gpu_executor.cc:967] could not open file to read NUMA node: /sys/bus/pci/devices/0000:26:00.0/numa_node\n",
      "Your kernel may have been built without NUMA support.\n",
      "2023-01-22 17:11:01.090208: I tensorflow/compiler/xla/stream_executor/cuda/cuda_gpu_executor.cc:967] could not open file to read NUMA node: /sys/bus/pci/devices/0000:26:00.0/numa_node\n",
      "Your kernel may have been built without NUMA support.\n",
      "2023-01-22 17:11:01.907509: I tensorflow/compiler/xla/stream_executor/cuda/cuda_gpu_executor.cc:967] could not open file to read NUMA node: /sys/bus/pci/devices/0000:26:00.0/numa_node\n",
      "Your kernel may have been built without NUMA support.\n",
      "2023-01-22 17:11:01.907771: I tensorflow/compiler/xla/stream_executor/cuda/cuda_gpu_executor.cc:967] could not open file to read NUMA node: /sys/bus/pci/devices/0000:26:00.0/numa_node\n",
      "Your kernel may have been built without NUMA support.\n",
      "2023-01-22 17:11:01.907784: I tensorflow/core/common_runtime/gpu/gpu_device.cc:1700] Could not identify NUMA node of platform GPU id 0, defaulting to 0.  Your kernel may not have been built with NUMA support.\n",
      "2023-01-22 17:11:01.908017: I tensorflow/compiler/xla/stream_executor/cuda/cuda_gpu_executor.cc:967] could not open file to read NUMA node: /sys/bus/pci/devices/0000:26:00.0/numa_node\n",
      "Your kernel may have been built without NUMA support.\n",
      "2023-01-22 17:11:01.908085: I tensorflow/core/common_runtime/gpu/gpu_device.cc:1613] Created device /job:localhost/replica:0/task:0/device:GPU:0 with 2075 MB memory:  -> device: 0, name: NVIDIA GeForce GTX 1650 SUPER, pci bus id: 0000:26:00.0, compute capability: 7.5\n"
     ]
    },
    {
     "name": "stdout",
     "output_type": "stream",
     "text": [
      "There are 35 classes\n",
      "Training set has 5508 batches\n",
      "Test set has 688 batches\n",
      "Validation set has 688 batches\n"
     ]
    }
   ],
   "source": [
    "ds_train, ds_test, ds_val = load_data(run)\n",
    "\n",
    "num_classes = get_number_of_classes(ds_val)\n",
    "\n",
    "print(f\"There are {num_classes} classes\")\n",
    "print(f\"Training set has {len(ds_train)} batches\")\n",
    "print(f\"Test set has {len(ds_test)} batches\")\n",
    "print(f\"Validation set has {len(ds_val)} batches\")"
   ]
  },
  {
   "cell_type": "code",
   "execution_count": 5,
   "metadata": {},
   "outputs": [
    {
     "name": "stdout",
     "output_type": "stream",
     "text": [
      "Num GPUs Available:  1\n",
      "Available devices:  [PhysicalDevice(name='/physical_device:CPU:0', device_type='CPU'), PhysicalDevice(name='/physical_device:GPU:0', device_type='GPU')]\n"
     ]
    }
   ],
   "source": [
    "print(\"Num GPUs Available: \", len(tf.config.experimental.list_physical_devices('GPU')))\n",
    "print(\"Available devices: \", tf.config.list_physical_devices())\n"
   ]
  },
  {
   "cell_type": "code",
   "execution_count": 6,
   "metadata": {},
   "outputs": [
    {
     "name": "stdout",
     "output_type": "stream",
     "text": [
      "WARNING:tensorflow:From /usr/local/lib/python3.8/dist-packages/tensorflow/python/ops/nn_ops.py:5250: tensor_shape_from_node_def_name (from tensorflow.python.framework.graph_util_impl) is deprecated and will be removed in a future version.\n",
      "Instructions for updating:\n",
      "This API was designed for TensorFlow v1. See https://www.tensorflow.org/guide/migrate for instructions on how to migrate your code to TensorFlow v2.\n",
      "Epoch 1/100\n"
     ]
    },
    {
     "name": "stderr",
     "output_type": "stream",
     "text": [
      "2023-01-22 17:11:02.801868: I tensorflow/compiler/xla/stream_executor/cuda/cuda_gpu_executor.cc:967] could not open file to read NUMA node: /sys/bus/pci/devices/0000:26:00.0/numa_node\n",
      "Your kernel may have been built without NUMA support.\n",
      "2023-01-22 17:11:02.801923: I tensorflow/core/grappler/devices.cc:66] Number of eligible GPUs (core count >= 8, compute capability >= 0.0): 1\n",
      "2023-01-22 17:11:02.802223: I tensorflow/core/grappler/clusters/single_machine.cc:358] Starting new session\n",
      "2023-01-22 17:11:02.802804: I tensorflow/compiler/xla/stream_executor/cuda/cuda_gpu_executor.cc:967] could not open file to read NUMA node: /sys/bus/pci/devices/0000:26:00.0/numa_node\n",
      "Your kernel may have been built without NUMA support.\n",
      "2023-01-22 17:11:02.803033: I tensorflow/compiler/xla/stream_executor/cuda/cuda_gpu_executor.cc:967] could not open file to read NUMA node: /sys/bus/pci/devices/0000:26:00.0/numa_node\n",
      "Your kernel may have been built without NUMA support.\n",
      "2023-01-22 17:11:02.803250: I tensorflow/compiler/xla/stream_executor/cuda/cuda_gpu_executor.cc:967] could not open file to read NUMA node: /sys/bus/pci/devices/0000:26:00.0/numa_node\n",
      "Your kernel may have been built without NUMA support.\n",
      "2023-01-22 17:11:02.803667: I tensorflow/compiler/xla/stream_executor/cuda/cuda_gpu_executor.cc:967] could not open file to read NUMA node: /sys/bus/pci/devices/0000:26:00.0/numa_node\n",
      "Your kernel may have been built without NUMA support.\n",
      "2023-01-22 17:11:02.803680: I tensorflow/core/common_runtime/gpu/gpu_device.cc:1700] Could not identify NUMA node of platform GPU id 0, defaulting to 0.  Your kernel may not have been built with NUMA support.\n",
      "2023-01-22 17:11:02.803909: I tensorflow/compiler/xla/stream_executor/cuda/cuda_gpu_executor.cc:967] could not open file to read NUMA node: /sys/bus/pci/devices/0000:26:00.0/numa_node\n",
      "Your kernel may have been built without NUMA support.\n",
      "2023-01-22 17:11:02.803933: I tensorflow/core/common_runtime/gpu/gpu_device.cc:1613] Created device /job:localhost/replica:0/task:0/device:GPU:0 with 2075 MB memory:  -> device: 0, name: NVIDIA GeForce GTX 1650 SUPER, pci bus id: 0000:26:00.0, compute capability: 7.5\n",
      "/usr/local/lib/python3.8/dist-packages/keras/backend.py:5585: UserWarning: \"`sparse_categorical_crossentropy` received `from_logits=True`, but the `output` argument was produced by a Softmax activation and thus does not represent logits. Was this intended?\n",
      "  output, from_logits = _get_logits(\n",
      "2023-01-22 17:11:03.641935: E tensorflow/core/grappler/optimizers/meta_optimizer.cc:954] layout failed: INVALID_ARGUMENT: Size of values 0 does not match size of permutation 4 @ fanin shape insequential/dropout/dropout/SelectV2-2-TransposeNHWCToNCHW-LayoutOptimizer\n",
      "2023-01-22 17:11:04.399509: I tensorflow/compiler/xla/stream_executor/cuda/cuda_dnn.cc:428] Loaded cuDNN version 8100\n",
      "2023-01-22 17:11:05.848739: I tensorflow/compiler/xla/service/service.cc:173] XLA service 0x7fa80fffae80 initialized for platform CUDA (this does not guarantee that XLA will be used). Devices:\n",
      "2023-01-22 17:11:05.848796: I tensorflow/compiler/xla/service/service.cc:181]   StreamExecutor device (0): NVIDIA GeForce GTX 1650 SUPER, Compute Capability 7.5\n",
      "2023-01-22 17:11:05.859368: I tensorflow/compiler/mlir/tensorflow/utils/dump_mlir_util.cc:268] disabling MLIR crash reproducer, set env var `MLIR_CRASH_REPRODUCER_DIRECTORY` to enable.\n",
      "2023-01-22 17:11:05.990554: I tensorflow/compiler/jit/xla_compilation_cache.cc:477] Compiled cluster using XLA!  This line is logged at most once for the lifetime of the process.\n"
     ]
    },
    {
     "name": "stdout",
     "output_type": "stream",
     "text": [
      "1377/1377 [==============================] - 27s 16ms/step - loss: 0.5235 - accuracy: 0.8470 - val_loss: 0.1872 - val_accuracy: 0.9438\n",
      "Epoch 2/100\n",
      "1377/1377 [==============================] - 22s 16ms/step - loss: 0.2234 - accuracy: 0.9346 - val_loss: 0.1453 - val_accuracy: 0.9558\n",
      "Epoch 3/100\n",
      "1377/1377 [==============================] - 22s 16ms/step - loss: 0.1862 - accuracy: 0.9451 - val_loss: 0.1215 - val_accuracy: 0.9632\n",
      "Epoch 4/100\n",
      "1377/1377 [==============================] - 21s 16ms/step - loss: 0.1658 - accuracy: 0.9509 - val_loss: 0.1089 - val_accuracy: 0.9670\n",
      "Epoch 5/100\n",
      "1377/1377 [==============================] - 21s 15ms/step - loss: 0.1518 - accuracy: 0.9548 - val_loss: 0.0963 - val_accuracy: 0.9707\n",
      "Epoch 6/100\n",
      "1377/1377 [==============================] - 21s 15ms/step - loss: 0.1414 - accuracy: 0.9576 - val_loss: 0.0912 - val_accuracy: 0.9725\n",
      "Epoch 7/100\n",
      "1377/1377 [==============================] - 21s 15ms/step - loss: 0.1323 - accuracy: 0.9600 - val_loss: 0.0814 - val_accuracy: 0.9749\n",
      "Epoch 8/100\n",
      "1377/1377 [==============================] - 21s 16ms/step - loss: 0.1268 - accuracy: 0.9616 - val_loss: 0.0770 - val_accuracy: 0.9765\n",
      "Epoch 9/100\n",
      "1377/1377 [==============================] - 23s 17ms/step - loss: 0.1202 - accuracy: 0.9631 - val_loss: 0.0729 - val_accuracy: 0.9765\n",
      "Epoch 10/100\n",
      "1377/1377 [==============================] - 23s 17ms/step - loss: 0.1157 - accuracy: 0.9647 - val_loss: 0.0703 - val_accuracy: 0.9777\n",
      "Epoch 11/100\n",
      "1377/1377 [==============================] - 22s 16ms/step - loss: 0.1116 - accuracy: 0.9657 - val_loss: 0.0663 - val_accuracy: 0.9792\n",
      "Epoch 12/100\n",
      "1377/1377 [==============================] - 22s 16ms/step - loss: 0.1057 - accuracy: 0.9674 - val_loss: 0.0629 - val_accuracy: 0.9795\n",
      "Epoch 13/100\n",
      "1377/1377 [==============================] - 22s 16ms/step - loss: 0.1026 - accuracy: 0.9677 - val_loss: 0.0590 - val_accuracy: 0.9810\n",
      "Epoch 14/100\n",
      "1377/1377 [==============================] - 22s 16ms/step - loss: 0.1006 - accuracy: 0.9686 - val_loss: 0.0579 - val_accuracy: 0.9818\n",
      "Epoch 15/100\n",
      "1377/1377 [==============================] - 22s 16ms/step - loss: 0.0974 - accuracy: 0.9696 - val_loss: 0.0526 - val_accuracy: 0.9832\n",
      "Epoch 16/100\n",
      "1377/1377 [==============================] - 21s 16ms/step - loss: 0.0947 - accuracy: 0.9702 - val_loss: 0.0510 - val_accuracy: 0.9829\n",
      "Epoch 17/100\n",
      "1377/1377 [==============================] - 22s 16ms/step - loss: 0.0919 - accuracy: 0.9706 - val_loss: 0.0487 - val_accuracy: 0.9853\n",
      "Epoch 18/100\n",
      "1377/1377 [==============================] - 22s 16ms/step - loss: 0.0912 - accuracy: 0.9709 - val_loss: 0.0478 - val_accuracy: 0.9850\n",
      "Epoch 19/100\n",
      "1377/1377 [==============================] - 22s 16ms/step - loss: 0.0877 - accuracy: 0.9721 - val_loss: 0.0462 - val_accuracy: 0.9849\n",
      "Epoch 20/100\n",
      "1377/1377 [==============================] - 21s 15ms/step - loss: 0.0872 - accuracy: 0.9719 - val_loss: 0.0467 - val_accuracy: 0.9847\n",
      "Epoch 21/100\n",
      "1377/1377 [==============================] - 21s 16ms/step - loss: 0.0842 - accuracy: 0.9728 - val_loss: 0.0438 - val_accuracy: 0.9859\n",
      "Epoch 22/100\n",
      "1377/1377 [==============================] - 21s 15ms/step - loss: 0.0826 - accuracy: 0.9731 - val_loss: 0.0414 - val_accuracy: 0.9869\n",
      "Epoch 23/100\n",
      "1377/1377 [==============================] - 21s 16ms/step - loss: 0.0812 - accuracy: 0.9736 - val_loss: 0.0411 - val_accuracy: 0.9858\n",
      "Epoch 24/100\n",
      "1377/1377 [==============================] - 21s 15ms/step - loss: 0.0801 - accuracy: 0.9736 - val_loss: 0.0381 - val_accuracy: 0.9874\n",
      "Epoch 25/100\n",
      "1377/1377 [==============================] - 21s 16ms/step - loss: 0.0785 - accuracy: 0.9741 - val_loss: 0.0380 - val_accuracy: 0.9871\n",
      "Epoch 26/100\n",
      "1377/1377 [==============================] - 22s 16ms/step - loss: 0.0779 - accuracy: 0.9744 - val_loss: 0.0373 - val_accuracy: 0.9881\n",
      "Epoch 27/100\n",
      "1377/1377 [==============================] - 21s 16ms/step - loss: 0.0766 - accuracy: 0.9752 - val_loss: 0.0347 - val_accuracy: 0.9878\n",
      "Epoch 28/100\n",
      "1377/1377 [==============================] - 22s 16ms/step - loss: 0.0752 - accuracy: 0.9752 - val_loss: 0.0347 - val_accuracy: 0.9885\n",
      "Epoch 29/100\n",
      "1377/1377 [==============================] - 22s 16ms/step - loss: 0.0740 - accuracy: 0.9752 - val_loss: 0.0339 - val_accuracy: 0.9879\n",
      "Epoch 30/100\n",
      "1377/1377 [==============================] - 21s 15ms/step - loss: 0.0723 - accuracy: 0.9760 - val_loss: 0.0347 - val_accuracy: 0.9880\n",
      "Epoch 31/100\n",
      "1377/1377 [==============================] - 21s 16ms/step - loss: 0.0728 - accuracy: 0.9759 - val_loss: 0.0326 - val_accuracy: 0.9885\n",
      "Epoch 32/100\n",
      "1377/1377 [==============================] - 21s 15ms/step - loss: 0.0708 - accuracy: 0.9764 - val_loss: 0.0327 - val_accuracy: 0.9885\n",
      "Epoch 33/100\n",
      "1377/1377 [==============================] - 21s 15ms/step - loss: 0.0686 - accuracy: 0.9770 - val_loss: 0.0298 - val_accuracy: 0.9901\n",
      "Epoch 34/100\n",
      "1377/1377 [==============================] - 22s 16ms/step - loss: 0.0684 - accuracy: 0.9771 - val_loss: 0.0301 - val_accuracy: 0.9894\n",
      "Epoch 35/100\n",
      "1377/1377 [==============================] - 21s 15ms/step - loss: 0.0683 - accuracy: 0.9767 - val_loss: 0.0312 - val_accuracy: 0.9890\n",
      "Epoch 36/100\n",
      "1377/1377 [==============================] - 21s 15ms/step - loss: 0.0678 - accuracy: 0.9772 - val_loss: 0.0300 - val_accuracy: 0.9891\n",
      "Epoch 37/100\n",
      "1377/1377 [==============================] - 21s 15ms/step - loss: 0.0667 - accuracy: 0.9774 - val_loss: 0.0281 - val_accuracy: 0.9896\n",
      "Epoch 38/100\n",
      "1377/1377 [==============================] - 21s 15ms/step - loss: 0.0649 - accuracy: 0.9781 - val_loss: 0.0272 - val_accuracy: 0.9904\n",
      "Epoch 39/100\n",
      "1377/1377 [==============================] - 22s 16ms/step - loss: 0.0664 - accuracy: 0.9773 - val_loss: 0.0279 - val_accuracy: 0.9905\n",
      "Epoch 40/100\n",
      "1377/1377 [==============================] - 22s 16ms/step - loss: 0.0641 - accuracy: 0.9781 - val_loss: 0.0266 - val_accuracy: 0.9908\n",
      "Epoch 41/100\n",
      "1377/1377 [==============================] - 21s 15ms/step - loss: 0.0648 - accuracy: 0.9784 - val_loss: 0.0240 - val_accuracy: 0.9920\n",
      "Epoch 42/100\n",
      "1377/1377 [==============================] - 21s 15ms/step - loss: 0.0626 - accuracy: 0.9788 - val_loss: 0.0249 - val_accuracy: 0.9916\n",
      "Epoch 43/100\n",
      "1377/1377 [==============================] - 21s 15ms/step - loss: 0.0638 - accuracy: 0.9783 - val_loss: 0.0253 - val_accuracy: 0.9905\n",
      "Epoch 44/100\n",
      "1377/1377 [==============================] - 21s 15ms/step - loss: 0.0632 - accuracy: 0.9784 - val_loss: 0.0254 - val_accuracy: 0.9910\n",
      "Epoch 45/100\n",
      "1377/1377 [==============================] - 21s 15ms/step - loss: 0.0617 - accuracy: 0.9787 - val_loss: 0.0239 - val_accuracy: 0.9916\n",
      "Epoch 46/100\n",
      "1377/1377 [==============================] - 21s 15ms/step - loss: 0.0615 - accuracy: 0.9789 - val_loss: 0.0229 - val_accuracy: 0.9915\n",
      "Epoch 47/100\n",
      "1377/1377 [==============================] - 21s 15ms/step - loss: 0.0611 - accuracy: 0.9788 - val_loss: 0.0214 - val_accuracy: 0.9924\n",
      "Epoch 48/100\n",
      "1377/1377 [==============================] - 21s 15ms/step - loss: 0.0612 - accuracy: 0.9793 - val_loss: 0.0233 - val_accuracy: 0.9915\n",
      "Epoch 49/100\n",
      "1377/1377 [==============================] - 21s 15ms/step - loss: 0.0604 - accuracy: 0.9795 - val_loss: 0.0229 - val_accuracy: 0.9922\n",
      "Epoch 50/100\n",
      "1377/1377 [==============================] - 21s 15ms/step - loss: 0.0598 - accuracy: 0.9793 - val_loss: 0.0223 - val_accuracy: 0.9920\n",
      "Epoch 51/100\n",
      "1377/1377 [==============================] - 22s 16ms/step - loss: 0.0595 - accuracy: 0.9799 - val_loss: 0.0221 - val_accuracy: 0.9929\n",
      "Epoch 52/100\n",
      "1377/1377 [==============================] - 22s 16ms/step - loss: 0.0597 - accuracy: 0.9794 - val_loss: 0.0199 - val_accuracy: 0.9933\n",
      "Epoch 53/100\n",
      "1377/1377 [==============================] - 21s 16ms/step - loss: 0.0584 - accuracy: 0.9802 - val_loss: 0.0205 - val_accuracy: 0.9924\n",
      "Epoch 54/100\n",
      "1377/1377 [==============================] - 21s 15ms/step - loss: 0.0570 - accuracy: 0.9804 - val_loss: 0.0192 - val_accuracy: 0.9935\n",
      "Epoch 55/100\n",
      "1377/1377 [==============================] - 21s 15ms/step - loss: 0.0581 - accuracy: 0.9800 - val_loss: 0.0194 - val_accuracy: 0.9932\n",
      "Epoch 56/100\n",
      "1377/1377 [==============================] - 21s 15ms/step - loss: 0.0567 - accuracy: 0.9802 - val_loss: 0.0186 - val_accuracy: 0.9939\n",
      "Epoch 57/100\n",
      "1377/1377 [==============================] - 21s 15ms/step - loss: 0.0563 - accuracy: 0.9807 - val_loss: 0.0193 - val_accuracy: 0.9933\n",
      "Epoch 58/100\n",
      "1377/1377 [==============================] - 21s 15ms/step - loss: 0.0562 - accuracy: 0.9807 - val_loss: 0.0190 - val_accuracy: 0.9931\n",
      "Epoch 59/100\n",
      "1377/1377 [==============================] - 21s 15ms/step - loss: 0.0551 - accuracy: 0.9809 - val_loss: 0.0175 - val_accuracy: 0.9934\n",
      "Epoch 60/100\n",
      "1377/1377 [==============================] - 21s 15ms/step - loss: 0.0560 - accuracy: 0.9805 - val_loss: 0.0189 - val_accuracy: 0.9939\n",
      "Epoch 61/100\n",
      "1377/1377 [==============================] - 21s 15ms/step - loss: 0.0573 - accuracy: 0.9801 - val_loss: 0.0188 - val_accuracy: 0.9941\n",
      "Epoch 62/100\n",
      "1377/1377 [==============================] - 21s 15ms/step - loss: 0.0551 - accuracy: 0.9811 - val_loss: 0.0169 - val_accuracy: 0.9941\n",
      "Epoch 63/100\n",
      "1377/1377 [==============================] - 21s 15ms/step - loss: 0.0559 - accuracy: 0.9805 - val_loss: 0.0174 - val_accuracy: 0.9938\n",
      "Epoch 64/100\n",
      "1377/1377 [==============================] - 21s 15ms/step - loss: 0.0550 - accuracy: 0.9808 - val_loss: 0.0173 - val_accuracy: 0.9942\n",
      "Epoch 65/100\n",
      "1377/1377 [==============================] - 21s 15ms/step - loss: 0.0536 - accuracy: 0.9813 - val_loss: 0.0154 - val_accuracy: 0.9945\n",
      "Epoch 66/100\n",
      "1377/1377 [==============================] - 21s 15ms/step - loss: 0.0536 - accuracy: 0.9816 - val_loss: 0.0169 - val_accuracy: 0.9947\n",
      "Epoch 67/100\n",
      "1377/1377 [==============================] - 21s 15ms/step - loss: 0.0542 - accuracy: 0.9811 - val_loss: 0.0156 - val_accuracy: 0.9952\n",
      "Epoch 68/100\n",
      "1377/1377 [==============================] - 22s 16ms/step - loss: 0.0538 - accuracy: 0.9816 - val_loss: 0.0151 - val_accuracy: 0.9948\n",
      "Epoch 69/100\n",
      "1377/1377 [==============================] - 21s 15ms/step - loss: 0.0542 - accuracy: 0.9815 - val_loss: 0.0146 - val_accuracy: 0.9950\n",
      "Epoch 70/100\n",
      "1377/1377 [==============================] - 21s 15ms/step - loss: 0.0537 - accuracy: 0.9813 - val_loss: 0.0175 - val_accuracy: 0.9936\n",
      "Epoch 71/100\n",
      "1377/1377 [==============================] - 21s 15ms/step - loss: 0.0531 - accuracy: 0.9816 - val_loss: 0.0166 - val_accuracy: 0.9936\n",
      "Epoch 72/100\n",
      "1377/1377 [==============================] - 21s 15ms/step - loss: 0.0530 - accuracy: 0.9817 - val_loss: 0.0149 - val_accuracy: 0.9951\n",
      "Epoch 73/100\n",
      "1377/1377 [==============================] - 21s 15ms/step - loss: 0.0538 - accuracy: 0.9815 - val_loss: 0.0153 - val_accuracy: 0.9951\n",
      "Epoch 74/100\n",
      "1377/1377 [==============================] - 21s 15ms/step - loss: 0.0527 - accuracy: 0.9818 - val_loss: 0.0163 - val_accuracy: 0.9940\n",
      "Epoch 75/100\n",
      "1377/1377 [==============================] - 21s 15ms/step - loss: 0.0516 - accuracy: 0.9818 - val_loss: 0.0153 - val_accuracy: 0.9948\n",
      "Epoch 76/100\n",
      "1377/1377 [==============================] - 21s 15ms/step - loss: 0.0525 - accuracy: 0.9818 - val_loss: 0.0182 - val_accuracy: 0.9940\n",
      "Epoch 77/100\n",
      "1377/1377 [==============================] - 21s 15ms/step - loss: 0.0529 - accuracy: 0.9816 - val_loss: 0.0161 - val_accuracy: 0.9948\n",
      "Epoch 78/100\n",
      "1377/1377 [==============================] - 21s 15ms/step - loss: 0.0516 - accuracy: 0.9819 - val_loss: 0.0148 - val_accuracy: 0.9950\n",
      "Epoch 79/100\n",
      "1377/1377 [==============================] - 21s 15ms/step - loss: 0.0504 - accuracy: 0.9827 - val_loss: 0.0144 - val_accuracy: 0.9951\n",
      "Epoch 80/100\n",
      "1377/1377 [==============================] - 21s 15ms/step - loss: 0.0523 - accuracy: 0.9821 - val_loss: 0.0143 - val_accuracy: 0.9951\n",
      "Epoch 81/100\n",
      "1377/1377 [==============================] - 21s 15ms/step - loss: 0.0520 - accuracy: 0.9822 - val_loss: 0.0143 - val_accuracy: 0.9951\n",
      "Epoch 82/100\n",
      "1377/1377 [==============================] - 21s 15ms/step - loss: 0.0501 - accuracy: 0.9826 - val_loss: 0.0145 - val_accuracy: 0.9948\n",
      "Epoch 83/100\n",
      "1377/1377 [==============================] - 21s 15ms/step - loss: 0.0510 - accuracy: 0.9825 - val_loss: 0.0135 - val_accuracy: 0.9954\n",
      "Epoch 84/100\n",
      "1377/1377 [==============================] - 21s 15ms/step - loss: 0.0510 - accuracy: 0.9822 - val_loss: 0.0135 - val_accuracy: 0.9955\n",
      "Epoch 85/100\n",
      "1377/1377 [==============================] - 21s 16ms/step - loss: 0.0498 - accuracy: 0.9825 - val_loss: 0.0139 - val_accuracy: 0.9956\n",
      "Epoch 86/100\n",
      "1377/1377 [==============================] - 21s 15ms/step - loss: 0.0513 - accuracy: 0.9824 - val_loss: 0.0143 - val_accuracy: 0.9953\n",
      "Epoch 87/100\n",
      "1377/1377 [==============================] - 21s 16ms/step - loss: 0.0505 - accuracy: 0.9826 - val_loss: 0.0132 - val_accuracy: 0.9958\n",
      "Epoch 88/100\n",
      "1377/1377 [==============================] - 21s 16ms/step - loss: 0.0495 - accuracy: 0.9828 - val_loss: 0.0135 - val_accuracy: 0.9951\n",
      "Epoch 89/100\n",
      "1377/1377 [==============================] - 21s 16ms/step - loss: 0.0497 - accuracy: 0.9828 - val_loss: 0.0124 - val_accuracy: 0.9958\n",
      "Epoch 90/100\n",
      "1377/1377 [==============================] - 22s 16ms/step - loss: 0.0497 - accuracy: 0.9830 - val_loss: 0.0132 - val_accuracy: 0.9958\n",
      "Epoch 91/100\n",
      "1377/1377 [==============================] - 21s 15ms/step - loss: 0.0489 - accuracy: 0.9830 - val_loss: 0.0136 - val_accuracy: 0.9957\n",
      "Epoch 92/100\n",
      "1377/1377 [==============================] - 21s 15ms/step - loss: 0.0499 - accuracy: 0.9825 - val_loss: 0.0135 - val_accuracy: 0.9960\n",
      "Epoch 93/100\n",
      "1377/1377 [==============================] - 21s 15ms/step - loss: 0.0492 - accuracy: 0.9828 - val_loss: 0.0132 - val_accuracy: 0.9959\n",
      "Epoch 94/100\n",
      "1377/1377 [==============================] - 21s 15ms/step - loss: 0.0504 - accuracy: 0.9825 - val_loss: 0.0138 - val_accuracy: 0.9952\n",
      "Epoch 95/100\n",
      "1377/1377 [==============================] - 21s 16ms/step - loss: 0.0494 - accuracy: 0.9828 - val_loss: 0.0166 - val_accuracy: 0.9945\n",
      "Epoch 96/100\n",
      "1377/1377 [==============================] - 21s 16ms/step - loss: 0.0488 - accuracy: 0.9830 - val_loss: 0.0122 - val_accuracy: 0.9959\n",
      "Epoch 97/100\n",
      "1377/1377 [==============================] - 21s 15ms/step - loss: 0.0489 - accuracy: 0.9831 - val_loss: 0.0117 - val_accuracy: 0.9960\n",
      "Epoch 98/100\n",
      "1377/1377 [==============================] - 21s 15ms/step - loss: 0.0486 - accuracy: 0.9834 - val_loss: 0.0140 - val_accuracy: 0.9952\n",
      "Epoch 99/100\n",
      "1377/1377 [==============================] - 22s 16ms/step - loss: 0.0494 - accuracy: 0.9831 - val_loss: 0.0132 - val_accuracy: 0.9953\n",
      "Epoch 100/100\n",
      "1377/1377 [==============================] - 22s 16ms/step - loss: 0.0488 - accuracy: 0.9832 - val_loss: 0.0125 - val_accuracy: 0.9963\n"
     ]
    }
   ],
   "source": [
    "ds_train = preprocess_dataset(ds_train, batch_size=bs)\n",
    "ds_val = preprocess_dataset(ds_val, batch_size=bs)\n",
    "ds_test = preprocess_dataset(ds_test, batch_size=bs, cache=False)\n",
    "\n",
    "'''\n",
    "The architecture of the concrete CNN is shown in Fig. 2.\n",
    "The input is a 32x32 binarized matrix. \n",
    "The input is then propagated through 12 adaptable layers. \n",
    "First come two convolutional layers having 32 filters with the size of 3x3 and stride 1.\n",
    "Secondly, the output of the convolutional layer is fed to the\n",
    "ReLU function. The output is down-sampled using a max-pool-\n",
    "ing operation with a 2x2 stride. Next, the dropout technique is\n",
    "used with the coefficient 0.25. The four operations (two con-\n",
    "volutions, nonlinearity, max-pooling, and dropout) are repeated,\n",
    "using 64 filters for the convolutional layers. The output of the\n",
    "last layer is then flattened and fed through a fully connected\n",
    "layer with 256 neurons and ReLU nonlinearities, dropped out\n",
    "with the 0.25 coefficient, and a final output layer is fully con-\n",
    "nected with a Softmax activation function. The Adam optimizer\n",
    "and the cross-entropy loss function were used in the network\n",
    "[24]. The output is a probability distribution over 89 classes.\n",
    "'''\n",
    "\n",
    "model = tf.keras.Sequential(\n",
    "    [\n",
    "        tf.keras.layers.InputLayer(input_shape=(32, 32, 1)),\n",
    "        \n",
    "        # 2 Convolutional layers with 32 filters, 3x3 size, and stride 1\n",
    "        tf.keras.layers.Conv2D(32, (3, 3), strides=1, activation='relu'),\n",
    "        tf.keras.layers.Conv2D(32, (3, 3), strides=1, activation='relu'),\n",
    "        \n",
    "        # Max-pooling operation with 2x2 stride\n",
    "        tf.keras.layers.MaxPooling2D(pool_size=(2, 2), strides=2),\n",
    "        # Dropout with coefficient 0.25\n",
    "        tf.keras.layers.Dropout(0.25),\n",
    "        \n",
    "        # Repeat above 4 operations using 64 filters\n",
    "        tf.keras.layers.Conv2D(64, (3, 3), strides=1, activation='relu'),\n",
    "        tf.keras.layers.Conv2D(64, (3, 3), strides=1, activation='relu'),\n",
    "        tf.keras.layers.MaxPooling2D(pool_size=(2, 2), strides=2),\n",
    "        tf.keras.layers.Dropout(0.25),\n",
    "        \n",
    "        # Flatten the output and feed through fully connected layer with 256 neurons\n",
    "        tf.keras.layers.Flatten(),\n",
    "        tf.keras.layers.Dense(256, activation='relu'),\n",
    "\n",
    "        # Dropout with coefficient 0.25\n",
    "        tf.keras.layers.Dropout(0.25),\n",
    "        tf.keras.layers.Dense(num_classes, activation=\"softmax\"),\n",
    "    ]\n",
    ")\n",
    "\n",
    "\n",
    "\n",
    "\n",
    "model.compile(\n",
    "    optimizer=\"adam\",\n",
    "    loss=tf.keras.losses.SparseCategoricalCrossentropy(from_logits=True),\n",
    "    metrics=[\"accuracy\"],\n",
    ")\n",
    "\n",
    "# save the best model\n",
    "checkpoint_callback = tf.keras.callbacks.ModelCheckpoint(\n",
    "    filepath=f\"./artifacts/{MODEL_NAME}.h5\",\n",
    "    save_weights_only=False,\n",
    "    monitor=\"val_accuracy\",\n",
    "    mode=\"max\",\n",
    "    save_best_only=True,\n",
    ")\n",
    "\n",
    "wandb_callback = wandb.keras.WandbCallback(\n",
    "    save_model=False,\n",
    "    compute_flops=True,\n",
    ")\n",
    "\n",
    "history = model.fit(\n",
    "    ds_train,\n",
    "    epochs=epochs,\n",
    "    validation_data=ds_val,\n",
    "    callbacks=[wandb_callback, checkpoint_callback],\n",
    ")"
   ]
  },
  {
   "cell_type": "code",
   "execution_count": 7,
   "metadata": {},
   "outputs": [
    {
     "data": {
      "image/png": "[encoded data removed]",
      "text/plain": [
       "<Figure size 1500x1000 with 1 Axes>"
      ]
     },
     "metadata": {},
     "output_type": "display_data"
    }
   ],
   "source": [
    "# plot history\n",
    "import matplotlib.pyplot as plt\n",
    "\n",
    "fig, ax = plt.subplots(1, 1, figsize=(15, 10))\n",
    "epochs = range(1, len(history.history[\"loss\"]) + 1)\n",
    "ax.plot(epochs, history.history[\"accuracy\"], label=\"accuracy\")\n",
    "ax.plot(epochs, history.history[\"val_accuracy\"], label=\"val_accuracy\")\n",
    "ax.set_xlabel(\"Epoch\")\n",
    "ax.set_ylabel(\"Accuracy\")\n",
    "ax.legend(loc=\"lower right\")\n",
    "\n",
    "plt.show()"
   ]
  },
  {
   "cell_type": "code",
   "execution_count": 8,
   "metadata": {},
   "outputs": [
    {
     "ename": "KeyError",
     "evalue": "'GFLOPS'",
     "output_type": "error",
     "traceback": [
      "\u001b[0;31m---------------------------------------------------------------------------\u001b[0m",
      "\u001b[0;31mKeyError\u001b[0m                                  Traceback (most recent call last)",
      "Cell \u001b[0;32mIn[8], line 3\u001b[0m\n\u001b[1;32m      1\u001b[0m \u001b[38;5;66;03m# calculate model size on disk, flops and number of parameters\u001b[39;00m\n\u001b[0;32m----> 3\u001b[0m flops \u001b[38;5;241m=\u001b[39m \u001b[43mwandb\u001b[49m\u001b[38;5;241;43m.\u001b[39;49m\u001b[43mrun\u001b[49m\u001b[38;5;241;43m.\u001b[39;49m\u001b[43msummary\u001b[49m\u001b[43m[\u001b[49m\u001b[38;5;124;43m\"\u001b[39;49m\u001b[38;5;124;43mGFLOPS\u001b[39;49m\u001b[38;5;124;43m\"\u001b[39;49m\u001b[43m]\u001b[49m\n\u001b[1;32m      4\u001b[0m disk_size \u001b[38;5;241m=\u001b[39m calculate_model_size_on_disk(\u001b[38;5;124mf\u001b[39m\u001b[38;5;124m\"\u001b[39m\u001b[38;5;124m./artifacts/\u001b[39m\u001b[38;5;132;01m{\u001b[39;00mMODEL_NAME\u001b[38;5;132;01m}\u001b[39;00m\u001b[38;5;124m.h5\u001b[39m\u001b[38;5;124m\"\u001b[39m)\n\u001b[1;32m      5\u001b[0m num_parameters \u001b[38;5;241m=\u001b[39m calculate_model_num_parameters(model)\n",
      "File \u001b[0;32m/usr/local/lib/python3.8/dist-packages/wandb/sdk/wandb_summary.py:33\u001b[0m, in \u001b[0;36mSummaryDict.__getitem__\u001b[0;34m(self, key)\u001b[0m\n\u001b[1;32m     32\u001b[0m \u001b[38;5;28;01mdef\u001b[39;00m \u001b[38;5;21m__getitem__\u001b[39m(\u001b[38;5;28mself\u001b[39m, key):\n\u001b[0;32m---> 33\u001b[0m     item \u001b[38;5;241m=\u001b[39m \u001b[38;5;28;43mself\u001b[39;49m\u001b[38;5;241;43m.\u001b[39;49m\u001b[43m_as_dict\u001b[49m\u001b[43m(\u001b[49m\u001b[43m)\u001b[49m\u001b[43m[\u001b[49m\u001b[43mkey\u001b[49m\u001b[43m]\u001b[49m\n\u001b[1;32m     35\u001b[0m     \u001b[38;5;28;01mif\u001b[39;00m \u001b[38;5;28misinstance\u001b[39m(item, \u001b[38;5;28mdict\u001b[39m):\n\u001b[1;32m     36\u001b[0m         \u001b[38;5;66;03m# this nested dict needs to be wrapped:\u001b[39;00m\n\u001b[1;32m     37\u001b[0m         wrapped_item \u001b[38;5;241m=\u001b[39m SummarySubDict()\n",
      "\u001b[0;31mKeyError\u001b[0m: 'GFLOPS'"
     ]
    }
   ],
   "source": [
    "# calculate model size on disk, flops and number of parameters\n",
    "\n",
    "flops = wandb.run.summary[\"GFLOPS\"]\n",
    "disk_size = calculate_model_size_on_disk(f\"./artifacts/{MODEL_NAME}.h5\")\n",
    "num_parameters = calculate_model_num_parameters(model)\n",
    "\n",
    "# evaluate model on ds_test and log to wandb\n",
    "test_loss, test_acc = model.evaluate(ds_test)\n",
    "\n",
    "wandb.log({\n",
    "    \"test loss\": test_loss, \n",
    "    \"test accuracy\": test_acc, \n",
    "    \"number of parameters\": num_parameters,\n",
    "    \"disk size\": disk_size, \n",
    "    \"model flops\": flops\n",
    "    })\n",
    "\n",
    "\n",
    "diacritics = {\n",
    "    62: \"ą\",\n",
    "    63: \"ć\",\n",
    "    64: \"ę\",\n",
    "    65: \"ł\",\n",
    "    66: \"ń\",\n",
    "    67: \"ó\",\n",
    "    68: \"ś\",\n",
    "    69: \"ź\",\n",
    "    70: \"ż\",\n",
    "    71: \"Ą\",\n",
    "    72: \"Ć\",\n",
    "    73: \"Ę\",\n",
    "    74: \"Ł\",\n",
    "    75: \"Ń\",\n",
    "    76: \"Ó\",\n",
    "    77: \"Ś\",\n",
    "    78: \"Ź\",\n",
    "    79: \"Ż\"\n",
    "}\n",
    "\n",
    "# log test accuracy on these classes separately to wandb\n",
    "\n",
    "diacritics_acc = {}\n",
    "for diacritic_label in diacritics.keys():\n",
    "    ds_test_diacritic = ds_test.filter(lambda x, y: tf.bool(tf.equal(y, diacritic_label)))\n",
    "    test_loss, test_acc = model.evaluate(ds_test_diacritic)\n",
    "    diacritics_acc[diacritic_label] = {\n",
    "        \"loss\": test_loss,\n",
    "        \"accuracy\": test_acc,\n",
    "        \"label\": diacritics[diacritic_label],\n",
    "    }\n",
    "\n",
    "wandb.log(diacritics_acc)"
   ]
  },
  {
   "cell_type": "code",
   "execution_count": null,
   "metadata": {},
   "outputs": [],
   "source": [
    "# save artifact to wandb\n",
    "artifact = wandb.Artifact(\n",
    "    name=MODEL_NAME,\n",
    "    type=\"model\"\n",
    ")\n",
    "\n",
    "# save best model to artifact\n",
    "artifact.add_file(f\"./artifacts/{MODEL_NAME}.h5\")\n",
    "run.log_artifact(artifact)\n",
    "run.finish()"
   ]
  }
 ],
 "metadata": {
  "kernelspec": {
   "display_name": "Python 3",
   "language": "python",
   "name": "python3"
  },
  "language_info": {
   "codemirror_mode": {
    "name": "ipython",
    "version": 3
   },
   "file_extension": ".py",
   "mimetype": "text/x-python",
   "name": "python",
   "nbconvert_exporter": "python",
   "pygments_lexer": "ipython3",
   "version": "3.10.9 (main, Jan 14 2023, 19:35:44) [GCC 11.3.0]"
  },
  "vscode": {
   "interpreter": {
    "hash": "d798f8ad6d6c53bff9e7c2dca27b60374f042a436c567b9cf87bf4fc98c22b9c"
   }
  }
 },
 "nbformat": 4,
 "nbformat_minor": 4
}
